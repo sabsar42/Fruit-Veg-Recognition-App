{
 "cells": [
  {
   "cell_type": "markdown",
   "id": "1e02bbc5",
   "metadata": {
    "papermill": {
     "duration": 0.005449,
     "end_time": "2024-04-26T21:08:35.338526",
     "exception": false,
     "start_time": "2024-04-26T21:08:35.333077",
     "status": "completed"
    },
    "tags": []
   },
   "source": [
    "# Importing Dataset"
   ]
  },
  {
   "cell_type": "code",
   "execution_count": 1,
   "id": "12c29a40",
   "metadata": {
    "execution": {
     "iopub.execute_input": "2024-04-26T21:08:35.350109Z",
     "iopub.status.busy": "2024-04-26T21:08:35.349770Z",
     "iopub.status.idle": "2024-04-26T21:08:47.874048Z",
     "shell.execute_reply": "2024-04-26T21:08:47.873018Z"
    },
    "papermill": {
     "duration": 12.533054,
     "end_time": "2024-04-26T21:08:47.876575",
     "exception": false,
     "start_time": "2024-04-26T21:08:35.343521",
     "status": "completed"
    },
    "tags": []
   },
   "outputs": [
    {
     "name": "stderr",
     "output_type": "stream",
     "text": [
      "2024-04-26 21:08:37.143993: E external/local_xla/xla/stream_executor/cuda/cuda_dnn.cc:9261] Unable to register cuDNN factory: Attempting to register factory for plugin cuDNN when one has already been registered\n",
      "2024-04-26 21:08:37.144118: E external/local_xla/xla/stream_executor/cuda/cuda_fft.cc:607] Unable to register cuFFT factory: Attempting to register factory for plugin cuFFT when one has already been registered\n",
      "2024-04-26 21:08:37.275147: E external/local_xla/xla/stream_executor/cuda/cuda_blas.cc:1515] Unable to register cuBLAS factory: Attempting to register factory for plugin cuBLAS when one has already been registered\n"
     ]
    }
   ],
   "source": [
    "import numpy as np\n",
    "import matplotlib.pyplot as plt\n",
    "import tensorflow as tf\n",
    "from tensorflow import keras"
   ]
  },
  {
   "cell_type": "markdown",
   "id": "4c1a0216",
   "metadata": {
    "papermill": {
     "duration": 0.004669,
     "end_time": "2024-04-26T21:08:47.886515",
     "exception": false,
     "start_time": "2024-04-26T21:08:47.881846",
     "status": "completed"
    },
    "tags": []
   },
   "source": [
    "# Data Pre-Processing"
   ]
  },
  {
   "cell_type": "markdown",
   "id": "802cfe8c",
   "metadata": {
    "papermill": {
     "duration": 0.00457,
     "end_time": "2024-04-26T21:08:47.895810",
     "exception": false,
     "start_time": "2024-04-26T21:08:47.891240",
     "status": "completed"
    },
    "tags": []
   },
   "source": [
    "## Training Image Pre-Processing\n"
   ]
  },
  {
   "cell_type": "code",
   "execution_count": 2,
   "id": "4b5e0a61",
   "metadata": {
    "execution": {
     "iopub.execute_input": "2024-04-26T21:08:47.907509Z",
     "iopub.status.busy": "2024-04-26T21:08:47.906396Z",
     "iopub.status.idle": "2024-04-26T21:08:48.647376Z",
     "shell.execute_reply": "2024-04-26T21:08:48.646433Z"
    },
    "papermill": {
     "duration": 0.749369,
     "end_time": "2024-04-26T21:08:48.649847",
     "exception": false,
     "start_time": "2024-04-26T21:08:47.900478",
     "status": "completed"
    },
    "tags": []
   },
   "outputs": [
    {
     "name": "stdout",
     "output_type": "stream",
     "text": [
      "Found 3115 files belonging to 36 classes.\n"
     ]
    }
   ],
   "source": [
    "training_set = keras.utils.image_dataset_from_directory(\n",
    "    '/kaggle/input/fruit-and-vegetable-image-recognition/train',\n",
    "    labels=\"inferred\",\n",
    "    label_mode=\"categorical\",\n",
    "    class_names=None,\n",
    "    color_mode=\"rgb\",\n",
    "    batch_size=32,\n",
    "    image_size=(64, 64),\n",
    "    shuffle=True,\n",
    "    seed=None,\n",
    "    validation_split=None,\n",
    "    subset=None,\n",
    "    interpolation=\"bilinear\",\n",
    "    follow_links=False,\n",
    "    crop_to_aspect_ratio=False,\n",
    "    data_format=None,\n",
    ")"
   ]
  },
  {
   "cell_type": "markdown",
   "id": "fa829133",
   "metadata": {
    "papermill": {
     "duration": 0.004715,
     "end_time": "2024-04-26T21:08:48.659896",
     "exception": false,
     "start_time": "2024-04-26T21:08:48.655181",
     "status": "completed"
    },
    "tags": []
   },
   "source": [
    "## Validtion Image Pre-Processing"
   ]
  },
  {
   "cell_type": "code",
   "execution_count": 3,
   "id": "865a2bd1",
   "metadata": {
    "execution": {
     "iopub.execute_input": "2024-04-26T21:08:48.671382Z",
     "iopub.status.busy": "2024-04-26T21:08:48.670918Z",
     "iopub.status.idle": "2024-04-26T21:08:48.808856Z",
     "shell.execute_reply": "2024-04-26T21:08:48.807971Z"
    },
    "papermill": {
     "duration": 0.146587,
     "end_time": "2024-04-26T21:08:48.811398",
     "exception": false,
     "start_time": "2024-04-26T21:08:48.664811",
     "status": "completed"
    },
    "tags": []
   },
   "outputs": [
    {
     "name": "stdout",
     "output_type": "stream",
     "text": [
      "Found 351 files belonging to 36 classes.\n"
     ]
    }
   ],
   "source": [
    "validation_set = keras.utils.image_dataset_from_directory(\n",
    "    '/kaggle/input/fruit-and-vegetable-image-recognition/validation',\n",
    "    labels=\"inferred\",\n",
    "    label_mode=\"categorical\",\n",
    "    class_names=None,\n",
    "    color_mode=\"rgb\",\n",
    "    batch_size=32,\n",
    "    image_size=(64, 64),\n",
    "    shuffle=True,\n",
    "    seed=None,\n",
    "    validation_split=None,\n",
    "    subset=None,\n",
    "    interpolation=\"bilinear\",\n",
    "    follow_links=False,\n",
    "    crop_to_aspect_ratio=False,\n",
    "    data_format=None,\n",
    ")"
   ]
  },
  {
   "cell_type": "markdown",
   "id": "aec21745",
   "metadata": {
    "papermill": {
     "duration": 0.005303,
     "end_time": "2024-04-26T21:08:48.822003",
     "exception": false,
     "start_time": "2024-04-26T21:08:48.816700",
     "status": "completed"
    },
    "tags": []
   },
   "source": [
    "# Building Model"
   ]
  },
  {
   "cell_type": "code",
   "execution_count": 4,
   "id": "808508b4",
   "metadata": {
    "execution": {
     "iopub.execute_input": "2024-04-26T21:08:48.835696Z",
     "iopub.status.busy": "2024-04-26T21:08:48.834818Z",
     "iopub.status.idle": "2024-04-26T21:08:48.840578Z",
     "shell.execute_reply": "2024-04-26T21:08:48.839602Z"
    },
    "papermill": {
     "duration": 0.014317,
     "end_time": "2024-04-26T21:08:48.842645",
     "exception": false,
     "start_time": "2024-04-26T21:08:48.828328",
     "status": "completed"
    },
    "tags": []
   },
   "outputs": [],
   "source": [
    "cnn = tf.keras.models.Sequential()"
   ]
  },
  {
   "cell_type": "markdown",
   "id": "d1fdbd7e",
   "metadata": {
    "papermill": {
     "duration": 0.004929,
     "end_time": "2024-04-26T21:08:48.852671",
     "exception": false,
     "start_time": "2024-04-26T21:08:48.847742",
     "status": "completed"
    },
    "tags": []
   },
   "source": [
    "# Building Convulation layer"
   ]
  },
  {
   "cell_type": "code",
   "execution_count": 5,
   "id": "a8b278d0",
   "metadata": {
    "execution": {
     "iopub.execute_input": "2024-04-26T21:08:48.863991Z",
     "iopub.status.busy": "2024-04-26T21:08:48.863667Z",
     "iopub.status.idle": "2024-04-26T21:08:48.902462Z",
     "shell.execute_reply": "2024-04-26T21:08:48.901496Z"
    },
    "papermill": {
     "duration": 0.047341,
     "end_time": "2024-04-26T21:08:48.905040",
     "exception": false,
     "start_time": "2024-04-26T21:08:48.857699",
     "status": "completed"
    },
    "tags": []
   },
   "outputs": [
    {
     "name": "stderr",
     "output_type": "stream",
     "text": [
      "/opt/conda/lib/python3.10/site-packages/keras/src/layers/convolutional/base_conv.py:99: UserWarning: Do not pass an `input_shape`/`input_dim` argument to a layer. When using Sequential models, prefer using an `Input(shape)` object as the first layer in the model instead.\n",
      "  super().__init__(\n"
     ]
    }
   ],
   "source": [
    "cnn.add(tf.keras.layers.Conv2D(filters=64, kernel_size=3, activation='relu', input_shape=[64,64,3]))\n",
    "cnn.add(tf.keras.layers.MaxPool2D(pool_size=2, strides=2))\n"
   ]
  },
  {
   "cell_type": "code",
   "execution_count": 6,
   "id": "88f20e15",
   "metadata": {
    "execution": {
     "iopub.execute_input": "2024-04-26T21:08:48.917800Z",
     "iopub.status.busy": "2024-04-26T21:08:48.917440Z",
     "iopub.status.idle": "2024-04-26T21:08:48.939788Z",
     "shell.execute_reply": "2024-04-26T21:08:48.938892Z"
    },
    "papermill": {
     "duration": 0.031146,
     "end_time": "2024-04-26T21:08:48.942227",
     "exception": false,
     "start_time": "2024-04-26T21:08:48.911081",
     "status": "completed"
    },
    "tags": []
   },
   "outputs": [],
   "source": [
    "cnn.add(tf.keras.layers.Conv2D(filters=64, kernel_size=3, activation='relu', ))\n",
    "cnn.add(tf.keras.layers.MaxPool2D(pool_size=2, strides=2))"
   ]
  },
  {
   "cell_type": "code",
   "execution_count": 7,
   "id": "fa496a16",
   "metadata": {
    "execution": {
     "iopub.execute_input": "2024-04-26T21:08:48.954940Z",
     "iopub.status.busy": "2024-04-26T21:08:48.954097Z",
     "iopub.status.idle": "2024-04-26T21:08:48.968101Z",
     "shell.execute_reply": "2024-04-26T21:08:48.967266Z"
    },
    "papermill": {
     "duration": 0.022684,
     "end_time": "2024-04-26T21:08:48.970324",
     "exception": false,
     "start_time": "2024-04-26T21:08:48.947640",
     "status": "completed"
    },
    "tags": []
   },
   "outputs": [],
   "source": [
    "cnn.add(tf.keras.layers.Dropout(0.5)) #to avoid overfitting"
   ]
  },
  {
   "cell_type": "code",
   "execution_count": 8,
   "id": "7500e49a",
   "metadata": {
    "execution": {
     "iopub.execute_input": "2024-04-26T21:08:48.982993Z",
     "iopub.status.busy": "2024-04-26T21:08:48.982310Z",
     "iopub.status.idle": "2024-04-26T21:08:48.993557Z",
     "shell.execute_reply": "2024-04-26T21:08:48.992605Z"
    },
    "papermill": {
     "duration": 0.019942,
     "end_time": "2024-04-26T21:08:48.995640",
     "exception": false,
     "start_time": "2024-04-26T21:08:48.975698",
     "status": "completed"
    },
    "tags": []
   },
   "outputs": [],
   "source": [
    "cnn.add(tf.keras.layers.Flatten())"
   ]
  },
  {
   "cell_type": "code",
   "execution_count": 9,
   "id": "815c5e43",
   "metadata": {
    "execution": {
     "iopub.execute_input": "2024-04-26T21:08:49.007656Z",
     "iopub.status.busy": "2024-04-26T21:08:49.006968Z",
     "iopub.status.idle": "2024-04-26T21:08:49.040183Z",
     "shell.execute_reply": "2024-04-26T21:08:49.039191Z"
    },
    "papermill": {
     "duration": 0.041695,
     "end_time": "2024-04-26T21:08:49.042604",
     "exception": false,
     "start_time": "2024-04-26T21:08:49.000909",
     "status": "completed"
    },
    "tags": []
   },
   "outputs": [],
   "source": [
    "cnn.add(tf.keras.layers.Dense(units=128))"
   ]
  },
  {
   "cell_type": "code",
   "execution_count": 10,
   "id": "3844ba9f",
   "metadata": {
    "execution": {
     "iopub.execute_input": "2024-04-26T21:08:49.054377Z",
     "iopub.status.busy": "2024-04-26T21:08:49.053946Z",
     "iopub.status.idle": "2024-04-26T21:08:49.071923Z",
     "shell.execute_reply": "2024-04-26T21:08:49.071183Z"
    },
    "papermill": {
     "duration": 0.026152,
     "end_time": "2024-04-26T21:08:49.074042",
     "exception": false,
     "start_time": "2024-04-26T21:08:49.047890",
     "status": "completed"
    },
    "tags": []
   },
   "outputs": [],
   "source": [
    "cnn.add(tf.keras.layers.Dense(units=128,activation='relu'))"
   ]
  },
  {
   "cell_type": "markdown",
   "id": "a9a1800c",
   "metadata": {
    "papermill": {
     "duration": 0.004864,
     "end_time": "2024-04-26T21:08:49.084287",
     "exception": false,
     "start_time": "2024-04-26T21:08:49.079423",
     "status": "completed"
    },
    "tags": []
   },
   "source": [
    "# Output Layer"
   ]
  },
  {
   "cell_type": "code",
   "execution_count": 11,
   "id": "759fca0f",
   "metadata": {
    "execution": {
     "iopub.execute_input": "2024-04-26T21:08:49.096162Z",
     "iopub.status.busy": "2024-04-26T21:08:49.095327Z",
     "iopub.status.idle": "2024-04-26T21:08:49.115125Z",
     "shell.execute_reply": "2024-04-26T21:08:49.114187Z"
    },
    "papermill": {
     "duration": 0.027908,
     "end_time": "2024-04-26T21:08:49.117221",
     "exception": false,
     "start_time": "2024-04-26T21:08:49.089313",
     "status": "completed"
    },
    "tags": []
   },
   "outputs": [],
   "source": [
    "cnn.add(tf.keras.layers.Dense(units=36,activation='softmax')) "
   ]
  },
  {
   "cell_type": "markdown",
   "id": "b8e9cbc2",
   "metadata": {
    "papermill": {
     "duration": 0.005013,
     "end_time": "2024-04-26T21:08:49.127478",
     "exception": false,
     "start_time": "2024-04-26T21:08:49.122465",
     "status": "completed"
    },
    "tags": []
   },
   "source": [
    "# Compiling and Training Phase "
   ]
  },
  {
   "cell_type": "code",
   "execution_count": 12,
   "id": "a82641aa",
   "metadata": {
    "execution": {
     "iopub.execute_input": "2024-04-26T21:08:49.139544Z",
     "iopub.status.busy": "2024-04-26T21:08:49.139172Z",
     "iopub.status.idle": "2024-04-26T21:08:49.152514Z",
     "shell.execute_reply": "2024-04-26T21:08:49.151710Z"
    },
    "papermill": {
     "duration": 0.022181,
     "end_time": "2024-04-26T21:08:49.154823",
     "exception": false,
     "start_time": "2024-04-26T21:08:49.132642",
     "status": "completed"
    },
    "tags": []
   },
   "outputs": [],
   "source": [
    "cnn.compile(optimizer='rmsprop', loss='categorical_crossentropy', metrics=['accuracy'])"
   ]
  },
  {
   "cell_type": "code",
   "execution_count": 13,
   "id": "2ebf785a",
   "metadata": {
    "execution": {
     "iopub.execute_input": "2024-04-26T21:08:49.166909Z",
     "iopub.status.busy": "2024-04-26T21:08:49.166544Z",
     "iopub.status.idle": "2024-04-26T21:40:57.534585Z",
     "shell.execute_reply": "2024-04-26T21:40:57.533602Z"
    },
    "papermill": {
     "duration": 1928.37677,
     "end_time": "2024-04-26T21:40:57.536976",
     "exception": false,
     "start_time": "2024-04-26T21:08:49.160206",
     "status": "completed"
    },
    "tags": []
   },
   "outputs": [
    {
     "name": "stdout",
     "output_type": "stream",
     "text": [
      "Epoch 1/30\n",
      "\u001b[1m98/98\u001b[0m \u001b[32m━━━━━━━━━━━━━━━━━━━━\u001b[0m\u001b[37m\u001b[0m \u001b[1m72s\u001b[0m 667ms/step - accuracy: 0.0379 - loss: 39.4199 - val_accuracy: 0.0484 - val_loss: 3.5364\n",
      "Epoch 2/30\n",
      "\u001b[1m98/98\u001b[0m \u001b[32m━━━━━━━━━━━━━━━━━━━━\u001b[0m\u001b[37m\u001b[0m \u001b[1m60s\u001b[0m 567ms/step - accuracy: 0.0543 - loss: 3.9552 - val_accuracy: 0.1282 - val_loss: 3.2809\n",
      "Epoch 3/30\n",
      "\u001b[1m98/98\u001b[0m \u001b[32m━━━━━━━━━━━━━━━━━━━━\u001b[0m\u001b[37m\u001b[0m \u001b[1m82s\u001b[0m 571ms/step - accuracy: 0.0871 - loss: 3.9742 - val_accuracy: 0.1140 - val_loss: 4.4412\n",
      "Epoch 4/30\n",
      "\u001b[1m98/98\u001b[0m \u001b[32m━━━━━━━━━━━━━━━━━━━━\u001b[0m\u001b[37m\u001b[0m \u001b[1m60s\u001b[0m 566ms/step - accuracy: 0.1050 - loss: 3.8067 - val_accuracy: 0.1282 - val_loss: 4.3610\n",
      "Epoch 5/30\n",
      "\u001b[1m98/98\u001b[0m \u001b[32m━━━━━━━━━━━━━━━━━━━━\u001b[0m\u001b[37m\u001b[0m \u001b[1m60s\u001b[0m 564ms/step - accuracy: 0.1429 - loss: 4.3848 - val_accuracy: 0.2507 - val_loss: 2.9900\n",
      "Epoch 6/30\n",
      "\u001b[1m98/98\u001b[0m \u001b[32m━━━━━━━━━━━━━━━━━━━━\u001b[0m\u001b[37m\u001b[0m \u001b[1m60s\u001b[0m 570ms/step - accuracy: 0.1697 - loss: 3.3096 - val_accuracy: 0.2707 - val_loss: 2.9227\n",
      "Epoch 7/30\n",
      "\u001b[1m98/98\u001b[0m \u001b[32m━━━━━━━━━━━━━━━━━━━━\u001b[0m\u001b[37m\u001b[0m \u001b[1m81s\u001b[0m 563ms/step - accuracy: 0.1987 - loss: 3.5454 - val_accuracy: 0.4872 - val_loss: 2.3439\n",
      "Epoch 8/30\n",
      "\u001b[1m98/98\u001b[0m \u001b[32m━━━━━━━━━━━━━━━━━━━━\u001b[0m\u001b[37m\u001b[0m \u001b[1m59s\u001b[0m 565ms/step - accuracy: 0.2686 - loss: 3.0119 - val_accuracy: 0.2422 - val_loss: 3.3517\n",
      "Epoch 9/30\n",
      "\u001b[1m98/98\u001b[0m \u001b[32m━━━━━━━━━━━━━━━━━━━━\u001b[0m\u001b[37m\u001b[0m \u001b[1m59s\u001b[0m 563ms/step - accuracy: 0.2054 - loss: 3.4290 - val_accuracy: 0.4473 - val_loss: 2.1735\n",
      "Epoch 10/30\n",
      "\u001b[1m98/98\u001b[0m \u001b[32m━━━━━━━━━━━━━━━━━━━━\u001b[0m\u001b[37m\u001b[0m \u001b[1m59s\u001b[0m 561ms/step - accuracy: 0.3130 - loss: 2.7945 - val_accuracy: 0.5641 - val_loss: 1.9835\n",
      "Epoch 11/30\n",
      "\u001b[1m98/98\u001b[0m \u001b[32m━━━━━━━━━━━━━━━━━━━━\u001b[0m\u001b[37m\u001b[0m \u001b[1m59s\u001b[0m 565ms/step - accuracy: 0.3497 - loss: 2.9165 - val_accuracy: 0.5014 - val_loss: 2.2632\n",
      "Epoch 12/30\n",
      "\u001b[1m98/98\u001b[0m \u001b[32m━━━━━━━━━━━━━━━━━━━━\u001b[0m\u001b[37m\u001b[0m \u001b[1m60s\u001b[0m 565ms/step - accuracy: 0.4188 - loss: 2.4552 - val_accuracy: 0.1652 - val_loss: 3.0695\n",
      "Epoch 13/30\n",
      "\u001b[1m98/98\u001b[0m \u001b[32m━━━━━━━━━━━━━━━━━━━━\u001b[0m\u001b[37m\u001b[0m \u001b[1m59s\u001b[0m 558ms/step - accuracy: 0.4085 - loss: 2.3424 - val_accuracy: 0.2906 - val_loss: 7.6038\n",
      "Epoch 14/30\n",
      "\u001b[1m98/98\u001b[0m \u001b[32m━━━━━━━━━━━━━━━━━━━━\u001b[0m\u001b[37m\u001b[0m \u001b[1m60s\u001b[0m 570ms/step - accuracy: 0.4301 - loss: 3.3426 - val_accuracy: 0.6496 - val_loss: 1.6818\n",
      "Epoch 15/30\n",
      "\u001b[1m98/98\u001b[0m \u001b[32m━━━━━━━━━━━━━━━━━━━━\u001b[0m\u001b[37m\u001b[0m \u001b[1m81s\u001b[0m 562ms/step - accuracy: 0.5136 - loss: 2.0082 - val_accuracy: 0.7493 - val_loss: 1.0267\n",
      "Epoch 16/30\n",
      "\u001b[1m98/98\u001b[0m \u001b[32m━━━━━━━━━━━━━━━━━━━━\u001b[0m\u001b[37m\u001b[0m \u001b[1m59s\u001b[0m 560ms/step - accuracy: 0.5232 - loss: 2.0689 - val_accuracy: 0.7407 - val_loss: 1.2299\n",
      "Epoch 17/30\n",
      "\u001b[1m98/98\u001b[0m \u001b[32m━━━━━━━━━━━━━━━━━━━━\u001b[0m\u001b[37m\u001b[0m \u001b[1m59s\u001b[0m 562ms/step - accuracy: 0.5601 - loss: 1.8771 - val_accuracy: 0.1709 - val_loss: 4.2213\n",
      "Epoch 18/30\n",
      "\u001b[1m98/98\u001b[0m \u001b[32m━━━━━━━━━━━━━━━━━━━━\u001b[0m\u001b[37m\u001b[0m \u001b[1m59s\u001b[0m 560ms/step - accuracy: 0.5740 - loss: 1.8364 - val_accuracy: 0.7179 - val_loss: 1.2486\n",
      "Epoch 19/30\n",
      "\u001b[1m98/98\u001b[0m \u001b[32m━━━━━━━━━━━━━━━━━━━━\u001b[0m\u001b[37m\u001b[0m \u001b[1m59s\u001b[0m 560ms/step - accuracy: 0.5723 - loss: 1.7610 - val_accuracy: 0.6496 - val_loss: 1.5691\n",
      "Epoch 20/30\n",
      "\u001b[1m98/98\u001b[0m \u001b[32m━━━━━━━━━━━━━━━━━━━━\u001b[0m\u001b[37m\u001b[0m \u001b[1m59s\u001b[0m 558ms/step - accuracy: 0.6202 - loss: 1.6869 - val_accuracy: 0.7464 - val_loss: 1.1897\n",
      "Epoch 21/30\n",
      "\u001b[1m98/98\u001b[0m \u001b[32m━━━━━━━━━━━━━━━━━━━━\u001b[0m\u001b[37m\u001b[0m \u001b[1m82s\u001b[0m 564ms/step - accuracy: 0.6372 - loss: 1.5260 - val_accuracy: 0.7863 - val_loss: 1.3146\n",
      "Epoch 22/30\n",
      "\u001b[1m98/98\u001b[0m \u001b[32m━━━━━━━━━━━━━━━━━━━━\u001b[0m\u001b[37m\u001b[0m \u001b[1m60s\u001b[0m 572ms/step - accuracy: 0.6816 - loss: 1.4186 - val_accuracy: 0.7892 - val_loss: 0.9701\n",
      "Epoch 23/30\n",
      "\u001b[1m98/98\u001b[0m \u001b[32m━━━━━━━━━━━━━━━━━━━━\u001b[0m\u001b[37m\u001b[0m \u001b[1m59s\u001b[0m 565ms/step - accuracy: 0.6652 - loss: 1.4875 - val_accuracy: 0.8006 - val_loss: 1.1507\n",
      "Epoch 24/30\n",
      "\u001b[1m98/98\u001b[0m \u001b[32m━━━━━━━━━━━━━━━━━━━━\u001b[0m\u001b[37m\u001b[0m \u001b[1m59s\u001b[0m 557ms/step - accuracy: 0.6764 - loss: 1.4105 - val_accuracy: 0.5670 - val_loss: 2.2894\n",
      "Epoch 25/30\n",
      "\u001b[1m98/98\u001b[0m \u001b[32m━━━━━━━━━━━━━━━━━━━━\u001b[0m\u001b[37m\u001b[0m \u001b[1m60s\u001b[0m 564ms/step - accuracy: 0.6966 - loss: 1.3349 - val_accuracy: 0.8148 - val_loss: 1.1097\n",
      "Epoch 26/30\n",
      "\u001b[1m98/98\u001b[0m \u001b[32m━━━━━━━━━━━━━━━━━━━━\u001b[0m\u001b[37m\u001b[0m \u001b[1m59s\u001b[0m 565ms/step - accuracy: 0.7079 - loss: 1.4145 - val_accuracy: 0.8006 - val_loss: 1.1536\n",
      "Epoch 27/30\n",
      "\u001b[1m98/98\u001b[0m \u001b[32m━━━━━━━━━━━━━━━━━━━━\u001b[0m\u001b[37m\u001b[0m \u001b[1m82s\u001b[0m 566ms/step - accuracy: 0.7369 - loss: 1.2109 - val_accuracy: 0.8632 - val_loss: 0.8635\n",
      "Epoch 28/30\n",
      "\u001b[1m98/98\u001b[0m \u001b[32m━━━━━━━━━━━━━━━━━━━━\u001b[0m\u001b[37m\u001b[0m \u001b[1m59s\u001b[0m 561ms/step - accuracy: 0.7293 - loss: 1.3128 - val_accuracy: 0.7806 - val_loss: 1.1874\n",
      "Epoch 29/30\n",
      "\u001b[1m98/98\u001b[0m \u001b[32m━━━━━━━━━━━━━━━━━━━━\u001b[0m\u001b[37m\u001b[0m \u001b[1m82s\u001b[0m 564ms/step - accuracy: 0.7025 - loss: 1.3365 - val_accuracy: 0.8519 - val_loss: 0.7879\n",
      "Epoch 30/30\n",
      "\u001b[1m98/98\u001b[0m \u001b[32m━━━━━━━━━━━━━━━━━━━━\u001b[0m\u001b[37m\u001b[0m \u001b[1m59s\u001b[0m 562ms/step - accuracy: 0.7607 - loss: 1.1626 - val_accuracy: 0.8889 - val_loss: 0.8452\n"
     ]
    }
   ],
   "source": [
    "training_history = cnn.fit(x=training_set, validation_data=validation_set, epochs=30)\n"
   ]
  },
  {
   "cell_type": "code",
   "execution_count": 14,
   "id": "c507837e",
   "metadata": {
    "execution": {
     "iopub.execute_input": "2024-04-26T21:40:57.932164Z",
     "iopub.status.busy": "2024-04-26T21:40:57.931015Z",
     "iopub.status.idle": "2024-04-26T21:40:57.980466Z",
     "shell.execute_reply": "2024-04-26T21:40:57.979354Z"
    },
    "papermill": {
     "duration": 0.250101,
     "end_time": "2024-04-26T21:40:57.982904",
     "exception": false,
     "start_time": "2024-04-26T21:40:57.732803",
     "status": "completed"
    },
    "tags": []
   },
   "outputs": [],
   "source": [
    "cnn.save('trained_model.h5')"
   ]
  },
  {
   "cell_type": "code",
   "execution_count": null,
   "id": "ecd91db4",
   "metadata": {
    "papermill": {
     "duration": 0.199156,
     "end_time": "2024-04-26T21:40:58.378620",
     "exception": false,
     "start_time": "2024-04-26T21:40:58.179464",
     "status": "completed"
    },
    "tags": []
   },
   "outputs": [],
   "source": []
  }
 ],
 "metadata": {
  "kaggle": {
   "accelerator": "none",
   "dataSources": [
    {
     "datasetId": 952827,
     "sourceId": 3173719,
     "sourceType": "datasetVersion"
    }
   ],
   "dockerImageVersionId": 30664,
   "isGpuEnabled": false,
   "isInternetEnabled": true,
   "language": "python",
   "sourceType": "notebook"
  },
  "kernelspec": {
   "display_name": "Python 3",
   "language": "python",
   "name": "python3"
  },
  "language_info": {
   "codemirror_mode": {
    "name": "ipython",
    "version": 3
   },
   "file_extension": ".py",
   "mimetype": "text/x-python",
   "name": "python",
   "nbconvert_exporter": "python",
   "pygments_lexer": "ipython3",
   "version": "3.10.13"
  },
  "papermill": {
   "default_parameters": {},
   "duration": 1947.146321,
   "end_time": "2024-04-26T21:40:59.904239",
   "environment_variables": {},
   "exception": null,
   "input_path": "__notebook__.ipynb",
   "output_path": "__notebook__.ipynb",
   "parameters": {},
   "start_time": "2024-04-26T21:08:32.757918",
   "version": "2.5.0"
  }
 },
 "nbformat": 4,
 "nbformat_minor": 5
}
