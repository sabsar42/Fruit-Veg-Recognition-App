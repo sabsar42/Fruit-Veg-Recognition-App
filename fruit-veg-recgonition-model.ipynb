{
 "cells": [
  {
   "cell_type": "markdown",
   "id": "60070cd6",
   "metadata": {
    "papermill": {
     "duration": 0.004822,
     "end_time": "2024-03-21T19:20:42.207835",
     "exception": false,
     "start_time": "2024-03-21T19:20:42.203013",
     "status": "completed"
    },
    "tags": []
   },
   "source": [
    "# Importing Dataset"
   ]
  },
  {
   "cell_type": "code",
   "execution_count": 1,
   "id": "2266a5e6",
   "metadata": {
    "execution": {
     "iopub.execute_input": "2024-03-21T19:20:42.216880Z",
     "iopub.status.busy": "2024-03-21T19:20:42.216134Z",
     "iopub.status.idle": "2024-03-21T19:20:57.931617Z",
     "shell.execute_reply": "2024-03-21T19:20:57.930417Z"
    },
    "papermill": {
     "duration": 15.723227,
     "end_time": "2024-03-21T19:20:57.934650",
     "exception": false,
     "start_time": "2024-03-21T19:20:42.211423",
     "status": "completed"
    },
    "tags": []
   },
   "outputs": [
    {
     "name": "stderr",
     "output_type": "stream",
     "text": [
      "2024-03-21 19:20:44.608792: E external/local_xla/xla/stream_executor/cuda/cuda_dnn.cc:9261] Unable to register cuDNN factory: Attempting to register factory for plugin cuDNN when one has already been registered\n",
      "2024-03-21 19:20:44.608959: E external/local_xla/xla/stream_executor/cuda/cuda_fft.cc:607] Unable to register cuFFT factory: Attempting to register factory for plugin cuFFT when one has already been registered\n",
      "2024-03-21 19:20:44.779262: E external/local_xla/xla/stream_executor/cuda/cuda_blas.cc:1515] Unable to register cuBLAS factory: Attempting to register factory for plugin cuBLAS when one has already been registered\n"
     ]
    }
   ],
   "source": [
    "import numpy as np\n",
    "import matplotlib.pyplot as plt\n",
    "import tensorflow as tf\n",
    "from tensorflow import keras"
   ]
  },
  {
   "cell_type": "markdown",
   "id": "15ba32fd",
   "metadata": {
    "papermill": {
     "duration": 0.003072,
     "end_time": "2024-03-21T19:20:57.941435",
     "exception": false,
     "start_time": "2024-03-21T19:20:57.938363",
     "status": "completed"
    },
    "tags": []
   },
   "source": [
    "# Data Pre-Processing"
   ]
  },
  {
   "cell_type": "markdown",
   "id": "b64c6f21",
   "metadata": {
    "papermill": {
     "duration": 0.002969,
     "end_time": "2024-03-21T19:20:57.947629",
     "exception": false,
     "start_time": "2024-03-21T19:20:57.944660",
     "status": "completed"
    },
    "tags": []
   },
   "source": [
    "## Training Image Pre-Processing\n"
   ]
  },
  {
   "cell_type": "code",
   "execution_count": 2,
   "id": "033aecd1",
   "metadata": {
    "execution": {
     "iopub.execute_input": "2024-03-21T19:20:57.956286Z",
     "iopub.status.busy": "2024-03-21T19:20:57.955571Z",
     "iopub.status.idle": "2024-03-21T19:20:58.602997Z",
     "shell.execute_reply": "2024-03-21T19:20:58.601811Z"
    },
    "papermill": {
     "duration": 0.655058,
     "end_time": "2024-03-21T19:20:58.605879",
     "exception": false,
     "start_time": "2024-03-21T19:20:57.950821",
     "status": "completed"
    },
    "tags": []
   },
   "outputs": [
    {
     "name": "stdout",
     "output_type": "stream",
     "text": [
      "Found 3115 files belonging to 36 classes.\n"
     ]
    }
   ],
   "source": [
    "training_set = keras.utils.image_dataset_from_directory(\n",
    "    '/kaggle/input/fruit-and-vegetable-image-recognition/train',\n",
    "    labels=\"inferred\",\n",
    "    label_mode=\"categorical\",\n",
    "    class_names=None,\n",
    "    color_mode=\"rgb\",\n",
    "    batch_size=32,\n",
    "    image_size=(64, 64),\n",
    "    shuffle=True,\n",
    "    seed=None,\n",
    "    validation_split=None,\n",
    "    subset=None,\n",
    "    interpolation=\"bilinear\",\n",
    "    follow_links=False,\n",
    "    crop_to_aspect_ratio=False,\n",
    "    data_format=None,\n",
    ")"
   ]
  },
  {
   "cell_type": "markdown",
   "id": "ba93ce60",
   "metadata": {
    "papermill": {
     "duration": 0.003249,
     "end_time": "2024-03-21T19:20:58.612773",
     "exception": false,
     "start_time": "2024-03-21T19:20:58.609524",
     "status": "completed"
    },
    "tags": []
   },
   "source": [
    "## Validtion Image Pre-Processing"
   ]
  },
  {
   "cell_type": "code",
   "execution_count": 3,
   "id": "d1f61f26",
   "metadata": {
    "execution": {
     "iopub.execute_input": "2024-03-21T19:20:58.621047Z",
     "iopub.status.busy": "2024-03-21T19:20:58.620669Z",
     "iopub.status.idle": "2024-03-21T19:20:58.783594Z",
     "shell.execute_reply": "2024-03-21T19:20:58.782032Z"
    },
    "papermill": {
     "duration": 0.170206,
     "end_time": "2024-03-21T19:20:58.786373",
     "exception": false,
     "start_time": "2024-03-21T19:20:58.616167",
     "status": "completed"
    },
    "tags": []
   },
   "outputs": [
    {
     "name": "stdout",
     "output_type": "stream",
     "text": [
      "Found 351 files belonging to 36 classes.\n"
     ]
    }
   ],
   "source": [
    "validation_set = keras.utils.image_dataset_from_directory(\n",
    "    '/kaggle/input/fruit-and-vegetable-image-recognition/validation',\n",
    "    labels=\"inferred\",\n",
    "    label_mode=\"categorical\",\n",
    "    class_names=None,\n",
    "    color_mode=\"rgb\",\n",
    "    batch_size=32,\n",
    "    image_size=(64, 64),\n",
    "    shuffle=True,\n",
    "    seed=None,\n",
    "    validation_split=None,\n",
    "    subset=None,\n",
    "    interpolation=\"bilinear\",\n",
    "    follow_links=False,\n",
    "    crop_to_aspect_ratio=False,\n",
    "    data_format=None,\n",
    ")"
   ]
  },
  {
   "cell_type": "code",
   "execution_count": null,
   "id": "539f2a85",
   "metadata": {
    "papermill": {
     "duration": 0.003304,
     "end_time": "2024-03-21T19:20:58.793415",
     "exception": false,
     "start_time": "2024-03-21T19:20:58.790111",
     "status": "completed"
    },
    "tags": []
   },
   "outputs": [],
   "source": []
  }
 ],
 "metadata": {
  "kaggle": {
   "accelerator": "none",
   "dataSources": [
    {
     "datasetId": 952827,
     "sourceId": 3173719,
     "sourceType": "datasetVersion"
    }
   ],
   "dockerImageVersionId": 30664,
   "isGpuEnabled": false,
   "isInternetEnabled": true,
   "language": "python",
   "sourceType": "notebook"
  },
  "kernelspec": {
   "display_name": "Python 3",
   "language": "python",
   "name": "python3"
  },
  "language_info": {
   "codemirror_mode": {
    "name": "ipython",
    "version": 3
   },
   "file_extension": ".py",
   "mimetype": "text/x-python",
   "name": "python",
   "nbconvert_exporter": "python",
   "pygments_lexer": "ipython3",
   "version": "3.10.13"
  },
  "papermill": {
   "default_parameters": {},
   "duration": 21.150238,
   "end_time": "2024-03-21T19:21:00.222366",
   "environment_variables": {},
   "exception": null,
   "input_path": "__notebook__.ipynb",
   "output_path": "__notebook__.ipynb",
   "parameters": {},
   "start_time": "2024-03-21T19:20:39.072128",
   "version": "2.5.0"
  }
 },
 "nbformat": 4,
 "nbformat_minor": 5
}
