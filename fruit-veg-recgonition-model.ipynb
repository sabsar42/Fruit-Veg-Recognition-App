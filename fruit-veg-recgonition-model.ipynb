{
 "cells": [
  {
   "cell_type": "markdown",
   "id": "ffd4ad00",
   "metadata": {
    "papermill": {
     "duration": 0.003347,
     "end_time": "2024-03-16T23:41:07.133919",
     "exception": false,
     "start_time": "2024-03-16T23:41:07.130572",
     "status": "completed"
    },
    "tags": []
   },
   "source": [
    "# Importing Dataset"
   ]
  },
  {
   "cell_type": "code",
   "execution_count": 1,
   "id": "ec166a6d",
   "metadata": {
    "execution": {
     "iopub.execute_input": "2024-03-16T23:41:07.141895Z",
     "iopub.status.busy": "2024-03-16T23:41:07.141460Z",
     "iopub.status.idle": "2024-03-16T23:41:21.470875Z",
     "shell.execute_reply": "2024-03-16T23:41:21.469934Z"
    },
    "papermill": {
     "duration": 14.336612,
     "end_time": "2024-03-16T23:41:21.473486",
     "exception": false,
     "start_time": "2024-03-16T23:41:07.136874",
     "status": "completed"
    },
    "tags": []
   },
   "outputs": [
    {
     "name": "stderr",
     "output_type": "stream",
     "text": [
      "2024-03-16 23:41:09.247627: E external/local_xla/xla/stream_executor/cuda/cuda_dnn.cc:9261] Unable to register cuDNN factory: Attempting to register factory for plugin cuDNN when one has already been registered\n",
      "2024-03-16 23:41:09.247767: E external/local_xla/xla/stream_executor/cuda/cuda_fft.cc:607] Unable to register cuFFT factory: Attempting to register factory for plugin cuFFT when one has already been registered\n",
      "2024-03-16 23:41:09.396487: E external/local_xla/xla/stream_executor/cuda/cuda_blas.cc:1515] Unable to register cuBLAS factory: Attempting to register factory for plugin cuBLAS when one has already been registered\n"
     ]
    }
   ],
   "source": [
    "import numpy as np\n",
    "import matplotlib.pyplot as plt\n",
    "import tensorflow as tf\n",
    "from tensorflow import keras"
   ]
  },
  {
   "cell_type": "markdown",
   "id": "ac09248a",
   "metadata": {
    "papermill": {
     "duration": 0.002385,
     "end_time": "2024-03-16T23:41:21.478904",
     "exception": false,
     "start_time": "2024-03-16T23:41:21.476519",
     "status": "completed"
    },
    "tags": []
   },
   "source": [
    "# Data Pre-Processing"
   ]
  },
  {
   "cell_type": "markdown",
   "id": "2b33254f",
   "metadata": {
    "papermill": {
     "duration": 0.002212,
     "end_time": "2024-03-16T23:41:21.483570",
     "exception": false,
     "start_time": "2024-03-16T23:41:21.481358",
     "status": "completed"
    },
    "tags": []
   },
   "source": [
    "## Training Image Pre-Processing\n"
   ]
  },
  {
   "cell_type": "code",
   "execution_count": 2,
   "id": "6ba31865",
   "metadata": {
    "execution": {
     "iopub.execute_input": "2024-03-16T23:41:21.490673Z",
     "iopub.status.busy": "2024-03-16T23:41:21.489886Z",
     "iopub.status.idle": "2024-03-16T23:41:21.964416Z",
     "shell.execute_reply": "2024-03-16T23:41:21.963175Z"
    },
    "papermill": {
     "duration": 0.481409,
     "end_time": "2024-03-16T23:41:21.967349",
     "exception": false,
     "start_time": "2024-03-16T23:41:21.485940",
     "status": "completed"
    },
    "tags": []
   },
   "outputs": [
    {
     "name": "stdout",
     "output_type": "stream",
     "text": [
      "Found 3115 files belonging to 36 classes.\n"
     ]
    }
   ],
   "source": [
    "training_set = keras.utils.image_dataset_from_directory(\n",
    "    '/kaggle/input/fruit-and-vegetable-image-recognition/train',\n",
    "    labels=\"inferred\",\n",
    "    label_mode=\"categorical\",\n",
    "    class_names=None,\n",
    "    color_mode=\"rgb\",\n",
    "    batch_size=32,\n",
    "    image_size=(64, 64),\n",
    "    shuffle=True,\n",
    "    seed=None,\n",
    "    validation_split=None,\n",
    "    subset=None,\n",
    "    interpolation=\"bilinear\",\n",
    "    follow_links=False,\n",
    "    crop_to_aspect_ratio=False,\n",
    "    data_format=None,\n",
    ")"
   ]
  },
  {
   "cell_type": "markdown",
   "id": "e8d63163",
   "metadata": {
    "papermill": {
     "duration": 0.002455,
     "end_time": "2024-03-16T23:41:21.972931",
     "exception": false,
     "start_time": "2024-03-16T23:41:21.970476",
     "status": "completed"
    },
    "tags": []
   },
   "source": [
    "## Validtion Image Pre-Processing"
   ]
  },
  {
   "cell_type": "code",
   "execution_count": 3,
   "id": "ee670c8c",
   "metadata": {
    "execution": {
     "iopub.execute_input": "2024-03-16T23:41:21.980529Z",
     "iopub.status.busy": "2024-03-16T23:41:21.979398Z",
     "iopub.status.idle": "2024-03-16T23:41:22.128674Z",
     "shell.execute_reply": "2024-03-16T23:41:22.127497Z"
    },
    "papermill": {
     "duration": 0.155882,
     "end_time": "2024-03-16T23:41:22.131337",
     "exception": false,
     "start_time": "2024-03-16T23:41:21.975455",
     "status": "completed"
    },
    "tags": []
   },
   "outputs": [
    {
     "name": "stdout",
     "output_type": "stream",
     "text": [
      "Found 351 files belonging to 36 classes.\n"
     ]
    }
   ],
   "source": [
    "validation_set = keras.utils.image_dataset_from_directory(\n",
    "    '/kaggle/input/fruit-and-vegetable-image-recognition/validation',\n",
    "    labels=\"inferred\",\n",
    "    label_mode=\"categorical\",\n",
    "    class_names=None,\n",
    "    color_mode=\"rgb\",\n",
    "    batch_size=32,\n",
    "    image_size=(64, 64),\n",
    "    shuffle=True,\n",
    "    seed=None,\n",
    "    validation_split=None,\n",
    "    subset=None,\n",
    "    interpolation=\"bilinear\",\n",
    "    follow_links=False,\n",
    "    crop_to_aspect_ratio=False,\n",
    "    data_format=None,\n",
    ")"
   ]
  },
  {
   "cell_type": "code",
   "execution_count": null,
   "id": "d7130dc4",
   "metadata": {
    "papermill": {
     "duration": 0.002505,
     "end_time": "2024-03-16T23:41:22.137048",
     "exception": false,
     "start_time": "2024-03-16T23:41:22.134543",
     "status": "completed"
    },
    "tags": []
   },
   "outputs": [],
   "source": []
  }
 ],
 "metadata": {
  "kaggle": {
   "accelerator": "none",
   "dataSources": [
    {
     "datasetId": 952827,
     "sourceId": 3173719,
     "sourceType": "datasetVersion"
    }
   ],
   "dockerImageVersionId": 30664,
   "isGpuEnabled": false,
   "isInternetEnabled": true,
   "language": "python",
   "sourceType": "notebook"
  },
  "kernelspec": {
   "display_name": "Python 3",
   "language": "python",
   "name": "python3"
  },
  "language_info": {
   "codemirror_mode": {
    "name": "ipython",
    "version": 3
   },
   "file_extension": ".py",
   "mimetype": "text/x-python",
   "name": "python",
   "nbconvert_exporter": "python",
   "pygments_lexer": "ipython3",
   "version": "3.10.13"
  },
  "papermill": {
   "default_parameters": {},
   "duration": 19.755434,
   "end_time": "2024-03-16T23:41:24.066226",
   "environment_variables": {},
   "exception": null,
   "input_path": "__notebook__.ipynb",
   "output_path": "__notebook__.ipynb",
   "parameters": {},
   "start_time": "2024-03-16T23:41:04.310792",
   "version": "2.5.0"
  }
 },
 "nbformat": 4,
 "nbformat_minor": 5
}
