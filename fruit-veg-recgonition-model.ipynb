{
 "cells": [
  {
   "cell_type": "markdown",
   "id": "ebb51e20",
   "metadata": {
    "papermill": {
     "duration": 0.005402,
     "end_time": "2024-04-17T19:30:50.851377",
     "exception": false,
     "start_time": "2024-04-17T19:30:50.845975",
     "status": "completed"
    },
    "tags": []
   },
   "source": [
    "# Importing Dataset"
   ]
  },
  {
   "cell_type": "code",
   "execution_count": 1,
   "id": "3624a978",
   "metadata": {
    "execution": {
     "iopub.execute_input": "2024-04-17T19:30:50.862829Z",
     "iopub.status.busy": "2024-04-17T19:30:50.862468Z",
     "iopub.status.idle": "2024-04-17T19:31:06.666707Z",
     "shell.execute_reply": "2024-04-17T19:31:06.665479Z"
    },
    "papermill": {
     "duration": 15.813542,
     "end_time": "2024-04-17T19:31:06.669957",
     "exception": false,
     "start_time": "2024-04-17T19:30:50.856415",
     "status": "completed"
    },
    "tags": []
   },
   "outputs": [
    {
     "name": "stderr",
     "output_type": "stream",
     "text": [
      "2024-04-17 19:30:53.284965: E external/local_xla/xla/stream_executor/cuda/cuda_dnn.cc:9261] Unable to register cuDNN factory: Attempting to register factory for plugin cuDNN when one has already been registered\n",
      "2024-04-17 19:30:53.285110: E external/local_xla/xla/stream_executor/cuda/cuda_fft.cc:607] Unable to register cuFFT factory: Attempting to register factory for plugin cuFFT when one has already been registered\n",
      "2024-04-17 19:30:53.459369: E external/local_xla/xla/stream_executor/cuda/cuda_blas.cc:1515] Unable to register cuBLAS factory: Attempting to register factory for plugin cuBLAS when one has already been registered\n"
     ]
    }
   ],
   "source": [
    "import numpy as np\n",
    "import matplotlib.pyplot as plt\n",
    "import tensorflow as tf\n",
    "from tensorflow import keras"
   ]
  },
  {
   "cell_type": "markdown",
   "id": "95ebc280",
   "metadata": {
    "papermill": {
     "duration": 0.00484,
     "end_time": "2024-04-17T19:31:06.680189",
     "exception": false,
     "start_time": "2024-04-17T19:31:06.675349",
     "status": "completed"
    },
    "tags": []
   },
   "source": [
    "# Data Pre-Processing"
   ]
  },
  {
   "cell_type": "markdown",
   "id": "7418a4da",
   "metadata": {
    "papermill": {
     "duration": 0.004911,
     "end_time": "2024-04-17T19:31:06.690463",
     "exception": false,
     "start_time": "2024-04-17T19:31:06.685552",
     "status": "completed"
    },
    "tags": []
   },
   "source": [
    "## Training Image Pre-Processing\n"
   ]
  },
  {
   "cell_type": "code",
   "execution_count": 2,
   "id": "45af1c8c",
   "metadata": {
    "execution": {
     "iopub.execute_input": "2024-04-17T19:31:06.703003Z",
     "iopub.status.busy": "2024-04-17T19:31:06.702265Z",
     "iopub.status.idle": "2024-04-17T19:31:07.096395Z",
     "shell.execute_reply": "2024-04-17T19:31:07.095154Z"
    },
    "papermill": {
     "duration": 0.403844,
     "end_time": "2024-04-17T19:31:07.099445",
     "exception": false,
     "start_time": "2024-04-17T19:31:06.695601",
     "status": "completed"
    },
    "tags": []
   },
   "outputs": [
    {
     "name": "stdout",
     "output_type": "stream",
     "text": [
      "Found 3115 files belonging to 36 classes.\n"
     ]
    }
   ],
   "source": [
    "training_set = keras.utils.image_dataset_from_directory(\n",
    "    '/kaggle/input/fruit-and-vegetable-image-recognition/train',\n",
    "    labels=\"inferred\",\n",
    "    label_mode=\"categorical\",\n",
    "    class_names=None,\n",
    "    color_mode=\"rgb\",\n",
    "    batch_size=32,\n",
    "    image_size=(64, 64),\n",
    "    shuffle=True,\n",
    "    seed=None,\n",
    "    validation_split=None,\n",
    "    subset=None,\n",
    "    interpolation=\"bilinear\",\n",
    "    follow_links=False,\n",
    "    crop_to_aspect_ratio=False,\n",
    "    data_format=None,\n",
    ")"
   ]
  },
  {
   "cell_type": "markdown",
   "id": "b5826daa",
   "metadata": {
    "papermill": {
     "duration": 0.005155,
     "end_time": "2024-04-17T19:31:07.110343",
     "exception": false,
     "start_time": "2024-04-17T19:31:07.105188",
     "status": "completed"
    },
    "tags": []
   },
   "source": [
    "## Validtion Image Pre-Processing"
   ]
  },
  {
   "cell_type": "code",
   "execution_count": 3,
   "id": "3d1a393b",
   "metadata": {
    "execution": {
     "iopub.execute_input": "2024-04-17T19:31:07.123385Z",
     "iopub.status.busy": "2024-04-17T19:31:07.122988Z",
     "iopub.status.idle": "2024-04-17T19:31:07.239862Z",
     "shell.execute_reply": "2024-04-17T19:31:07.238877Z"
    },
    "papermill": {
     "duration": 0.126256,
     "end_time": "2024-04-17T19:31:07.242293",
     "exception": false,
     "start_time": "2024-04-17T19:31:07.116037",
     "status": "completed"
    },
    "tags": []
   },
   "outputs": [
    {
     "name": "stdout",
     "output_type": "stream",
     "text": [
      "Found 351 files belonging to 36 classes.\n"
     ]
    }
   ],
   "source": [
    "validation_set = keras.utils.image_dataset_from_directory(\n",
    "    '/kaggle/input/fruit-and-vegetable-image-recognition/validation',\n",
    "    labels=\"inferred\",\n",
    "    label_mode=\"categorical\",\n",
    "    class_names=None,\n",
    "    color_mode=\"rgb\",\n",
    "    batch_size=32,\n",
    "    image_size=(64, 64),\n",
    "    shuffle=True,\n",
    "    seed=None,\n",
    "    validation_split=None,\n",
    "    subset=None,\n",
    "    interpolation=\"bilinear\",\n",
    "    follow_links=False,\n",
    "    crop_to_aspect_ratio=False,\n",
    "    data_format=None,\n",
    ")"
   ]
  },
  {
   "cell_type": "markdown",
   "id": "b5953645",
   "metadata": {
    "papermill": {
     "duration": 0.00493,
     "end_time": "2024-04-17T19:31:07.252931",
     "exception": false,
     "start_time": "2024-04-17T19:31:07.248001",
     "status": "completed"
    },
    "tags": []
   },
   "source": [
    "# Building Model"
   ]
  },
  {
   "cell_type": "code",
   "execution_count": 4,
   "id": "5910ac61",
   "metadata": {
    "execution": {
     "iopub.execute_input": "2024-04-17T19:31:07.265230Z",
     "iopub.status.busy": "2024-04-17T19:31:07.264775Z",
     "iopub.status.idle": "2024-04-17T19:31:07.271166Z",
     "shell.execute_reply": "2024-04-17T19:31:07.270020Z"
    },
    "papermill": {
     "duration": 0.015279,
     "end_time": "2024-04-17T19:31:07.273439",
     "exception": false,
     "start_time": "2024-04-17T19:31:07.258160",
     "status": "completed"
    },
    "tags": []
   },
   "outputs": [],
   "source": [
    "cnn = tf.keras.models.Sequential()"
   ]
  },
  {
   "cell_type": "markdown",
   "id": "ca0759d2",
   "metadata": {
    "papermill": {
     "duration": 0.005334,
     "end_time": "2024-04-17T19:31:07.284244",
     "exception": false,
     "start_time": "2024-04-17T19:31:07.278910",
     "status": "completed"
    },
    "tags": []
   },
   "source": [
    "# Building Convulation layer"
   ]
  },
  {
   "cell_type": "code",
   "execution_count": 5,
   "id": "e09ce2c4",
   "metadata": {
    "execution": {
     "iopub.execute_input": "2024-04-17T19:31:07.297730Z",
     "iopub.status.busy": "2024-04-17T19:31:07.297338Z",
     "iopub.status.idle": "2024-04-17T19:31:07.342007Z",
     "shell.execute_reply": "2024-04-17T19:31:07.340848Z"
    },
    "papermill": {
     "duration": 0.054569,
     "end_time": "2024-04-17T19:31:07.344578",
     "exception": false,
     "start_time": "2024-04-17T19:31:07.290009",
     "status": "completed"
    },
    "tags": []
   },
   "outputs": [
    {
     "name": "stderr",
     "output_type": "stream",
     "text": [
      "/opt/conda/lib/python3.10/site-packages/keras/src/layers/convolutional/base_conv.py:99: UserWarning: Do not pass an `input_shape`/`input_dim` argument to a layer. When using Sequential models, prefer using an `Input(shape)` object as the first layer in the model instead.\n",
      "  super().__init__(\n"
     ]
    }
   ],
   "source": [
    "cnn.add(tf.keras.layers.Conv2D(filters=64, kernel_size=3, activation='relu', input_shape=[64,64,3]))\n",
    "cnn.add(tf.keras.layers.MaxPool2D(pool_size=2, strides=2))\n"
   ]
  },
  {
   "cell_type": "code",
   "execution_count": 6,
   "id": "87414071",
   "metadata": {
    "execution": {
     "iopub.execute_input": "2024-04-17T19:31:07.357838Z",
     "iopub.status.busy": "2024-04-17T19:31:07.357429Z",
     "iopub.status.idle": "2024-04-17T19:31:07.382436Z",
     "shell.execute_reply": "2024-04-17T19:31:07.381153Z"
    },
    "papermill": {
     "duration": 0.034217,
     "end_time": "2024-04-17T19:31:07.385126",
     "exception": false,
     "start_time": "2024-04-17T19:31:07.350909",
     "status": "completed"
    },
    "tags": []
   },
   "outputs": [],
   "source": [
    "cnn.add(tf.keras.layers.Conv2D(filters=64, kernel_size=3, activation='relu', ))\n",
    "cnn.add(tf.keras.layers.MaxPool2D(pool_size=2, strides=2))"
   ]
  },
  {
   "cell_type": "code",
   "execution_count": 7,
   "id": "14e29549",
   "metadata": {
    "execution": {
     "iopub.execute_input": "2024-04-17T19:31:07.397456Z",
     "iopub.status.busy": "2024-04-17T19:31:07.397094Z",
     "iopub.status.idle": "2024-04-17T19:31:07.412840Z",
     "shell.execute_reply": "2024-04-17T19:31:07.411675Z"
    },
    "papermill": {
     "duration": 0.02476,
     "end_time": "2024-04-17T19:31:07.415295",
     "exception": false,
     "start_time": "2024-04-17T19:31:07.390535",
     "status": "completed"
    },
    "tags": []
   },
   "outputs": [],
   "source": [
    "cnn.add(tf.keras.layers.Dropout(0.5)) #to avoid overfitting"
   ]
  },
  {
   "cell_type": "code",
   "execution_count": 8,
   "id": "606a66cc",
   "metadata": {
    "execution": {
     "iopub.execute_input": "2024-04-17T19:31:07.427593Z",
     "iopub.status.busy": "2024-04-17T19:31:07.427217Z",
     "iopub.status.idle": "2024-04-17T19:31:07.439660Z",
     "shell.execute_reply": "2024-04-17T19:31:07.438496Z"
    },
    "papermill": {
     "duration": 0.021225,
     "end_time": "2024-04-17T19:31:07.441901",
     "exception": false,
     "start_time": "2024-04-17T19:31:07.420676",
     "status": "completed"
    },
    "tags": []
   },
   "outputs": [],
   "source": [
    "cnn.add(tf.keras.layers.Flatten())"
   ]
  },
  {
   "cell_type": "code",
   "execution_count": 9,
   "id": "703f4c69",
   "metadata": {
    "execution": {
     "iopub.execute_input": "2024-04-17T19:31:07.454211Z",
     "iopub.status.busy": "2024-04-17T19:31:07.453820Z",
     "iopub.status.idle": "2024-04-17T19:31:07.497133Z",
     "shell.execute_reply": "2024-04-17T19:31:07.496009Z"
    },
    "papermill": {
     "duration": 0.052546,
     "end_time": "2024-04-17T19:31:07.499888",
     "exception": false,
     "start_time": "2024-04-17T19:31:07.447342",
     "status": "completed"
    },
    "tags": []
   },
   "outputs": [],
   "source": [
    "cnn.add(tf.keras.layers.Dense(units=128))"
   ]
  },
  {
   "cell_type": "code",
   "execution_count": 10,
   "id": "acbb8504",
   "metadata": {
    "execution": {
     "iopub.execute_input": "2024-04-17T19:31:07.512443Z",
     "iopub.status.busy": "2024-04-17T19:31:07.512066Z",
     "iopub.status.idle": "2024-04-17T19:31:07.533687Z",
     "shell.execute_reply": "2024-04-17T19:31:07.532644Z"
    },
    "papermill": {
     "duration": 0.030896,
     "end_time": "2024-04-17T19:31:07.536228",
     "exception": false,
     "start_time": "2024-04-17T19:31:07.505332",
     "status": "completed"
    },
    "tags": []
   },
   "outputs": [],
   "source": [
    "cnn.add(tf.keras.layers.Dense(units=128,activation='relu'))"
   ]
  },
  {
   "cell_type": "markdown",
   "id": "9f24c4c4",
   "metadata": {
    "papermill": {
     "duration": 0.005335,
     "end_time": "2024-04-17T19:31:07.547268",
     "exception": false,
     "start_time": "2024-04-17T19:31:07.541933",
     "status": "completed"
    },
    "tags": []
   },
   "source": [
    "# Output Layer"
   ]
  },
  {
   "cell_type": "code",
   "execution_count": 11,
   "id": "24479789",
   "metadata": {
    "execution": {
     "iopub.execute_input": "2024-04-17T19:31:07.560019Z",
     "iopub.status.busy": "2024-04-17T19:31:07.559550Z",
     "iopub.status.idle": "2024-04-17T19:31:07.582327Z",
     "shell.execute_reply": "2024-04-17T19:31:07.581234Z"
    },
    "papermill": {
     "duration": 0.032652,
     "end_time": "2024-04-17T19:31:07.585565",
     "exception": false,
     "start_time": "2024-04-17T19:31:07.552913",
     "status": "completed"
    },
    "tags": []
   },
   "outputs": [],
   "source": [
    "cnn.add(tf.keras.layers.Dense(units=36,activation='softmax')) "
   ]
  },
  {
   "cell_type": "markdown",
   "id": "0db0390f",
   "metadata": {
    "papermill": {
     "duration": 0.005398,
     "end_time": "2024-04-17T19:31:07.596599",
     "exception": false,
     "start_time": "2024-04-17T19:31:07.591201",
     "status": "completed"
    },
    "tags": []
   },
   "source": [
    "# Compiling and Training Phase "
   ]
  },
  {
   "cell_type": "code",
   "execution_count": 12,
   "id": "3c3ddd1d",
   "metadata": {
    "execution": {
     "iopub.execute_input": "2024-04-17T19:31:07.609235Z",
     "iopub.status.busy": "2024-04-17T19:31:07.608869Z",
     "iopub.status.idle": "2024-04-17T19:31:07.624333Z",
     "shell.execute_reply": "2024-04-17T19:31:07.623038Z"
    },
    "papermill": {
     "duration": 0.025218,
     "end_time": "2024-04-17T19:31:07.627278",
     "exception": false,
     "start_time": "2024-04-17T19:31:07.602060",
     "status": "completed"
    },
    "tags": []
   },
   "outputs": [],
   "source": [
    "cnn.compile(optimizer='rmsprop', loss='categorical_crossentropy', metrics=['accuracy'])"
   ]
  },
  {
   "cell_type": "code",
   "execution_count": 13,
   "id": "7085d45c",
   "metadata": {
    "execution": {
     "iopub.execute_input": "2024-04-17T19:31:07.640091Z",
     "iopub.status.busy": "2024-04-17T19:31:07.639703Z",
     "iopub.status.idle": "2024-04-17T20:02:38.919036Z",
     "shell.execute_reply": "2024-04-17T20:02:38.917761Z"
    },
    "papermill": {
     "duration": 1891.483134,
     "end_time": "2024-04-17T20:02:39.116015",
     "exception": false,
     "start_time": "2024-04-17T19:31:07.632881",
     "status": "completed"
    },
    "tags": []
   },
   "outputs": [
    {
     "name": "stdout",
     "output_type": "stream",
     "text": [
      "Epoch 1/30\n",
      "\u001b[1m98/98\u001b[0m \u001b[32m━━━━━━━━━━━━━━━━━━━━\u001b[0m\u001b[37m\u001b[0m \u001b[1m73s\u001b[0m 697ms/step - accuracy: 0.0372 - loss: 47.1649 - val_accuracy: 0.0513 - val_loss: 3.5278\n",
      "Epoch 2/30\n",
      "\u001b[1m98/98\u001b[0m \u001b[32m━━━━━━━━━━━━━━━━━━━━\u001b[0m\u001b[37m\u001b[0m \u001b[1m59s\u001b[0m 577ms/step - accuracy: 0.0407 - loss: 4.1818 - val_accuracy: 0.0370 - val_loss: 6.7429\n",
      "Epoch 3/30\n",
      "\u001b[1m98/98\u001b[0m \u001b[32m━━━━━━━━━━━━━━━━━━━━\u001b[0m\u001b[37m\u001b[0m \u001b[1m59s\u001b[0m 577ms/step - accuracy: 0.0437 - loss: 4.8837 - val_accuracy: 0.0627 - val_loss: 3.6116\n",
      "Epoch 4/30\n",
      "\u001b[1m98/98\u001b[0m \u001b[32m━━━━━━━━━━━━━━━━━━━━\u001b[0m\u001b[37m\u001b[0m \u001b[1m82s\u001b[0m 579ms/step - accuracy: 0.0739 - loss: 3.9093 - val_accuracy: 0.1425 - val_loss: 3.3533\n",
      "Epoch 5/30\n",
      "\u001b[1m98/98\u001b[0m \u001b[32m━━━━━━━━━━━━━━━━━━━━\u001b[0m\u001b[37m\u001b[0m \u001b[1m61s\u001b[0m 593ms/step - accuracy: 0.0806 - loss: 3.9561 - val_accuracy: 0.2023 - val_loss: 3.1400\n",
      "Epoch 6/30\n",
      "\u001b[1m98/98\u001b[0m \u001b[32m━━━━━━━━━━━━━━━━━━━━\u001b[0m\u001b[37m\u001b[0m \u001b[1m60s\u001b[0m 585ms/step - accuracy: 0.1041 - loss: 4.0060 - val_accuracy: 0.2650 - val_loss: 2.9973\n",
      "Epoch 7/30\n",
      "\u001b[1m98/98\u001b[0m \u001b[32m━━━━━━━━━━━━━━━━━━━━\u001b[0m\u001b[37m\u001b[0m \u001b[1m81s\u001b[0m 573ms/step - accuracy: 0.1442 - loss: 3.9684 - val_accuracy: 0.3219 - val_loss: 2.8358\n",
      "Epoch 8/30\n",
      "\u001b[1m98/98\u001b[0m \u001b[32m━━━━━━━━━━━━━━━━━━━━\u001b[0m\u001b[37m\u001b[0m \u001b[1m60s\u001b[0m 581ms/step - accuracy: 0.1729 - loss: 4.6441 - val_accuracy: 0.0570 - val_loss: 9.6509\n",
      "Epoch 9/30\n",
      "\u001b[1m98/98\u001b[0m \u001b[32m━━━━━━━━━━━━━━━━━━━━\u001b[0m\u001b[37m\u001b[0m \u001b[1m60s\u001b[0m 582ms/step - accuracy: 0.1939 - loss: 4.9656 - val_accuracy: 0.0798 - val_loss: 7.3575\n",
      "Epoch 10/30\n",
      "\u001b[1m98/98\u001b[0m \u001b[32m━━━━━━━━━━━━━━━━━━━━\u001b[0m\u001b[37m\u001b[0m \u001b[1m62s\u001b[0m 609ms/step - accuracy: 0.0434 - loss: 5.5176 - val_accuracy: 0.0285 - val_loss: 3.5844\n",
      "Epoch 11/30\n",
      "\u001b[1m98/98\u001b[0m \u001b[32m━━━━━━━━━━━━━━━━━━━━\u001b[0m\u001b[37m\u001b[0m \u001b[1m79s\u001b[0m 584ms/step - accuracy: 0.0324 - loss: 3.5802 - val_accuracy: 0.0285 - val_loss: 3.5845\n",
      "Epoch 12/30\n",
      "\u001b[1m98/98\u001b[0m \u001b[32m━━━━━━━━━━━━━━━━━━━━\u001b[0m\u001b[37m\u001b[0m \u001b[1m59s\u001b[0m 579ms/step - accuracy: 0.0303 - loss: 5.7096 - val_accuracy: 0.0285 - val_loss: 3.5844\n",
      "Epoch 13/30\n",
      "\u001b[1m98/98\u001b[0m \u001b[32m━━━━━━━━━━━━━━━━━━━━\u001b[0m\u001b[37m\u001b[0m \u001b[1m59s\u001b[0m 575ms/step - accuracy: 0.0335 - loss: 3.6229 - val_accuracy: 0.0285 - val_loss: 3.5846\n",
      "Epoch 14/30\n",
      "\u001b[1m98/98\u001b[0m \u001b[32m━━━━━━━━━━━━━━━━━━━━\u001b[0m\u001b[37m\u001b[0m \u001b[1m59s\u001b[0m 579ms/step - accuracy: 0.0329 - loss: 3.5801 - val_accuracy: 0.0285 - val_loss: 3.5848\n",
      "Epoch 15/30\n",
      "\u001b[1m98/98\u001b[0m \u001b[32m━━━━━━━━━━━━━━━━━━━━\u001b[0m\u001b[37m\u001b[0m \u001b[1m82s\u001b[0m 576ms/step - accuracy: 0.0311 - loss: 3.5794 - val_accuracy: 0.0285 - val_loss: 3.5850\n",
      "Epoch 16/30\n",
      "\u001b[1m98/98\u001b[0m \u001b[32m━━━━━━━━━━━━━━━━━━━━\u001b[0m\u001b[37m\u001b[0m \u001b[1m59s\u001b[0m 576ms/step - accuracy: 0.0303 - loss: 3.5791 - val_accuracy: 0.0285 - val_loss: 3.5851\n",
      "Epoch 17/30\n",
      "\u001b[1m98/98\u001b[0m \u001b[32m━━━━━━━━━━━━━━━━━━━━\u001b[0m\u001b[37m\u001b[0m \u001b[1m59s\u001b[0m 579ms/step - accuracy: 0.0318 - loss: 3.5792 - val_accuracy: 0.0285 - val_loss: 3.5854\n",
      "Epoch 18/30\n",
      "\u001b[1m98/98\u001b[0m \u001b[32m━━━━━━━━━━━━━━━━━━━━\u001b[0m\u001b[37m\u001b[0m \u001b[1m64s\u001b[0m 624ms/step - accuracy: 0.0312 - loss: 3.5779 - val_accuracy: 0.0285 - val_loss: 3.5855\n",
      "Epoch 19/30\n",
      "\u001b[1m98/98\u001b[0m \u001b[32m━━━━━━━━━━━━━━━━━━━━\u001b[0m\u001b[37m\u001b[0m \u001b[1m60s\u001b[0m 584ms/step - accuracy: 0.0309 - loss: 3.5781 - val_accuracy: 0.0285 - val_loss: 3.5858\n",
      "Epoch 20/30\n",
      "\u001b[1m98/98\u001b[0m \u001b[32m━━━━━━━━━━━━━━━━━━━━\u001b[0m\u001b[37m\u001b[0m \u001b[1m60s\u001b[0m 581ms/step - accuracy: 0.0309 - loss: 3.5786 - val_accuracy: 0.0285 - val_loss: 3.5861\n",
      "Epoch 21/30\n",
      "\u001b[1m98/98\u001b[0m \u001b[32m━━━━━━━━━━━━━━━━━━━━\u001b[0m\u001b[37m\u001b[0m \u001b[1m60s\u001b[0m 581ms/step - accuracy: 0.0311 - loss: 3.5768 - val_accuracy: 0.0285 - val_loss: 3.5862\n",
      "Epoch 22/30\n",
      "\u001b[1m98/98\u001b[0m \u001b[32m━━━━━━━━━━━━━━━━━━━━\u001b[0m\u001b[37m\u001b[0m \u001b[1m59s\u001b[0m 578ms/step - accuracy: 0.0329 - loss: 3.5772 - val_accuracy: 0.0285 - val_loss: 3.5864\n",
      "Epoch 23/30\n",
      "\u001b[1m98/98\u001b[0m \u001b[32m━━━━━━━━━━━━━━━━━━━━\u001b[0m\u001b[37m\u001b[0m \u001b[1m60s\u001b[0m 585ms/step - accuracy: 0.0326 - loss: 3.5773 - val_accuracy: 0.0285 - val_loss: 3.5866\n",
      "Epoch 24/30\n",
      "\u001b[1m98/98\u001b[0m \u001b[32m━━━━━━━━━━━━━━━━━━━━\u001b[0m\u001b[37m\u001b[0m \u001b[1m60s\u001b[0m 584ms/step - accuracy: 0.0258 - loss: 3.5778 - val_accuracy: 0.0285 - val_loss: 3.5867\n",
      "Epoch 25/30\n",
      "\u001b[1m98/98\u001b[0m \u001b[32m━━━━━━━━━━━━━━━━━━━━\u001b[0m\u001b[37m\u001b[0m \u001b[1m59s\u001b[0m 576ms/step - accuracy: 0.0298 - loss: 3.5771 - val_accuracy: 0.0285 - val_loss: 3.5869\n",
      "Epoch 26/30\n",
      "\u001b[1m98/98\u001b[0m \u001b[32m━━━━━━━━━━━━━━━━━━━━\u001b[0m\u001b[37m\u001b[0m \u001b[1m59s\u001b[0m 578ms/step - accuracy: 0.0307 - loss: 3.5766 - val_accuracy: 0.0285 - val_loss: 3.5870\n",
      "Epoch 27/30\n",
      "\u001b[1m98/98\u001b[0m \u001b[32m━━━━━━━━━━━━━━━━━━━━\u001b[0m\u001b[37m\u001b[0m \u001b[1m59s\u001b[0m 578ms/step - accuracy: 0.0274 - loss: 3.5773 - val_accuracy: 0.0285 - val_loss: 3.5871\n",
      "Epoch 28/30\n",
      "\u001b[1m98/98\u001b[0m \u001b[32m━━━━━━━━━━━━━━━━━━━━\u001b[0m\u001b[37m\u001b[0m \u001b[1m59s\u001b[0m 580ms/step - accuracy: 0.0263 - loss: 3.5758 - val_accuracy: 0.0285 - val_loss: 3.5873\n",
      "Epoch 29/30\n",
      "\u001b[1m98/98\u001b[0m \u001b[32m━━━━━━━━━━━━━━━━━━━━\u001b[0m\u001b[37m\u001b[0m \u001b[1m60s\u001b[0m 581ms/step - accuracy: 0.0269 - loss: 3.5771 - val_accuracy: 0.0285 - val_loss: 3.5874\n",
      "Epoch 30/30\n",
      "\u001b[1m98/98\u001b[0m \u001b[32m━━━━━━━━━━━━━━━━━━━━\u001b[0m\u001b[37m\u001b[0m \u001b[1m60s\u001b[0m 583ms/step - accuracy: 0.0266 - loss: 3.5767 - val_accuracy: 0.0285 - val_loss: 3.5876\n"
     ]
    }
   ],
   "source": [
    "training_history = cnn.fit(x=training_set, validation_data=validation_set, epochs=30)\n"
   ]
  },
  {
   "cell_type": "code",
   "execution_count": null,
   "id": "378ca54e",
   "metadata": {
    "papermill": {
     "duration": 0.199655,
     "end_time": "2024-04-17T20:02:39.514683",
     "exception": false,
     "start_time": "2024-04-17T20:02:39.315028",
     "status": "completed"
    },
    "tags": []
   },
   "outputs": [],
   "source": []
  }
 ],
 "metadata": {
  "kaggle": {
   "accelerator": "none",
   "dataSources": [
    {
     "datasetId": 952827,
     "sourceId": 3173719,
     "sourceType": "datasetVersion"
    }
   ],
   "dockerImageVersionId": 30664,
   "isGpuEnabled": false,
   "isInternetEnabled": true,
   "language": "python",
   "sourceType": "notebook"
  },
  "kernelspec": {
   "display_name": "Python 3",
   "language": "python",
   "name": "python3"
  },
  "language_info": {
   "codemirror_mode": {
    "name": "ipython",
    "version": 3
   },
   "file_extension": ".py",
   "mimetype": "text/x-python",
   "name": "python",
   "nbconvert_exporter": "python",
   "pygments_lexer": "ipython3",
   "version": "3.10.13"
  },
  "papermill": {
   "default_parameters": {},
   "duration": 1914.426162,
   "end_time": "2024-04-17T20:02:42.006194",
   "environment_variables": {},
   "exception": null,
   "input_path": "__notebook__.ipynb",
   "output_path": "__notebook__.ipynb",
   "parameters": {},
   "start_time": "2024-04-17T19:30:47.580032",
   "version": "2.5.0"
  }
 },
 "nbformat": 4,
 "nbformat_minor": 5
}
