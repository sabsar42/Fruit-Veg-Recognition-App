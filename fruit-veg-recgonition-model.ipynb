{
 "cells": [
  {
   "cell_type": "markdown",
   "id": "315ac387",
   "metadata": {
    "papermill": {
     "duration": 0.005508,
     "end_time": "2024-04-28T17:44:42.104437",
     "exception": false,
     "start_time": "2024-04-28T17:44:42.098929",
     "status": "completed"
    },
    "tags": []
   },
   "source": [
    "# Importing Dataset"
   ]
  },
  {
   "cell_type": "code",
   "execution_count": 1,
   "id": "dab7fa6c",
   "metadata": {
    "execution": {
     "iopub.execute_input": "2024-04-28T17:44:42.116908Z",
     "iopub.status.busy": "2024-04-28T17:44:42.115817Z",
     "iopub.status.idle": "2024-04-28T17:44:56.583688Z",
     "shell.execute_reply": "2024-04-28T17:44:56.582417Z"
    },
    "papermill": {
     "duration": 14.477223,
     "end_time": "2024-04-28T17:44:56.586813",
     "exception": false,
     "start_time": "2024-04-28T17:44:42.109590",
     "status": "completed"
    },
    "tags": []
   },
   "outputs": [
    {
     "name": "stderr",
     "output_type": "stream",
     "text": [
      "2024-04-28 17:44:44.283355: E external/local_xla/xla/stream_executor/cuda/cuda_dnn.cc:9261] Unable to register cuDNN factory: Attempting to register factory for plugin cuDNN when one has already been registered\n",
      "2024-04-28 17:44:44.283473: E external/local_xla/xla/stream_executor/cuda/cuda_fft.cc:607] Unable to register cuFFT factory: Attempting to register factory for plugin cuFFT when one has already been registered\n",
      "2024-04-28 17:44:44.429648: E external/local_xla/xla/stream_executor/cuda/cuda_blas.cc:1515] Unable to register cuBLAS factory: Attempting to register factory for plugin cuBLAS when one has already been registered\n"
     ]
    }
   ],
   "source": [
    "import numpy as np\n",
    "import matplotlib.pyplot as plt\n",
    "import tensorflow as tf\n",
    "from tensorflow import keras"
   ]
  },
  {
   "cell_type": "markdown",
   "id": "20967eb2",
   "metadata": {
    "papermill": {
     "duration": 0.004847,
     "end_time": "2024-04-28T17:44:56.597115",
     "exception": false,
     "start_time": "2024-04-28T17:44:56.592268",
     "status": "completed"
    },
    "tags": []
   },
   "source": [
    "# Data Pre-Processing"
   ]
  },
  {
   "cell_type": "markdown",
   "id": "0cfa3109",
   "metadata": {
    "papermill": {
     "duration": 0.004847,
     "end_time": "2024-04-28T17:44:56.607038",
     "exception": false,
     "start_time": "2024-04-28T17:44:56.602191",
     "status": "completed"
    },
    "tags": []
   },
   "source": [
    "## Training Image Pre-Processing\n"
   ]
  },
  {
   "cell_type": "code",
   "execution_count": 2,
   "id": "b5928820",
   "metadata": {
    "execution": {
     "iopub.execute_input": "2024-04-28T17:44:56.619267Z",
     "iopub.status.busy": "2024-04-28T17:44:56.618587Z",
     "iopub.status.idle": "2024-04-28T17:44:57.087569Z",
     "shell.execute_reply": "2024-04-28T17:44:57.086607Z"
    },
    "papermill": {
     "duration": 0.478158,
     "end_time": "2024-04-28T17:44:57.090288",
     "exception": false,
     "start_time": "2024-04-28T17:44:56.612130",
     "status": "completed"
    },
    "tags": []
   },
   "outputs": [
    {
     "name": "stdout",
     "output_type": "stream",
     "text": [
      "Found 3115 files belonging to 36 classes.\n"
     ]
    }
   ],
   "source": [
    "training_set = keras.utils.image_dataset_from_directory(\n",
    "    '/kaggle/input/fruit-and-vegetable-image-recognition/train',\n",
    "    labels=\"inferred\",\n",
    "    label_mode=\"categorical\",\n",
    "    class_names=None,\n",
    "    color_mode=\"rgb\",\n",
    "    batch_size=32,\n",
    "    image_size=(64, 64),\n",
    "    shuffle=True,\n",
    "    seed=None,\n",
    "    validation_split=None,\n",
    "    subset=None,\n",
    "    interpolation=\"bilinear\",\n",
    "    follow_links=False,\n",
    "    crop_to_aspect_ratio=False,\n",
    "    data_format=None,\n",
    ")"
   ]
  },
  {
   "cell_type": "markdown",
   "id": "1331410b",
   "metadata": {
    "papermill": {
     "duration": 0.005071,
     "end_time": "2024-04-28T17:44:57.100870",
     "exception": false,
     "start_time": "2024-04-28T17:44:57.095799",
     "status": "completed"
    },
    "tags": []
   },
   "source": [
    "## Validtion Image Pre-Processing"
   ]
  },
  {
   "cell_type": "code",
   "execution_count": 3,
   "id": "908ecebf",
   "metadata": {
    "execution": {
     "iopub.execute_input": "2024-04-28T17:44:57.118620Z",
     "iopub.status.busy": "2024-04-28T17:44:57.117802Z",
     "iopub.status.idle": "2024-04-28T17:44:57.295146Z",
     "shell.execute_reply": "2024-04-28T17:44:57.294102Z"
    },
    "papermill": {
     "duration": 0.188856,
     "end_time": "2024-04-28T17:44:57.297603",
     "exception": false,
     "start_time": "2024-04-28T17:44:57.108747",
     "status": "completed"
    },
    "tags": []
   },
   "outputs": [
    {
     "name": "stdout",
     "output_type": "stream",
     "text": [
      "Found 351 files belonging to 36 classes.\n"
     ]
    }
   ],
   "source": [
    "validation_set = keras.utils.image_dataset_from_directory(\n",
    "    '/kaggle/input/fruit-and-vegetable-image-recognition/validation',\n",
    "    labels=\"inferred\",\n",
    "    label_mode=\"categorical\",\n",
    "    class_names=None,\n",
    "    color_mode=\"rgb\",\n",
    "    batch_size=32,\n",
    "    image_size=(64, 64),\n",
    "    shuffle=True,\n",
    "    seed=None,\n",
    "    validation_split=None,\n",
    "    subset=None,\n",
    "    interpolation=\"bilinear\",\n",
    "    follow_links=False,\n",
    "    crop_to_aspect_ratio=False,\n",
    "    data_format=None,\n",
    ")"
   ]
  },
  {
   "cell_type": "markdown",
   "id": "1b54bf05",
   "metadata": {
    "papermill": {
     "duration": 0.005053,
     "end_time": "2024-04-28T17:44:57.307986",
     "exception": false,
     "start_time": "2024-04-28T17:44:57.302933",
     "status": "completed"
    },
    "tags": []
   },
   "source": [
    "# Building Model"
   ]
  },
  {
   "cell_type": "code",
   "execution_count": 4,
   "id": "61d95938",
   "metadata": {
    "execution": {
     "iopub.execute_input": "2024-04-28T17:44:57.320973Z",
     "iopub.status.busy": "2024-04-28T17:44:57.319723Z",
     "iopub.status.idle": "2024-04-28T17:44:57.326187Z",
     "shell.execute_reply": "2024-04-28T17:44:57.325351Z"
    },
    "papermill": {
     "duration": 0.01502,
     "end_time": "2024-04-28T17:44:57.328329",
     "exception": false,
     "start_time": "2024-04-28T17:44:57.313309",
     "status": "completed"
    },
    "tags": []
   },
   "outputs": [],
   "source": [
    "cnn = tf.keras.models.Sequential()"
   ]
  },
  {
   "cell_type": "markdown",
   "id": "f86d1fd5",
   "metadata": {
    "papermill": {
     "duration": 0.005006,
     "end_time": "2024-04-28T17:44:57.338763",
     "exception": false,
     "start_time": "2024-04-28T17:44:57.333757",
     "status": "completed"
    },
    "tags": []
   },
   "source": [
    "# Building Convulation layer"
   ]
  },
  {
   "cell_type": "code",
   "execution_count": 5,
   "id": "1e898b96",
   "metadata": {
    "execution": {
     "iopub.execute_input": "2024-04-28T17:44:57.351533Z",
     "iopub.status.busy": "2024-04-28T17:44:57.350335Z",
     "iopub.status.idle": "2024-04-28T17:44:57.394509Z",
     "shell.execute_reply": "2024-04-28T17:44:57.393145Z"
    },
    "papermill": {
     "duration": 0.05349,
     "end_time": "2024-04-28T17:44:57.397351",
     "exception": false,
     "start_time": "2024-04-28T17:44:57.343861",
     "status": "completed"
    },
    "tags": []
   },
   "outputs": [
    {
     "name": "stderr",
     "output_type": "stream",
     "text": [
      "/opt/conda/lib/python3.10/site-packages/keras/src/layers/convolutional/base_conv.py:99: UserWarning: Do not pass an `input_shape`/`input_dim` argument to a layer. When using Sequential models, prefer using an `Input(shape)` object as the first layer in the model instead.\n",
      "  super().__init__(\n"
     ]
    }
   ],
   "source": [
    "cnn.add(tf.keras.layers.Conv2D(filters=64, kernel_size=3, activation='relu', input_shape=[64,64,3]))\n",
    "cnn.add(tf.keras.layers.MaxPool2D(pool_size=2, strides=2))\n"
   ]
  },
  {
   "cell_type": "code",
   "execution_count": 6,
   "id": "6d123f87",
   "metadata": {
    "execution": {
     "iopub.execute_input": "2024-04-28T17:44:57.410973Z",
     "iopub.status.busy": "2024-04-28T17:44:57.410580Z",
     "iopub.status.idle": "2024-04-28T17:44:57.432606Z",
     "shell.execute_reply": "2024-04-28T17:44:57.431667Z"
    },
    "papermill": {
     "duration": 0.031281,
     "end_time": "2024-04-28T17:44:57.435078",
     "exception": false,
     "start_time": "2024-04-28T17:44:57.403797",
     "status": "completed"
    },
    "tags": []
   },
   "outputs": [],
   "source": [
    "cnn.add(tf.keras.layers.Conv2D(filters=64, kernel_size=3, activation='relu', ))\n",
    "cnn.add(tf.keras.layers.MaxPool2D(pool_size=2, strides=2))"
   ]
  },
  {
   "cell_type": "code",
   "execution_count": 7,
   "id": "6e5bb791",
   "metadata": {
    "execution": {
     "iopub.execute_input": "2024-04-28T17:44:57.448760Z",
     "iopub.status.busy": "2024-04-28T17:44:57.447560Z",
     "iopub.status.idle": "2024-04-28T17:44:57.463448Z",
     "shell.execute_reply": "2024-04-28T17:44:57.462436Z"
    },
    "papermill": {
     "duration": 0.025349,
     "end_time": "2024-04-28T17:44:57.465895",
     "exception": false,
     "start_time": "2024-04-28T17:44:57.440546",
     "status": "completed"
    },
    "tags": []
   },
   "outputs": [],
   "source": [
    "cnn.add(tf.keras.layers.Dropout(0.5)) #to avoid overfitting"
   ]
  },
  {
   "cell_type": "code",
   "execution_count": 8,
   "id": "9df6a1c7",
   "metadata": {
    "execution": {
     "iopub.execute_input": "2024-04-28T17:44:57.478480Z",
     "iopub.status.busy": "2024-04-28T17:44:57.478120Z",
     "iopub.status.idle": "2024-04-28T17:44:57.490007Z",
     "shell.execute_reply": "2024-04-28T17:44:57.488838Z"
    },
    "papermill": {
     "duration": 0.020947,
     "end_time": "2024-04-28T17:44:57.492272",
     "exception": false,
     "start_time": "2024-04-28T17:44:57.471325",
     "status": "completed"
    },
    "tags": []
   },
   "outputs": [],
   "source": [
    "cnn.add(tf.keras.layers.Flatten())"
   ]
  },
  {
   "cell_type": "code",
   "execution_count": 9,
   "id": "13998cda",
   "metadata": {
    "execution": {
     "iopub.execute_input": "2024-04-28T17:44:57.504690Z",
     "iopub.status.busy": "2024-04-28T17:44:57.504320Z",
     "iopub.status.idle": "2024-04-28T17:44:57.538923Z",
     "shell.execute_reply": "2024-04-28T17:44:57.538118Z"
    },
    "papermill": {
     "duration": 0.043623,
     "end_time": "2024-04-28T17:44:57.541353",
     "exception": false,
     "start_time": "2024-04-28T17:44:57.497730",
     "status": "completed"
    },
    "tags": []
   },
   "outputs": [],
   "source": [
    "cnn.add(tf.keras.layers.Dense(units=128))"
   ]
  },
  {
   "cell_type": "code",
   "execution_count": 10,
   "id": "39f459f0",
   "metadata": {
    "execution": {
     "iopub.execute_input": "2024-04-28T17:44:57.554571Z",
     "iopub.status.busy": "2024-04-28T17:44:57.553903Z",
     "iopub.status.idle": "2024-04-28T17:44:57.574481Z",
     "shell.execute_reply": "2024-04-28T17:44:57.573223Z"
    },
    "papermill": {
     "duration": 0.030067,
     "end_time": "2024-04-28T17:44:57.577009",
     "exception": false,
     "start_time": "2024-04-28T17:44:57.546942",
     "status": "completed"
    },
    "tags": []
   },
   "outputs": [],
   "source": [
    "cnn.add(tf.keras.layers.Dense(units=128,activation='relu'))"
   ]
  },
  {
   "cell_type": "markdown",
   "id": "d4c64aee",
   "metadata": {
    "papermill": {
     "duration": 0.007435,
     "end_time": "2024-04-28T17:44:57.590500",
     "exception": false,
     "start_time": "2024-04-28T17:44:57.583065",
     "status": "completed"
    },
    "tags": []
   },
   "source": [
    "# Output Layer"
   ]
  },
  {
   "cell_type": "code",
   "execution_count": 11,
   "id": "456c1781",
   "metadata": {
    "execution": {
     "iopub.execute_input": "2024-04-28T17:44:57.604547Z",
     "iopub.status.busy": "2024-04-28T17:44:57.603522Z",
     "iopub.status.idle": "2024-04-28T17:44:57.631804Z",
     "shell.execute_reply": "2024-04-28T17:44:57.630553Z"
    },
    "papermill": {
     "duration": 0.039138,
     "end_time": "2024-04-28T17:44:57.635278",
     "exception": false,
     "start_time": "2024-04-28T17:44:57.596140",
     "status": "completed"
    },
    "tags": []
   },
   "outputs": [],
   "source": [
    "cnn.add(tf.keras.layers.Dense(units=36,activation='softmax')) "
   ]
  },
  {
   "cell_type": "markdown",
   "id": "84e21dd7",
   "metadata": {
    "papermill": {
     "duration": 0.008427,
     "end_time": "2024-04-28T17:44:57.649325",
     "exception": false,
     "start_time": "2024-04-28T17:44:57.640898",
     "status": "completed"
    },
    "tags": []
   },
   "source": [
    "# Compiling and Training Phase "
   ]
  },
  {
   "cell_type": "code",
   "execution_count": 12,
   "id": "7f7d482f",
   "metadata": {
    "execution": {
     "iopub.execute_input": "2024-04-28T17:44:57.662374Z",
     "iopub.status.busy": "2024-04-28T17:44:57.662000Z",
     "iopub.status.idle": "2024-04-28T17:44:57.676537Z",
     "shell.execute_reply": "2024-04-28T17:44:57.675483Z"
    },
    "papermill": {
     "duration": 0.023862,
     "end_time": "2024-04-28T17:44:57.679041",
     "exception": false,
     "start_time": "2024-04-28T17:44:57.655179",
     "status": "completed"
    },
    "tags": []
   },
   "outputs": [],
   "source": [
    "cnn.compile(optimizer='rmsprop', loss='categorical_crossentropy', metrics=['accuracy'])"
   ]
  },
  {
   "cell_type": "code",
   "execution_count": 13,
   "id": "c2482323",
   "metadata": {
    "execution": {
     "iopub.execute_input": "2024-04-28T17:44:57.691984Z",
     "iopub.status.busy": "2024-04-28T17:44:57.691547Z",
     "iopub.status.idle": "2024-04-28T18:16:33.251494Z",
     "shell.execute_reply": "2024-04-28T18:16:33.250471Z"
    },
    "papermill": {
     "duration": 1895.569553,
     "end_time": "2024-04-28T18:16:33.254157",
     "exception": false,
     "start_time": "2024-04-28T17:44:57.684604",
     "status": "completed"
    },
    "tags": []
   },
   "outputs": [
    {
     "name": "stdout",
     "output_type": "stream",
     "text": [
      "Epoch 1/30\n",
      "\u001b[1m98/98\u001b[0m \u001b[32m━━━━━━━━━━━━━━━━━━━━\u001b[0m\u001b[37m\u001b[0m \u001b[1m76s\u001b[0m 702ms/step - accuracy: 0.0351 - loss: 43.4378 - val_accuracy: 0.0940 - val_loss: 3.5410\n",
      "Epoch 2/30\n",
      "\u001b[1m98/98\u001b[0m \u001b[32m━━━━━━━━━━━━━━━━━━━━\u001b[0m\u001b[37m\u001b[0m \u001b[1m59s\u001b[0m 562ms/step - accuracy: 0.0393 - loss: 3.8512 - val_accuracy: 0.0883 - val_loss: 3.4831\n",
      "Epoch 3/30\n",
      "\u001b[1m98/98\u001b[0m \u001b[32m━━━━━━━━━━━━━━━━━━━━\u001b[0m\u001b[37m\u001b[0m \u001b[1m59s\u001b[0m 563ms/step - accuracy: 0.0612 - loss: 4.4092 - val_accuracy: 0.1425 - val_loss: 3.3189\n",
      "Epoch 4/30\n",
      "\u001b[1m98/98\u001b[0m \u001b[32m━━━━━━━━━━━━━━━━━━━━\u001b[0m\u001b[37m\u001b[0m \u001b[1m59s\u001b[0m 559ms/step - accuracy: 0.0812 - loss: 5.3040 - val_accuracy: 0.1168 - val_loss: 3.3507\n",
      "Epoch 5/30\n",
      "\u001b[1m98/98\u001b[0m \u001b[32m━━━━━━━━━━━━━━━━━━━━\u001b[0m\u001b[37m\u001b[0m \u001b[1m59s\u001b[0m 566ms/step - accuracy: 0.1053 - loss: 4.2329 - val_accuracy: 0.2365 - val_loss: 3.1110\n",
      "Epoch 6/30\n",
      "\u001b[1m98/98\u001b[0m \u001b[32m━━━━━━━━━━━━━━━━━━━━\u001b[0m\u001b[37m\u001b[0m \u001b[1m81s\u001b[0m 559ms/step - accuracy: 0.1409 - loss: 3.7721 - val_accuracy: 0.2678 - val_loss: 3.0291\n",
      "Epoch 7/30\n",
      "\u001b[1m98/98\u001b[0m \u001b[32m━━━━━━━━━━━━━━━━━━━━\u001b[0m\u001b[37m\u001b[0m \u001b[1m59s\u001b[0m 561ms/step - accuracy: 0.1695 - loss: 3.6711 - val_accuracy: 0.2422 - val_loss: 2.8414\n",
      "Epoch 8/30\n",
      "\u001b[1m98/98\u001b[0m \u001b[32m━━━━━━━━━━━━━━━━━━━━\u001b[0m\u001b[37m\u001b[0m \u001b[1m82s\u001b[0m 561ms/step - accuracy: 0.2181 - loss: 3.8251 - val_accuracy: 0.3390 - val_loss: 2.6432\n",
      "Epoch 9/30\n",
      "\u001b[1m98/98\u001b[0m \u001b[32m━━━━━━━━━━━━━━━━━━━━\u001b[0m\u001b[37m\u001b[0m \u001b[1m58s\u001b[0m 558ms/step - accuracy: 0.2640 - loss: 3.2307 - val_accuracy: 0.4644 - val_loss: 2.2987\n",
      "Epoch 10/30\n",
      "\u001b[1m98/98\u001b[0m \u001b[32m━━━━━━━━━━━━━━━━━━━━\u001b[0m\u001b[37m\u001b[0m \u001b[1m83s\u001b[0m 563ms/step - accuracy: 0.3109 - loss: 2.9795 - val_accuracy: 0.3162 - val_loss: 2.9751\n",
      "Epoch 11/30\n",
      "\u001b[1m98/98\u001b[0m \u001b[32m━━━━━━━━━━━━━━━━━━━━\u001b[0m\u001b[37m\u001b[0m \u001b[1m59s\u001b[0m 559ms/step - accuracy: 0.3071 - loss: 3.1730 - val_accuracy: 0.5926 - val_loss: 1.8565\n",
      "Epoch 12/30\n",
      "\u001b[1m98/98\u001b[0m \u001b[32m━━━━━━━━━━━━━━━━━━━━\u001b[0m\u001b[37m\u001b[0m \u001b[1m59s\u001b[0m 560ms/step - accuracy: 0.3940 - loss: 2.3903 - val_accuracy: 0.5954 - val_loss: 1.8727\n",
      "Epoch 13/30\n",
      "\u001b[1m98/98\u001b[0m \u001b[32m━━━━━━━━━━━━━━━━━━━━\u001b[0m\u001b[37m\u001b[0m \u001b[1m59s\u001b[0m 561ms/step - accuracy: 0.4411 - loss: 2.2396 - val_accuracy: 0.5926 - val_loss: 1.8516\n",
      "Epoch 14/30\n",
      "\u001b[1m98/98\u001b[0m \u001b[32m━━━━━━━━━━━━━━━━━━━━\u001b[0m\u001b[37m\u001b[0m \u001b[1m58s\u001b[0m 557ms/step - accuracy: 0.4514 - loss: 2.1846 - val_accuracy: 0.5670 - val_loss: 1.9493\n",
      "Epoch 15/30\n",
      "\u001b[1m98/98\u001b[0m \u001b[32m━━━━━━━━━━━━━━━━━━━━\u001b[0m\u001b[37m\u001b[0m \u001b[1m58s\u001b[0m 558ms/step - accuracy: 0.5233 - loss: 1.9300 - val_accuracy: 0.6838 - val_loss: 1.6049\n",
      "Epoch 16/30\n",
      "\u001b[1m98/98\u001b[0m \u001b[32m━━━━━━━━━━━━━━━━━━━━\u001b[0m\u001b[37m\u001b[0m \u001b[1m59s\u001b[0m 559ms/step - accuracy: 0.5468 - loss: 1.7666 - val_accuracy: 0.5499 - val_loss: 3.1127\n",
      "Epoch 17/30\n",
      "\u001b[1m98/98\u001b[0m \u001b[32m━━━━━━━━━━━━━━━━━━━━\u001b[0m\u001b[37m\u001b[0m \u001b[1m59s\u001b[0m 564ms/step - accuracy: 0.5834 - loss: 1.7461 - val_accuracy: 0.6724 - val_loss: 1.6074\n",
      "Epoch 18/30\n",
      "\u001b[1m98/98\u001b[0m \u001b[32m━━━━━━━━━━━━━━━━━━━━\u001b[0m\u001b[37m\u001b[0m \u001b[1m59s\u001b[0m 561ms/step - accuracy: 0.6004 - loss: 1.5675 - val_accuracy: 0.5470 - val_loss: 2.4615\n",
      "Epoch 19/30\n",
      "\u001b[1m98/98\u001b[0m \u001b[32m━━━━━━━━━━━━━━━━━━━━\u001b[0m\u001b[37m\u001b[0m \u001b[1m82s\u001b[0m 558ms/step - accuracy: 0.6066 - loss: 1.5941 - val_accuracy: 0.4359 - val_loss: 3.8022\n",
      "Epoch 20/30\n",
      "\u001b[1m98/98\u001b[0m \u001b[32m━━━━━━━━━━━━━━━━━━━━\u001b[0m\u001b[37m\u001b[0m \u001b[1m82s\u001b[0m 558ms/step - accuracy: 0.6191 - loss: 1.7888 - val_accuracy: 0.7835 - val_loss: 1.2575\n",
      "Epoch 21/30\n",
      "\u001b[1m98/98\u001b[0m \u001b[32m━━━━━━━━━━━━━━━━━━━━\u001b[0m\u001b[37m\u001b[0m \u001b[1m59s\u001b[0m 560ms/step - accuracy: 0.6371 - loss: 1.4967 - val_accuracy: 0.7350 - val_loss: 1.5303\n",
      "Epoch 22/30\n",
      "\u001b[1m98/98\u001b[0m \u001b[32m━━━━━━━━━━━━━━━━━━━━\u001b[0m\u001b[37m\u001b[0m \u001b[1m59s\u001b[0m 559ms/step - accuracy: 0.6665 - loss: 1.5301 - val_accuracy: 0.5897 - val_loss: 2.1173\n",
      "Epoch 23/30\n",
      "\u001b[1m98/98\u001b[0m \u001b[32m━━━━━━━━━━━━━━━━━━━━\u001b[0m\u001b[37m\u001b[0m \u001b[1m59s\u001b[0m 560ms/step - accuracy: 0.6603 - loss: 1.4693 - val_accuracy: 0.8376 - val_loss: 1.3655\n",
      "Epoch 24/30\n",
      "\u001b[1m98/98\u001b[0m \u001b[32m━━━━━━━━━━━━━━━━━━━━\u001b[0m\u001b[37m\u001b[0m \u001b[1m59s\u001b[0m 560ms/step - accuracy: 0.6951 - loss: 1.3112 - val_accuracy: 0.8205 - val_loss: 1.4118\n",
      "Epoch 25/30\n",
      "\u001b[1m98/98\u001b[0m \u001b[32m━━━━━━━━━━━━━━━━━━━━\u001b[0m\u001b[37m\u001b[0m \u001b[1m58s\u001b[0m 556ms/step - accuracy: 0.7102 - loss: 1.2038 - val_accuracy: 0.7436 - val_loss: 1.2250\n",
      "Epoch 26/30\n",
      "\u001b[1m98/98\u001b[0m \u001b[32m━━━━━━━━━━━━━━━━━━━━\u001b[0m\u001b[37m\u001b[0m \u001b[1m59s\u001b[0m 556ms/step - accuracy: 0.6748 - loss: 1.4313 - val_accuracy: 0.8120 - val_loss: 1.2116\n",
      "Epoch 27/30\n",
      "\u001b[1m98/98\u001b[0m \u001b[32m━━━━━━━━━━━━━━━━━━━━\u001b[0m\u001b[37m\u001b[0m \u001b[1m59s\u001b[0m 559ms/step - accuracy: 0.7375 - loss: 1.2043 - val_accuracy: 0.8433 - val_loss: 0.9994\n",
      "Epoch 28/30\n",
      "\u001b[1m98/98\u001b[0m \u001b[32m━━━━━━━━━━━━━━━━━━━━\u001b[0m\u001b[37m\u001b[0m \u001b[1m59s\u001b[0m 563ms/step - accuracy: 0.7635 - loss: 1.0027 - val_accuracy: 0.8291 - val_loss: 1.5015\n",
      "Epoch 29/30\n",
      "\u001b[1m98/98\u001b[0m \u001b[32m━━━━━━━━━━━━━━━━━━━━\u001b[0m\u001b[37m\u001b[0m \u001b[1m59s\u001b[0m 562ms/step - accuracy: 0.7192 - loss: 1.3715 - val_accuracy: 0.8348 - val_loss: 1.1202\n",
      "Epoch 30/30\n",
      "\u001b[1m98/98\u001b[0m \u001b[32m━━━━━━━━━━━━━━━━━━━━\u001b[0m\u001b[37m\u001b[0m \u001b[1m59s\u001b[0m 564ms/step - accuracy: 0.7595 - loss: 1.1172 - val_accuracy: 0.8519 - val_loss: 1.1249\n"
     ]
    }
   ],
   "source": [
    "training_history = cnn.fit(x=training_set, validation_data=validation_set, epochs=30)\n"
   ]
  },
  {
   "cell_type": "code",
   "execution_count": 14,
   "id": "4efa96cf",
   "metadata": {
    "execution": {
     "iopub.execute_input": "2024-04-28T18:16:33.651571Z",
     "iopub.status.busy": "2024-04-28T18:16:33.651208Z",
     "iopub.status.idle": "2024-04-28T18:16:33.703438Z",
     "shell.execute_reply": "2024-04-28T18:16:33.702419Z"
    },
    "papermill": {
     "duration": 0.253462,
     "end_time": "2024-04-28T18:16:33.705831",
     "exception": false,
     "start_time": "2024-04-28T18:16:33.452369",
     "status": "completed"
    },
    "tags": []
   },
   "outputs": [],
   "source": [
    "cnn.save('trained_model.h5')"
   ]
  },
  {
   "cell_type": "code",
   "execution_count": null,
   "id": "5384b5ad",
   "metadata": {
    "papermill": {
     "duration": 0.199199,
     "end_time": "2024-04-28T18:16:34.102689",
     "exception": false,
     "start_time": "2024-04-28T18:16:33.903490",
     "status": "completed"
    },
    "tags": []
   },
   "outputs": [],
   "source": []
  }
 ],
 "metadata": {
  "kaggle": {
   "accelerator": "none",
   "dataSources": [
    {
     "datasetId": 952827,
     "sourceId": 3173719,
     "sourceType": "datasetVersion"
    }
   ],
   "dockerImageVersionId": 30664,
   "isGpuEnabled": false,
   "isInternetEnabled": true,
   "language": "python",
   "sourceType": "notebook"
  },
  "kernelspec": {
   "display_name": "Python 3",
   "language": "python",
   "name": "python3"
  },
  "language_info": {
   "codemirror_mode": {
    "name": "ipython",
    "version": 3
   },
   "file_extension": ".py",
   "mimetype": "text/x-python",
   "name": "python",
   "nbconvert_exporter": "python",
   "pygments_lexer": "ipython3",
   "version": "3.10.13"
  },
  "papermill": {
   "default_parameters": {},
   "duration": 1916.568776,
   "end_time": "2024-04-28T18:16:35.929671",
   "environment_variables": {},
   "exception": null,
   "input_path": "__notebook__.ipynb",
   "output_path": "__notebook__.ipynb",
   "parameters": {},
   "start_time": "2024-04-28T17:44:39.360895",
   "version": "2.5.0"
  }
 },
 "nbformat": 4,
 "nbformat_minor": 5
}
