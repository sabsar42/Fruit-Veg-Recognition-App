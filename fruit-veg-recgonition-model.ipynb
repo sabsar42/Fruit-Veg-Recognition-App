{
 "cells": [
  {
   "cell_type": "markdown",
   "id": "9b180fc1",
   "metadata": {
    "papermill": {
     "duration": 0.008682,
     "end_time": "2024-04-24T06:12:22.072078",
     "exception": false,
     "start_time": "2024-04-24T06:12:22.063396",
     "status": "completed"
    },
    "tags": []
   },
   "source": [
    "# Importing Dataset"
   ]
  },
  {
   "cell_type": "code",
   "execution_count": 1,
   "id": "a00f4318",
   "metadata": {
    "execution": {
     "iopub.execute_input": "2024-04-24T06:12:22.088968Z",
     "iopub.status.busy": "2024-04-24T06:12:22.088378Z",
     "iopub.status.idle": "2024-04-24T06:12:39.549479Z",
     "shell.execute_reply": "2024-04-24T06:12:39.548037Z"
    },
    "papermill": {
     "duration": 17.473779,
     "end_time": "2024-04-24T06:12:39.553284",
     "exception": false,
     "start_time": "2024-04-24T06:12:22.079505",
     "status": "completed"
    },
    "tags": []
   },
   "outputs": [
    {
     "name": "stderr",
     "output_type": "stream",
     "text": [
      "2024-04-24 06:12:24.648507: E external/local_xla/xla/stream_executor/cuda/cuda_dnn.cc:9261] Unable to register cuDNN factory: Attempting to register factory for plugin cuDNN when one has already been registered\n",
      "2024-04-24 06:12:24.648666: E external/local_xla/xla/stream_executor/cuda/cuda_fft.cc:607] Unable to register cuFFT factory: Attempting to register factory for plugin cuFFT when one has already been registered\n",
      "2024-04-24 06:12:24.824641: E external/local_xla/xla/stream_executor/cuda/cuda_blas.cc:1515] Unable to register cuBLAS factory: Attempting to register factory for plugin cuBLAS when one has already been registered\n"
     ]
    }
   ],
   "source": [
    "import numpy as np\n",
    "import matplotlib.pyplot as plt\n",
    "import tensorflow as tf\n",
    "from tensorflow import keras"
   ]
  },
  {
   "cell_type": "markdown",
   "id": "9901b4fd",
   "metadata": {
    "papermill": {
     "duration": 0.007305,
     "end_time": "2024-04-24T06:12:39.569977",
     "exception": false,
     "start_time": "2024-04-24T06:12:39.562672",
     "status": "completed"
    },
    "tags": []
   },
   "source": [
    "# Data Pre-Processing"
   ]
  },
  {
   "cell_type": "markdown",
   "id": "b8e4676f",
   "metadata": {
    "papermill": {
     "duration": 0.007311,
     "end_time": "2024-04-24T06:12:39.585491",
     "exception": false,
     "start_time": "2024-04-24T06:12:39.578180",
     "status": "completed"
    },
    "tags": []
   },
   "source": [
    "## Training Image Pre-Processing\n"
   ]
  },
  {
   "cell_type": "code",
   "execution_count": 2,
   "id": "c92192eb",
   "metadata": {
    "execution": {
     "iopub.execute_input": "2024-04-24T06:12:39.603515Z",
     "iopub.status.busy": "2024-04-24T06:12:39.602608Z",
     "iopub.status.idle": "2024-04-24T06:12:40.097835Z",
     "shell.execute_reply": "2024-04-24T06:12:40.096655Z"
    },
    "papermill": {
     "duration": 0.507989,
     "end_time": "2024-04-24T06:12:40.101213",
     "exception": false,
     "start_time": "2024-04-24T06:12:39.593224",
     "status": "completed"
    },
    "tags": []
   },
   "outputs": [
    {
     "name": "stdout",
     "output_type": "stream",
     "text": [
      "Found 3115 files belonging to 36 classes.\n"
     ]
    }
   ],
   "source": [
    "training_set = keras.utils.image_dataset_from_directory(\n",
    "    '/kaggle/input/fruit-and-vegetable-image-recognition/train',\n",
    "    labels=\"inferred\",\n",
    "    label_mode=\"categorical\",\n",
    "    class_names=None,\n",
    "    color_mode=\"rgb\",\n",
    "    batch_size=32,\n",
    "    image_size=(64, 64),\n",
    "    shuffle=True,\n",
    "    seed=None,\n",
    "    validation_split=None,\n",
    "    subset=None,\n",
    "    interpolation=\"bilinear\",\n",
    "    follow_links=False,\n",
    "    crop_to_aspect_ratio=False,\n",
    "    data_format=None,\n",
    ")"
   ]
  },
  {
   "cell_type": "markdown",
   "id": "d5d3e255",
   "metadata": {
    "papermill": {
     "duration": 0.007378,
     "end_time": "2024-04-24T06:12:40.116553",
     "exception": false,
     "start_time": "2024-04-24T06:12:40.109175",
     "status": "completed"
    },
    "tags": []
   },
   "source": [
    "## Validtion Image Pre-Processing"
   ]
  },
  {
   "cell_type": "code",
   "execution_count": 3,
   "id": "03cbad32",
   "metadata": {
    "execution": {
     "iopub.execute_input": "2024-04-24T06:12:40.135270Z",
     "iopub.status.busy": "2024-04-24T06:12:40.134710Z",
     "iopub.status.idle": "2024-04-24T06:12:40.265806Z",
     "shell.execute_reply": "2024-04-24T06:12:40.264340Z"
    },
    "papermill": {
     "duration": 0.143892,
     "end_time": "2024-04-24T06:12:40.268872",
     "exception": false,
     "start_time": "2024-04-24T06:12:40.124980",
     "status": "completed"
    },
    "tags": []
   },
   "outputs": [
    {
     "name": "stdout",
     "output_type": "stream",
     "text": [
      "Found 351 files belonging to 36 classes.\n"
     ]
    }
   ],
   "source": [
    "validation_set = keras.utils.image_dataset_from_directory(\n",
    "    '/kaggle/input/fruit-and-vegetable-image-recognition/validation',\n",
    "    labels=\"inferred\",\n",
    "    label_mode=\"categorical\",\n",
    "    class_names=None,\n",
    "    color_mode=\"rgb\",\n",
    "    batch_size=32,\n",
    "    image_size=(64, 64),\n",
    "    shuffle=True,\n",
    "    seed=None,\n",
    "    validation_split=None,\n",
    "    subset=None,\n",
    "    interpolation=\"bilinear\",\n",
    "    follow_links=False,\n",
    "    crop_to_aspect_ratio=False,\n",
    "    data_format=None,\n",
    ")"
   ]
  },
  {
   "cell_type": "markdown",
   "id": "712a2cb8",
   "metadata": {
    "papermill": {
     "duration": 0.007334,
     "end_time": "2024-04-24T06:12:40.283933",
     "exception": false,
     "start_time": "2024-04-24T06:12:40.276599",
     "status": "completed"
    },
    "tags": []
   },
   "source": [
    "# Building Model"
   ]
  },
  {
   "cell_type": "code",
   "execution_count": 4,
   "id": "a700c1d6",
   "metadata": {
    "execution": {
     "iopub.execute_input": "2024-04-24T06:12:40.301191Z",
     "iopub.status.busy": "2024-04-24T06:12:40.300714Z",
     "iopub.status.idle": "2024-04-24T06:12:40.308377Z",
     "shell.execute_reply": "2024-04-24T06:12:40.307065Z"
    },
    "papermill": {
     "duration": 0.019319,
     "end_time": "2024-04-24T06:12:40.310895",
     "exception": false,
     "start_time": "2024-04-24T06:12:40.291576",
     "status": "completed"
    },
    "tags": []
   },
   "outputs": [],
   "source": [
    "cnn = tf.keras.models.Sequential()"
   ]
  },
  {
   "cell_type": "markdown",
   "id": "21913992",
   "metadata": {
    "papermill": {
     "duration": 0.007149,
     "end_time": "2024-04-24T06:12:40.325827",
     "exception": false,
     "start_time": "2024-04-24T06:12:40.318678",
     "status": "completed"
    },
    "tags": []
   },
   "source": [
    "# Building Convulation layer"
   ]
  },
  {
   "cell_type": "code",
   "execution_count": 5,
   "id": "7cdbb8a8",
   "metadata": {
    "execution": {
     "iopub.execute_input": "2024-04-24T06:12:40.343773Z",
     "iopub.status.busy": "2024-04-24T06:12:40.343328Z",
     "iopub.status.idle": "2024-04-24T06:12:40.391111Z",
     "shell.execute_reply": "2024-04-24T06:12:40.389920Z"
    },
    "papermill": {
     "duration": 0.060292,
     "end_time": "2024-04-24T06:12:40.393840",
     "exception": false,
     "start_time": "2024-04-24T06:12:40.333548",
     "status": "completed"
    },
    "tags": []
   },
   "outputs": [
    {
     "name": "stderr",
     "output_type": "stream",
     "text": [
      "/opt/conda/lib/python3.10/site-packages/keras/src/layers/convolutional/base_conv.py:99: UserWarning: Do not pass an `input_shape`/`input_dim` argument to a layer. When using Sequential models, prefer using an `Input(shape)` object as the first layer in the model instead.\n",
      "  super().__init__(\n"
     ]
    }
   ],
   "source": [
    "cnn.add(tf.keras.layers.Conv2D(filters=64, kernel_size=3, activation='relu', input_shape=[64,64,3]))\n",
    "cnn.add(tf.keras.layers.MaxPool2D(pool_size=2, strides=2))\n"
   ]
  },
  {
   "cell_type": "code",
   "execution_count": 6,
   "id": "b27c22bd",
   "metadata": {
    "execution": {
     "iopub.execute_input": "2024-04-24T06:12:40.410952Z",
     "iopub.status.busy": "2024-04-24T06:12:40.410528Z",
     "iopub.status.idle": "2024-04-24T06:12:40.439733Z",
     "shell.execute_reply": "2024-04-24T06:12:40.438462Z"
    },
    "papermill": {
     "duration": 0.041086,
     "end_time": "2024-04-24T06:12:40.442603",
     "exception": false,
     "start_time": "2024-04-24T06:12:40.401517",
     "status": "completed"
    },
    "tags": []
   },
   "outputs": [],
   "source": [
    "cnn.add(tf.keras.layers.Conv2D(filters=64, kernel_size=3, activation='relu', ))\n",
    "cnn.add(tf.keras.layers.MaxPool2D(pool_size=2, strides=2))"
   ]
  },
  {
   "cell_type": "code",
   "execution_count": 7,
   "id": "5a44e3e8",
   "metadata": {
    "execution": {
     "iopub.execute_input": "2024-04-24T06:12:40.459707Z",
     "iopub.status.busy": "2024-04-24T06:12:40.459303Z",
     "iopub.status.idle": "2024-04-24T06:12:40.475575Z",
     "shell.execute_reply": "2024-04-24T06:12:40.474469Z"
    },
    "papermill": {
     "duration": 0.028104,
     "end_time": "2024-04-24T06:12:40.478406",
     "exception": false,
     "start_time": "2024-04-24T06:12:40.450302",
     "status": "completed"
    },
    "tags": []
   },
   "outputs": [],
   "source": [
    "cnn.add(tf.keras.layers.Dropout(0.5)) #to avoid overfitting"
   ]
  },
  {
   "cell_type": "code",
   "execution_count": 8,
   "id": "524e75ad",
   "metadata": {
    "execution": {
     "iopub.execute_input": "2024-04-24T06:12:40.496388Z",
     "iopub.status.busy": "2024-04-24T06:12:40.495238Z",
     "iopub.status.idle": "2024-04-24T06:12:40.509504Z",
     "shell.execute_reply": "2024-04-24T06:12:40.508153Z"
    },
    "papermill": {
     "duration": 0.025986,
     "end_time": "2024-04-24T06:12:40.512097",
     "exception": false,
     "start_time": "2024-04-24T06:12:40.486111",
     "status": "completed"
    },
    "tags": []
   },
   "outputs": [],
   "source": [
    "cnn.add(tf.keras.layers.Flatten())"
   ]
  },
  {
   "cell_type": "code",
   "execution_count": 9,
   "id": "a0cddda3",
   "metadata": {
    "execution": {
     "iopub.execute_input": "2024-04-24T06:12:40.530021Z",
     "iopub.status.busy": "2024-04-24T06:12:40.529590Z",
     "iopub.status.idle": "2024-04-24T06:12:40.568887Z",
     "shell.execute_reply": "2024-04-24T06:12:40.567584Z"
    },
    "papermill": {
     "duration": 0.051364,
     "end_time": "2024-04-24T06:12:40.571822",
     "exception": false,
     "start_time": "2024-04-24T06:12:40.520458",
     "status": "completed"
    },
    "tags": []
   },
   "outputs": [],
   "source": [
    "cnn.add(tf.keras.layers.Dense(units=128))"
   ]
  },
  {
   "cell_type": "code",
   "execution_count": 10,
   "id": "453aab51",
   "metadata": {
    "execution": {
     "iopub.execute_input": "2024-04-24T06:12:40.589147Z",
     "iopub.status.busy": "2024-04-24T06:12:40.588705Z",
     "iopub.status.idle": "2024-04-24T06:12:40.612869Z",
     "shell.execute_reply": "2024-04-24T06:12:40.611602Z"
    },
    "papermill": {
     "duration": 0.036491,
     "end_time": "2024-04-24T06:12:40.616061",
     "exception": false,
     "start_time": "2024-04-24T06:12:40.579570",
     "status": "completed"
    },
    "tags": []
   },
   "outputs": [],
   "source": [
    "cnn.add(tf.keras.layers.Dense(units=128,activation='relu'))"
   ]
  },
  {
   "cell_type": "markdown",
   "id": "d0f47fd5",
   "metadata": {
    "papermill": {
     "duration": 0.008464,
     "end_time": "2024-04-24T06:12:40.640382",
     "exception": false,
     "start_time": "2024-04-24T06:12:40.631918",
     "status": "completed"
    },
    "tags": []
   },
   "source": [
    "# Output Layer"
   ]
  },
  {
   "cell_type": "code",
   "execution_count": 11,
   "id": "caa1f5b6",
   "metadata": {
    "execution": {
     "iopub.execute_input": "2024-04-24T06:12:40.658931Z",
     "iopub.status.busy": "2024-04-24T06:12:40.658466Z",
     "iopub.status.idle": "2024-04-24T06:12:40.683324Z",
     "shell.execute_reply": "2024-04-24T06:12:40.682012Z"
    },
    "papermill": {
     "duration": 0.036891,
     "end_time": "2024-04-24T06:12:40.686312",
     "exception": false,
     "start_time": "2024-04-24T06:12:40.649421",
     "status": "completed"
    },
    "tags": []
   },
   "outputs": [],
   "source": [
    "cnn.add(tf.keras.layers.Dense(units=36,activation='softmax')) "
   ]
  },
  {
   "cell_type": "markdown",
   "id": "a0e2d45d",
   "metadata": {
    "papermill": {
     "duration": 0.007396,
     "end_time": "2024-04-24T06:12:40.701465",
     "exception": false,
     "start_time": "2024-04-24T06:12:40.694069",
     "status": "completed"
    },
    "tags": []
   },
   "source": [
    "# Compiling and Training Phase "
   ]
  },
  {
   "cell_type": "code",
   "execution_count": 12,
   "id": "bf525d2a",
   "metadata": {
    "execution": {
     "iopub.execute_input": "2024-04-24T06:12:40.718946Z",
     "iopub.status.busy": "2024-04-24T06:12:40.718080Z",
     "iopub.status.idle": "2024-04-24T06:12:40.734493Z",
     "shell.execute_reply": "2024-04-24T06:12:40.733400Z"
    },
    "papermill": {
     "duration": 0.028205,
     "end_time": "2024-04-24T06:12:40.737253",
     "exception": false,
     "start_time": "2024-04-24T06:12:40.709048",
     "status": "completed"
    },
    "tags": []
   },
   "outputs": [],
   "source": [
    "cnn.compile(optimizer='rmsprop', loss='categorical_crossentropy', metrics=['accuracy'])"
   ]
  },
  {
   "cell_type": "code",
   "execution_count": 13,
   "id": "ab309f81",
   "metadata": {
    "execution": {
     "iopub.execute_input": "2024-04-24T06:12:40.754712Z",
     "iopub.status.busy": "2024-04-24T06:12:40.754305Z",
     "iopub.status.idle": "2024-04-24T06:45:46.948066Z",
     "shell.execute_reply": "2024-04-24T06:45:46.946520Z"
    },
    "papermill": {
     "duration": 1986.206233,
     "end_time": "2024-04-24T06:45:46.951386",
     "exception": false,
     "start_time": "2024-04-24T06:12:40.745153",
     "status": "completed"
    },
    "tags": []
   },
   "outputs": [
    {
     "name": "stdout",
     "output_type": "stream",
     "text": [
      "Epoch 1/30\n",
      "\u001b[1m98/98\u001b[0m \u001b[32m━━━━━━━━━━━━━━━━━━━━\u001b[0m\u001b[37m\u001b[0m \u001b[1m77s\u001b[0m 725ms/step - accuracy: 0.0279 - loss: 42.2813 - val_accuracy: 0.0712 - val_loss: 3.5151\n",
      "Epoch 2/30\n",
      "\u001b[1m98/98\u001b[0m \u001b[32m━━━━━━━━━━━━━━━━━━━━\u001b[0m\u001b[37m\u001b[0m \u001b[1m63s\u001b[0m 612ms/step - accuracy: 0.0381 - loss: 5.5603 - val_accuracy: 0.0541 - val_loss: 4.2713\n",
      "Epoch 3/30\n",
      "\u001b[1m98/98\u001b[0m \u001b[32m━━━━━━━━━━━━━━━━━━━━\u001b[0m\u001b[37m\u001b[0m \u001b[1m62s\u001b[0m 605ms/step - accuracy: 0.0694 - loss: 4.6698 - val_accuracy: 0.0826 - val_loss: 4.5953\n",
      "Epoch 4/30\n",
      "\u001b[1m98/98\u001b[0m \u001b[32m━━━━━━━━━━━━━━━━━━━━\u001b[0m\u001b[37m\u001b[0m \u001b[1m63s\u001b[0m 609ms/step - accuracy: 0.0913 - loss: 3.6564 - val_accuracy: 0.1880 - val_loss: 3.3255\n",
      "Epoch 5/30\n",
      "\u001b[1m98/98\u001b[0m \u001b[32m━━━━━━━━━━━━━━━━━━━━\u001b[0m\u001b[37m\u001b[0m \u001b[1m63s\u001b[0m 612ms/step - accuracy: 0.0945 - loss: 4.7480 - val_accuracy: 0.0427 - val_loss: 9.9239\n",
      "Epoch 6/30\n",
      "\u001b[1m98/98\u001b[0m \u001b[32m━━━━━━━━━━━━━━━━━━━━\u001b[0m\u001b[37m\u001b[0m \u001b[1m81s\u001b[0m 603ms/step - accuracy: 0.1325 - loss: 4.1368 - val_accuracy: 0.0342 - val_loss: 21.8311\n",
      "Epoch 7/30\n",
      "\u001b[1m98/98\u001b[0m \u001b[32m━━━━━━━━━━━━━━━━━━━━\u001b[0m\u001b[37m\u001b[0m \u001b[1m64s\u001b[0m 618ms/step - accuracy: 0.1432 - loss: 4.8949 - val_accuracy: 0.3732 - val_loss: 2.6297\n",
      "Epoch 8/30\n",
      "\u001b[1m98/98\u001b[0m \u001b[32m━━━━━━━━━━━━━━━━━━━━\u001b[0m\u001b[37m\u001b[0m \u001b[1m63s\u001b[0m 612ms/step - accuracy: 0.1656 - loss: 4.2624 - val_accuracy: 0.4274 - val_loss: 2.5445\n",
      "Epoch 9/30\n",
      "\u001b[1m98/98\u001b[0m \u001b[32m━━━━━━━━━━━━━━━━━━━━\u001b[0m\u001b[37m\u001b[0m \u001b[1m62s\u001b[0m 604ms/step - accuracy: 0.1685 - loss: 3.8103 - val_accuracy: 0.0285 - val_loss: 3.5865\n",
      "Epoch 10/30\n",
      "\u001b[1m98/98\u001b[0m \u001b[32m━━━━━━━━━━━━━━━━━━━━\u001b[0m\u001b[37m\u001b[0m \u001b[1m62s\u001b[0m 607ms/step - accuracy: 0.0295 - loss: 3.8316 - val_accuracy: 0.0285 - val_loss: 3.5864\n",
      "Epoch 11/30\n",
      "\u001b[1m98/98\u001b[0m \u001b[32m━━━━━━━━━━━━━━━━━━━━\u001b[0m\u001b[37m\u001b[0m \u001b[1m82s\u001b[0m 602ms/step - accuracy: 0.0317 - loss: 3.7998 - val_accuracy: 0.0285 - val_loss: 3.5864\n",
      "Epoch 12/30\n",
      "\u001b[1m98/98\u001b[0m \u001b[32m━━━━━━━━━━━━━━━━━━━━\u001b[0m\u001b[37m\u001b[0m \u001b[1m62s\u001b[0m 604ms/step - accuracy: 0.0339 - loss: 3.5889 - val_accuracy: 0.0285 - val_loss: 3.5931\n",
      "Epoch 13/30\n",
      "\u001b[1m98/98\u001b[0m \u001b[32m━━━━━━━━━━━━━━━━━━━━\u001b[0m\u001b[37m\u001b[0m \u001b[1m62s\u001b[0m 607ms/step - accuracy: 0.0311 - loss: 3.6013 - val_accuracy: 0.0285 - val_loss: 3.5863\n",
      "Epoch 14/30\n",
      "\u001b[1m98/98\u001b[0m \u001b[32m━━━━━━━━━━━━━━━━━━━━\u001b[0m\u001b[37m\u001b[0m \u001b[1m62s\u001b[0m 607ms/step - accuracy: 0.0330 - loss: 3.8797 - val_accuracy: 0.0285 - val_loss: 3.5864\n",
      "Epoch 15/30\n",
      "\u001b[1m98/98\u001b[0m \u001b[32m━━━━━━━━━━━━━━━━━━━━\u001b[0m\u001b[37m\u001b[0m \u001b[1m62s\u001b[0m 604ms/step - accuracy: 0.0328 - loss: 3.5870 - val_accuracy: 0.0285 - val_loss: 6.8435\n",
      "Epoch 16/30\n",
      "\u001b[1m98/98\u001b[0m \u001b[32m━━━━━━━━━━━━━━━━━━━━\u001b[0m\u001b[37m\u001b[0m \u001b[1m63s\u001b[0m 615ms/step - accuracy: 0.0314 - loss: 3.7548 - val_accuracy: 0.0285 - val_loss: 3.5867\n",
      "Epoch 17/30\n",
      "\u001b[1m98/98\u001b[0m \u001b[32m━━━━━━━━━━━━━━━━━━━━\u001b[0m\u001b[37m\u001b[0m \u001b[1m63s\u001b[0m 609ms/step - accuracy: 0.0361 - loss: 4.2031 - val_accuracy: 0.0285 - val_loss: 3.5868\n",
      "Epoch 18/30\n",
      "\u001b[1m98/98\u001b[0m \u001b[32m━━━━━━━━━━━━━━━━━━━━\u001b[0m\u001b[37m\u001b[0m \u001b[1m63s\u001b[0m 610ms/step - accuracy: 0.0318 - loss: 3.5792 - val_accuracy: 0.0285 - val_loss: 3.5869\n",
      "Epoch 19/30\n",
      "\u001b[1m98/98\u001b[0m \u001b[32m━━━━━━━━━━━━━━━━━━━━\u001b[0m\u001b[37m\u001b[0m \u001b[1m62s\u001b[0m 605ms/step - accuracy: 0.0309 - loss: 3.6875 - val_accuracy: 0.0285 - val_loss: 3.5871\n",
      "Epoch 20/30\n",
      "\u001b[1m98/98\u001b[0m \u001b[32m━━━━━━━━━━━━━━━━━━━━\u001b[0m\u001b[37m\u001b[0m \u001b[1m82s\u001b[0m 602ms/step - accuracy: 0.0300 - loss: 3.5789 - val_accuracy: 0.0285 - val_loss: 3.5871\n",
      "Epoch 21/30\n",
      "\u001b[1m98/98\u001b[0m \u001b[32m━━━━━━━━━━━━━━━━━━━━\u001b[0m\u001b[37m\u001b[0m \u001b[1m62s\u001b[0m 603ms/step - accuracy: 0.0280 - loss: 5.0217 - val_accuracy: 0.0285 - val_loss: 3.5873\n",
      "Epoch 22/30\n",
      "\u001b[1m98/98\u001b[0m \u001b[32m━━━━━━━━━━━━━━━━━━━━\u001b[0m\u001b[37m\u001b[0m \u001b[1m82s\u001b[0m 606ms/step - accuracy: 0.0334 - loss: 3.5724 - val_accuracy: 0.0285 - val_loss: 3.5875\n",
      "Epoch 23/30\n",
      "\u001b[1m98/98\u001b[0m \u001b[32m━━━━━━━━━━━━━━━━━━━━\u001b[0m\u001b[37m\u001b[0m \u001b[1m62s\u001b[0m 601ms/step - accuracy: 0.0326 - loss: 3.6049 - val_accuracy: 0.0285 - val_loss: 3.5876\n",
      "Epoch 24/30\n",
      "\u001b[1m98/98\u001b[0m \u001b[32m━━━━━━━━━━━━━━━━━━━━\u001b[0m\u001b[37m\u001b[0m \u001b[1m62s\u001b[0m 604ms/step - accuracy: 0.0331 - loss: 3.5764 - val_accuracy: 0.0285 - val_loss: 3.5877\n",
      "Epoch 25/30\n",
      "\u001b[1m98/98\u001b[0m \u001b[32m━━━━━━━━━━━━━━━━━━━━\u001b[0m\u001b[37m\u001b[0m \u001b[1m62s\u001b[0m 607ms/step - accuracy: 0.0350 - loss: 3.5668 - val_accuracy: 0.0285 - val_loss: 3.6070\n",
      "Epoch 26/30\n",
      "\u001b[1m98/98\u001b[0m \u001b[32m━━━━━━━━━━━━━━━━━━━━\u001b[0m\u001b[37m\u001b[0m \u001b[1m62s\u001b[0m 605ms/step - accuracy: 0.0324 - loss: 3.6101 - val_accuracy: 0.0285 - val_loss: 3.5879\n",
      "Epoch 27/30\n",
      "\u001b[1m98/98\u001b[0m \u001b[32m━━━━━━━━━━━━━━━━━━━━\u001b[0m\u001b[37m\u001b[0m \u001b[1m62s\u001b[0m 606ms/step - accuracy: 0.0291 - loss: 3.5874 - val_accuracy: 0.0256 - val_loss: 3.5880\n",
      "Epoch 28/30\n",
      "\u001b[1m98/98\u001b[0m \u001b[32m━━━━━━━━━━━━━━━━━━━━\u001b[0m\u001b[37m\u001b[0m \u001b[1m82s\u001b[0m 605ms/step - accuracy: 0.0320 - loss: 3.5711 - val_accuracy: 0.0256 - val_loss: 3.5882\n",
      "Epoch 29/30\n",
      "\u001b[1m98/98\u001b[0m \u001b[32m━━━━━━━━━━━━━━━━━━━━\u001b[0m\u001b[37m\u001b[0m \u001b[1m62s\u001b[0m 600ms/step - accuracy: 0.0299 - loss: 5.9358 - val_accuracy: 0.0256 - val_loss: 3.5884\n",
      "Epoch 30/30\n",
      "\u001b[1m98/98\u001b[0m \u001b[32m━━━━━━━━━━━━━━━━━━━━\u001b[0m\u001b[37m\u001b[0m \u001b[1m62s\u001b[0m 601ms/step - accuracy: 0.0365 - loss: 3.6425 - val_accuracy: 0.0256 - val_loss: 3.5884\n"
     ]
    }
   ],
   "source": [
    "training_history = cnn.fit(x=training_set, validation_data=validation_set, epochs=30)\n"
   ]
  },
  {
   "cell_type": "code",
   "execution_count": 14,
   "id": "aaa64439",
   "metadata": {
    "execution": {
     "iopub.execute_input": "2024-04-24T06:45:47.563142Z",
     "iopub.status.busy": "2024-04-24T06:45:47.562693Z",
     "iopub.status.idle": "2024-04-24T06:45:47.628167Z",
     "shell.execute_reply": "2024-04-24T06:45:47.627123Z"
    },
    "papermill": {
     "duration": 0.373237,
     "end_time": "2024-04-24T06:45:47.630956",
     "exception": false,
     "start_time": "2024-04-24T06:45:47.257719",
     "status": "completed"
    },
    "tags": []
   },
   "outputs": [],
   "source": [
    "cnn.save('trained_model.h5')"
   ]
  },
  {
   "cell_type": "code",
   "execution_count": null,
   "id": "900be527",
   "metadata": {
    "papermill": {
     "duration": 0.294943,
     "end_time": "2024-04-24T06:45:48.229413",
     "exception": false,
     "start_time": "2024-04-24T06:45:47.934470",
     "status": "completed"
    },
    "tags": []
   },
   "outputs": [],
   "source": []
  }
 ],
 "metadata": {
  "kaggle": {
   "accelerator": "none",
   "dataSources": [
    {
     "datasetId": 952827,
     "sourceId": 3173719,
     "sourceType": "datasetVersion"
    }
   ],
   "dockerImageVersionId": 30664,
   "isGpuEnabled": false,
   "isInternetEnabled": true,
   "language": "python",
   "sourceType": "notebook"
  },
  "kernelspec": {
   "display_name": "Python 3",
   "language": "python",
   "name": "python3"
  },
  "language_info": {
   "codemirror_mode": {
    "name": "ipython",
    "version": 3
   },
   "file_extension": ".py",
   "mimetype": "text/x-python",
   "name": "python",
   "nbconvert_exporter": "python",
   "pygments_lexer": "ipython3",
   "version": "3.10.13"
  },
  "papermill": {
   "default_parameters": {},
   "duration": 2011.980621,
   "end_time": "2024-04-24T06:45:50.266147",
   "environment_variables": {},
   "exception": null,
   "input_path": "__notebook__.ipynb",
   "output_path": "__notebook__.ipynb",
   "parameters": {},
   "start_time": "2024-04-24T06:12:18.285526",
   "version": "2.5.0"
  }
 },
 "nbformat": 4,
 "nbformat_minor": 5
}
