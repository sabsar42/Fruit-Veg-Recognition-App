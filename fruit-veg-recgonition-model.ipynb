{
 "cells": [
  {
   "cell_type": "markdown",
   "id": "c3d35420",
   "metadata": {
    "papermill": {
     "duration": 0.002884,
     "end_time": "2024-04-09T18:43:50.705532",
     "exception": false,
     "start_time": "2024-04-09T18:43:50.702648",
     "status": "completed"
    },
    "tags": []
   },
   "source": [
    "# Importing Dataset"
   ]
  },
  {
   "cell_type": "code",
   "execution_count": 1,
   "id": "e64711a2",
   "metadata": {
    "execution": {
     "iopub.execute_input": "2024-04-09T18:43:50.712131Z",
     "iopub.status.busy": "2024-04-09T18:43:50.711715Z",
     "iopub.status.idle": "2024-04-09T18:44:04.809975Z",
     "shell.execute_reply": "2024-04-09T18:44:04.808839Z"
    },
    "papermill": {
     "duration": 14.104476,
     "end_time": "2024-04-09T18:44:04.812571",
     "exception": false,
     "start_time": "2024-04-09T18:43:50.708095",
     "status": "completed"
    },
    "tags": []
   },
   "outputs": [
    {
     "name": "stderr",
     "output_type": "stream",
     "text": [
      "2024-04-09 18:43:52.833507: E external/local_xla/xla/stream_executor/cuda/cuda_dnn.cc:9261] Unable to register cuDNN factory: Attempting to register factory for plugin cuDNN when one has already been registered\n",
      "2024-04-09 18:43:52.833653: E external/local_xla/xla/stream_executor/cuda/cuda_fft.cc:607] Unable to register cuFFT factory: Attempting to register factory for plugin cuFFT when one has already been registered\n",
      "2024-04-09 18:43:52.993857: E external/local_xla/xla/stream_executor/cuda/cuda_blas.cc:1515] Unable to register cuBLAS factory: Attempting to register factory for plugin cuBLAS when one has already been registered\n"
     ]
    }
   ],
   "source": [
    "import numpy as np\n",
    "import matplotlib.pyplot as plt\n",
    "import tensorflow as tf\n",
    "from tensorflow import keras"
   ]
  },
  {
   "cell_type": "markdown",
   "id": "882bb839",
   "metadata": {
    "papermill": {
     "duration": 0.002302,
     "end_time": "2024-04-09T18:44:04.817582",
     "exception": false,
     "start_time": "2024-04-09T18:44:04.815280",
     "status": "completed"
    },
    "tags": []
   },
   "source": [
    "# Data Pre-Processing"
   ]
  },
  {
   "cell_type": "markdown",
   "id": "14aa1712",
   "metadata": {
    "papermill": {
     "duration": 0.002224,
     "end_time": "2024-04-09T18:44:04.822177",
     "exception": false,
     "start_time": "2024-04-09T18:44:04.819953",
     "status": "completed"
    },
    "tags": []
   },
   "source": [
    "## Training Image Pre-Processing\n"
   ]
  },
  {
   "cell_type": "code",
   "execution_count": 2,
   "id": "0e9fe900",
   "metadata": {
    "execution": {
     "iopub.execute_input": "2024-04-09T18:44:04.829612Z",
     "iopub.status.busy": "2024-04-09T18:44:04.828612Z",
     "iopub.status.idle": "2024-04-09T18:44:05.274171Z",
     "shell.execute_reply": "2024-04-09T18:44:05.273063Z"
    },
    "papermill": {
     "duration": 0.451902,
     "end_time": "2024-04-09T18:44:05.276498",
     "exception": false,
     "start_time": "2024-04-09T18:44:04.824596",
     "status": "completed"
    },
    "tags": []
   },
   "outputs": [
    {
     "name": "stdout",
     "output_type": "stream",
     "text": [
      "Found 3115 files belonging to 36 classes.\n"
     ]
    }
   ],
   "source": [
    "training_set = keras.utils.image_dataset_from_directory(\n",
    "    '/kaggle/input/fruit-and-vegetable-image-recognition/train',\n",
    "    labels=\"inferred\",\n",
    "    label_mode=\"categorical\",\n",
    "    class_names=None,\n",
    "    color_mode=\"rgb\",\n",
    "    batch_size=32,\n",
    "    image_size=(64, 64),\n",
    "    shuffle=True,\n",
    "    seed=None,\n",
    "    validation_split=None,\n",
    "    subset=None,\n",
    "    interpolation=\"bilinear\",\n",
    "    follow_links=False,\n",
    "    crop_to_aspect_ratio=False,\n",
    "    data_format=None,\n",
    ")"
   ]
  },
  {
   "cell_type": "markdown",
   "id": "f1e6c1ab",
   "metadata": {
    "papermill": {
     "duration": 0.002786,
     "end_time": "2024-04-09T18:44:05.282210",
     "exception": false,
     "start_time": "2024-04-09T18:44:05.279424",
     "status": "completed"
    },
    "tags": []
   },
   "source": [
    "## Validtion Image Pre-Processing"
   ]
  },
  {
   "cell_type": "code",
   "execution_count": 3,
   "id": "85dd2c2f",
   "metadata": {
    "execution": {
     "iopub.execute_input": "2024-04-09T18:44:05.289239Z",
     "iopub.status.busy": "2024-04-09T18:44:05.288842Z",
     "iopub.status.idle": "2024-04-09T18:44:05.401461Z",
     "shell.execute_reply": "2024-04-09T18:44:05.400356Z"
    },
    "papermill": {
     "duration": 0.119489,
     "end_time": "2024-04-09T18:44:05.404502",
     "exception": false,
     "start_time": "2024-04-09T18:44:05.285013",
     "status": "completed"
    },
    "tags": []
   },
   "outputs": [
    {
     "name": "stdout",
     "output_type": "stream",
     "text": [
      "Found 351 files belonging to 36 classes.\n"
     ]
    }
   ],
   "source": [
    "validation_set = keras.utils.image_dataset_from_directory(\n",
    "    '/kaggle/input/fruit-and-vegetable-image-recognition/validation',\n",
    "    labels=\"inferred\",\n",
    "    label_mode=\"categorical\",\n",
    "    class_names=None,\n",
    "    color_mode=\"rgb\",\n",
    "    batch_size=32,\n",
    "    image_size=(64, 64),\n",
    "    shuffle=True,\n",
    "    seed=None,\n",
    "    validation_split=None,\n",
    "    subset=None,\n",
    "    interpolation=\"bilinear\",\n",
    "    follow_links=False,\n",
    "    crop_to_aspect_ratio=False,\n",
    "    data_format=None,\n",
    ")"
   ]
  },
  {
   "cell_type": "code",
   "execution_count": null,
   "id": "bcc8a621",
   "metadata": {
    "papermill": {
     "duration": 0.002421,
     "end_time": "2024-04-09T18:44:05.409802",
     "exception": false,
     "start_time": "2024-04-09T18:44:05.407381",
     "status": "completed"
    },
    "tags": []
   },
   "outputs": [],
   "source": []
  }
 ],
 "metadata": {
  "kaggle": {
   "accelerator": "none",
   "dataSources": [
    {
     "datasetId": 952827,
     "sourceId": 3173719,
     "sourceType": "datasetVersion"
    }
   ],
   "dockerImageVersionId": 30664,
   "isGpuEnabled": false,
   "isInternetEnabled": true,
   "language": "python",
   "sourceType": "notebook"
  },
  "kernelspec": {
   "display_name": "Python 3",
   "language": "python",
   "name": "python3"
  },
  "language_info": {
   "codemirror_mode": {
    "name": "ipython",
    "version": 3
   },
   "file_extension": ".py",
   "mimetype": "text/x-python",
   "name": "python",
   "nbconvert_exporter": "python",
   "pygments_lexer": "ipython3",
   "version": "3.10.13"
  },
  "papermill": {
   "default_parameters": {},
   "duration": 18.749995,
   "end_time": "2024-04-09T18:44:06.743351",
   "environment_variables": {},
   "exception": null,
   "input_path": "__notebook__.ipynb",
   "output_path": "__notebook__.ipynb",
   "parameters": {},
   "start_time": "2024-04-09T18:43:47.993356",
   "version": "2.5.0"
  }
 },
 "nbformat": 4,
 "nbformat_minor": 5
}
