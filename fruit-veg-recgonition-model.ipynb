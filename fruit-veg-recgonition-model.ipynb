{
 "cells": [
  {
   "cell_type": "markdown",
   "id": "69e3959f",
   "metadata": {
    "papermill": {
     "duration": 0.010654,
     "end_time": "2024-05-03T13:43:45.487976",
     "exception": false,
     "start_time": "2024-05-03T13:43:45.477322",
     "status": "completed"
    },
    "tags": []
   },
   "source": [
    "# Importing Dataset"
   ]
  },
  {
   "cell_type": "code",
   "execution_count": 1,
   "id": "90d3dbb2",
   "metadata": {
    "execution": {
     "iopub.execute_input": "2024-05-03T13:43:45.510094Z",
     "iopub.status.busy": "2024-05-03T13:43:45.509250Z",
     "iopub.status.idle": "2024-05-03T13:44:04.318903Z",
     "shell.execute_reply": "2024-05-03T13:44:04.317381Z"
    },
    "papermill": {
     "duration": 18.824589,
     "end_time": "2024-05-03T13:44:04.321958",
     "exception": false,
     "start_time": "2024-05-03T13:43:45.497369",
     "status": "completed"
    },
    "tags": []
   },
   "outputs": [
    {
     "name": "stderr",
     "output_type": "stream",
     "text": [
      "2024-05-03 13:43:48.749489: E external/local_xla/xla/stream_executor/cuda/cuda_dnn.cc:9261] Unable to register cuDNN factory: Attempting to register factory for plugin cuDNN when one has already been registered\n",
      "2024-05-03 13:43:48.749710: E external/local_xla/xla/stream_executor/cuda/cuda_fft.cc:607] Unable to register cuFFT factory: Attempting to register factory for plugin cuFFT when one has already been registered\n",
      "2024-05-03 13:43:48.995181: E external/local_xla/xla/stream_executor/cuda/cuda_blas.cc:1515] Unable to register cuBLAS factory: Attempting to register factory for plugin cuBLAS when one has already been registered\n"
     ]
    }
   ],
   "source": [
    "import numpy as np\n",
    "import matplotlib.pyplot as plt\n",
    "import tensorflow as tf\n",
    "from tensorflow import keras"
   ]
  },
  {
   "cell_type": "markdown",
   "id": "f4447b76",
   "metadata": {
    "papermill": {
     "duration": 0.009015,
     "end_time": "2024-05-03T13:44:04.340535",
     "exception": false,
     "start_time": "2024-05-03T13:44:04.331520",
     "status": "completed"
    },
    "tags": []
   },
   "source": [
    "# Data Pre-Processing"
   ]
  },
  {
   "cell_type": "markdown",
   "id": "4c1f4462",
   "metadata": {
    "papermill": {
     "duration": 0.009053,
     "end_time": "2024-05-03T13:44:04.359015",
     "exception": false,
     "start_time": "2024-05-03T13:44:04.349962",
     "status": "completed"
    },
    "tags": []
   },
   "source": [
    "## Training Image Pre-Processing\n"
   ]
  },
  {
   "cell_type": "code",
   "execution_count": 2,
   "id": "88a028f2",
   "metadata": {
    "execution": {
     "iopub.execute_input": "2024-05-03T13:44:04.382833Z",
     "iopub.status.busy": "2024-05-03T13:44:04.381504Z",
     "iopub.status.idle": "2024-05-03T13:44:04.887150Z",
     "shell.execute_reply": "2024-05-03T13:44:04.885925Z"
    },
    "papermill": {
     "duration": 0.52136,
     "end_time": "2024-05-03T13:44:04.890044",
     "exception": false,
     "start_time": "2024-05-03T13:44:04.368684",
     "status": "completed"
    },
    "tags": []
   },
   "outputs": [
    {
     "name": "stdout",
     "output_type": "stream",
     "text": [
      "Found 3115 files belonging to 36 classes.\n"
     ]
    }
   ],
   "source": [
    "training_set = keras.utils.image_dataset_from_directory(\n",
    "    '/kaggle/input/fruit-and-vegetable-image-recognition/train',\n",
    "    labels=\"inferred\",\n",
    "    label_mode=\"categorical\",\n",
    "    class_names=None,\n",
    "    color_mode=\"rgb\",\n",
    "    batch_size=32,\n",
    "    image_size=(64, 64),\n",
    "    shuffle=True,\n",
    "    seed=None,\n",
    "    validation_split=None,\n",
    "    subset=None,\n",
    "    interpolation=\"bilinear\",\n",
    "    follow_links=False,\n",
    "    crop_to_aspect_ratio=False,\n",
    "    data_format=None,\n",
    ")"
   ]
  },
  {
   "cell_type": "markdown",
   "id": "05ba45ce",
   "metadata": {
    "papermill": {
     "duration": 0.009679,
     "end_time": "2024-05-03T13:44:04.909722",
     "exception": false,
     "start_time": "2024-05-03T13:44:04.900043",
     "status": "completed"
    },
    "tags": []
   },
   "source": [
    "## Validtion Image Pre-Processing"
   ]
  },
  {
   "cell_type": "code",
   "execution_count": 3,
   "id": "7e1e05c3",
   "metadata": {
    "execution": {
     "iopub.execute_input": "2024-05-03T13:44:04.931451Z",
     "iopub.status.busy": "2024-05-03T13:44:04.930999Z",
     "iopub.status.idle": "2024-05-03T13:44:05.062399Z",
     "shell.execute_reply": "2024-05-03T13:44:05.061433Z"
    },
    "papermill": {
     "duration": 0.145441,
     "end_time": "2024-05-03T13:44:05.065077",
     "exception": false,
     "start_time": "2024-05-03T13:44:04.919636",
     "status": "completed"
    },
    "tags": []
   },
   "outputs": [
    {
     "name": "stdout",
     "output_type": "stream",
     "text": [
      "Found 351 files belonging to 36 classes.\n"
     ]
    }
   ],
   "source": [
    "validation_set = keras.utils.image_dataset_from_directory(\n",
    "    '/kaggle/input/fruit-and-vegetable-image-recognition/validation',\n",
    "    labels=\"inferred\",\n",
    "    label_mode=\"categorical\",\n",
    "    class_names=None,\n",
    "    color_mode=\"rgb\",\n",
    "    batch_size=32,\n",
    "    image_size=(64, 64),\n",
    "    shuffle=True,\n",
    "    seed=None,\n",
    "    validation_split=None,\n",
    "    subset=None,\n",
    "    interpolation=\"bilinear\",\n",
    "    follow_links=False,\n",
    "    crop_to_aspect_ratio=False,\n",
    "    data_format=None,\n",
    ")"
   ]
  },
  {
   "cell_type": "markdown",
   "id": "430bdcb0",
   "metadata": {
    "papermill": {
     "duration": 0.009142,
     "end_time": "2024-05-03T13:44:05.084962",
     "exception": false,
     "start_time": "2024-05-03T13:44:05.075820",
     "status": "completed"
    },
    "tags": []
   },
   "source": [
    "# Building Model"
   ]
  },
  {
   "cell_type": "code",
   "execution_count": 4,
   "id": "041c21f0",
   "metadata": {
    "execution": {
     "iopub.execute_input": "2024-05-03T13:44:05.106467Z",
     "iopub.status.busy": "2024-05-03T13:44:05.105740Z",
     "iopub.status.idle": "2024-05-03T13:44:05.112295Z",
     "shell.execute_reply": "2024-05-03T13:44:05.110944Z"
    },
    "papermill": {
     "duration": 0.020525,
     "end_time": "2024-05-03T13:44:05.115169",
     "exception": false,
     "start_time": "2024-05-03T13:44:05.094644",
     "status": "completed"
    },
    "tags": []
   },
   "outputs": [],
   "source": [
    "cnn = tf.keras.models.Sequential()"
   ]
  },
  {
   "cell_type": "markdown",
   "id": "cba883b0",
   "metadata": {
    "papermill": {
     "duration": 0.009149,
     "end_time": "2024-05-03T13:44:05.134014",
     "exception": false,
     "start_time": "2024-05-03T13:44:05.124865",
     "status": "completed"
    },
    "tags": []
   },
   "source": [
    "# Building Convulation layer"
   ]
  },
  {
   "cell_type": "code",
   "execution_count": 5,
   "id": "c997bc90",
   "metadata": {
    "execution": {
     "iopub.execute_input": "2024-05-03T13:44:05.154957Z",
     "iopub.status.busy": "2024-05-03T13:44:05.154461Z",
     "iopub.status.idle": "2024-05-03T13:44:05.202822Z",
     "shell.execute_reply": "2024-05-03T13:44:05.201452Z"
    },
    "papermill": {
     "duration": 0.062689,
     "end_time": "2024-05-03T13:44:05.206297",
     "exception": false,
     "start_time": "2024-05-03T13:44:05.143608",
     "status": "completed"
    },
    "tags": []
   },
   "outputs": [
    {
     "name": "stderr",
     "output_type": "stream",
     "text": [
      "/opt/conda/lib/python3.10/site-packages/keras/src/layers/convolutional/base_conv.py:99: UserWarning: Do not pass an `input_shape`/`input_dim` argument to a layer. When using Sequential models, prefer using an `Input(shape)` object as the first layer in the model instead.\n",
      "  super().__init__(\n"
     ]
    }
   ],
   "source": [
    "cnn.add(tf.keras.layers.Conv2D(filters=64, kernel_size=3, activation='relu', input_shape=[64,64,3]))\n",
    "cnn.add(tf.keras.layers.MaxPool2D(pool_size=2, strides=2))\n"
   ]
  },
  {
   "cell_type": "code",
   "execution_count": 6,
   "id": "21a6dc77",
   "metadata": {
    "execution": {
     "iopub.execute_input": "2024-05-03T13:44:05.234248Z",
     "iopub.status.busy": "2024-05-03T13:44:05.233825Z",
     "iopub.status.idle": "2024-05-03T13:44:05.263454Z",
     "shell.execute_reply": "2024-05-03T13:44:05.262325Z"
    },
    "papermill": {
     "duration": 0.04475,
     "end_time": "2024-05-03T13:44:05.266328",
     "exception": false,
     "start_time": "2024-05-03T13:44:05.221578",
     "status": "completed"
    },
    "tags": []
   },
   "outputs": [],
   "source": [
    "cnn.add(tf.keras.layers.Conv2D(filters=64, kernel_size=3, activation='relu', ))\n",
    "cnn.add(tf.keras.layers.MaxPool2D(pool_size=2, strides=2))"
   ]
  },
  {
   "cell_type": "code",
   "execution_count": 7,
   "id": "515c36b3",
   "metadata": {
    "execution": {
     "iopub.execute_input": "2024-05-03T13:44:05.287718Z",
     "iopub.status.busy": "2024-05-03T13:44:05.287284Z",
     "iopub.status.idle": "2024-05-03T13:44:05.304111Z",
     "shell.execute_reply": "2024-05-03T13:44:05.302831Z"
    },
    "papermill": {
     "duration": 0.030736,
     "end_time": "2024-05-03T13:44:05.306899",
     "exception": false,
     "start_time": "2024-05-03T13:44:05.276163",
     "status": "completed"
    },
    "tags": []
   },
   "outputs": [],
   "source": [
    "cnn.add(tf.keras.layers.Dropout(0.5)) #to avoid overfitting"
   ]
  },
  {
   "cell_type": "code",
   "execution_count": 8,
   "id": "668440bc",
   "metadata": {
    "execution": {
     "iopub.execute_input": "2024-05-03T13:44:05.327942Z",
     "iopub.status.busy": "2024-05-03T13:44:05.327533Z",
     "iopub.status.idle": "2024-05-03T13:44:05.340625Z",
     "shell.execute_reply": "2024-05-03T13:44:05.339684Z"
    },
    "papermill": {
     "duration": 0.026391,
     "end_time": "2024-05-03T13:44:05.343061",
     "exception": false,
     "start_time": "2024-05-03T13:44:05.316670",
     "status": "completed"
    },
    "tags": []
   },
   "outputs": [],
   "source": [
    "cnn.add(tf.keras.layers.Flatten())"
   ]
  },
  {
   "cell_type": "code",
   "execution_count": 9,
   "id": "a39f1aca",
   "metadata": {
    "execution": {
     "iopub.execute_input": "2024-05-03T13:44:05.365228Z",
     "iopub.status.busy": "2024-05-03T13:44:05.364565Z",
     "iopub.status.idle": "2024-05-03T13:44:05.403893Z",
     "shell.execute_reply": "2024-05-03T13:44:05.402647Z"
    },
    "papermill": {
     "duration": 0.053538,
     "end_time": "2024-05-03T13:44:05.406844",
     "exception": false,
     "start_time": "2024-05-03T13:44:05.353306",
     "status": "completed"
    },
    "tags": []
   },
   "outputs": [],
   "source": [
    "cnn.add(tf.keras.layers.Dense(units=128))"
   ]
  },
  {
   "cell_type": "code",
   "execution_count": 10,
   "id": "545603f3",
   "metadata": {
    "execution": {
     "iopub.execute_input": "2024-05-03T13:44:05.429210Z",
     "iopub.status.busy": "2024-05-03T13:44:05.428754Z",
     "iopub.status.idle": "2024-05-03T13:44:05.453386Z",
     "shell.execute_reply": "2024-05-03T13:44:05.451791Z"
    },
    "papermill": {
     "duration": 0.039917,
     "end_time": "2024-05-03T13:44:05.456629",
     "exception": false,
     "start_time": "2024-05-03T13:44:05.416712",
     "status": "completed"
    },
    "tags": []
   },
   "outputs": [],
   "source": [
    "cnn.add(tf.keras.layers.Dense(units=128,activation='relu'))"
   ]
  },
  {
   "cell_type": "markdown",
   "id": "bf115765",
   "metadata": {
    "papermill": {
     "duration": 0.009791,
     "end_time": "2024-05-03T13:44:05.476859",
     "exception": false,
     "start_time": "2024-05-03T13:44:05.467068",
     "status": "completed"
    },
    "tags": []
   },
   "source": [
    "# Output Layer"
   ]
  },
  {
   "cell_type": "code",
   "execution_count": 11,
   "id": "e69eed44",
   "metadata": {
    "execution": {
     "iopub.execute_input": "2024-05-03T13:44:05.499458Z",
     "iopub.status.busy": "2024-05-03T13:44:05.499035Z",
     "iopub.status.idle": "2024-05-03T13:44:05.524482Z",
     "shell.execute_reply": "2024-05-03T13:44:05.522868Z"
    },
    "papermill": {
     "duration": 0.039784,
     "end_time": "2024-05-03T13:44:05.527271",
     "exception": false,
     "start_time": "2024-05-03T13:44:05.487487",
     "status": "completed"
    },
    "tags": []
   },
   "outputs": [],
   "source": [
    "cnn.add(tf.keras.layers.Dense(units=36,activation='softmax')) "
   ]
  },
  {
   "cell_type": "markdown",
   "id": "cecaed83",
   "metadata": {
    "papermill": {
     "duration": 0.010275,
     "end_time": "2024-05-03T13:44:05.547628",
     "exception": false,
     "start_time": "2024-05-03T13:44:05.537353",
     "status": "completed"
    },
    "tags": []
   },
   "source": [
    "# Compiling and Training Phase "
   ]
  },
  {
   "cell_type": "code",
   "execution_count": 12,
   "id": "6505336d",
   "metadata": {
    "execution": {
     "iopub.execute_input": "2024-05-03T13:44:05.569475Z",
     "iopub.status.busy": "2024-05-03T13:44:05.569033Z",
     "iopub.status.idle": "2024-05-03T13:44:05.587332Z",
     "shell.execute_reply": "2024-05-03T13:44:05.584842Z"
    },
    "papermill": {
     "duration": 0.033053,
     "end_time": "2024-05-03T13:44:05.590498",
     "exception": false,
     "start_time": "2024-05-03T13:44:05.557445",
     "status": "completed"
    },
    "tags": []
   },
   "outputs": [],
   "source": [
    "cnn.compile(optimizer='rmsprop', loss='categorical_crossentropy', metrics=['accuracy'])"
   ]
  },
  {
   "cell_type": "code",
   "execution_count": 13,
   "id": "9640b25f",
   "metadata": {
    "execution": {
     "iopub.execute_input": "2024-05-03T13:44:05.613356Z",
     "iopub.status.busy": "2024-05-03T13:44:05.612897Z",
     "iopub.status.idle": "2024-05-03T14:17:39.484871Z",
     "shell.execute_reply": "2024-05-03T14:17:39.483799Z"
    },
    "papermill": {
     "duration": 2013.886989,
     "end_time": "2024-05-03T14:17:39.488070",
     "exception": false,
     "start_time": "2024-05-03T13:44:05.601081",
     "status": "completed"
    },
    "tags": []
   },
   "outputs": [
    {
     "name": "stdout",
     "output_type": "stream",
     "text": [
      "Epoch 1/30\n",
      "\u001b[1m98/98\u001b[0m \u001b[32m━━━━━━━━━━━━━━━━━━━━\u001b[0m\u001b[37m\u001b[0m \u001b[1m78s\u001b[0m 722ms/step - accuracy: 0.0278 - loss: 25.9167 - val_accuracy: 0.0598 - val_loss: 3.5325\n",
      "Epoch 2/30\n",
      "\u001b[1m98/98\u001b[0m \u001b[32m━━━━━━━━━━━━━━━━━━━━\u001b[0m\u001b[37m\u001b[0m \u001b[1m63s\u001b[0m 602ms/step - accuracy: 0.0433 - loss: 5.0160 - val_accuracy: 0.0484 - val_loss: 5.5126\n",
      "Epoch 3/30\n",
      "\u001b[1m98/98\u001b[0m \u001b[32m━━━━━━━━━━━━━━━━━━━━\u001b[0m\u001b[37m\u001b[0m \u001b[1m63s\u001b[0m 599ms/step - accuracy: 0.0706 - loss: 4.3413 - val_accuracy: 0.1652 - val_loss: 3.2771\n",
      "Epoch 4/30\n",
      "\u001b[1m98/98\u001b[0m \u001b[32m━━━━━━━━━━━━━━━━━━━━\u001b[0m\u001b[37m\u001b[0m \u001b[1m63s\u001b[0m 598ms/step - accuracy: 0.1027 - loss: 3.6397 - val_accuracy: 0.2422 - val_loss: 2.9963\n",
      "Epoch 5/30\n",
      "\u001b[1m98/98\u001b[0m \u001b[32m━━━━━━━━━━━━━━━━━━━━\u001b[0m\u001b[37m\u001b[0m \u001b[1m61s\u001b[0m 587ms/step - accuracy: 0.1444 - loss: 3.6932 - val_accuracy: 0.0940 - val_loss: 7.3851\n",
      "Epoch 6/30\n",
      "\u001b[1m98/98\u001b[0m \u001b[32m━━━━━━━━━━━━━━━━━━━━\u001b[0m\u001b[37m\u001b[0m \u001b[1m62s\u001b[0m 590ms/step - accuracy: 0.1268 - loss: 4.2364 - val_accuracy: 0.0313 - val_loss: 3.5744\n",
      "Epoch 7/30\n",
      "\u001b[1m98/98\u001b[0m \u001b[32m━━━━━━━━━━━━━━━━━━━━\u001b[0m\u001b[37m\u001b[0m \u001b[1m63s\u001b[0m 597ms/step - accuracy: 0.0320 - loss: 3.9912 - val_accuracy: 0.0285 - val_loss: 3.5846\n",
      "Epoch 8/30\n",
      "\u001b[1m98/98\u001b[0m \u001b[32m━━━━━━━━━━━━━━━━━━━━\u001b[0m\u001b[37m\u001b[0m \u001b[1m63s\u001b[0m 598ms/step - accuracy: 0.0284 - loss: 3.5817 - val_accuracy: 0.0285 - val_loss: 3.5847\n",
      "Epoch 9/30\n",
      "\u001b[1m98/98\u001b[0m \u001b[32m━━━━━━━━━━━━━━━━━━━━\u001b[0m\u001b[37m\u001b[0m \u001b[1m63s\u001b[0m 601ms/step - accuracy: 0.0313 - loss: 3.5805 - val_accuracy: 0.0285 - val_loss: 3.5849\n",
      "Epoch 10/30\n",
      "\u001b[1m98/98\u001b[0m \u001b[32m━━━━━━━━━━━━━━━━━━━━\u001b[0m\u001b[37m\u001b[0m \u001b[1m63s\u001b[0m 600ms/step - accuracy: 0.0313 - loss: 3.7771 - val_accuracy: 0.0285 - val_loss: 3.5851\n",
      "Epoch 11/30\n",
      "\u001b[1m98/98\u001b[0m \u001b[32m━━━━━━━━━━━━━━━━━━━━\u001b[0m\u001b[37m\u001b[0m \u001b[1m62s\u001b[0m 593ms/step - accuracy: 0.0315 - loss: 3.5786 - val_accuracy: 0.0285 - val_loss: 3.5853\n",
      "Epoch 12/30\n",
      "\u001b[1m98/98\u001b[0m \u001b[32m━━━━━━━━━━━━━━━━━━━━\u001b[0m\u001b[37m\u001b[0m \u001b[1m83s\u001b[0m 608ms/step - accuracy: 0.0315 - loss: 3.5798 - val_accuracy: 0.0285 - val_loss: 3.5854\n",
      "Epoch 13/30\n",
      "\u001b[1m98/98\u001b[0m \u001b[32m━━━━━━━━━━━━━━━━━━━━\u001b[0m\u001b[37m\u001b[0m \u001b[1m63s\u001b[0m 599ms/step - accuracy: 0.0301 - loss: 3.5793 - val_accuracy: 0.0285 - val_loss: 3.5857\n",
      "Epoch 14/30\n",
      "\u001b[1m98/98\u001b[0m \u001b[32m━━━━━━━━━━━━━━━━━━━━\u001b[0m\u001b[37m\u001b[0m \u001b[1m63s\u001b[0m 604ms/step - accuracy: 0.0302 - loss: 3.5800 - val_accuracy: 0.0285 - val_loss: 3.5859\n",
      "Epoch 15/30\n",
      "\u001b[1m98/98\u001b[0m \u001b[32m━━━━━━━━━━━━━━━━━━━━\u001b[0m\u001b[37m\u001b[0m \u001b[1m84s\u001b[0m 625ms/step - accuracy: 0.0280 - loss: 4.3907 - val_accuracy: 0.0285 - val_loss: 3.5861\n",
      "Epoch 16/30\n",
      "\u001b[1m98/98\u001b[0m \u001b[32m━━━━━━━━━━━━━━━━━━━━\u001b[0m\u001b[37m\u001b[0m \u001b[1m63s\u001b[0m 603ms/step - accuracy: 0.0295 - loss: 3.5790 - val_accuracy: 0.0285 - val_loss: 3.5864\n",
      "Epoch 17/30\n",
      "\u001b[1m98/98\u001b[0m \u001b[32m━━━━━━━━━━━━━━━━━━━━\u001b[0m\u001b[37m\u001b[0m \u001b[1m63s\u001b[0m 606ms/step - accuracy: 0.0304 - loss: 3.5777 - val_accuracy: 0.0285 - val_loss: 3.5866\n",
      "Epoch 18/30\n",
      "\u001b[1m98/98\u001b[0m \u001b[32m━━━━━━━━━━━━━━━━━━━━\u001b[0m\u001b[37m\u001b[0m \u001b[1m63s\u001b[0m 606ms/step - accuracy: 0.0308 - loss: 3.5789 - val_accuracy: 0.0285 - val_loss: 3.5868\n",
      "Epoch 19/30\n",
      "\u001b[1m98/98\u001b[0m \u001b[32m━━━━━━━━━━━━━━━━━━━━\u001b[0m\u001b[37m\u001b[0m \u001b[1m63s\u001b[0m 603ms/step - accuracy: 0.0322 - loss: 3.5779 - val_accuracy: 0.0285 - val_loss: 3.5870\n",
      "Epoch 20/30\n",
      "\u001b[1m98/98\u001b[0m \u001b[32m━━━━━━━━━━━━━━━━━━━━\u001b[0m\u001b[37m\u001b[0m \u001b[1m82s\u001b[0m 601ms/step - accuracy: 0.0259 - loss: 3.5791 - val_accuracy: 0.0285 - val_loss: 3.5871\n",
      "Epoch 21/30\n",
      "\u001b[1m98/98\u001b[0m \u001b[32m━━━━━━━━━━━━━━━━━━━━\u001b[0m\u001b[37m\u001b[0m \u001b[1m82s\u001b[0m 603ms/step - accuracy: 0.0292 - loss: 3.5784 - val_accuracy: 0.0285 - val_loss: 3.5874\n",
      "Epoch 22/30\n",
      "\u001b[1m98/98\u001b[0m \u001b[32m━━━━━━━━━━━━━━━━━━━━\u001b[0m\u001b[37m\u001b[0m \u001b[1m62s\u001b[0m 598ms/step - accuracy: 0.0305 - loss: 3.5779 - val_accuracy: 0.0285 - val_loss: 3.5875\n",
      "Epoch 23/30\n",
      "\u001b[1m98/98\u001b[0m \u001b[32m━━━━━━━━━━━━━━━━━━━━\u001b[0m\u001b[37m\u001b[0m \u001b[1m63s\u001b[0m 609ms/step - accuracy: 0.0303 - loss: 3.5778 - val_accuracy: 0.0285 - val_loss: 3.5877\n",
      "Epoch 24/30\n",
      "\u001b[1m98/98\u001b[0m \u001b[32m━━━━━━━━━━━━━━━━━━━━\u001b[0m\u001b[37m\u001b[0m \u001b[1m63s\u001b[0m 602ms/step - accuracy: 0.0284 - loss: 3.5794 - val_accuracy: 0.0285 - val_loss: 3.5879\n",
      "Epoch 25/30\n",
      "\u001b[1m98/98\u001b[0m \u001b[32m━━━━━━━━━━━━━━━━━━━━\u001b[0m\u001b[37m\u001b[0m \u001b[1m62s\u001b[0m 595ms/step - accuracy: 0.0331 - loss: 3.5778 - val_accuracy: 0.0285 - val_loss: 3.5881\n",
      "Epoch 26/30\n",
      "\u001b[1m98/98\u001b[0m \u001b[32m━━━━━━━━━━━━━━━━━━━━\u001b[0m\u001b[37m\u001b[0m \u001b[1m63s\u001b[0m 599ms/step - accuracy: 0.0309 - loss: 3.5788 - val_accuracy: 0.0285 - val_loss: 3.5882\n",
      "Epoch 27/30\n",
      "\u001b[1m98/98\u001b[0m \u001b[32m━━━━━━━━━━━━━━━━━━━━\u001b[0m\u001b[37m\u001b[0m \u001b[1m62s\u001b[0m 598ms/step - accuracy: 0.0313 - loss: 3.5782 - val_accuracy: 0.0285 - val_loss: 3.5883\n",
      "Epoch 28/30\n",
      "\u001b[1m98/98\u001b[0m \u001b[32m━━━━━━━━━━━━━━━━━━━━\u001b[0m\u001b[37m\u001b[0m \u001b[1m82s\u001b[0m 598ms/step - accuracy: 0.0309 - loss: 3.5791 - val_accuracy: 0.0285 - val_loss: 3.5886\n",
      "Epoch 29/30\n",
      "\u001b[1m98/98\u001b[0m \u001b[32m━━━━━━━━━━━━━━━━━━━━\u001b[0m\u001b[37m\u001b[0m \u001b[1m82s\u001b[0m 597ms/step - accuracy: 0.0310 - loss: 3.5771 - val_accuracy: 0.0285 - val_loss: 3.5887\n",
      "Epoch 30/30\n",
      "\u001b[1m98/98\u001b[0m \u001b[32m━━━━━━━━━━━━━━━━━━━━\u001b[0m\u001b[37m\u001b[0m \u001b[1m62s\u001b[0m 597ms/step - accuracy: 0.0298 - loss: 3.5775 - val_accuracy: 0.0285 - val_loss: 3.5888\n"
     ]
    }
   ],
   "source": [
    "training_history = cnn.fit(x=training_set, validation_data=validation_set, epochs=30)\n"
   ]
  },
  {
   "cell_type": "code",
   "execution_count": 14,
   "id": "88616ea2",
   "metadata": {
    "execution": {
     "iopub.execute_input": "2024-05-03T14:17:40.096034Z",
     "iopub.status.busy": "2024-05-03T14:17:40.095163Z",
     "iopub.status.idle": "2024-05-03T14:17:40.158077Z",
     "shell.execute_reply": "2024-05-03T14:17:40.156777Z"
    },
    "papermill": {
     "duration": 0.369762,
     "end_time": "2024-05-03T14:17:40.161042",
     "exception": false,
     "start_time": "2024-05-03T14:17:39.791280",
     "status": "completed"
    },
    "tags": []
   },
   "outputs": [],
   "source": [
    "cnn.save('trained_model.h5')"
   ]
  },
  {
   "cell_type": "code",
   "execution_count": 15,
   "id": "8bff70a8",
   "metadata": {
    "execution": {
     "iopub.execute_input": "2024-05-03T14:17:40.763063Z",
     "iopub.status.busy": "2024-05-03T14:17:40.762655Z",
     "iopub.status.idle": "2024-05-03T14:17:40.772967Z",
     "shell.execute_reply": "2024-05-03T14:17:40.771699Z"
    },
    "papermill": {
     "duration": 0.317582,
     "end_time": "2024-05-03T14:17:40.775793",
     "exception": false,
     "start_time": "2024-05-03T14:17:40.458211",
     "status": "completed"
    },
    "tags": []
   },
   "outputs": [
    {
     "data": {
      "text/plain": [
       "{'accuracy': [0.031139647588133812,\n",
       "  0.05232744663953781,\n",
       "  0.08057785034179688,\n",
       "  0.1120385229587555,\n",
       "  0.15024076402187347,\n",
       "  0.09052969515323639,\n",
       "  0.03146067261695862,\n",
       "  0.031139647588133812,\n",
       "  0.031139647588133812,\n",
       "  0.030497591942548752,\n",
       "  0.031139647588133812,\n",
       "  0.030818618834018707,\n",
       "  0.02921348251402378,\n",
       "  0.030818618834018707,\n",
       "  0.028250401839613914,\n",
       "  0.027608346194028854,\n",
       "  0.02921348251402378,\n",
       "  0.030818618834018707,\n",
       "  0.02985553815960884,\n",
       "  0.026966292411088943,\n",
       "  0.028250401839613914,\n",
       "  0.028250401839613914,\n",
       "  0.02985553815960884,\n",
       "  0.02985553815960884,\n",
       "  0.03210273012518883,\n",
       "  0.03210273012518883,\n",
       "  0.03210273012518883,\n",
       "  0.031139647588133812,\n",
       "  0.030818618834018707,\n",
       "  0.030497591942548752],\n",
       " 'loss': [8.954855918884277,\n",
       "  4.638155937194824,\n",
       "  4.202223300933838,\n",
       "  3.8636410236358643,\n",
       "  3.856673002243042,\n",
       "  4.461755752563477,\n",
       "  3.8107500076293945,\n",
       "  3.5814831256866455,\n",
       "  3.580975294113159,\n",
       "  4.236198425292969,\n",
       "  3.5798561573028564,\n",
       "  3.5797746181488037,\n",
       "  3.579528570175171,\n",
       "  3.583378791809082,\n",
       "  5.122827053070068,\n",
       "  3.578812837600708,\n",
       "  3.5787503719329834,\n",
       "  3.579085111618042,\n",
       "  3.5787193775177,\n",
       "  3.578679323196411,\n",
       "  3.578261375427246,\n",
       "  3.5787322521209717,\n",
       "  3.5783917903900146,\n",
       "  3.5784189701080322,\n",
       "  3.5782206058502197,\n",
       "  3.5782155990600586,\n",
       "  3.578242778778076,\n",
       "  3.5780372619628906,\n",
       "  3.578369140625,\n",
       "  3.5781314373016357],\n",
       " 'val_accuracy': [0.05982905998826027,\n",
       "  0.04843304678797722,\n",
       "  0.16524216532707214,\n",
       "  0.2421652376651764,\n",
       "  0.09401709586381912,\n",
       "  0.03133903071284294,\n",
       "  0.028490029275417328,\n",
       "  0.028490029275417328,\n",
       "  0.028490029275417328,\n",
       "  0.028490029275417328,\n",
       "  0.028490029275417328,\n",
       "  0.028490029275417328,\n",
       "  0.028490029275417328,\n",
       "  0.028490029275417328,\n",
       "  0.028490029275417328,\n",
       "  0.028490029275417328,\n",
       "  0.028490029275417328,\n",
       "  0.028490029275417328,\n",
       "  0.028490029275417328,\n",
       "  0.028490029275417328,\n",
       "  0.028490029275417328,\n",
       "  0.028490029275417328,\n",
       "  0.028490029275417328,\n",
       "  0.028490029275417328,\n",
       "  0.028490029275417328,\n",
       "  0.028490029275417328,\n",
       "  0.028490029275417328,\n",
       "  0.028490029275417328,\n",
       "  0.028490029275417328,\n",
       "  0.028490029275417328],\n",
       " 'val_loss': [3.5324501991271973,\n",
       "  5.512643814086914,\n",
       "  3.277107000350952,\n",
       "  2.9962522983551025,\n",
       "  7.3851399421691895,\n",
       "  3.5744218826293945,\n",
       "  3.584585428237915,\n",
       "  3.58465576171875,\n",
       "  3.584907293319702,\n",
       "  3.585097551345825,\n",
       "  3.5852887630462646,\n",
       "  3.585440158843994,\n",
       "  3.585662603378296,\n",
       "  3.5858964920043945,\n",
       "  3.586111545562744,\n",
       "  3.5863564014434814,\n",
       "  3.586564064025879,\n",
       "  3.5868020057678223,\n",
       "  3.586972236633301,\n",
       "  3.587122917175293,\n",
       "  3.587350606918335,\n",
       "  3.5874993801116943,\n",
       "  3.587749719619751,\n",
       "  3.587855577468872,\n",
       "  3.588064670562744,\n",
       "  3.5881693363189697,\n",
       "  3.588348388671875,\n",
       "  3.5886292457580566,\n",
       "  3.588656425476074,\n",
       "  3.5887835025787354]}"
      ]
     },
     "execution_count": 15,
     "metadata": {},
     "output_type": "execute_result"
    }
   ],
   "source": [
    "training_history.history"
   ]
  },
  {
   "cell_type": "code",
   "execution_count": 16,
   "id": "dfda8e3f",
   "metadata": {
    "execution": {
     "iopub.execute_input": "2024-05-03T14:17:41.375529Z",
     "iopub.status.busy": "2024-05-03T14:17:41.374649Z",
     "iopub.status.idle": "2024-05-03T14:17:41.380679Z",
     "shell.execute_reply": "2024-05-03T14:17:41.379797Z"
    },
    "papermill": {
     "duration": 0.308029,
     "end_time": "2024-05-03T14:17:41.383068",
     "exception": false,
     "start_time": "2024-05-03T14:17:41.075039",
     "status": "completed"
    },
    "tags": []
   },
   "outputs": [],
   "source": [
    "#recording history\n",
    "import json\n",
    "with open('training_hist.json','w') as f:\n",
    "    json.dump(training_history.history,f)"
   ]
  },
  {
   "cell_type": "code",
   "execution_count": 17,
   "id": "fa475de5",
   "metadata": {
    "execution": {
     "iopub.execute_input": "2024-05-03T14:17:42.060806Z",
     "iopub.status.busy": "2024-05-03T14:17:42.060123Z",
     "iopub.status.idle": "2024-05-03T14:17:42.066788Z",
     "shell.execute_reply": "2024-05-03T14:17:42.065057Z"
    },
    "papermill": {
     "duration": 0.389228,
     "end_time": "2024-05-03T14:17:42.069608",
     "exception": false,
     "start_time": "2024-05-03T14:17:41.680380",
     "status": "completed"
    },
    "tags": []
   },
   "outputs": [
    {
     "name": "stdout",
     "output_type": "stream",
     "text": [
      "<built-in method keys of dict object at 0x7a5ea897c240>\n"
     ]
    }
   ],
   "source": [
    "print(training_history.history.keys)"
   ]
  },
  {
   "cell_type": "markdown",
   "id": "fffa8379",
   "metadata": {
    "papermill": {
     "duration": 0.302496,
     "end_time": "2024-05-03T14:17:42.668896",
     "exception": false,
     "start_time": "2024-05-03T14:17:42.366400",
     "status": "completed"
    },
    "tags": []
   },
   "source": [
    "# Calculating Accuracy of Model Achieved on Validation Set"
   ]
  },
  {
   "cell_type": "code",
   "execution_count": 18,
   "id": "69984243",
   "metadata": {
    "execution": {
     "iopub.execute_input": "2024-05-03T14:17:43.268392Z",
     "iopub.status.busy": "2024-05-03T14:17:43.267757Z",
     "iopub.status.idle": "2024-05-03T14:17:43.273261Z",
     "shell.execute_reply": "2024-05-03T14:17:43.272429Z"
    },
    "papermill": {
     "duration": 0.310276,
     "end_time": "2024-05-03T14:17:43.276319",
     "exception": false,
     "start_time": "2024-05-03T14:17:42.966043",
     "status": "completed"
    },
    "tags": []
   },
   "outputs": [
    {
     "name": "stdout",
     "output_type": "stream",
     "text": [
      "Validation Set Accuracy: 2.849002927541733 %\n"
     ]
    }
   ],
   "source": [
    "print(\"Validation Set Accuracy: {} %\".format(training_history.history['val_accuracy'][-1]*100))"
   ]
  },
  {
   "cell_type": "markdown",
   "id": "dd6eb5f4",
   "metadata": {
    "papermill": {
     "duration": 0.298936,
     "end_time": "2024-05-03T14:17:43.872319",
     "exception": false,
     "start_time": "2024-05-03T14:17:43.573383",
     "status": "completed"
    },
    "tags": []
   },
   "source": [
    "# Visualization Of Accuracy "
   ]
  },
  {
   "cell_type": "code",
   "execution_count": 19,
   "id": "1ae77620",
   "metadata": {
    "execution": {
     "iopub.execute_input": "2024-05-03T14:17:44.474890Z",
     "iopub.status.busy": "2024-05-03T14:17:44.474245Z",
     "iopub.status.idle": "2024-05-03T14:17:44.823810Z",
     "shell.execute_reply": "2024-05-03T14:17:44.822254Z"
    },
    "papermill": {
     "duration": 0.655596,
     "end_time": "2024-05-03T14:17:44.827013",
     "exception": false,
     "start_time": "2024-05-03T14:17:44.171417",
     "status": "completed"
    },
    "tags": []
   },
   "outputs": [
    {
     "data": {
      "image/png": "[encoded data removed]",
      "text/plain": [
       "<Figure size 640x480 with 1 Axes>"
      ]
     },
     "metadata": {},
     "output_type": "display_data"
    }
   ],
   "source": [
    "# training visualization\n",
    "epochs =[i for i in range(1,31)]\n",
    "plt.plot(epochs,training_history.history['accuracy'],color='red')\n",
    "plt.xlabel('Epochs')\n",
    "plt.ylabel('Traini Accuracy')\n",
    "plt.title('Visaulization of training accuracy result')\n",
    "plt.show()"
   ]
  },
  {
   "cell_type": "code",
   "execution_count": 20,
   "id": "b4870465",
   "metadata": {
    "execution": {
     "iopub.execute_input": "2024-05-03T14:17:45.458067Z",
     "iopub.status.busy": "2024-05-03T14:17:45.457664Z",
     "iopub.status.idle": "2024-05-03T14:17:45.711747Z",
     "shell.execute_reply": "2024-05-03T14:17:45.710532Z"
    },
    "papermill": {
     "duration": 0.575848,
     "end_time": "2024-05-03T14:17:45.714484",
     "exception": false,
     "start_time": "2024-05-03T14:17:45.138636",
     "status": "completed"
    },
    "tags": []
   },
   "outputs": [
    {
     "data": {
      "image/png": "[encoded data removed]",
      "text/plain": [
       "<Figure size 640x480 with 1 Axes>"
      ]
     },
     "metadata": {},
     "output_type": "display_data"
    }
   ],
   "source": [
    "plt.plot(epochs,training_history.history['val_accuracy'],color='blue')\n",
    "plt.xlabel('Number of Epochs')\n",
    "plt.ylabel('Validation accuracy')\n",
    "plt.title('Visualization of accuracy result')\n",
    "plt.show()"
   ]
  },
  {
   "cell_type": "code",
   "execution_count": null,
   "id": "e26374eb",
   "metadata": {
    "papermill": {
     "duration": 0.404873,
     "end_time": "2024-05-03T14:17:46.420680",
     "exception": false,
     "start_time": "2024-05-03T14:17:46.015807",
     "status": "completed"
    },
    "tags": []
   },
   "outputs": [],
   "source": []
  }
 ],
 "metadata": {
  "kaggle": {
   "accelerator": "none",
   "dataSources": [
    {
     "datasetId": 952827,
     "sourceId": 3173719,
     "sourceType": "datasetVersion"
    }
   ],
   "dockerImageVersionId": 30664,
   "isGpuEnabled": false,
   "isInternetEnabled": true,
   "language": "python",
   "sourceType": "notebook"
  },
  "kernelspec": {
   "display_name": "Python 3",
   "language": "python",
   "name": "python3"
  },
  "language_info": {
   "codemirror_mode": {
    "name": "ipython",
    "version": 3
   },
   "file_extension": ".py",
   "mimetype": "text/x-python",
   "name": "python",
   "nbconvert_exporter": "python",
   "pygments_lexer": "ipython3",
   "version": "3.10.13"
  },
  "papermill": {
   "default_parameters": {},
   "duration": 2046.599216,
   "end_time": "2024-05-03T14:17:48.459217",
   "environment_variables": {},
   "exception": null,
   "input_path": "__notebook__.ipynb",
   "output_path": "__notebook__.ipynb",
   "parameters": {},
   "start_time": "2024-05-03T13:43:41.860001",
   "version": "2.5.0"
  }
 },
 "nbformat": 4,
 "nbformat_minor": 5
}
