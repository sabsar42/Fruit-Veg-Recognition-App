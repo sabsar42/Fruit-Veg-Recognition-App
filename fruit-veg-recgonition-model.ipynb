{
 "cells": [
  {
   "cell_type": "markdown",
   "id": "d1bc6cd1",
   "metadata": {
    "papermill": {
     "duration": 0.007885,
     "end_time": "2024-04-26T09:08:26.346626",
     "exception": false,
     "start_time": "2024-04-26T09:08:26.338741",
     "status": "completed"
    },
    "tags": []
   },
   "source": [
    "# Importing Dataset"
   ]
  },
  {
   "cell_type": "code",
   "execution_count": 1,
   "id": "51e8a24c",
   "metadata": {
    "execution": {
     "iopub.execute_input": "2024-04-26T09:08:26.363387Z",
     "iopub.status.busy": "2024-04-26T09:08:26.362913Z",
     "iopub.status.idle": "2024-04-26T09:08:44.245831Z",
     "shell.execute_reply": "2024-04-26T09:08:44.244138Z"
    },
    "papermill": {
     "duration": 17.895876,
     "end_time": "2024-04-26T09:08:44.249924",
     "exception": false,
     "start_time": "2024-04-26T09:08:26.354048",
     "status": "completed"
    },
    "tags": []
   },
   "outputs": [
    {
     "name": "stderr",
     "output_type": "stream",
     "text": [
      "2024-04-26 09:08:28.962041: E external/local_xla/xla/stream_executor/cuda/cuda_dnn.cc:9261] Unable to register cuDNN factory: Attempting to register factory for plugin cuDNN when one has already been registered\n",
      "2024-04-26 09:08:28.962203: E external/local_xla/xla/stream_executor/cuda/cuda_fft.cc:607] Unable to register cuFFT factory: Attempting to register factory for plugin cuFFT when one has already been registered\n",
      "2024-04-26 09:08:29.139492: E external/local_xla/xla/stream_executor/cuda/cuda_blas.cc:1515] Unable to register cuBLAS factory: Attempting to register factory for plugin cuBLAS when one has already been registered\n"
     ]
    }
   ],
   "source": [
    "import numpy as np\n",
    "import matplotlib.pyplot as plt\n",
    "import tensorflow as tf\n",
    "from tensorflow import keras"
   ]
  },
  {
   "cell_type": "markdown",
   "id": "fe1e82c4",
   "metadata": {
    "papermill": {
     "duration": 0.008477,
     "end_time": "2024-04-26T09:08:44.270022",
     "exception": false,
     "start_time": "2024-04-26T09:08:44.261545",
     "status": "completed"
    },
    "tags": []
   },
   "source": [
    "# Data Pre-Processing"
   ]
  },
  {
   "cell_type": "markdown",
   "id": "c8962511",
   "metadata": {
    "papermill": {
     "duration": 0.008229,
     "end_time": "2024-04-26T09:08:44.286933",
     "exception": false,
     "start_time": "2024-04-26T09:08:44.278704",
     "status": "completed"
    },
    "tags": []
   },
   "source": [
    "## Training Image Pre-Processing\n"
   ]
  },
  {
   "cell_type": "code",
   "execution_count": 2,
   "id": "290a1612",
   "metadata": {
    "execution": {
     "iopub.execute_input": "2024-04-26T09:08:44.305704Z",
     "iopub.status.busy": "2024-04-26T09:08:44.304778Z",
     "iopub.status.idle": "2024-04-26T09:08:45.293744Z",
     "shell.execute_reply": "2024-04-26T09:08:45.292413Z"
    },
    "papermill": {
     "duration": 1.00234,
     "end_time": "2024-04-26T09:08:45.297165",
     "exception": false,
     "start_time": "2024-04-26T09:08:44.294825",
     "status": "completed"
    },
    "tags": []
   },
   "outputs": [
    {
     "name": "stdout",
     "output_type": "stream",
     "text": [
      "Found 3115 files belonging to 36 classes.\n"
     ]
    }
   ],
   "source": [
    "training_set = keras.utils.image_dataset_from_directory(\n",
    "    '/kaggle/input/fruit-and-vegetable-image-recognition/train',\n",
    "    labels=\"inferred\",\n",
    "    label_mode=\"categorical\",\n",
    "    class_names=None,\n",
    "    color_mode=\"rgb\",\n",
    "    batch_size=32,\n",
    "    image_size=(64, 64),\n",
    "    shuffle=True,\n",
    "    seed=None,\n",
    "    validation_split=None,\n",
    "    subset=None,\n",
    "    interpolation=\"bilinear\",\n",
    "    follow_links=False,\n",
    "    crop_to_aspect_ratio=False,\n",
    "    data_format=None,\n",
    ")"
   ]
  },
  {
   "cell_type": "markdown",
   "id": "5b036a2b",
   "metadata": {
    "papermill": {
     "duration": 0.008161,
     "end_time": "2024-04-26T09:08:45.314004",
     "exception": false,
     "start_time": "2024-04-26T09:08:45.305843",
     "status": "completed"
    },
    "tags": []
   },
   "source": [
    "## Validtion Image Pre-Processing"
   ]
  },
  {
   "cell_type": "code",
   "execution_count": 3,
   "id": "36860b20",
   "metadata": {
    "execution": {
     "iopub.execute_input": "2024-04-26T09:08:45.334870Z",
     "iopub.status.busy": "2024-04-26T09:08:45.334385Z",
     "iopub.status.idle": "2024-04-26T09:08:45.678881Z",
     "shell.execute_reply": "2024-04-26T09:08:45.677356Z"
    },
    "papermill": {
     "duration": 0.358569,
     "end_time": "2024-04-26T09:08:45.682301",
     "exception": false,
     "start_time": "2024-04-26T09:08:45.323732",
     "status": "completed"
    },
    "tags": []
   },
   "outputs": [
    {
     "name": "stdout",
     "output_type": "stream",
     "text": [
      "Found 351 files belonging to 36 classes.\n"
     ]
    }
   ],
   "source": [
    "validation_set = keras.utils.image_dataset_from_directory(\n",
    "    '/kaggle/input/fruit-and-vegetable-image-recognition/validation',\n",
    "    labels=\"inferred\",\n",
    "    label_mode=\"categorical\",\n",
    "    class_names=None,\n",
    "    color_mode=\"rgb\",\n",
    "    batch_size=32,\n",
    "    image_size=(64, 64),\n",
    "    shuffle=True,\n",
    "    seed=None,\n",
    "    validation_split=None,\n",
    "    subset=None,\n",
    "    interpolation=\"bilinear\",\n",
    "    follow_links=False,\n",
    "    crop_to_aspect_ratio=False,\n",
    "    data_format=None,\n",
    ")"
   ]
  },
  {
   "cell_type": "markdown",
   "id": "7a8debee",
   "metadata": {
    "papermill": {
     "duration": 0.007342,
     "end_time": "2024-04-26T09:08:45.697699",
     "exception": false,
     "start_time": "2024-04-26T09:08:45.690357",
     "status": "completed"
    },
    "tags": []
   },
   "source": [
    "# Building Model"
   ]
  },
  {
   "cell_type": "code",
   "execution_count": 4,
   "id": "fad1fb31",
   "metadata": {
    "execution": {
     "iopub.execute_input": "2024-04-26T09:08:45.716136Z",
     "iopub.status.busy": "2024-04-26T09:08:45.715496Z",
     "iopub.status.idle": "2024-04-26T09:08:45.724200Z",
     "shell.execute_reply": "2024-04-26T09:08:45.722814Z"
    },
    "papermill": {
     "duration": 0.021506,
     "end_time": "2024-04-26T09:08:45.727368",
     "exception": false,
     "start_time": "2024-04-26T09:08:45.705862",
     "status": "completed"
    },
    "tags": []
   },
   "outputs": [],
   "source": [
    "cnn = tf.keras.models.Sequential()"
   ]
  },
  {
   "cell_type": "markdown",
   "id": "6150c60d",
   "metadata": {
    "papermill": {
     "duration": 0.007114,
     "end_time": "2024-04-26T09:08:45.742081",
     "exception": false,
     "start_time": "2024-04-26T09:08:45.734967",
     "status": "completed"
    },
    "tags": []
   },
   "source": [
    "# Building Convulation layer"
   ]
  },
  {
   "cell_type": "code",
   "execution_count": 5,
   "id": "6ec255ba",
   "metadata": {
    "execution": {
     "iopub.execute_input": "2024-04-26T09:08:45.760424Z",
     "iopub.status.busy": "2024-04-26T09:08:45.759895Z",
     "iopub.status.idle": "2024-04-26T09:08:45.811291Z",
     "shell.execute_reply": "2024-04-26T09:08:45.809624Z"
    },
    "papermill": {
     "duration": 0.064986,
     "end_time": "2024-04-26T09:08:45.814487",
     "exception": false,
     "start_time": "2024-04-26T09:08:45.749501",
     "status": "completed"
    },
    "tags": []
   },
   "outputs": [
    {
     "name": "stderr",
     "output_type": "stream",
     "text": [
      "/opt/conda/lib/python3.10/site-packages/keras/src/layers/convolutional/base_conv.py:99: UserWarning: Do not pass an `input_shape`/`input_dim` argument to a layer. When using Sequential models, prefer using an `Input(shape)` object as the first layer in the model instead.\n",
      "  super().__init__(\n"
     ]
    }
   ],
   "source": [
    "cnn.add(tf.keras.layers.Conv2D(filters=64, kernel_size=3, activation='relu', input_shape=[64,64,3]))\n",
    "cnn.add(tf.keras.layers.MaxPool2D(pool_size=2, strides=2))\n"
   ]
  },
  {
   "cell_type": "code",
   "execution_count": 6,
   "id": "4d15a75f",
   "metadata": {
    "execution": {
     "iopub.execute_input": "2024-04-26T09:08:45.832550Z",
     "iopub.status.busy": "2024-04-26T09:08:45.832024Z",
     "iopub.status.idle": "2024-04-26T09:08:45.861559Z",
     "shell.execute_reply": "2024-04-26T09:08:45.859964Z"
    },
    "papermill": {
     "duration": 0.043125,
     "end_time": "2024-04-26T09:08:45.865552",
     "exception": false,
     "start_time": "2024-04-26T09:08:45.822427",
     "status": "completed"
    },
    "tags": []
   },
   "outputs": [],
   "source": [
    "cnn.add(tf.keras.layers.Conv2D(filters=64, kernel_size=3, activation='relu', ))\n",
    "cnn.add(tf.keras.layers.MaxPool2D(pool_size=2, strides=2))"
   ]
  },
  {
   "cell_type": "code",
   "execution_count": 7,
   "id": "ec6907ac",
   "metadata": {
    "execution": {
     "iopub.execute_input": "2024-04-26T09:08:45.885011Z",
     "iopub.status.busy": "2024-04-26T09:08:45.884587Z",
     "iopub.status.idle": "2024-04-26T09:08:45.901577Z",
     "shell.execute_reply": "2024-04-26T09:08:45.900106Z"
    },
    "papermill": {
     "duration": 0.030733,
     "end_time": "2024-04-26T09:08:45.904885",
     "exception": false,
     "start_time": "2024-04-26T09:08:45.874152",
     "status": "completed"
    },
    "tags": []
   },
   "outputs": [],
   "source": [
    "cnn.add(tf.keras.layers.Dropout(0.5)) #to avoid overfitting"
   ]
  },
  {
   "cell_type": "code",
   "execution_count": 8,
   "id": "62cef340",
   "metadata": {
    "execution": {
     "iopub.execute_input": "2024-04-26T09:08:45.924327Z",
     "iopub.status.busy": "2024-04-26T09:08:45.923915Z",
     "iopub.status.idle": "2024-04-26T09:08:45.939050Z",
     "shell.execute_reply": "2024-04-26T09:08:45.937631Z"
    },
    "papermill": {
     "duration": 0.028512,
     "end_time": "2024-04-26T09:08:45.942040",
     "exception": false,
     "start_time": "2024-04-26T09:08:45.913528",
     "status": "completed"
    },
    "tags": []
   },
   "outputs": [],
   "source": [
    "cnn.add(tf.keras.layers.Flatten())"
   ]
  },
  {
   "cell_type": "code",
   "execution_count": 9,
   "id": "6257dcd4",
   "metadata": {
    "execution": {
     "iopub.execute_input": "2024-04-26T09:08:45.960606Z",
     "iopub.status.busy": "2024-04-26T09:08:45.960021Z",
     "iopub.status.idle": "2024-04-26T09:08:46.007560Z",
     "shell.execute_reply": "2024-04-26T09:08:46.006240Z"
    },
    "papermill": {
     "duration": 0.060888,
     "end_time": "2024-04-26T09:08:46.011271",
     "exception": false,
     "start_time": "2024-04-26T09:08:45.950383",
     "status": "completed"
    },
    "tags": []
   },
   "outputs": [],
   "source": [
    "cnn.add(tf.keras.layers.Dense(units=128))"
   ]
  },
  {
   "cell_type": "code",
   "execution_count": 10,
   "id": "d36c477c",
   "metadata": {
    "execution": {
     "iopub.execute_input": "2024-04-26T09:08:46.030182Z",
     "iopub.status.busy": "2024-04-26T09:08:46.029782Z",
     "iopub.status.idle": "2024-04-26T09:08:46.053026Z",
     "shell.execute_reply": "2024-04-26T09:08:46.051590Z"
    },
    "papermill": {
     "duration": 0.036838,
     "end_time": "2024-04-26T09:08:46.056359",
     "exception": false,
     "start_time": "2024-04-26T09:08:46.019521",
     "status": "completed"
    },
    "tags": []
   },
   "outputs": [],
   "source": [
    "cnn.add(tf.keras.layers.Dense(units=128,activation='relu'))"
   ]
  },
  {
   "cell_type": "markdown",
   "id": "1c44b130",
   "metadata": {
    "papermill": {
     "duration": 0.007394,
     "end_time": "2024-04-26T09:08:46.071621",
     "exception": false,
     "start_time": "2024-04-26T09:08:46.064227",
     "status": "completed"
    },
    "tags": []
   },
   "source": [
    "# Output Layer"
   ]
  },
  {
   "cell_type": "code",
   "execution_count": 11,
   "id": "4200b409",
   "metadata": {
    "execution": {
     "iopub.execute_input": "2024-04-26T09:08:46.089707Z",
     "iopub.status.busy": "2024-04-26T09:08:46.088618Z",
     "iopub.status.idle": "2024-04-26T09:08:46.116497Z",
     "shell.execute_reply": "2024-04-26T09:08:46.114676Z"
    },
    "papermill": {
     "duration": 0.040458,
     "end_time": "2024-04-26T09:08:46.119678",
     "exception": false,
     "start_time": "2024-04-26T09:08:46.079220",
     "status": "completed"
    },
    "tags": []
   },
   "outputs": [],
   "source": [
    "cnn.add(tf.keras.layers.Dense(units=36,activation='softmax')) "
   ]
  },
  {
   "cell_type": "markdown",
   "id": "0c104339",
   "metadata": {
    "papermill": {
     "duration": 0.007226,
     "end_time": "2024-04-26T09:08:46.134708",
     "exception": false,
     "start_time": "2024-04-26T09:08:46.127482",
     "status": "completed"
    },
    "tags": []
   },
   "source": [
    "# Compiling and Training Phase "
   ]
  },
  {
   "cell_type": "code",
   "execution_count": 12,
   "id": "4c20cb7d",
   "metadata": {
    "execution": {
     "iopub.execute_input": "2024-04-26T09:08:46.152421Z",
     "iopub.status.busy": "2024-04-26T09:08:46.151932Z",
     "iopub.status.idle": "2024-04-26T09:08:46.172209Z",
     "shell.execute_reply": "2024-04-26T09:08:46.170147Z"
    },
    "papermill": {
     "duration": 0.033212,
     "end_time": "2024-04-26T09:08:46.175507",
     "exception": false,
     "start_time": "2024-04-26T09:08:46.142295",
     "status": "completed"
    },
    "tags": []
   },
   "outputs": [],
   "source": [
    "cnn.compile(optimizer='rmsprop', loss='categorical_crossentropy', metrics=['accuracy'])"
   ]
  },
  {
   "cell_type": "code",
   "execution_count": 13,
   "id": "8dada2a4",
   "metadata": {
    "execution": {
     "iopub.execute_input": "2024-04-26T09:08:46.193166Z",
     "iopub.status.busy": "2024-04-26T09:08:46.192685Z",
     "iopub.status.idle": "2024-04-26T09:42:36.637235Z",
     "shell.execute_reply": "2024-04-26T09:42:36.635959Z"
    },
    "papermill": {
     "duration": 2030.456776,
     "end_time": "2024-04-26T09:42:36.640288",
     "exception": false,
     "start_time": "2024-04-26T09:08:46.183512",
     "status": "completed"
    },
    "tags": []
   },
   "outputs": [
    {
     "name": "stdout",
     "output_type": "stream",
     "text": [
      "Epoch 1/30\n",
      "\u001b[1m98/98\u001b[0m \u001b[32m━━━━━━━━━━━━━━━━━━━━\u001b[0m\u001b[37m\u001b[0m \u001b[1m83s\u001b[0m 766ms/step - accuracy: 0.0390 - loss: 37.1704 - val_accuracy: 0.0484 - val_loss: 3.5937\n",
      "Epoch 2/30\n",
      "\u001b[1m98/98\u001b[0m \u001b[32m━━━━━━━━━━━━━━━━━━━━\u001b[0m\u001b[37m\u001b[0m \u001b[1m67s\u001b[0m 644ms/step - accuracy: 0.0339 - loss: 3.8682 - val_accuracy: 0.0627 - val_loss: 3.5346\n",
      "Epoch 3/30\n",
      "\u001b[1m98/98\u001b[0m \u001b[32m━━━━━━━━━━━━━━━━━━━━\u001b[0m\u001b[37m\u001b[0m \u001b[1m67s\u001b[0m 642ms/step - accuracy: 0.0629 - loss: 3.9739 - val_accuracy: 0.1538 - val_loss: 3.4216\n",
      "Epoch 4/30\n",
      "\u001b[1m98/98\u001b[0m \u001b[32m━━━━━━━━━━━━━━━━━━━━\u001b[0m\u001b[37m\u001b[0m \u001b[1m67s\u001b[0m 638ms/step - accuracy: 0.0926 - loss: 3.8199 - val_accuracy: 0.2165 - val_loss: 3.1578\n",
      "Epoch 5/30\n",
      "\u001b[1m98/98\u001b[0m \u001b[32m━━━━━━━━━━━━━━━━━━━━\u001b[0m\u001b[37m\u001b[0m \u001b[1m79s\u001b[0m 614ms/step - accuracy: 0.1210 - loss: 3.6474 - val_accuracy: 0.2422 - val_loss: 3.1220\n",
      "Epoch 6/30\n",
      "\u001b[1m98/98\u001b[0m \u001b[32m━━━━━━━━━━━━━━━━━━━━\u001b[0m\u001b[37m\u001b[0m \u001b[1m64s\u001b[0m 615ms/step - accuracy: 0.1296 - loss: 3.9226 - val_accuracy: 0.0342 - val_loss: 3.5614\n",
      "Epoch 7/30\n",
      "\u001b[1m98/98\u001b[0m \u001b[32m━━━━━━━━━━━━━━━━━━━━\u001b[0m\u001b[37m\u001b[0m \u001b[1m64s\u001b[0m 614ms/step - accuracy: 0.0383 - loss: 3.7680 - val_accuracy: 0.0285 - val_loss: 3.5776\n",
      "Epoch 8/30\n",
      "\u001b[1m98/98\u001b[0m \u001b[32m━━━━━━━━━━━━━━━━━━━━\u001b[0m\u001b[37m\u001b[0m \u001b[1m65s\u001b[0m 624ms/step - accuracy: 0.0350 - loss: 4.4754 - val_accuracy: 0.0285 - val_loss: 3.5780\n",
      "Epoch 9/30\n",
      "\u001b[1m98/98\u001b[0m \u001b[32m━━━━━━━━━━━━━━━━━━━━\u001b[0m\u001b[37m\u001b[0m \u001b[1m66s\u001b[0m 635ms/step - accuracy: 0.0352 - loss: 3.6016 - val_accuracy: 0.0285 - val_loss: 3.5844\n",
      "Epoch 10/30\n",
      "\u001b[1m98/98\u001b[0m \u001b[32m━━━━━━━━━━━━━━━━━━━━\u001b[0m\u001b[37m\u001b[0m \u001b[1m66s\u001b[0m 629ms/step - accuracy: 0.0318 - loss: 3.5818 - val_accuracy: 0.0285 - val_loss: 3.5846\n",
      "Epoch 11/30\n",
      "\u001b[1m98/98\u001b[0m \u001b[32m━━━━━━━━━━━━━━━━━━━━\u001b[0m\u001b[37m\u001b[0m \u001b[1m67s\u001b[0m 641ms/step - accuracy: 0.0338 - loss: 3.5806 - val_accuracy: 0.0285 - val_loss: 3.5848\n",
      "Epoch 12/30\n",
      "\u001b[1m98/98\u001b[0m \u001b[32m━━━━━━━━━━━━━━━━━━━━\u001b[0m\u001b[37m\u001b[0m \u001b[1m66s\u001b[0m 634ms/step - accuracy: 0.0313 - loss: 3.5803 - val_accuracy: 0.0285 - val_loss: 3.5851\n",
      "Epoch 13/30\n",
      "\u001b[1m98/98\u001b[0m \u001b[32m━━━━━━━━━━━━━━━━━━━━\u001b[0m\u001b[37m\u001b[0m \u001b[1m66s\u001b[0m 632ms/step - accuracy: 0.0318 - loss: 3.5807 - val_accuracy: 0.0285 - val_loss: 3.5853\n",
      "Epoch 14/30\n",
      "\u001b[1m98/98\u001b[0m \u001b[32m━━━━━━━━━━━━━━━━━━━━\u001b[0m\u001b[37m\u001b[0m \u001b[1m67s\u001b[0m 641ms/step - accuracy: 0.0312 - loss: 3.5805 - val_accuracy: 0.0285 - val_loss: 3.5855\n",
      "Epoch 15/30\n",
      "\u001b[1m98/98\u001b[0m \u001b[32m━━━━━━━━━━━━━━━━━━━━\u001b[0m\u001b[37m\u001b[0m \u001b[1m66s\u001b[0m 632ms/step - accuracy: 0.0315 - loss: 3.5812 - val_accuracy: 0.0285 - val_loss: 3.5858\n",
      "Epoch 16/30\n",
      "\u001b[1m98/98\u001b[0m \u001b[32m━━━━━━━━━━━━━━━━━━━━\u001b[0m\u001b[37m\u001b[0m \u001b[1m66s\u001b[0m 626ms/step - accuracy: 0.0313 - loss: 3.5801 - val_accuracy: 0.0285 - val_loss: 3.5860\n",
      "Epoch 17/30\n",
      "\u001b[1m98/98\u001b[0m \u001b[32m━━━━━━━━━━━━━━━━━━━━\u001b[0m\u001b[37m\u001b[0m \u001b[1m66s\u001b[0m 633ms/step - accuracy: 0.0325 - loss: 3.5810 - val_accuracy: 0.0285 - val_loss: 3.5862\n",
      "Epoch 18/30\n",
      "\u001b[1m98/98\u001b[0m \u001b[32m━━━━━━━━━━━━━━━━━━━━\u001b[0m\u001b[37m\u001b[0m \u001b[1m67s\u001b[0m 643ms/step - accuracy: 0.0324 - loss: 3.5802 - val_accuracy: 0.0285 - val_loss: 3.5865\n",
      "Epoch 19/30\n",
      "\u001b[1m98/98\u001b[0m \u001b[32m━━━━━━━━━━━━━━━━━━━━\u001b[0m\u001b[37m\u001b[0m \u001b[1m67s\u001b[0m 641ms/step - accuracy: 0.0311 - loss: 3.5799 - val_accuracy: 0.0285 - val_loss: 3.5867\n",
      "Epoch 20/30\n",
      "\u001b[1m98/98\u001b[0m \u001b[32m━━━━━━━━━━━━━━━━━━━━\u001b[0m\u001b[37m\u001b[0m \u001b[1m66s\u001b[0m 629ms/step - accuracy: 0.0318 - loss: 3.5797 - val_accuracy: 0.0285 - val_loss: 3.5869\n",
      "Epoch 21/30\n",
      "\u001b[1m98/98\u001b[0m \u001b[32m━━━━━━━━━━━━━━━━━━━━\u001b[0m\u001b[37m\u001b[0m \u001b[1m66s\u001b[0m 624ms/step - accuracy: 0.0341 - loss: 3.5805 - val_accuracy: 0.0285 - val_loss: 3.5870\n",
      "Epoch 22/30\n",
      "\u001b[1m98/98\u001b[0m \u001b[32m━━━━━━━━━━━━━━━━━━━━\u001b[0m\u001b[37m\u001b[0m \u001b[1m66s\u001b[0m 628ms/step - accuracy: 0.0310 - loss: 3.5800 - val_accuracy: 0.0285 - val_loss: 3.5872\n",
      "Epoch 23/30\n",
      "\u001b[1m98/98\u001b[0m \u001b[32m━━━━━━━━━━━━━━━━━━━━\u001b[0m\u001b[37m\u001b[0m \u001b[1m65s\u001b[0m 626ms/step - accuracy: 0.0299 - loss: 3.5806 - val_accuracy: 0.0285 - val_loss: 3.5874\n",
      "Epoch 24/30\n",
      "\u001b[1m98/98\u001b[0m \u001b[32m━━━━━━━━━━━━━━━━━━━━\u001b[0m\u001b[37m\u001b[0m \u001b[1m66s\u001b[0m 632ms/step - accuracy: 0.0293 - loss: 3.5804 - val_accuracy: 0.0285 - val_loss: 3.5876\n",
      "Epoch 25/30\n",
      "\u001b[1m98/98\u001b[0m \u001b[32m━━━━━━━━━━━━━━━━━━━━\u001b[0m\u001b[37m\u001b[0m \u001b[1m67s\u001b[0m 635ms/step - accuracy: 0.0291 - loss: 3.5800 - val_accuracy: 0.0285 - val_loss: 3.5877\n",
      "Epoch 26/30\n",
      "\u001b[1m98/98\u001b[0m \u001b[32m━━━━━━━━━━━━━━━━━━━━\u001b[0m\u001b[37m\u001b[0m \u001b[1m66s\u001b[0m 634ms/step - accuracy: 0.0267 - loss: 3.5810 - val_accuracy: 0.0285 - val_loss: 3.5879\n",
      "Epoch 27/30\n",
      "\u001b[1m98/98\u001b[0m \u001b[32m━━━━━━━━━━━━━━━━━━━━\u001b[0m\u001b[37m\u001b[0m \u001b[1m67s\u001b[0m 636ms/step - accuracy: 0.0301 - loss: 3.5810 - val_accuracy: 0.0285 - val_loss: 3.5880\n",
      "Epoch 28/30\n",
      "\u001b[1m98/98\u001b[0m \u001b[32m━━━━━━━━━━━━━━━━━━━━\u001b[0m\u001b[37m\u001b[0m \u001b[1m65s\u001b[0m 620ms/step - accuracy: 0.0309 - loss: 3.5808 - val_accuracy: 0.0285 - val_loss: 3.5882\n",
      "Epoch 29/30\n",
      "\u001b[1m98/98\u001b[0m \u001b[32m━━━━━━━━━━━━━━━━━━━━\u001b[0m\u001b[37m\u001b[0m \u001b[1m65s\u001b[0m 617ms/step - accuracy: 0.0332 - loss: 3.5800 - val_accuracy: 0.0285 - val_loss: 3.5883\n",
      "Epoch 30/30\n",
      "\u001b[1m98/98\u001b[0m \u001b[32m━━━━━━━━━━━━━━━━━━━━\u001b[0m\u001b[37m\u001b[0m \u001b[1m82s\u001b[0m 616ms/step - accuracy: 0.0314 - loss: 3.5800 - val_accuracy: 0.0285 - val_loss: 3.5884\n"
     ]
    }
   ],
   "source": [
    "training_history = cnn.fit(x=training_set, validation_data=validation_set, epochs=30)\n"
   ]
  },
  {
   "cell_type": "code",
   "execution_count": 14,
   "id": "1ec805d8",
   "metadata": {
    "execution": {
     "iopub.execute_input": "2024-04-26T09:42:37.250633Z",
     "iopub.status.busy": "2024-04-26T09:42:37.250129Z",
     "iopub.status.idle": "2024-04-26T09:42:37.324428Z",
     "shell.execute_reply": "2024-04-26T09:42:37.323183Z"
    },
    "papermill": {
     "duration": 0.379562,
     "end_time": "2024-04-26T09:42:37.327334",
     "exception": false,
     "start_time": "2024-04-26T09:42:36.947772",
     "status": "completed"
    },
    "tags": []
   },
   "outputs": [],
   "source": [
    "cnn.save('trained_model.h5')"
   ]
  },
  {
   "cell_type": "code",
   "execution_count": null,
   "id": "63863c05",
   "metadata": {
    "papermill": {
     "duration": 0.294351,
     "end_time": "2024-04-26T09:42:37.917989",
     "exception": false,
     "start_time": "2024-04-26T09:42:37.623638",
     "status": "completed"
    },
    "tags": []
   },
   "outputs": [],
   "source": []
  }
 ],
 "metadata": {
  "kaggle": {
   "accelerator": "none",
   "dataSources": [
    {
     "datasetId": 952827,
     "sourceId": 3173719,
     "sourceType": "datasetVersion"
    }
   ],
   "dockerImageVersionId": 30664,
   "isGpuEnabled": false,
   "isInternetEnabled": true,
   "language": "python",
   "sourceType": "notebook"
  },
  "kernelspec": {
   "display_name": "Python 3",
   "language": "python",
   "name": "python3"
  },
  "language_info": {
   "codemirror_mode": {
    "name": "ipython",
    "version": 3
   },
   "file_extension": ".py",
   "mimetype": "text/x-python",
   "name": "python",
   "nbconvert_exporter": "python",
   "pygments_lexer": "ipython3",
   "version": "3.10.13"
  },
  "papermill": {
   "default_parameters": {},
   "duration": 2057.892928,
   "end_time": "2024-04-26T09:42:40.891092",
   "environment_variables": {},
   "exception": null,
   "input_path": "__notebook__.ipynb",
   "output_path": "__notebook__.ipynb",
   "parameters": {},
   "start_time": "2024-04-26T09:08:22.998164",
   "version": "2.5.0"
  }
 },
 "nbformat": 4,
 "nbformat_minor": 5
}
