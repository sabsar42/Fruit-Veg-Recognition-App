{
 "cells": [
  {
   "cell_type": "markdown",
   "id": "7dfcbb10",
   "metadata": {
    "papermill": {
     "duration": 0.00319,
     "end_time": "2024-03-23T00:17:47.363593",
     "exception": false,
     "start_time": "2024-03-23T00:17:47.360403",
     "status": "completed"
    },
    "tags": []
   },
   "source": [
    "# Importing Dataset"
   ]
  },
  {
   "cell_type": "code",
   "execution_count": 1,
   "id": "2f5e0569",
   "metadata": {
    "execution": {
     "iopub.execute_input": "2024-03-23T00:17:47.370836Z",
     "iopub.status.busy": "2024-03-23T00:17:47.370401Z",
     "iopub.status.idle": "2024-03-23T00:18:01.371947Z",
     "shell.execute_reply": "2024-03-23T00:18:01.370713Z"
    },
    "papermill": {
     "duration": 14.00807,
     "end_time": "2024-03-23T00:18:01.374392",
     "exception": false,
     "start_time": "2024-03-23T00:17:47.366322",
     "status": "completed"
    },
    "tags": []
   },
   "outputs": [
    {
     "name": "stderr",
     "output_type": "stream",
     "text": [
      "2024-03-23 00:17:49.430130: E external/local_xla/xla/stream_executor/cuda/cuda_dnn.cc:9261] Unable to register cuDNN factory: Attempting to register factory for plugin cuDNN when one has already been registered\n",
      "2024-03-23 00:17:49.430261: E external/local_xla/xla/stream_executor/cuda/cuda_fft.cc:607] Unable to register cuFFT factory: Attempting to register factory for plugin cuFFT when one has already been registered\n",
      "2024-03-23 00:17:49.580959: E external/local_xla/xla/stream_executor/cuda/cuda_blas.cc:1515] Unable to register cuBLAS factory: Attempting to register factory for plugin cuBLAS when one has already been registered\n"
     ]
    }
   ],
   "source": [
    "import numpy as np\n",
    "import matplotlib.pyplot as plt\n",
    "import tensorflow as tf\n",
    "from tensorflow import keras"
   ]
  },
  {
   "cell_type": "markdown",
   "id": "912cfbaf",
   "metadata": {
    "papermill": {
     "duration": 0.002374,
     "end_time": "2024-03-23T00:18:01.379615",
     "exception": false,
     "start_time": "2024-03-23T00:18:01.377241",
     "status": "completed"
    },
    "tags": []
   },
   "source": [
    "# Data Pre-Processing"
   ]
  },
  {
   "cell_type": "markdown",
   "id": "b69feca3",
   "metadata": {
    "papermill": {
     "duration": 0.002258,
     "end_time": "2024-03-23T00:18:01.384379",
     "exception": false,
     "start_time": "2024-03-23T00:18:01.382121",
     "status": "completed"
    },
    "tags": []
   },
   "source": [
    "## Training Image Pre-Processing\n"
   ]
  },
  {
   "cell_type": "code",
   "execution_count": 2,
   "id": "1aebd59d",
   "metadata": {
    "execution": {
     "iopub.execute_input": "2024-03-23T00:18:01.392152Z",
     "iopub.status.busy": "2024-03-23T00:18:01.390796Z",
     "iopub.status.idle": "2024-03-23T00:18:01.762761Z",
     "shell.execute_reply": "2024-03-23T00:18:01.761752Z"
    },
    "papermill": {
     "duration": 0.378391,
     "end_time": "2024-03-23T00:18:01.765210",
     "exception": false,
     "start_time": "2024-03-23T00:18:01.386819",
     "status": "completed"
    },
    "tags": []
   },
   "outputs": [
    {
     "name": "stdout",
     "output_type": "stream",
     "text": [
      "Found 3115 files belonging to 36 classes.\n"
     ]
    }
   ],
   "source": [
    "training_set = keras.utils.image_dataset_from_directory(\n",
    "    '/kaggle/input/fruit-and-vegetable-image-recognition/train',\n",
    "    labels=\"inferred\",\n",
    "    label_mode=\"categorical\",\n",
    "    class_names=None,\n",
    "    color_mode=\"rgb\",\n",
    "    batch_size=32,\n",
    "    image_size=(64, 64),\n",
    "    shuffle=True,\n",
    "    seed=None,\n",
    "    validation_split=None,\n",
    "    subset=None,\n",
    "    interpolation=\"bilinear\",\n",
    "    follow_links=False,\n",
    "    crop_to_aspect_ratio=False,\n",
    "    data_format=None,\n",
    ")"
   ]
  },
  {
   "cell_type": "markdown",
   "id": "f3972bf3",
   "metadata": {
    "papermill": {
     "duration": 0.002461,
     "end_time": "2024-03-23T00:18:01.770584",
     "exception": false,
     "start_time": "2024-03-23T00:18:01.768123",
     "status": "completed"
    },
    "tags": []
   },
   "source": [
    "## Validtion Image Pre-Processing"
   ]
  },
  {
   "cell_type": "code",
   "execution_count": 3,
   "id": "5e48f34f",
   "metadata": {
    "execution": {
     "iopub.execute_input": "2024-03-23T00:18:01.777377Z",
     "iopub.status.busy": "2024-03-23T00:18:01.776987Z",
     "iopub.status.idle": "2024-03-23T00:18:01.918683Z",
     "shell.execute_reply": "2024-03-23T00:18:01.917456Z"
    },
    "papermill": {
     "duration": 0.148689,
     "end_time": "2024-03-23T00:18:01.921845",
     "exception": false,
     "start_time": "2024-03-23T00:18:01.773156",
     "status": "completed"
    },
    "tags": []
   },
   "outputs": [
    {
     "name": "stdout",
     "output_type": "stream",
     "text": [
      "Found 351 files belonging to 36 classes.\n"
     ]
    }
   ],
   "source": [
    "validation_set = keras.utils.image_dataset_from_directory(\n",
    "    '/kaggle/input/fruit-and-vegetable-image-recognition/validation',\n",
    "    labels=\"inferred\",\n",
    "    label_mode=\"categorical\",\n",
    "    class_names=None,\n",
    "    color_mode=\"rgb\",\n",
    "    batch_size=32,\n",
    "    image_size=(64, 64),\n",
    "    shuffle=True,\n",
    "    seed=None,\n",
    "    validation_split=None,\n",
    "    subset=None,\n",
    "    interpolation=\"bilinear\",\n",
    "    follow_links=False,\n",
    "    crop_to_aspect_ratio=False,\n",
    "    data_format=None,\n",
    ")"
   ]
  },
  {
   "cell_type": "code",
   "execution_count": null,
   "id": "6c5c185a",
   "metadata": {
    "papermill": {
     "duration": 0.002539,
     "end_time": "2024-03-23T00:18:01.927300",
     "exception": false,
     "start_time": "2024-03-23T00:18:01.924761",
     "status": "completed"
    },
    "tags": []
   },
   "outputs": [],
   "source": []
  }
 ],
 "metadata": {
  "kaggle": {
   "accelerator": "none",
   "dataSources": [
    {
     "datasetId": 952827,
     "sourceId": 3173719,
     "sourceType": "datasetVersion"
    }
   ],
   "dockerImageVersionId": 30664,
   "isGpuEnabled": false,
   "isInternetEnabled": true,
   "language": "python",
   "sourceType": "notebook"
  },
  "kernelspec": {
   "display_name": "Python 3",
   "language": "python",
   "name": "python3"
  },
  "language_info": {
   "codemirror_mode": {
    "name": "ipython",
    "version": 3
   },
   "file_extension": ".py",
   "mimetype": "text/x-python",
   "name": "python",
   "nbconvert_exporter": "python",
   "pygments_lexer": "ipython3",
   "version": "3.10.13"
  },
  "papermill": {
   "default_parameters": {},
   "duration": 19.106531,
   "end_time": "2024-03-23T00:18:03.353753",
   "environment_variables": {},
   "exception": null,
   "input_path": "__notebook__.ipynb",
   "output_path": "__notebook__.ipynb",
   "parameters": {},
   "start_time": "2024-03-23T00:17:44.247222",
   "version": "2.5.0"
  }
 },
 "nbformat": 4,
 "nbformat_minor": 5
}
