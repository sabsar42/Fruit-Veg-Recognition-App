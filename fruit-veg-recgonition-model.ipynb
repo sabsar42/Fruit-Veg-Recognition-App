{
 "cells": [
  {
   "cell_type": "markdown",
   "id": "dad1ebda",
   "metadata": {
    "papermill": {
     "duration": 0.002957,
     "end_time": "2024-04-15T13:27:40.340696",
     "exception": false,
     "start_time": "2024-04-15T13:27:40.337739",
     "status": "completed"
    },
    "tags": []
   },
   "source": [
    "# Importing Dataset"
   ]
  },
  {
   "cell_type": "code",
   "execution_count": 1,
   "id": "d3770fe3",
   "metadata": {
    "execution": {
     "iopub.execute_input": "2024-04-15T13:27:40.349098Z",
     "iopub.status.busy": "2024-04-15T13:27:40.348684Z",
     "iopub.status.idle": "2024-04-15T13:27:53.586403Z",
     "shell.execute_reply": "2024-04-15T13:27:53.585289Z"
    },
    "papermill": {
     "duration": 13.245654,
     "end_time": "2024-04-15T13:27:53.589072",
     "exception": false,
     "start_time": "2024-04-15T13:27:40.343418",
     "status": "completed"
    },
    "tags": []
   },
   "outputs": [
    {
     "name": "stderr",
     "output_type": "stream",
     "text": [
      "2024-04-15 13:27:42.214973: E external/local_xla/xla/stream_executor/cuda/cuda_dnn.cc:9261] Unable to register cuDNN factory: Attempting to register factory for plugin cuDNN when one has already been registered\n",
      "2024-04-15 13:27:42.215114: E external/local_xla/xla/stream_executor/cuda/cuda_fft.cc:607] Unable to register cuFFT factory: Attempting to register factory for plugin cuFFT when one has already been registered\n",
      "2024-04-15 13:27:42.346090: E external/local_xla/xla/stream_executor/cuda/cuda_blas.cc:1515] Unable to register cuBLAS factory: Attempting to register factory for plugin cuBLAS when one has already been registered\n"
     ]
    }
   ],
   "source": [
    "import numpy as np\n",
    "import matplotlib.pyplot as plt\n",
    "import tensorflow as tf\n",
    "from tensorflow import keras"
   ]
  },
  {
   "cell_type": "markdown",
   "id": "d270efdb",
   "metadata": {
    "papermill": {
     "duration": 0.002345,
     "end_time": "2024-04-15T13:27:53.594305",
     "exception": false,
     "start_time": "2024-04-15T13:27:53.591960",
     "status": "completed"
    },
    "tags": []
   },
   "source": [
    "# Data Pre-Processing"
   ]
  },
  {
   "cell_type": "markdown",
   "id": "f1b2efee",
   "metadata": {
    "papermill": {
     "duration": 0.002224,
     "end_time": "2024-04-15T13:27:53.599016",
     "exception": false,
     "start_time": "2024-04-15T13:27:53.596792",
     "status": "completed"
    },
    "tags": []
   },
   "source": [
    "## Training Image Pre-Processing\n"
   ]
  },
  {
   "cell_type": "code",
   "execution_count": 2,
   "id": "259219da",
   "metadata": {
    "execution": {
     "iopub.execute_input": "2024-04-15T13:27:53.606006Z",
     "iopub.status.busy": "2024-04-15T13:27:53.605334Z",
     "iopub.status.idle": "2024-04-15T13:27:54.049306Z",
     "shell.execute_reply": "2024-04-15T13:27:54.048357Z"
    },
    "papermill": {
     "duration": 0.450329,
     "end_time": "2024-04-15T13:27:54.051783",
     "exception": false,
     "start_time": "2024-04-15T13:27:53.601454",
     "status": "completed"
    },
    "tags": []
   },
   "outputs": [
    {
     "name": "stdout",
     "output_type": "stream",
     "text": [
      "Found 3115 files belonging to 36 classes.\n"
     ]
    }
   ],
   "source": [
    "training_set = keras.utils.image_dataset_from_directory(\n",
    "    '/kaggle/input/fruit-and-vegetable-image-recognition/train',\n",
    "    labels=\"inferred\",\n",
    "    label_mode=\"categorical\",\n",
    "    class_names=None,\n",
    "    color_mode=\"rgb\",\n",
    "    batch_size=32,\n",
    "    image_size=(64, 64),\n",
    "    shuffle=True,\n",
    "    seed=None,\n",
    "    validation_split=None,\n",
    "    subset=None,\n",
    "    interpolation=\"bilinear\",\n",
    "    follow_links=False,\n",
    "    crop_to_aspect_ratio=False,\n",
    "    data_format=None,\n",
    ")"
   ]
  },
  {
   "cell_type": "markdown",
   "id": "c2e05356",
   "metadata": {
    "papermill": {
     "duration": 0.002355,
     "end_time": "2024-04-15T13:27:54.056988",
     "exception": false,
     "start_time": "2024-04-15T13:27:54.054633",
     "status": "completed"
    },
    "tags": []
   },
   "source": [
    "## Validtion Image Pre-Processing"
   ]
  },
  {
   "cell_type": "code",
   "execution_count": 3,
   "id": "80a176c6",
   "metadata": {
    "execution": {
     "iopub.execute_input": "2024-04-15T13:27:54.063401Z",
     "iopub.status.busy": "2024-04-15T13:27:54.063033Z",
     "iopub.status.idle": "2024-04-15T13:27:54.183917Z",
     "shell.execute_reply": "2024-04-15T13:27:54.182812Z"
    },
    "papermill": {
     "duration": 0.127037,
     "end_time": "2024-04-15T13:27:54.186433",
     "exception": false,
     "start_time": "2024-04-15T13:27:54.059396",
     "status": "completed"
    },
    "tags": []
   },
   "outputs": [
    {
     "name": "stdout",
     "output_type": "stream",
     "text": [
      "Found 351 files belonging to 36 classes.\n"
     ]
    }
   ],
   "source": [
    "validation_set = keras.utils.image_dataset_from_directory(\n",
    "    '/kaggle/input/fruit-and-vegetable-image-recognition/validation',\n",
    "    labels=\"inferred\",\n",
    "    label_mode=\"categorical\",\n",
    "    class_names=None,\n",
    "    color_mode=\"rgb\",\n",
    "    batch_size=32,\n",
    "    image_size=(64, 64),\n",
    "    shuffle=True,\n",
    "    seed=None,\n",
    "    validation_split=None,\n",
    "    subset=None,\n",
    "    interpolation=\"bilinear\",\n",
    "    follow_links=False,\n",
    "    crop_to_aspect_ratio=False,\n",
    "    data_format=None,\n",
    ")"
   ]
  },
  {
   "cell_type": "code",
   "execution_count": null,
   "id": "565ba04c",
   "metadata": {
    "papermill": {
     "duration": 0.002543,
     "end_time": "2024-04-15T13:27:54.191887",
     "exception": false,
     "start_time": "2024-04-15T13:27:54.189344",
     "status": "completed"
    },
    "tags": []
   },
   "outputs": [],
   "source": []
  }
 ],
 "metadata": {
  "kaggle": {
   "accelerator": "none",
   "dataSources": [
    {
     "datasetId": 952827,
     "sourceId": 3173719,
     "sourceType": "datasetVersion"
    }
   ],
   "dockerImageVersionId": 30664,
   "isGpuEnabled": false,
   "isInternetEnabled": true,
   "language": "python",
   "sourceType": "notebook"
  },
  "kernelspec": {
   "display_name": "Python 3",
   "language": "python",
   "name": "python3"
  },
  "language_info": {
   "codemirror_mode": {
    "name": "ipython",
    "version": 3
   },
   "file_extension": ".py",
   "mimetype": "text/x-python",
   "name": "python",
   "nbconvert_exporter": "python",
   "pygments_lexer": "ipython3",
   "version": "3.10.13"
  },
  "papermill": {
   "default_parameters": {},
   "duration": 18.034688,
   "end_time": "2024-04-15T13:27:55.626250",
   "environment_variables": {},
   "exception": null,
   "input_path": "__notebook__.ipynb",
   "output_path": "__notebook__.ipynb",
   "parameters": {},
   "start_time": "2024-04-15T13:27:37.591562",
   "version": "2.5.0"
  }
 },
 "nbformat": 4,
 "nbformat_minor": 5
}
