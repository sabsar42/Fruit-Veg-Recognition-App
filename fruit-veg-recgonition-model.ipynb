{
 "cells": [
  {
   "cell_type": "markdown",
   "id": "44d6f5b9",
   "metadata": {
    "papermill": {
     "duration": 0.007713,
     "end_time": "2024-05-02T18:00:49.753268",
     "exception": false,
     "start_time": "2024-05-02T18:00:49.745555",
     "status": "completed"
    },
    "tags": []
   },
   "source": [
    "# Importing Dataset"
   ]
  },
  {
   "cell_type": "code",
   "execution_count": 1,
   "id": "93be4a8d",
   "metadata": {
    "execution": {
     "iopub.execute_input": "2024-05-02T18:00:49.770083Z",
     "iopub.status.busy": "2024-05-02T18:00:49.769585Z",
     "iopub.status.idle": "2024-05-02T18:01:05.027924Z",
     "shell.execute_reply": "2024-05-02T18:01:05.026789Z"
    },
    "papermill": {
     "duration": 15.270535,
     "end_time": "2024-05-02T18:01:05.030970",
     "exception": false,
     "start_time": "2024-05-02T18:00:49.760435",
     "status": "completed"
    },
    "tags": []
   },
   "outputs": [
    {
     "name": "stderr",
     "output_type": "stream",
     "text": [
      "2024-05-02 18:00:51.979123: E external/local_xla/xla/stream_executor/cuda/cuda_dnn.cc:9261] Unable to register cuDNN factory: Attempting to register factory for plugin cuDNN when one has already been registered\n",
      "2024-05-02 18:00:51.979319: E external/local_xla/xla/stream_executor/cuda/cuda_fft.cc:607] Unable to register cuFFT factory: Attempting to register factory for plugin cuFFT when one has already been registered\n",
      "2024-05-02 18:00:52.148475: E external/local_xla/xla/stream_executor/cuda/cuda_blas.cc:1515] Unable to register cuBLAS factory: Attempting to register factory for plugin cuBLAS when one has already been registered\n"
     ]
    }
   ],
   "source": [
    "import numpy as np\n",
    "import matplotlib.pyplot as plt\n",
    "import tensorflow as tf\n",
    "from tensorflow import keras"
   ]
  },
  {
   "cell_type": "markdown",
   "id": "7198bef1",
   "metadata": {
    "papermill": {
     "duration": 0.006964,
     "end_time": "2024-05-02T18:01:05.045372",
     "exception": false,
     "start_time": "2024-05-02T18:01:05.038408",
     "status": "completed"
    },
    "tags": []
   },
   "source": [
    "# Data Pre-Processing"
   ]
  },
  {
   "cell_type": "markdown",
   "id": "01c9aad0",
   "metadata": {
    "papermill": {
     "duration": 0.006908,
     "end_time": "2024-05-02T18:01:05.059541",
     "exception": false,
     "start_time": "2024-05-02T18:01:05.052633",
     "status": "completed"
    },
    "tags": []
   },
   "source": [
    "## Training Image Pre-Processing\n"
   ]
  },
  {
   "cell_type": "code",
   "execution_count": 2,
   "id": "454595c5",
   "metadata": {
    "execution": {
     "iopub.execute_input": "2024-05-02T18:01:05.076113Z",
     "iopub.status.busy": "2024-05-02T18:01:05.075375Z",
     "iopub.status.idle": "2024-05-02T18:01:05.545724Z",
     "shell.execute_reply": "2024-05-02T18:01:05.544679Z"
    },
    "papermill": {
     "duration": 0.481879,
     "end_time": "2024-05-02T18:01:05.548596",
     "exception": false,
     "start_time": "2024-05-02T18:01:05.066717",
     "status": "completed"
    },
    "tags": []
   },
   "outputs": [
    {
     "name": "stdout",
     "output_type": "stream",
     "text": [
      "Found 3115 files belonging to 36 classes.\n"
     ]
    }
   ],
   "source": [
    "training_set = keras.utils.image_dataset_from_directory(\n",
    "    '/kaggle/input/fruit-and-vegetable-image-recognition/train',\n",
    "    labels=\"inferred\",\n",
    "    label_mode=\"categorical\",\n",
    "    class_names=None,\n",
    "    color_mode=\"rgb\",\n",
    "    batch_size=32,\n",
    "    image_size=(64, 64),\n",
    "    shuffle=True,\n",
    "    seed=None,\n",
    "    validation_split=None,\n",
    "    subset=None,\n",
    "    interpolation=\"bilinear\",\n",
    "    follow_links=False,\n",
    "    crop_to_aspect_ratio=False,\n",
    "    data_format=None,\n",
    ")"
   ]
  },
  {
   "cell_type": "markdown",
   "id": "28018ec7",
   "metadata": {
    "papermill": {
     "duration": 0.006955,
     "end_time": "2024-05-02T18:01:05.563032",
     "exception": false,
     "start_time": "2024-05-02T18:01:05.556077",
     "status": "completed"
    },
    "tags": []
   },
   "source": [
    "## Validtion Image Pre-Processing"
   ]
  },
  {
   "cell_type": "code",
   "execution_count": 3,
   "id": "987d5b4b",
   "metadata": {
    "execution": {
     "iopub.execute_input": "2024-05-02T18:01:05.579897Z",
     "iopub.status.busy": "2024-05-02T18:01:05.578901Z",
     "iopub.status.idle": "2024-05-02T18:01:05.699202Z",
     "shell.execute_reply": "2024-05-02T18:01:05.698141Z"
    },
    "papermill": {
     "duration": 0.131653,
     "end_time": "2024-05-02T18:01:05.702034",
     "exception": false,
     "start_time": "2024-05-02T18:01:05.570381",
     "status": "completed"
    },
    "tags": []
   },
   "outputs": [
    {
     "name": "stdout",
     "output_type": "stream",
     "text": [
      "Found 351 files belonging to 36 classes.\n"
     ]
    }
   ],
   "source": [
    "validation_set = keras.utils.image_dataset_from_directory(\n",
    "    '/kaggle/input/fruit-and-vegetable-image-recognition/validation',\n",
    "    labels=\"inferred\",\n",
    "    label_mode=\"categorical\",\n",
    "    class_names=None,\n",
    "    color_mode=\"rgb\",\n",
    "    batch_size=32,\n",
    "    image_size=(64, 64),\n",
    "    shuffle=True,\n",
    "    seed=None,\n",
    "    validation_split=None,\n",
    "    subset=None,\n",
    "    interpolation=\"bilinear\",\n",
    "    follow_links=False,\n",
    "    crop_to_aspect_ratio=False,\n",
    "    data_format=None,\n",
    ")"
   ]
  },
  {
   "cell_type": "markdown",
   "id": "1c7e842f",
   "metadata": {
    "papermill": {
     "duration": 0.007376,
     "end_time": "2024-05-02T18:01:05.716994",
     "exception": false,
     "start_time": "2024-05-02T18:01:05.709618",
     "status": "completed"
    },
    "tags": []
   },
   "source": [
    "# Building Model"
   ]
  },
  {
   "cell_type": "code",
   "execution_count": 4,
   "id": "878cbb3c",
   "metadata": {
    "execution": {
     "iopub.execute_input": "2024-05-02T18:01:05.734390Z",
     "iopub.status.busy": "2024-05-02T18:01:05.733968Z",
     "iopub.status.idle": "2024-05-02T18:01:05.741012Z",
     "shell.execute_reply": "2024-05-02T18:01:05.739907Z"
    },
    "papermill": {
     "duration": 0.019036,
     "end_time": "2024-05-02T18:01:05.743532",
     "exception": false,
     "start_time": "2024-05-02T18:01:05.724496",
     "status": "completed"
    },
    "tags": []
   },
   "outputs": [],
   "source": [
    "cnn = tf.keras.models.Sequential()"
   ]
  },
  {
   "cell_type": "markdown",
   "id": "f70f84f0",
   "metadata": {
    "papermill": {
     "duration": 0.007053,
     "end_time": "2024-05-02T18:01:05.758292",
     "exception": false,
     "start_time": "2024-05-02T18:01:05.751239",
     "status": "completed"
    },
    "tags": []
   },
   "source": [
    "# Building Convulation layer"
   ]
  },
  {
   "cell_type": "code",
   "execution_count": 5,
   "id": "8c284d6a",
   "metadata": {
    "execution": {
     "iopub.execute_input": "2024-05-02T18:01:05.775640Z",
     "iopub.status.busy": "2024-05-02T18:01:05.775112Z",
     "iopub.status.idle": "2024-05-02T18:01:05.820480Z",
     "shell.execute_reply": "2024-05-02T18:01:05.819356Z"
    },
    "papermill": {
     "duration": 0.057371,
     "end_time": "2024-05-02T18:01:05.822938",
     "exception": false,
     "start_time": "2024-05-02T18:01:05.765567",
     "status": "completed"
    },
    "tags": []
   },
   "outputs": [
    {
     "name": "stderr",
     "output_type": "stream",
     "text": [
      "/opt/conda/lib/python3.10/site-packages/keras/src/layers/convolutional/base_conv.py:99: UserWarning: Do not pass an `input_shape`/`input_dim` argument to a layer. When using Sequential models, prefer using an `Input(shape)` object as the first layer in the model instead.\n",
      "  super().__init__(\n"
     ]
    }
   ],
   "source": [
    "cnn.add(tf.keras.layers.Conv2D(filters=64, kernel_size=3, activation='relu', input_shape=[64,64,3]))\n",
    "cnn.add(tf.keras.layers.MaxPool2D(pool_size=2, strides=2))\n"
   ]
  },
  {
   "cell_type": "code",
   "execution_count": 6,
   "id": "1aa0d545",
   "metadata": {
    "execution": {
     "iopub.execute_input": "2024-05-02T18:01:05.840053Z",
     "iopub.status.busy": "2024-05-02T18:01:05.839358Z",
     "iopub.status.idle": "2024-05-02T18:01:05.864588Z",
     "shell.execute_reply": "2024-05-02T18:01:05.863442Z"
    },
    "papermill": {
     "duration": 0.036852,
     "end_time": "2024-05-02T18:01:05.867240",
     "exception": false,
     "start_time": "2024-05-02T18:01:05.830388",
     "status": "completed"
    },
    "tags": []
   },
   "outputs": [],
   "source": [
    "cnn.add(tf.keras.layers.Conv2D(filters=64, kernel_size=3, activation='relu', ))\n",
    "cnn.add(tf.keras.layers.MaxPool2D(pool_size=2, strides=2))"
   ]
  },
  {
   "cell_type": "code",
   "execution_count": 7,
   "id": "ef78b300",
   "metadata": {
    "execution": {
     "iopub.execute_input": "2024-05-02T18:01:05.884297Z",
     "iopub.status.busy": "2024-05-02T18:01:05.883479Z",
     "iopub.status.idle": "2024-05-02T18:01:05.899398Z",
     "shell.execute_reply": "2024-05-02T18:01:05.898283Z"
    },
    "papermill": {
     "duration": 0.027338,
     "end_time": "2024-05-02T18:01:05.902121",
     "exception": false,
     "start_time": "2024-05-02T18:01:05.874783",
     "status": "completed"
    },
    "tags": []
   },
   "outputs": [],
   "source": [
    "cnn.add(tf.keras.layers.Dropout(0.5)) #to avoid overfitting"
   ]
  },
  {
   "cell_type": "code",
   "execution_count": 8,
   "id": "dee2d113",
   "metadata": {
    "execution": {
     "iopub.execute_input": "2024-05-02T18:01:05.918875Z",
     "iopub.status.busy": "2024-05-02T18:01:05.918478Z",
     "iopub.status.idle": "2024-05-02T18:01:05.931263Z",
     "shell.execute_reply": "2024-05-02T18:01:05.930217Z"
    },
    "papermill": {
     "duration": 0.023904,
     "end_time": "2024-05-02T18:01:05.933692",
     "exception": false,
     "start_time": "2024-05-02T18:01:05.909788",
     "status": "completed"
    },
    "tags": []
   },
   "outputs": [],
   "source": [
    "cnn.add(tf.keras.layers.Flatten())"
   ]
  },
  {
   "cell_type": "code",
   "execution_count": 9,
   "id": "42260c9b",
   "metadata": {
    "execution": {
     "iopub.execute_input": "2024-05-02T18:01:05.950442Z",
     "iopub.status.busy": "2024-05-02T18:01:05.949964Z",
     "iopub.status.idle": "2024-05-02T18:01:05.986472Z",
     "shell.execute_reply": "2024-05-02T18:01:05.985357Z"
    },
    "papermill": {
     "duration": 0.04798,
     "end_time": "2024-05-02T18:01:05.989223",
     "exception": false,
     "start_time": "2024-05-02T18:01:05.941243",
     "status": "completed"
    },
    "tags": []
   },
   "outputs": [],
   "source": [
    "cnn.add(tf.keras.layers.Dense(units=128))"
   ]
  },
  {
   "cell_type": "code",
   "execution_count": 10,
   "id": "b3ecd215",
   "metadata": {
    "execution": {
     "iopub.execute_input": "2024-05-02T18:01:06.006533Z",
     "iopub.status.busy": "2024-05-02T18:01:06.005722Z",
     "iopub.status.idle": "2024-05-02T18:01:06.026835Z",
     "shell.execute_reply": "2024-05-02T18:01:06.025629Z"
    },
    "papermill": {
     "duration": 0.03282,
     "end_time": "2024-05-02T18:01:06.029594",
     "exception": false,
     "start_time": "2024-05-02T18:01:05.996774",
     "status": "completed"
    },
    "tags": []
   },
   "outputs": [],
   "source": [
    "cnn.add(tf.keras.layers.Dense(units=128,activation='relu'))"
   ]
  },
  {
   "cell_type": "markdown",
   "id": "1f241854",
   "metadata": {
    "papermill": {
     "duration": 0.007125,
     "end_time": "2024-05-02T18:01:06.044249",
     "exception": false,
     "start_time": "2024-05-02T18:01:06.037124",
     "status": "completed"
    },
    "tags": []
   },
   "source": [
    "# Output Layer"
   ]
  },
  {
   "cell_type": "code",
   "execution_count": 11,
   "id": "17d3cb80",
   "metadata": {
    "execution": {
     "iopub.execute_input": "2024-05-02T18:01:06.060781Z",
     "iopub.status.busy": "2024-05-02T18:01:06.060342Z",
     "iopub.status.idle": "2024-05-02T18:01:06.083574Z",
     "shell.execute_reply": "2024-05-02T18:01:06.082122Z"
    },
    "papermill": {
     "duration": 0.034602,
     "end_time": "2024-05-02T18:01:06.086278",
     "exception": false,
     "start_time": "2024-05-02T18:01:06.051676",
     "status": "completed"
    },
    "tags": []
   },
   "outputs": [],
   "source": [
    "cnn.add(tf.keras.layers.Dense(units=36,activation='softmax')) "
   ]
  },
  {
   "cell_type": "markdown",
   "id": "8b3c9e20",
   "metadata": {
    "papermill": {
     "duration": 0.007316,
     "end_time": "2024-05-02T18:01:06.101481",
     "exception": false,
     "start_time": "2024-05-02T18:01:06.094165",
     "status": "completed"
    },
    "tags": []
   },
   "source": [
    "# Compiling and Training Phase "
   ]
  },
  {
   "cell_type": "code",
   "execution_count": 12,
   "id": "180e13e8",
   "metadata": {
    "execution": {
     "iopub.execute_input": "2024-05-02T18:01:06.118582Z",
     "iopub.status.busy": "2024-05-02T18:01:06.118172Z",
     "iopub.status.idle": "2024-05-02T18:01:06.132991Z",
     "shell.execute_reply": "2024-05-02T18:01:06.131717Z"
    },
    "papermill": {
     "duration": 0.02626,
     "end_time": "2024-05-02T18:01:06.135738",
     "exception": false,
     "start_time": "2024-05-02T18:01:06.109478",
     "status": "completed"
    },
    "tags": []
   },
   "outputs": [],
   "source": [
    "cnn.compile(optimizer='rmsprop', loss='categorical_crossentropy', metrics=['accuracy'])"
   ]
  },
  {
   "cell_type": "code",
   "execution_count": 13,
   "id": "877b563c",
   "metadata": {
    "execution": {
     "iopub.execute_input": "2024-05-02T18:01:06.152597Z",
     "iopub.status.busy": "2024-05-02T18:01:06.152185Z",
     "iopub.status.idle": "2024-05-02T18:34:13.847404Z",
     "shell.execute_reply": "2024-05-02T18:34:13.846437Z"
    },
    "papermill": {
     "duration": 1987.706625,
     "end_time": "2024-05-02T18:34:13.849950",
     "exception": false,
     "start_time": "2024-05-02T18:01:06.143325",
     "status": "completed"
    },
    "tags": []
   },
   "outputs": [
    {
     "name": "stdout",
     "output_type": "stream",
     "text": [
      "Epoch 1/30\n",
      "\u001b[1m98/98\u001b[0m \u001b[32m━━━━━━━━━━━━━━━━━━━━\u001b[0m\u001b[37m\u001b[0m \u001b[1m76s\u001b[0m 712ms/step - accuracy: 0.0376 - loss: 29.0833 - val_accuracy: 0.0598 - val_loss: 3.5385\n",
      "Epoch 2/30\n",
      "\u001b[1m98/98\u001b[0m \u001b[32m━━━━━━━━━━━━━━━━━━━━\u001b[0m\u001b[37m\u001b[0m \u001b[1m62s\u001b[0m 598ms/step - accuracy: 0.0378 - loss: 4.3242 - val_accuracy: 0.0855 - val_loss: 3.4983\n",
      "Epoch 3/30\n",
      "\u001b[1m98/98\u001b[0m \u001b[32m━━━━━━━━━━━━━━━━━━━━\u001b[0m\u001b[37m\u001b[0m \u001b[1m62s\u001b[0m 600ms/step - accuracy: 0.0678 - loss: 3.7288 - val_accuracy: 0.1624 - val_loss: 3.3337\n",
      "Epoch 4/30\n",
      "\u001b[1m98/98\u001b[0m \u001b[32m━━━━━━━━━━━━━━━━━━━━\u001b[0m\u001b[37m\u001b[0m \u001b[1m61s\u001b[0m 590ms/step - accuracy: 0.0970 - loss: 3.8128 - val_accuracy: 0.0541 - val_loss: 17.1317\n",
      "Epoch 5/30\n",
      "\u001b[1m98/98\u001b[0m \u001b[32m━━━━━━━━━━━━━━━━━━━━\u001b[0m\u001b[37m\u001b[0m \u001b[1m62s\u001b[0m 592ms/step - accuracy: 0.1265 - loss: 5.7827 - val_accuracy: 0.0826 - val_loss: 4.8768\n",
      "Epoch 6/30\n",
      "\u001b[1m98/98\u001b[0m \u001b[32m━━━━━━━━━━━━━━━━━━━━\u001b[0m\u001b[37m\u001b[0m \u001b[1m82s\u001b[0m 596ms/step - accuracy: 0.1490 - loss: 4.0521 - val_accuracy: 0.2536 - val_loss: 2.9372\n",
      "Epoch 7/30\n",
      "\u001b[1m98/98\u001b[0m \u001b[32m━━━━━━━━━━━━━━━━━━━━\u001b[0m\u001b[37m\u001b[0m \u001b[1m61s\u001b[0m 593ms/step - accuracy: 0.1747 - loss: 4.2330 - val_accuracy: 0.1681 - val_loss: 3.2123\n",
      "Epoch 8/30\n",
      "\u001b[1m98/98\u001b[0m \u001b[32m━━━━━━━━━━━━━━━━━━━━\u001b[0m\u001b[37m\u001b[0m \u001b[1m62s\u001b[0m 597ms/step - accuracy: 0.2196 - loss: 4.4771 - val_accuracy: 0.0313 - val_loss: 3.5755\n",
      "Epoch 9/30\n",
      "\u001b[1m98/98\u001b[0m \u001b[32m━━━━━━━━━━━━━━━━━━━━\u001b[0m\u001b[37m\u001b[0m \u001b[1m62s\u001b[0m 602ms/step - accuracy: 0.0308 - loss: 4.1073 - val_accuracy: 0.0285 - val_loss: 3.5849\n",
      "Epoch 10/30\n",
      "\u001b[1m98/98\u001b[0m \u001b[32m━━━━━━━━━━━━━━━━━━━━\u001b[0m\u001b[37m\u001b[0m \u001b[1m61s\u001b[0m 592ms/step - accuracy: 0.0263 - loss: 4.3300 - val_accuracy: 0.0285 - val_loss: 3.5849\n",
      "Epoch 11/30\n",
      "\u001b[1m98/98\u001b[0m \u001b[32m━━━━━━━━━━━━━━━━━━━━\u001b[0m\u001b[37m\u001b[0m \u001b[1m62s\u001b[0m 597ms/step - accuracy: 0.0287 - loss: 3.5805 - val_accuracy: 0.0285 - val_loss: 3.5850\n",
      "Epoch 12/30\n",
      "\u001b[1m98/98\u001b[0m \u001b[32m━━━━━━━━━━━━━━━━━━━━\u001b[0m\u001b[37m\u001b[0m \u001b[1m61s\u001b[0m 590ms/step - accuracy: 0.0271 - loss: 3.5806 - val_accuracy: 0.0285 - val_loss: 3.5851\n",
      "Epoch 13/30\n",
      "\u001b[1m98/98\u001b[0m \u001b[32m━━━━━━━━━━━━━━━━━━━━\u001b[0m\u001b[37m\u001b[0m \u001b[1m62s\u001b[0m 594ms/step - accuracy: 0.0308 - loss: 3.5808 - val_accuracy: 0.0285 - val_loss: 3.5852\n",
      "Epoch 14/30\n",
      "\u001b[1m98/98\u001b[0m \u001b[32m━━━━━━━━━━━━━━━━━━━━\u001b[0m\u001b[37m\u001b[0m \u001b[1m82s\u001b[0m 598ms/step - accuracy: 0.0288 - loss: 3.5795 - val_accuracy: 0.0285 - val_loss: 3.5853\n",
      "Epoch 15/30\n",
      "\u001b[1m98/98\u001b[0m \u001b[32m━━━━━━━━━━━━━━━━━━━━\u001b[0m\u001b[37m\u001b[0m \u001b[1m82s\u001b[0m 597ms/step - accuracy: 0.0286 - loss: 3.5791 - val_accuracy: 0.0285 - val_loss: 3.5855\n",
      "Epoch 16/30\n",
      "\u001b[1m98/98\u001b[0m \u001b[32m━━━━━━━━━━━━━━━━━━━━\u001b[0m\u001b[37m\u001b[0m \u001b[1m62s\u001b[0m 594ms/step - accuracy: 0.0293 - loss: 3.5796 - val_accuracy: 0.0285 - val_loss: 3.5857\n",
      "Epoch 17/30\n",
      "\u001b[1m98/98\u001b[0m \u001b[32m━━━━━━━━━━━━━━━━━━━━\u001b[0m\u001b[37m\u001b[0m \u001b[1m61s\u001b[0m 591ms/step - accuracy: 0.0307 - loss: 3.5796 - val_accuracy: 0.0285 - val_loss: 3.5859\n",
      "Epoch 18/30\n",
      "\u001b[1m98/98\u001b[0m \u001b[32m━━━━━━━━━━━━━━━━━━━━\u001b[0m\u001b[37m\u001b[0m \u001b[1m61s\u001b[0m 592ms/step - accuracy: 0.0282 - loss: 5.2485 - val_accuracy: 0.0285 - val_loss: 3.5862\n",
      "Epoch 19/30\n",
      "\u001b[1m98/98\u001b[0m \u001b[32m━━━━━━━━━━━━━━━━━━━━\u001b[0m\u001b[37m\u001b[0m \u001b[1m62s\u001b[0m 600ms/step - accuracy: 0.0254 - loss: 3.5784 - val_accuracy: 0.0285 - val_loss: 3.5863\n",
      "Epoch 20/30\n",
      "\u001b[1m98/98\u001b[0m \u001b[32m━━━━━━━━━━━━━━━━━━━━\u001b[0m\u001b[37m\u001b[0m \u001b[1m61s\u001b[0m 590ms/step - accuracy: 0.0309 - loss: 3.5800 - val_accuracy: 0.0285 - val_loss: 3.5866\n",
      "Epoch 21/30\n",
      "\u001b[1m98/98\u001b[0m \u001b[32m━━━━━━━━━━━━━━━━━━━━\u001b[0m\u001b[37m\u001b[0m \u001b[1m83s\u001b[0m 598ms/step - accuracy: 0.0315 - loss: 3.5784 - val_accuracy: 0.0285 - val_loss: 3.5867\n",
      "Epoch 22/30\n",
      "\u001b[1m98/98\u001b[0m \u001b[32m━━━━━━━━━━━━━━━━━━━━\u001b[0m\u001b[37m\u001b[0m \u001b[1m62s\u001b[0m 597ms/step - accuracy: 0.0316 - loss: 3.5786 - val_accuracy: 0.0285 - val_loss: 3.5869\n",
      "Epoch 23/30\n",
      "\u001b[1m98/98\u001b[0m \u001b[32m━━━━━━━━━━━━━━━━━━━━\u001b[0m\u001b[37m\u001b[0m \u001b[1m62s\u001b[0m 599ms/step - accuracy: 0.0320 - loss: 3.5788 - val_accuracy: 0.0285 - val_loss: 3.5871\n",
      "Epoch 24/30\n",
      "\u001b[1m98/98\u001b[0m \u001b[32m━━━━━━━━━━━━━━━━━━━━\u001b[0m\u001b[37m\u001b[0m \u001b[1m82s\u001b[0m 600ms/step - accuracy: 0.0346 - loss: 3.5782 - val_accuracy: 0.0285 - val_loss: 3.5871\n",
      "Epoch 25/30\n",
      "\u001b[1m98/98\u001b[0m \u001b[32m━━━━━━━━━━━━━━━━━━━━\u001b[0m\u001b[37m\u001b[0m \u001b[1m62s\u001b[0m 601ms/step - accuracy: 0.0306 - loss: 3.5778 - val_accuracy: 0.0285 - val_loss: 3.5874\n",
      "Epoch 26/30\n",
      "\u001b[1m98/98\u001b[0m \u001b[32m━━━━━━━━━━━━━━━━━━━━\u001b[0m\u001b[37m\u001b[0m \u001b[1m62s\u001b[0m 594ms/step - accuracy: 0.0333 - loss: 3.5786 - val_accuracy: 0.0285 - val_loss: 3.5875\n",
      "Epoch 27/30\n",
      "\u001b[1m98/98\u001b[0m \u001b[32m━━━━━━━━━━━━━━━━━━━━\u001b[0m\u001b[37m\u001b[0m \u001b[1m62s\u001b[0m 602ms/step - accuracy: 0.0348 - loss: 3.5788 - val_accuracy: 0.0285 - val_loss: 3.5876\n",
      "Epoch 28/30\n",
      "\u001b[1m98/98\u001b[0m \u001b[32m━━━━━━━━━━━━━━━━━━━━\u001b[0m\u001b[37m\u001b[0m \u001b[1m62s\u001b[0m 604ms/step - accuracy: 0.0341 - loss: 3.5792 - val_accuracy: 0.0285 - val_loss: 3.5877\n",
      "Epoch 29/30\n",
      "\u001b[1m98/98\u001b[0m \u001b[32m━━━━━━━━━━━━━━━━━━━━\u001b[0m\u001b[37m\u001b[0m \u001b[1m81s\u001b[0m 593ms/step - accuracy: 0.0320 - loss: 3.5790 - val_accuracy: 0.0285 - val_loss: 3.5879\n",
      "Epoch 30/30\n",
      "\u001b[1m98/98\u001b[0m \u001b[32m━━━━━━━━━━━━━━━━━━━━\u001b[0m\u001b[37m\u001b[0m \u001b[1m62s\u001b[0m 593ms/step - accuracy: 0.0358 - loss: 3.5776 - val_accuracy: 0.0285 - val_loss: 3.5880\n"
     ]
    }
   ],
   "source": [
    "training_history = cnn.fit(x=training_set, validation_data=validation_set, epochs=30)\n"
   ]
  },
  {
   "cell_type": "code",
   "execution_count": 14,
   "id": "40925e4b",
   "metadata": {
    "execution": {
     "iopub.execute_input": "2024-05-02T18:34:14.445396Z",
     "iopub.status.busy": "2024-05-02T18:34:14.444996Z",
     "iopub.status.idle": "2024-05-02T18:34:14.516832Z",
     "shell.execute_reply": "2024-05-02T18:34:14.515772Z"
    },
    "papermill": {
     "duration": 0.373762,
     "end_time": "2024-05-02T18:34:14.519695",
     "exception": false,
     "start_time": "2024-05-02T18:34:14.145933",
     "status": "completed"
    },
    "tags": []
   },
   "outputs": [],
   "source": [
    "cnn.save('trained_model.h5')"
   ]
  },
  {
   "cell_type": "code",
   "execution_count": null,
   "id": "38bad537",
   "metadata": {
    "papermill": {
     "duration": 0.297369,
     "end_time": "2024-05-02T18:34:15.109630",
     "exception": false,
     "start_time": "2024-05-02T18:34:14.812261",
     "status": "completed"
    },
    "tags": []
   },
   "outputs": [],
   "source": []
  }
 ],
 "metadata": {
  "kaggle": {
   "accelerator": "none",
   "dataSources": [
    {
     "datasetId": 952827,
     "sourceId": 3173719,
     "sourceType": "datasetVersion"
    }
   ],
   "dockerImageVersionId": 30664,
   "isGpuEnabled": false,
   "isInternetEnabled": true,
   "language": "python",
   "sourceType": "notebook"
  },
  "kernelspec": {
   "display_name": "Python 3",
   "language": "python",
   "name": "python3"
  },
  "language_info": {
   "codemirror_mode": {
    "name": "ipython",
    "version": 3
   },
   "file_extension": ".py",
   "mimetype": "text/x-python",
   "name": "python",
   "nbconvert_exporter": "python",
   "pygments_lexer": "ipython3",
   "version": "3.10.13"
  },
  "papermill": {
   "default_parameters": {},
   "duration": 2010.325943,
   "end_time": "2024-05-02T18:34:17.056417",
   "environment_variables": {},
   "exception": null,
   "input_path": "__notebook__.ipynb",
   "output_path": "__notebook__.ipynb",
   "parameters": {},
   "start_time": "2024-05-02T18:00:46.730474",
   "version": "2.5.0"
  }
 },
 "nbformat": 4,
 "nbformat_minor": 5
}
