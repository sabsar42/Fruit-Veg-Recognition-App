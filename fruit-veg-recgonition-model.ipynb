{
 "cells": [
  {
   "cell_type": "markdown",
   "id": "88218036",
   "metadata": {
    "papermill": {
     "duration": 0.008087,
     "end_time": "2024-04-18T05:50:37.759682",
     "exception": false,
     "start_time": "2024-04-18T05:50:37.751595",
     "status": "completed"
    },
    "tags": []
   },
   "source": [
    "# Importing Dataset"
   ]
  },
  {
   "cell_type": "code",
   "execution_count": 1,
   "id": "64948660",
   "metadata": {
    "execution": {
     "iopub.execute_input": "2024-04-18T05:50:37.779741Z",
     "iopub.status.busy": "2024-04-18T05:50:37.778832Z",
     "iopub.status.idle": "2024-04-18T05:50:54.527818Z",
     "shell.execute_reply": "2024-04-18T05:50:54.526464Z"
    },
    "papermill": {
     "duration": 16.763321,
     "end_time": "2024-04-18T05:50:54.531232",
     "exception": false,
     "start_time": "2024-04-18T05:50:37.767911",
     "status": "completed"
    },
    "tags": []
   },
   "outputs": [
    {
     "name": "stderr",
     "output_type": "stream",
     "text": [
      "2024-04-18 05:50:40.251005: E external/local_xla/xla/stream_executor/cuda/cuda_dnn.cc:9261] Unable to register cuDNN factory: Attempting to register factory for plugin cuDNN when one has already been registered\n",
      "2024-04-18 05:50:40.251155: E external/local_xla/xla/stream_executor/cuda/cuda_fft.cc:607] Unable to register cuFFT factory: Attempting to register factory for plugin cuFFT when one has already been registered\n",
      "2024-04-18 05:50:40.444041: E external/local_xla/xla/stream_executor/cuda/cuda_blas.cc:1515] Unable to register cuBLAS factory: Attempting to register factory for plugin cuBLAS when one has already been registered\n"
     ]
    }
   ],
   "source": [
    "import numpy as np\n",
    "import matplotlib.pyplot as plt\n",
    "import tensorflow as tf\n",
    "from tensorflow import keras"
   ]
  },
  {
   "cell_type": "markdown",
   "id": "033fbf72",
   "metadata": {
    "papermill": {
     "duration": 0.007162,
     "end_time": "2024-04-18T05:50:54.545980",
     "exception": false,
     "start_time": "2024-04-18T05:50:54.538818",
     "status": "completed"
    },
    "tags": []
   },
   "source": [
    "# Data Pre-Processing"
   ]
  },
  {
   "cell_type": "markdown",
   "id": "9701d115",
   "metadata": {
    "papermill": {
     "duration": 0.007115,
     "end_time": "2024-04-18T05:50:54.562283",
     "exception": false,
     "start_time": "2024-04-18T05:50:54.555168",
     "status": "completed"
    },
    "tags": []
   },
   "source": [
    "## Training Image Pre-Processing\n"
   ]
  },
  {
   "cell_type": "code",
   "execution_count": 2,
   "id": "515e074f",
   "metadata": {
    "execution": {
     "iopub.execute_input": "2024-04-18T05:50:54.580313Z",
     "iopub.status.busy": "2024-04-18T05:50:54.579519Z",
     "iopub.status.idle": "2024-04-18T05:50:55.136815Z",
     "shell.execute_reply": "2024-04-18T05:50:55.135468Z"
    },
    "papermill": {
     "duration": 0.569934,
     "end_time": "2024-04-18T05:50:55.139715",
     "exception": false,
     "start_time": "2024-04-18T05:50:54.569781",
     "status": "completed"
    },
    "tags": []
   },
   "outputs": [
    {
     "name": "stdout",
     "output_type": "stream",
     "text": [
      "Found 3115 files belonging to 36 classes.\n"
     ]
    }
   ],
   "source": [
    "training_set = keras.utils.image_dataset_from_directory(\n",
    "    '/kaggle/input/fruit-and-vegetable-image-recognition/train',\n",
    "    labels=\"inferred\",\n",
    "    label_mode=\"categorical\",\n",
    "    class_names=None,\n",
    "    color_mode=\"rgb\",\n",
    "    batch_size=32,\n",
    "    image_size=(64, 64),\n",
    "    shuffle=True,\n",
    "    seed=None,\n",
    "    validation_split=None,\n",
    "    subset=None,\n",
    "    interpolation=\"bilinear\",\n",
    "    follow_links=False,\n",
    "    crop_to_aspect_ratio=False,\n",
    "    data_format=None,\n",
    ")"
   ]
  },
  {
   "cell_type": "markdown",
   "id": "67843e21",
   "metadata": {
    "papermill": {
     "duration": 0.007057,
     "end_time": "2024-04-18T05:50:55.154242",
     "exception": false,
     "start_time": "2024-04-18T05:50:55.147185",
     "status": "completed"
    },
    "tags": []
   },
   "source": [
    "## Validtion Image Pre-Processing"
   ]
  },
  {
   "cell_type": "code",
   "execution_count": 3,
   "id": "b0ad6afa",
   "metadata": {
    "execution": {
     "iopub.execute_input": "2024-04-18T05:50:55.170742Z",
     "iopub.status.busy": "2024-04-18T05:50:55.170322Z",
     "iopub.status.idle": "2024-04-18T05:50:55.339831Z",
     "shell.execute_reply": "2024-04-18T05:50:55.338428Z"
    },
    "papermill": {
     "duration": 0.181639,
     "end_time": "2024-04-18T05:50:55.343296",
     "exception": false,
     "start_time": "2024-04-18T05:50:55.161657",
     "status": "completed"
    },
    "tags": []
   },
   "outputs": [
    {
     "name": "stdout",
     "output_type": "stream",
     "text": [
      "Found 351 files belonging to 36 classes.\n"
     ]
    }
   ],
   "source": [
    "validation_set = keras.utils.image_dataset_from_directory(\n",
    "    '/kaggle/input/fruit-and-vegetable-image-recognition/validation',\n",
    "    labels=\"inferred\",\n",
    "    label_mode=\"categorical\",\n",
    "    class_names=None,\n",
    "    color_mode=\"rgb\",\n",
    "    batch_size=32,\n",
    "    image_size=(64, 64),\n",
    "    shuffle=True,\n",
    "    seed=None,\n",
    "    validation_split=None,\n",
    "    subset=None,\n",
    "    interpolation=\"bilinear\",\n",
    "    follow_links=False,\n",
    "    crop_to_aspect_ratio=False,\n",
    "    data_format=None,\n",
    ")"
   ]
  },
  {
   "cell_type": "markdown",
   "id": "45bdeb4e",
   "metadata": {
    "papermill": {
     "duration": 0.007551,
     "end_time": "2024-04-18T05:50:55.358699",
     "exception": false,
     "start_time": "2024-04-18T05:50:55.351148",
     "status": "completed"
    },
    "tags": []
   },
   "source": [
    "# Building Model"
   ]
  },
  {
   "cell_type": "code",
   "execution_count": 4,
   "id": "dfe1c2d6",
   "metadata": {
    "execution": {
     "iopub.execute_input": "2024-04-18T05:50:55.377285Z",
     "iopub.status.busy": "2024-04-18T05:50:55.375796Z",
     "iopub.status.idle": "2024-04-18T05:50:55.384413Z",
     "shell.execute_reply": "2024-04-18T05:50:55.383041Z"
    },
    "papermill": {
     "duration": 0.020784,
     "end_time": "2024-04-18T05:50:55.387239",
     "exception": false,
     "start_time": "2024-04-18T05:50:55.366455",
     "status": "completed"
    },
    "tags": []
   },
   "outputs": [],
   "source": [
    "cnn = tf.keras.models.Sequential()"
   ]
  },
  {
   "cell_type": "markdown",
   "id": "c33ac08c",
   "metadata": {
    "papermill": {
     "duration": 0.007504,
     "end_time": "2024-04-18T05:50:55.403101",
     "exception": false,
     "start_time": "2024-04-18T05:50:55.395597",
     "status": "completed"
    },
    "tags": []
   },
   "source": [
    "# Building Convulation layer"
   ]
  },
  {
   "cell_type": "code",
   "execution_count": 5,
   "id": "d1983749",
   "metadata": {
    "execution": {
     "iopub.execute_input": "2024-04-18T05:50:55.422616Z",
     "iopub.status.busy": "2024-04-18T05:50:55.422113Z",
     "iopub.status.idle": "2024-04-18T05:50:55.476255Z",
     "shell.execute_reply": "2024-04-18T05:50:55.474587Z"
    },
    "papermill": {
     "duration": 0.067716,
     "end_time": "2024-04-18T05:50:55.479001",
     "exception": false,
     "start_time": "2024-04-18T05:50:55.411285",
     "status": "completed"
    },
    "tags": []
   },
   "outputs": [
    {
     "name": "stderr",
     "output_type": "stream",
     "text": [
      "/opt/conda/lib/python3.10/site-packages/keras/src/layers/convolutional/base_conv.py:99: UserWarning: Do not pass an `input_shape`/`input_dim` argument to a layer. When using Sequential models, prefer using an `Input(shape)` object as the first layer in the model instead.\n",
      "  super().__init__(\n"
     ]
    }
   ],
   "source": [
    "cnn.add(tf.keras.layers.Conv2D(filters=64, kernel_size=3, activation='relu', input_shape=[64,64,3]))\n",
    "cnn.add(tf.keras.layers.MaxPool2D(pool_size=2, strides=2))\n"
   ]
  },
  {
   "cell_type": "code",
   "execution_count": 6,
   "id": "45602131",
   "metadata": {
    "execution": {
     "iopub.execute_input": "2024-04-18T05:50:55.496636Z",
     "iopub.status.busy": "2024-04-18T05:50:55.496177Z",
     "iopub.status.idle": "2024-04-18T05:50:55.523626Z",
     "shell.execute_reply": "2024-04-18T05:50:55.522368Z"
    },
    "papermill": {
     "duration": 0.039898,
     "end_time": "2024-04-18T05:50:55.526716",
     "exception": false,
     "start_time": "2024-04-18T05:50:55.486818",
     "status": "completed"
    },
    "tags": []
   },
   "outputs": [],
   "source": [
    "cnn.add(tf.keras.layers.Conv2D(filters=64, kernel_size=3, activation='relu', ))\n",
    "cnn.add(tf.keras.layers.MaxPool2D(pool_size=2, strides=2))"
   ]
  },
  {
   "cell_type": "code",
   "execution_count": 7,
   "id": "a17dd258",
   "metadata": {
    "execution": {
     "iopub.execute_input": "2024-04-18T05:50:55.544796Z",
     "iopub.status.busy": "2024-04-18T05:50:55.543976Z",
     "iopub.status.idle": "2024-04-18T05:50:55.560618Z",
     "shell.execute_reply": "2024-04-18T05:50:55.559453Z"
    },
    "papermill": {
     "duration": 0.029053,
     "end_time": "2024-04-18T05:50:55.563708",
     "exception": false,
     "start_time": "2024-04-18T05:50:55.534655",
     "status": "completed"
    },
    "tags": []
   },
   "outputs": [],
   "source": [
    "cnn.add(tf.keras.layers.Dropout(0.5)) #to avoid overfitting"
   ]
  },
  {
   "cell_type": "code",
   "execution_count": 8,
   "id": "dbe6e9e9",
   "metadata": {
    "execution": {
     "iopub.execute_input": "2024-04-18T05:50:55.581220Z",
     "iopub.status.busy": "2024-04-18T05:50:55.580827Z",
     "iopub.status.idle": "2024-04-18T05:50:55.594089Z",
     "shell.execute_reply": "2024-04-18T05:50:55.592625Z"
    },
    "papermill": {
     "duration": 0.025074,
     "end_time": "2024-04-18T05:50:55.596798",
     "exception": false,
     "start_time": "2024-04-18T05:50:55.571724",
     "status": "completed"
    },
    "tags": []
   },
   "outputs": [],
   "source": [
    "cnn.add(tf.keras.layers.Flatten())"
   ]
  },
  {
   "cell_type": "code",
   "execution_count": 9,
   "id": "a2d684d4",
   "metadata": {
    "execution": {
     "iopub.execute_input": "2024-04-18T05:50:55.613547Z",
     "iopub.status.busy": "2024-04-18T05:50:55.613162Z",
     "iopub.status.idle": "2024-04-18T05:50:55.657251Z",
     "shell.execute_reply": "2024-04-18T05:50:55.655844Z"
    },
    "papermill": {
     "duration": 0.055876,
     "end_time": "2024-04-18T05:50:55.660133",
     "exception": false,
     "start_time": "2024-04-18T05:50:55.604257",
     "status": "completed"
    },
    "tags": []
   },
   "outputs": [],
   "source": [
    "cnn.add(tf.keras.layers.Dense(units=128))"
   ]
  },
  {
   "cell_type": "code",
   "execution_count": 10,
   "id": "cc963374",
   "metadata": {
    "execution": {
     "iopub.execute_input": "2024-04-18T05:50:55.677362Z",
     "iopub.status.busy": "2024-04-18T05:50:55.676888Z",
     "iopub.status.idle": "2024-04-18T05:50:55.701002Z",
     "shell.execute_reply": "2024-04-18T05:50:55.699507Z"
    },
    "papermill": {
     "duration": 0.036394,
     "end_time": "2024-04-18T05:50:55.704079",
     "exception": false,
     "start_time": "2024-04-18T05:50:55.667685",
     "status": "completed"
    },
    "tags": []
   },
   "outputs": [],
   "source": [
    "cnn.add(tf.keras.layers.Dense(units=128,activation='relu'))"
   ]
  },
  {
   "cell_type": "markdown",
   "id": "ef7f3859",
   "metadata": {
    "papermill": {
     "duration": 0.007446,
     "end_time": "2024-04-18T05:50:55.719445",
     "exception": false,
     "start_time": "2024-04-18T05:50:55.711999",
     "status": "completed"
    },
    "tags": []
   },
   "source": [
    "# Output Layer"
   ]
  },
  {
   "cell_type": "code",
   "execution_count": 11,
   "id": "a3cdab30",
   "metadata": {
    "execution": {
     "iopub.execute_input": "2024-04-18T05:50:55.736829Z",
     "iopub.status.busy": "2024-04-18T05:50:55.736413Z",
     "iopub.status.idle": "2024-04-18T05:50:55.760578Z",
     "shell.execute_reply": "2024-04-18T05:50:55.759293Z"
    },
    "papermill": {
     "duration": 0.036594,
     "end_time": "2024-04-18T05:50:55.763767",
     "exception": false,
     "start_time": "2024-04-18T05:50:55.727173",
     "status": "completed"
    },
    "tags": []
   },
   "outputs": [],
   "source": [
    "cnn.add(tf.keras.layers.Dense(units=36,activation='softmax')) "
   ]
  },
  {
   "cell_type": "markdown",
   "id": "63e50a62",
   "metadata": {
    "papermill": {
     "duration": 0.007525,
     "end_time": "2024-04-18T05:50:55.779642",
     "exception": false,
     "start_time": "2024-04-18T05:50:55.772117",
     "status": "completed"
    },
    "tags": []
   },
   "source": [
    "# Compiling and Training Phase "
   ]
  },
  {
   "cell_type": "code",
   "execution_count": 12,
   "id": "810ccd44",
   "metadata": {
    "execution": {
     "iopub.execute_input": "2024-04-18T05:50:55.797472Z",
     "iopub.status.busy": "2024-04-18T05:50:55.797045Z",
     "iopub.status.idle": "2024-04-18T05:50:55.814724Z",
     "shell.execute_reply": "2024-04-18T05:50:55.813639Z"
    },
    "papermill": {
     "duration": 0.029993,
     "end_time": "2024-04-18T05:50:55.817536",
     "exception": false,
     "start_time": "2024-04-18T05:50:55.787543",
     "status": "completed"
    },
    "tags": []
   },
   "outputs": [],
   "source": [
    "cnn.compile(optimizer='rmsprop', loss='categorical_crossentropy', metrics=['accuracy'])"
   ]
  },
  {
   "cell_type": "code",
   "execution_count": 13,
   "id": "5ea1805a",
   "metadata": {
    "execution": {
     "iopub.execute_input": "2024-04-18T05:50:55.836235Z",
     "iopub.status.busy": "2024-04-18T05:50:55.834980Z",
     "iopub.status.idle": "2024-04-18T06:25:32.493640Z",
     "shell.execute_reply": "2024-04-18T06:25:32.492096Z"
    },
    "papermill": {
     "duration": 2076.671719,
     "end_time": "2024-04-18T06:25:32.497141",
     "exception": false,
     "start_time": "2024-04-18T05:50:55.825422",
     "status": "completed"
    },
    "tags": []
   },
   "outputs": [
    {
     "name": "stdout",
     "output_type": "stream",
     "text": [
      "Epoch 1/30\n",
      "\u001b[1m98/98\u001b[0m \u001b[32m━━━━━━━━━━━━━━━━━━━━\u001b[0m\u001b[37m\u001b[0m \u001b[1m85s\u001b[0m 789ms/step - accuracy: 0.0353 - loss: 25.8096 - val_accuracy: 0.0855 - val_loss: 3.5211\n",
      "Epoch 2/30\n",
      "\u001b[1m98/98\u001b[0m \u001b[32m━━━━━━━━━━━━━━━━━━━━\u001b[0m\u001b[37m\u001b[0m \u001b[1m63s\u001b[0m 605ms/step - accuracy: 0.0510 - loss: 3.8735 - val_accuracy: 0.0969 - val_loss: 3.4926\n",
      "Epoch 3/30\n",
      "\u001b[1m98/98\u001b[0m \u001b[32m━━━━━━━━━━━━━━━━━━━━\u001b[0m\u001b[37m\u001b[0m \u001b[1m63s\u001b[0m 604ms/step - accuracy: 0.0835 - loss: 3.8080 - val_accuracy: 0.0370 - val_loss: 7.0844\n",
      "Epoch 4/30\n",
      "\u001b[1m98/98\u001b[0m \u001b[32m━━━━━━━━━━━━━━━━━━━━\u001b[0m\u001b[37m\u001b[0m \u001b[1m63s\u001b[0m 607ms/step - accuracy: 0.0972 - loss: 3.8714 - val_accuracy: 0.3191 - val_loss: 2.9847\n",
      "Epoch 5/30\n",
      "\u001b[1m98/98\u001b[0m \u001b[32m━━━━━━━━━━━━━━━━━━━━\u001b[0m\u001b[37m\u001b[0m \u001b[1m64s\u001b[0m 612ms/step - accuracy: 0.1210 - loss: 3.7674 - val_accuracy: 0.1083 - val_loss: 4.8834\n",
      "Epoch 6/30\n",
      "\u001b[1m98/98\u001b[0m \u001b[32m━━━━━━━━━━━━━━━━━━━━\u001b[0m\u001b[37m\u001b[0m \u001b[1m64s\u001b[0m 611ms/step - accuracy: 0.1757 - loss: 3.4735 - val_accuracy: 0.0313 - val_loss: 3.5690\n",
      "Epoch 7/30\n",
      "\u001b[1m98/98\u001b[0m \u001b[32m━━━━━━━━━━━━━━━━━━━━\u001b[0m\u001b[37m\u001b[0m \u001b[1m64s\u001b[0m 608ms/step - accuracy: 0.0300 - loss: 4.0365 - val_accuracy: 0.0285 - val_loss: 3.5841\n",
      "Epoch 8/30\n",
      "\u001b[1m98/98\u001b[0m \u001b[32m━━━━━━━━━━━━━━━━━━━━\u001b[0m\u001b[37m\u001b[0m \u001b[1m63s\u001b[0m 608ms/step - accuracy: 0.0315 - loss: 3.5828 - val_accuracy: 0.0285 - val_loss: 3.5841\n",
      "Epoch 9/30\n",
      "\u001b[1m98/98\u001b[0m \u001b[32m━━━━━━━━━━━━━━━━━━━━\u001b[0m\u001b[37m\u001b[0m \u001b[1m64s\u001b[0m 617ms/step - accuracy: 0.0275 - loss: 3.5829 - val_accuracy: 0.0285 - val_loss: 3.5842\n",
      "Epoch 10/30\n",
      "\u001b[1m98/98\u001b[0m \u001b[32m━━━━━━━━━━━━━━━━━━━━\u001b[0m\u001b[37m\u001b[0m \u001b[1m64s\u001b[0m 616ms/step - accuracy: 0.0330 - loss: 3.5814 - val_accuracy: 0.0285 - val_loss: 3.5843\n",
      "Epoch 11/30\n",
      "\u001b[1m98/98\u001b[0m \u001b[32m━━━━━━━━━━━━━━━━━━━━\u001b[0m\u001b[37m\u001b[0m \u001b[1m82s\u001b[0m 613ms/step - accuracy: 0.0318 - loss: 3.5798 - val_accuracy: 0.0285 - val_loss: 3.5845\n",
      "Epoch 12/30\n",
      "\u001b[1m98/98\u001b[0m \u001b[32m━━━━━━━━━━━━━━━━━━━━\u001b[0m\u001b[37m\u001b[0m \u001b[1m64s\u001b[0m 612ms/step - accuracy: 0.0298 - loss: 3.5797 - val_accuracy: 0.0285 - val_loss: 3.5847\n",
      "Epoch 13/30\n",
      "\u001b[1m98/98\u001b[0m \u001b[32m━━━━━━━━━━━━━━━━━━━━\u001b[0m\u001b[37m\u001b[0m \u001b[1m64s\u001b[0m 612ms/step - accuracy: 0.0303 - loss: 3.5794 - val_accuracy: 0.0285 - val_loss: 3.5849\n",
      "Epoch 14/30\n",
      "\u001b[1m98/98\u001b[0m \u001b[32m━━━━━━━━━━━━━━━━━━━━\u001b[0m\u001b[37m\u001b[0m \u001b[1m64s\u001b[0m 609ms/step - accuracy: 0.0318 - loss: 3.9817 - val_accuracy: 0.0285 - val_loss: 3.5851\n",
      "Epoch 15/30\n",
      "\u001b[1m98/98\u001b[0m \u001b[32m━━━━━━━━━━━━━━━━━━━━\u001b[0m\u001b[37m\u001b[0m \u001b[1m64s\u001b[0m 611ms/step - accuracy: 0.0305 - loss: 3.5785 - val_accuracy: 0.0285 - val_loss: 3.5853\n",
      "Epoch 16/30\n",
      "\u001b[1m98/98\u001b[0m \u001b[32m━━━━━━━━━━━━━━━━━━━━\u001b[0m\u001b[37m\u001b[0m \u001b[1m81s\u001b[0m 605ms/step - accuracy: 0.0316 - loss: 3.5777 - val_accuracy: 0.0285 - val_loss: 3.5855\n",
      "Epoch 17/30\n",
      "\u001b[1m98/98\u001b[0m \u001b[32m━━━━━━━━━━━━━━━━━━━━\u001b[0m\u001b[37m\u001b[0m \u001b[1m65s\u001b[0m 622ms/step - accuracy: 0.0292 - loss: 3.5778 - val_accuracy: 0.0285 - val_loss: 3.5858\n",
      "Epoch 18/30\n",
      "\u001b[1m98/98\u001b[0m \u001b[32m━━━━━━━━━━━━━━━━━━━━\u001b[0m\u001b[37m\u001b[0m \u001b[1m81s\u001b[0m 613ms/step - accuracy: 0.0313 - loss: 3.5771 - val_accuracy: 0.0285 - val_loss: 3.5859\n",
      "Epoch 19/30\n",
      "\u001b[1m98/98\u001b[0m \u001b[32m━━━━━━━━━━━━━━━━━━━━\u001b[0m\u001b[37m\u001b[0m \u001b[1m81s\u001b[0m 610ms/step - accuracy: 0.0286 - loss: 3.5774 - val_accuracy: 0.0285 - val_loss: 3.5862\n",
      "Epoch 20/30\n",
      "\u001b[1m98/98\u001b[0m \u001b[32m━━━━━━━━━━━━━━━━━━━━\u001b[0m\u001b[37m\u001b[0m \u001b[1m64s\u001b[0m 611ms/step - accuracy: 0.0286 - loss: 3.5768 - val_accuracy: 0.0285 - val_loss: 3.5864\n",
      "Epoch 21/30\n",
      "\u001b[1m98/98\u001b[0m \u001b[32m━━━━━━━━━━━━━━━━━━━━\u001b[0m\u001b[37m\u001b[0m \u001b[1m64s\u001b[0m 608ms/step - accuracy: 0.0237 - loss: 3.5769 - val_accuracy: 0.0285 - val_loss: 3.5866\n",
      "Epoch 22/30\n",
      "\u001b[1m98/98\u001b[0m \u001b[32m━━━━━━━━━━━━━━━━━━━━\u001b[0m\u001b[37m\u001b[0m \u001b[1m63s\u001b[0m 608ms/step - accuracy: 0.0290 - loss: 3.5752 - val_accuracy: 0.0285 - val_loss: 3.5867\n",
      "Epoch 23/30\n",
      "\u001b[1m98/98\u001b[0m \u001b[32m━━━━━━━━━━━━━━━━━━━━\u001b[0m\u001b[37m\u001b[0m \u001b[1m82s\u001b[0m 604ms/step - accuracy: 0.0255 - loss: 3.5768 - val_accuracy: 0.0285 - val_loss: 3.5870\n",
      "Epoch 24/30\n",
      "\u001b[1m98/98\u001b[0m \u001b[32m━━━━━━━━━━━━━━━━━━━━\u001b[0m\u001b[37m\u001b[0m \u001b[1m63s\u001b[0m 606ms/step - accuracy: 0.0297 - loss: 3.5765 - val_accuracy: 0.0256 - val_loss: 3.5871\n",
      "Epoch 25/30\n",
      "\u001b[1m98/98\u001b[0m \u001b[32m━━━━━━━━━━━━━━━━━━━━\u001b[0m\u001b[37m\u001b[0m \u001b[1m82s\u001b[0m 607ms/step - accuracy: 0.0351 - loss: 3.5759 - val_accuracy: 0.0285 - val_loss: 3.5873\n",
      "Epoch 26/30\n",
      "\u001b[1m98/98\u001b[0m \u001b[32m━━━━━━━━━━━━━━━━━━━━\u001b[0m\u001b[37m\u001b[0m \u001b[1m64s\u001b[0m 613ms/step - accuracy: 0.0327 - loss: 3.5754 - val_accuracy: 0.0285 - val_loss: 3.5875\n",
      "Epoch 27/30\n",
      "\u001b[1m98/98\u001b[0m \u001b[32m━━━━━━━━━━━━━━━━━━━━\u001b[0m\u001b[37m\u001b[0m \u001b[1m64s\u001b[0m 610ms/step - accuracy: 0.0300 - loss: 3.5756 - val_accuracy: 0.0285 - val_loss: 3.5876\n",
      "Epoch 28/30\n",
      "\u001b[1m98/98\u001b[0m \u001b[32m━━━━━━━━━━━━━━━━━━━━\u001b[0m\u001b[37m\u001b[0m \u001b[1m82s\u001b[0m 610ms/step - accuracy: 0.0291 - loss: 3.5754 - val_accuracy: 0.0285 - val_loss: 3.5876\n",
      "Epoch 29/30\n",
      "\u001b[1m98/98\u001b[0m \u001b[32m━━━━━━━━━━━━━━━━━━━━\u001b[0m\u001b[37m\u001b[0m \u001b[1m63s\u001b[0m 605ms/step - accuracy: 0.0308 - loss: 3.5744 - val_accuracy: 0.0285 - val_loss: 3.5877\n",
      "Epoch 30/30\n",
      "\u001b[1m98/98\u001b[0m \u001b[32m━━━━━━━━━━━━━━━━━━━━\u001b[0m\u001b[37m\u001b[0m \u001b[1m63s\u001b[0m 607ms/step - accuracy: 0.0279 - loss: 3.5749 - val_accuracy: 0.0285 - val_loss: 3.5879\n"
     ]
    }
   ],
   "source": [
    "training_history = cnn.fit(x=training_set, validation_data=validation_set, epochs=30)\n"
   ]
  },
  {
   "cell_type": "code",
   "execution_count": 14,
   "id": "f3354f22",
   "metadata": {
    "execution": {
     "iopub.execute_input": "2024-04-18T06:25:33.143337Z",
     "iopub.status.busy": "2024-04-18T06:25:33.142605Z",
     "iopub.status.idle": "2024-04-18T06:25:33.207717Z",
     "shell.execute_reply": "2024-04-18T06:25:33.206257Z"
    },
    "papermill": {
     "duration": 0.406798,
     "end_time": "2024-04-18T06:25:33.210700",
     "exception": false,
     "start_time": "2024-04-18T06:25:32.803902",
     "status": "completed"
    },
    "tags": []
   },
   "outputs": [],
   "source": [
    "cnn.save('trained_model.h5')"
   ]
  },
  {
   "cell_type": "code",
   "execution_count": null,
   "id": "1bf91f21",
   "metadata": {
    "papermill": {
     "duration": 0.320378,
     "end_time": "2024-04-18T06:25:33.863314",
     "exception": false,
     "start_time": "2024-04-18T06:25:33.542936",
     "status": "completed"
    },
    "tags": []
   },
   "outputs": [],
   "source": []
  }
 ],
 "metadata": {
  "kaggle": {
   "accelerator": "none",
   "dataSources": [
    {
     "datasetId": 952827,
     "sourceId": 3173719,
     "sourceType": "datasetVersion"
    }
   ],
   "dockerImageVersionId": 30664,
   "isGpuEnabled": false,
   "isInternetEnabled": true,
   "language": "python",
   "sourceType": "notebook"
  },
  "kernelspec": {
   "display_name": "Python 3",
   "language": "python",
   "name": "python3"
  },
  "language_info": {
   "codemirror_mode": {
    "name": "ipython",
    "version": 3
   },
   "file_extension": ".py",
   "mimetype": "text/x-python",
   "name": "python",
   "nbconvert_exporter": "python",
   "pygments_lexer": "ipython3",
   "version": "3.10.13"
  },
  "papermill": {
   "default_parameters": {},
   "duration": 2101.233467,
   "end_time": "2024-04-18T06:25:35.801773",
   "environment_variables": {},
   "exception": null,
   "input_path": "__notebook__.ipynb",
   "output_path": "__notebook__.ipynb",
   "parameters": {},
   "start_time": "2024-04-18T05:50:34.568306",
   "version": "2.5.0"
  }
 },
 "nbformat": 4,
 "nbformat_minor": 5
}
