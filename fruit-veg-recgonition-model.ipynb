{
 "cells": [
  {
   "cell_type": "markdown",
   "id": "93198b47",
   "metadata": {
    "papermill": {
     "duration": 0.003321,
     "end_time": "2024-03-23T00:15:35.920860",
     "exception": false,
     "start_time": "2024-03-23T00:15:35.917539",
     "status": "completed"
    },
    "tags": []
   },
   "source": [
    "# Importing Dataset"
   ]
  },
  {
   "cell_type": "code",
   "execution_count": 1,
   "id": "4859c5e9",
   "metadata": {
    "execution": {
     "iopub.execute_input": "2024-03-23T00:15:35.928478Z",
     "iopub.status.busy": "2024-03-23T00:15:35.927954Z",
     "iopub.status.idle": "2024-03-23T00:15:51.519241Z",
     "shell.execute_reply": "2024-03-23T00:15:51.517864Z"
    },
    "papermill": {
     "duration": 15.599033,
     "end_time": "2024-03-23T00:15:51.522692",
     "exception": false,
     "start_time": "2024-03-23T00:15:35.923659",
     "status": "completed"
    },
    "tags": []
   },
   "outputs": [
    {
     "name": "stderr",
     "output_type": "stream",
     "text": [
      "2024-03-23 00:15:38.280605: E external/local_xla/xla/stream_executor/cuda/cuda_dnn.cc:9261] Unable to register cuDNN factory: Attempting to register factory for plugin cuDNN when one has already been registered\n",
      "2024-03-23 00:15:38.280740: E external/local_xla/xla/stream_executor/cuda/cuda_fft.cc:607] Unable to register cuFFT factory: Attempting to register factory for plugin cuFFT when one has already been registered\n",
      "2024-03-23 00:15:38.460342: E external/local_xla/xla/stream_executor/cuda/cuda_blas.cc:1515] Unable to register cuBLAS factory: Attempting to register factory for plugin cuBLAS when one has already been registered\n"
     ]
    }
   ],
   "source": [
    "import numpy as np\n",
    "import matplotlib.pyplot as plt\n",
    "import tensorflow as tf\n",
    "from tensorflow import keras"
   ]
  },
  {
   "cell_type": "markdown",
   "id": "622d0e1e",
   "metadata": {
    "papermill": {
     "duration": 0.002682,
     "end_time": "2024-03-23T00:15:51.528976",
     "exception": false,
     "start_time": "2024-03-23T00:15:51.526294",
     "status": "completed"
    },
    "tags": []
   },
   "source": [
    "# Data Pre-Processing"
   ]
  },
  {
   "cell_type": "markdown",
   "id": "22f925be",
   "metadata": {
    "papermill": {
     "duration": 0.002449,
     "end_time": "2024-03-23T00:15:51.534375",
     "exception": false,
     "start_time": "2024-03-23T00:15:51.531926",
     "status": "completed"
    },
    "tags": []
   },
   "source": [
    "## Training Image Pre-Processing\n"
   ]
  },
  {
   "cell_type": "code",
   "execution_count": 2,
   "id": "c6f02904",
   "metadata": {
    "execution": {
     "iopub.execute_input": "2024-03-23T00:15:51.543122Z",
     "iopub.status.busy": "2024-03-23T00:15:51.542395Z",
     "iopub.status.idle": "2024-03-23T00:15:52.118977Z",
     "shell.execute_reply": "2024-03-23T00:15:52.117774Z"
    },
    "papermill": {
     "duration": 0.584674,
     "end_time": "2024-03-23T00:15:52.121773",
     "exception": false,
     "start_time": "2024-03-23T00:15:51.537099",
     "status": "completed"
    },
    "tags": []
   },
   "outputs": [
    {
     "name": "stdout",
     "output_type": "stream",
     "text": [
      "Found 3115 files belonging to 36 classes.\n"
     ]
    }
   ],
   "source": [
    "training_set = keras.utils.image_dataset_from_directory(\n",
    "    '/kaggle/input/fruit-and-vegetable-image-recognition/train',\n",
    "    labels=\"inferred\",\n",
    "    label_mode=\"categorical\",\n",
    "    class_names=None,\n",
    "    color_mode=\"rgb\",\n",
    "    batch_size=32,\n",
    "    image_size=(64, 64),\n",
    "    shuffle=True,\n",
    "    seed=None,\n",
    "    validation_split=None,\n",
    "    subset=None,\n",
    "    interpolation=\"bilinear\",\n",
    "    follow_links=False,\n",
    "    crop_to_aspect_ratio=False,\n",
    "    data_format=None,\n",
    ")"
   ]
  },
  {
   "cell_type": "markdown",
   "id": "357fbb8d",
   "metadata": {
    "papermill": {
     "duration": 0.00259,
     "end_time": "2024-03-23T00:15:52.127342",
     "exception": false,
     "start_time": "2024-03-23T00:15:52.124752",
     "status": "completed"
    },
    "tags": []
   },
   "source": [
    "## Validtion Image Pre-Processing"
   ]
  },
  {
   "cell_type": "code",
   "execution_count": 3,
   "id": "80aad19a",
   "metadata": {
    "execution": {
     "iopub.execute_input": "2024-03-23T00:15:52.135344Z",
     "iopub.status.busy": "2024-03-23T00:15:52.134411Z",
     "iopub.status.idle": "2024-03-23T00:15:52.280687Z",
     "shell.execute_reply": "2024-03-23T00:15:52.279521Z"
    },
    "papermill": {
     "duration": 0.153047,
     "end_time": "2024-03-23T00:15:52.283155",
     "exception": false,
     "start_time": "2024-03-23T00:15:52.130108",
     "status": "completed"
    },
    "tags": []
   },
   "outputs": [
    {
     "name": "stdout",
     "output_type": "stream",
     "text": [
      "Found 351 files belonging to 36 classes.\n"
     ]
    }
   ],
   "source": [
    "validation_set = keras.utils.image_dataset_from_directory(\n",
    "    '/kaggle/input/fruit-and-vegetable-image-recognition/validation',\n",
    "    labels=\"inferred\",\n",
    "    label_mode=\"categorical\",\n",
    "    class_names=None,\n",
    "    color_mode=\"rgb\",\n",
    "    batch_size=32,\n",
    "    image_size=(64, 64),\n",
    "    shuffle=True,\n",
    "    seed=None,\n",
    "    validation_split=None,\n",
    "    subset=None,\n",
    "    interpolation=\"bilinear\",\n",
    "    follow_links=False,\n",
    "    crop_to_aspect_ratio=False,\n",
    "    data_format=None,\n",
    ")"
   ]
  },
  {
   "cell_type": "code",
   "execution_count": null,
   "id": "1bf409d5",
   "metadata": {
    "papermill": {
     "duration": 0.002535,
     "end_time": "2024-03-23T00:15:52.288699",
     "exception": false,
     "start_time": "2024-03-23T00:15:52.286164",
     "status": "completed"
    },
    "tags": []
   },
   "outputs": [],
   "source": []
  }
 ],
 "metadata": {
  "kaggle": {
   "accelerator": "none",
   "dataSources": [
    {
     "datasetId": 952827,
     "sourceId": 3173719,
     "sourceType": "datasetVersion"
    }
   ],
   "dockerImageVersionId": 30664,
   "isGpuEnabled": false,
   "isInternetEnabled": true,
   "language": "python",
   "sourceType": "notebook"
  },
  "kernelspec": {
   "display_name": "Python 3",
   "language": "python",
   "name": "python3"
  },
  "language_info": {
   "codemirror_mode": {
    "name": "ipython",
    "version": 3
   },
   "file_extension": ".py",
   "mimetype": "text/x-python",
   "name": "python",
   "nbconvert_exporter": "python",
   "pygments_lexer": "ipython3",
   "version": "3.10.13"
  },
  "papermill": {
   "default_parameters": {},
   "duration": 20.81048,
   "end_time": "2024-03-23T00:15:53.716755",
   "environment_variables": {},
   "exception": null,
   "input_path": "__notebook__.ipynb",
   "output_path": "__notebook__.ipynb",
   "parameters": {},
   "start_time": "2024-03-23T00:15:32.906275",
   "version": "2.5.0"
  }
 },
 "nbformat": 4,
 "nbformat_minor": 5
}
