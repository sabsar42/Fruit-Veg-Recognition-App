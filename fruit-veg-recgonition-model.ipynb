{
 "cells": [
  {
   "cell_type": "markdown",
   "id": "fbfb4766",
   "metadata": {
    "papermill": {
     "duration": 0.004,
     "end_time": "2024-03-14T10:21:33.983500",
     "exception": false,
     "start_time": "2024-03-14T10:21:33.979500",
     "status": "completed"
    },
    "tags": []
   },
   "source": [
    "# Importing Dataset"
   ]
  },
  {
   "cell_type": "code",
   "execution_count": 1,
   "id": "c7b2c8f8",
   "metadata": {
    "execution": {
     "iopub.execute_input": "2024-03-14T10:21:33.993448Z",
     "iopub.status.busy": "2024-03-14T10:21:33.992146Z",
     "iopub.status.idle": "2024-03-14T10:21:51.955755Z",
     "shell.execute_reply": "2024-03-14T10:21:51.954013Z"
    },
    "papermill": {
     "duration": 17.972858,
     "end_time": "2024-03-14T10:21:51.959717",
     "exception": false,
     "start_time": "2024-03-14T10:21:33.986859",
     "status": "completed"
    },
    "tags": []
   },
   "outputs": [
    {
     "name": "stderr",
     "output_type": "stream",
     "text": [
      "2024-03-14 10:21:36.697691: E external/local_xla/xla/stream_executor/cuda/cuda_dnn.cc:9261] Unable to register cuDNN factory: Attempting to register factory for plugin cuDNN when one has already been registered\n",
      "2024-03-14 10:21:36.697851: E external/local_xla/xla/stream_executor/cuda/cuda_fft.cc:607] Unable to register cuFFT factory: Attempting to register factory for plugin cuFFT when one has already been registered\n",
      "2024-03-14 10:21:36.875168: E external/local_xla/xla/stream_executor/cuda/cuda_blas.cc:1515] Unable to register cuBLAS factory: Attempting to register factory for plugin cuBLAS when one has already been registered\n"
     ]
    }
   ],
   "source": [
    "import numpy as np\n",
    "import matplotlib.pyplot as plt\n",
    "import tensorflow as tf"
   ]
  },
  {
   "cell_type": "markdown",
   "id": "8a3a28c8",
   "metadata": {
    "papermill": {
     "duration": 0.002472,
     "end_time": "2024-03-14T10:21:51.965639",
     "exception": false,
     "start_time": "2024-03-14T10:21:51.963167",
     "status": "completed"
    },
    "tags": []
   },
   "source": [
    "# Data Pre-Processing"
   ]
  },
  {
   "cell_type": "code",
   "execution_count": null,
   "id": "d475c9aa",
   "metadata": {
    "papermill": {
     "duration": 0.002443,
     "end_time": "2024-03-14T10:21:51.971093",
     "exception": false,
     "start_time": "2024-03-14T10:21:51.968650",
     "status": "completed"
    },
    "tags": []
   },
   "outputs": [],
   "source": []
  }
 ],
 "metadata": {
  "kaggle": {
   "accelerator": "none",
   "dataSources": [
    {
     "datasetId": 952827,
     "sourceId": 3173719,
     "sourceType": "datasetVersion"
    }
   ],
   "dockerImageVersionId": 30664,
   "isGpuEnabled": false,
   "isInternetEnabled": true,
   "language": "python",
   "sourceType": "notebook"
  },
  "kernelspec": {
   "display_name": "Python 3",
   "language": "python",
   "name": "python3"
  },
  "language_info": {
   "codemirror_mode": {
    "name": "ipython",
    "version": 3
   },
   "file_extension": ".py",
   "mimetype": "text/x-python",
   "name": "python",
   "nbconvert_exporter": "python",
   "pygments_lexer": "ipython3",
   "version": "3.10.13"
  },
  "papermill": {
   "default_parameters": {},
   "duration": 24.794752,
   "end_time": "2024-03-14T10:21:54.753963",
   "environment_variables": {},
   "exception": null,
   "input_path": "__notebook__.ipynb",
   "output_path": "__notebook__.ipynb",
   "parameters": {},
   "start_time": "2024-03-14T10:21:29.959211",
   "version": "2.5.0"
  }
 },
 "nbformat": 4,
 "nbformat_minor": 5
}
