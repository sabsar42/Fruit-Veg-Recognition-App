{
 "cells": [
  {
   "cell_type": "markdown",
   "id": "2df0f495",
   "metadata": {
    "papermill": {
     "duration": 0.003021,
     "end_time": "2024-04-09T13:03:11.131538",
     "exception": false,
     "start_time": "2024-04-09T13:03:11.128517",
     "status": "completed"
    },
    "tags": []
   },
   "source": [
    "# Importing Dataset"
   ]
  },
  {
   "cell_type": "code",
   "execution_count": 1,
   "id": "8dd2e969",
   "metadata": {
    "execution": {
     "iopub.execute_input": "2024-04-09T13:03:11.138706Z",
     "iopub.status.busy": "2024-04-09T13:03:11.138321Z",
     "iopub.status.idle": "2024-04-09T13:03:24.596992Z",
     "shell.execute_reply": "2024-04-09T13:03:24.596038Z"
    },
    "papermill": {
     "duration": 13.465288,
     "end_time": "2024-04-09T13:03:24.599431",
     "exception": false,
     "start_time": "2024-04-09T13:03:11.134143",
     "status": "completed"
    },
    "tags": []
   },
   "outputs": [
    {
     "name": "stderr",
     "output_type": "stream",
     "text": [
      "2024-04-09 13:03:13.122217: E external/local_xla/xla/stream_executor/cuda/cuda_dnn.cc:9261] Unable to register cuDNN factory: Attempting to register factory for plugin cuDNN when one has already been registered\n",
      "2024-04-09 13:03:13.122334: E external/local_xla/xla/stream_executor/cuda/cuda_fft.cc:607] Unable to register cuFFT factory: Attempting to register factory for plugin cuFFT when one has already been registered\n",
      "2024-04-09 13:03:13.279933: E external/local_xla/xla/stream_executor/cuda/cuda_blas.cc:1515] Unable to register cuBLAS factory: Attempting to register factory for plugin cuBLAS when one has already been registered\n"
     ]
    }
   ],
   "source": [
    "import numpy as np\n",
    "import matplotlib.pyplot as plt\n",
    "import tensorflow as tf\n",
    "from tensorflow import keras"
   ]
  },
  {
   "cell_type": "markdown",
   "id": "e1c05583",
   "metadata": {
    "papermill": {
     "duration": 0.002468,
     "end_time": "2024-04-09T13:03:24.604639",
     "exception": false,
     "start_time": "2024-04-09T13:03:24.602171",
     "status": "completed"
    },
    "tags": []
   },
   "source": [
    "# Data Pre-Processing"
   ]
  },
  {
   "cell_type": "markdown",
   "id": "7fcde229",
   "metadata": {
    "papermill": {
     "duration": 0.002265,
     "end_time": "2024-04-09T13:03:24.609430",
     "exception": false,
     "start_time": "2024-04-09T13:03:24.607165",
     "status": "completed"
    },
    "tags": []
   },
   "source": [
    "## Training Image Pre-Processing\n"
   ]
  },
  {
   "cell_type": "code",
   "execution_count": 2,
   "id": "1c2b7f94",
   "metadata": {
    "execution": {
     "iopub.execute_input": "2024-04-09T13:03:24.616833Z",
     "iopub.status.busy": "2024-04-09T13:03:24.615752Z",
     "iopub.status.idle": "2024-04-09T13:03:25.031493Z",
     "shell.execute_reply": "2024-04-09T13:03:25.030402Z"
    },
    "papermill": {
     "duration": 0.422131,
     "end_time": "2024-04-09T13:03:25.034021",
     "exception": false,
     "start_time": "2024-04-09T13:03:24.611890",
     "status": "completed"
    },
    "tags": []
   },
   "outputs": [
    {
     "name": "stdout",
     "output_type": "stream",
     "text": [
      "Found 3115 files belonging to 36 classes.\n"
     ]
    }
   ],
   "source": [
    "training_set = keras.utils.image_dataset_from_directory(\n",
    "    '/kaggle/input/fruit-and-vegetable-image-recognition/train',\n",
    "    labels=\"inferred\",\n",
    "    label_mode=\"categorical\",\n",
    "    class_names=None,\n",
    "    color_mode=\"rgb\",\n",
    "    batch_size=32,\n",
    "    image_size=(64, 64),\n",
    "    shuffle=True,\n",
    "    seed=None,\n",
    "    validation_split=None,\n",
    "    subset=None,\n",
    "    interpolation=\"bilinear\",\n",
    "    follow_links=False,\n",
    "    crop_to_aspect_ratio=False,\n",
    "    data_format=None,\n",
    ")"
   ]
  },
  {
   "cell_type": "markdown",
   "id": "9d883f67",
   "metadata": {
    "papermill": {
     "duration": 0.002464,
     "end_time": "2024-04-09T13:03:25.039419",
     "exception": false,
     "start_time": "2024-04-09T13:03:25.036955",
     "status": "completed"
    },
    "tags": []
   },
   "source": [
    "## Validtion Image Pre-Processing"
   ]
  },
  {
   "cell_type": "code",
   "execution_count": 3,
   "id": "f5814042",
   "metadata": {
    "execution": {
     "iopub.execute_input": "2024-04-09T13:03:25.046374Z",
     "iopub.status.busy": "2024-04-09T13:03:25.046015Z",
     "iopub.status.idle": "2024-04-09T13:03:25.157923Z",
     "shell.execute_reply": "2024-04-09T13:03:25.156776Z"
    },
    "papermill": {
     "duration": 0.118449,
     "end_time": "2024-04-09T13:03:25.160495",
     "exception": false,
     "start_time": "2024-04-09T13:03:25.042046",
     "status": "completed"
    },
    "tags": []
   },
   "outputs": [
    {
     "name": "stdout",
     "output_type": "stream",
     "text": [
      "Found 351 files belonging to 36 classes.\n"
     ]
    }
   ],
   "source": [
    "validation_set = keras.utils.image_dataset_from_directory(\n",
    "    '/kaggle/input/fruit-and-vegetable-image-recognition/validation',\n",
    "    labels=\"inferred\",\n",
    "    label_mode=\"categorical\",\n",
    "    class_names=None,\n",
    "    color_mode=\"rgb\",\n",
    "    batch_size=32,\n",
    "    image_size=(64, 64),\n",
    "    shuffle=True,\n",
    "    seed=None,\n",
    "    validation_split=None,\n",
    "    subset=None,\n",
    "    interpolation=\"bilinear\",\n",
    "    follow_links=False,\n",
    "    crop_to_aspect_ratio=False,\n",
    "    data_format=None,\n",
    ")"
   ]
  },
  {
   "cell_type": "code",
   "execution_count": null,
   "id": "d0e44195",
   "metadata": {
    "papermill": {
     "duration": 0.002484,
     "end_time": "2024-04-09T13:03:25.165908",
     "exception": false,
     "start_time": "2024-04-09T13:03:25.163424",
     "status": "completed"
    },
    "tags": []
   },
   "outputs": [],
   "source": []
  }
 ],
 "metadata": {
  "kaggle": {
   "accelerator": "none",
   "dataSources": [
    {
     "datasetId": 952827,
     "sourceId": 3173719,
     "sourceType": "datasetVersion"
    }
   ],
   "dockerImageVersionId": 30664,
   "isGpuEnabled": false,
   "isInternetEnabled": true,
   "language": "python",
   "sourceType": "notebook"
  },
  "kernelspec": {
   "display_name": "Python 3",
   "language": "python",
   "name": "python3"
  },
  "language_info": {
   "codemirror_mode": {
    "name": "ipython",
    "version": 3
   },
   "file_extension": ".py",
   "mimetype": "text/x-python",
   "name": "python",
   "nbconvert_exporter": "python",
   "pygments_lexer": "ipython3",
   "version": "3.10.13"
  },
  "papermill": {
   "default_parameters": {},
   "duration": 18.998005,
   "end_time": "2024-04-09T13:03:27.464212",
   "environment_variables": {},
   "exception": null,
   "input_path": "__notebook__.ipynb",
   "output_path": "__notebook__.ipynb",
   "parameters": {},
   "start_time": "2024-04-09T13:03:08.466207",
   "version": "2.5.0"
  }
 },
 "nbformat": 4,
 "nbformat_minor": 5
}
