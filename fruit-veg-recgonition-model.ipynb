{
 "cells": [
  {
   "cell_type": "markdown",
   "id": "74f4ddf9",
   "metadata": {
    "papermill": {
     "duration": 0.00434,
     "end_time": "2024-03-18T13:21:46.890268",
     "exception": false,
     "start_time": "2024-03-18T13:21:46.885928",
     "status": "completed"
    },
    "tags": []
   },
   "source": [
    "# Importing Dataset"
   ]
  },
  {
   "cell_type": "code",
   "execution_count": 1,
   "id": "cf1bb7e6",
   "metadata": {
    "execution": {
     "iopub.execute_input": "2024-03-18T13:21:46.899635Z",
     "iopub.status.busy": "2024-03-18T13:21:46.899243Z",
     "iopub.status.idle": "2024-03-18T13:22:03.942288Z",
     "shell.execute_reply": "2024-03-18T13:22:03.940940Z"
    },
    "papermill": {
     "duration": 17.05161,
     "end_time": "2024-03-18T13:22:03.946028",
     "exception": false,
     "start_time": "2024-03-18T13:21:46.894418",
     "status": "completed"
    },
    "tags": []
   },
   "outputs": [
    {
     "name": "stderr",
     "output_type": "stream",
     "text": [
      "2024-03-18 13:21:49.723265: E external/local_xla/xla/stream_executor/cuda/cuda_dnn.cc:9261] Unable to register cuDNN factory: Attempting to register factory for plugin cuDNN when one has already been registered\n",
      "2024-03-18 13:21:49.723424: E external/local_xla/xla/stream_executor/cuda/cuda_fft.cc:607] Unable to register cuFFT factory: Attempting to register factory for plugin cuFFT when one has already been registered\n",
      "2024-03-18 13:21:49.923435: E external/local_xla/xla/stream_executor/cuda/cuda_blas.cc:1515] Unable to register cuBLAS factory: Attempting to register factory for plugin cuBLAS when one has already been registered\n"
     ]
    }
   ],
   "source": [
    "import numpy as np\n",
    "import matplotlib.pyplot as plt\n",
    "import tensorflow as tf\n",
    "from tensorflow import keras"
   ]
  },
  {
   "cell_type": "markdown",
   "id": "e13009e1",
   "metadata": {
    "papermill": {
     "duration": 0.003279,
     "end_time": "2024-03-18T13:22:03.953748",
     "exception": false,
     "start_time": "2024-03-18T13:22:03.950469",
     "status": "completed"
    },
    "tags": []
   },
   "source": [
    "# Data Pre-Processing"
   ]
  },
  {
   "cell_type": "markdown",
   "id": "9c35500a",
   "metadata": {
    "papermill": {
     "duration": 0.003193,
     "end_time": "2024-03-18T13:22:03.960452",
     "exception": false,
     "start_time": "2024-03-18T13:22:03.957259",
     "status": "completed"
    },
    "tags": []
   },
   "source": [
    "## Training Image Pre-Processing\n"
   ]
  },
  {
   "cell_type": "code",
   "execution_count": 2,
   "id": "0ef38aad",
   "metadata": {
    "execution": {
     "iopub.execute_input": "2024-03-18T13:22:03.969532Z",
     "iopub.status.busy": "2024-03-18T13:22:03.968797Z",
     "iopub.status.idle": "2024-03-18T13:22:04.401361Z",
     "shell.execute_reply": "2024-03-18T13:22:04.400128Z"
    },
    "papermill": {
     "duration": 0.440535,
     "end_time": "2024-03-18T13:22:04.404425",
     "exception": false,
     "start_time": "2024-03-18T13:22:03.963890",
     "status": "completed"
    },
    "tags": []
   },
   "outputs": [
    {
     "name": "stdout",
     "output_type": "stream",
     "text": [
      "Found 3115 files belonging to 36 classes.\n"
     ]
    }
   ],
   "source": [
    "training_set = keras.utils.image_dataset_from_directory(\n",
    "    '/kaggle/input/fruit-and-vegetable-image-recognition/train',\n",
    "    labels=\"inferred\",\n",
    "    label_mode=\"categorical\",\n",
    "    class_names=None,\n",
    "    color_mode=\"rgb\",\n",
    "    batch_size=32,\n",
    "    image_size=(64, 64),\n",
    "    shuffle=True,\n",
    "    seed=None,\n",
    "    validation_split=None,\n",
    "    subset=None,\n",
    "    interpolation=\"bilinear\",\n",
    "    follow_links=False,\n",
    "    crop_to_aspect_ratio=False,\n",
    "    data_format=None,\n",
    ")"
   ]
  },
  {
   "cell_type": "markdown",
   "id": "f899b3f8",
   "metadata": {
    "papermill": {
     "duration": 0.003591,
     "end_time": "2024-03-18T13:22:04.411667",
     "exception": false,
     "start_time": "2024-03-18T13:22:04.408076",
     "status": "completed"
    },
    "tags": []
   },
   "source": [
    "## Validtion Image Pre-Processing"
   ]
  },
  {
   "cell_type": "code",
   "execution_count": 3,
   "id": "4ee36d5e",
   "metadata": {
    "execution": {
     "iopub.execute_input": "2024-03-18T13:22:04.420719Z",
     "iopub.status.busy": "2024-03-18T13:22:04.419966Z",
     "iopub.status.idle": "2024-03-18T13:22:04.531647Z",
     "shell.execute_reply": "2024-03-18T13:22:04.530266Z"
    },
    "papermill": {
     "duration": 0.11911,
     "end_time": "2024-03-18T13:22:04.534329",
     "exception": false,
     "start_time": "2024-03-18T13:22:04.415219",
     "status": "completed"
    },
    "tags": []
   },
   "outputs": [
    {
     "name": "stdout",
     "output_type": "stream",
     "text": [
      "Found 351 files belonging to 36 classes.\n"
     ]
    }
   ],
   "source": [
    "validation_set = keras.utils.image_dataset_from_directory(\n",
    "    '/kaggle/input/fruit-and-vegetable-image-recognition/validation',\n",
    "    labels=\"inferred\",\n",
    "    label_mode=\"categorical\",\n",
    "    class_names=None,\n",
    "    color_mode=\"rgb\",\n",
    "    batch_size=32,\n",
    "    image_size=(64, 64),\n",
    "    shuffle=True,\n",
    "    seed=None,\n",
    "    validation_split=None,\n",
    "    subset=None,\n",
    "    interpolation=\"bilinear\",\n",
    "    follow_links=False,\n",
    "    crop_to_aspect_ratio=False,\n",
    "    data_format=None,\n",
    ")"
   ]
  },
  {
   "cell_type": "code",
   "execution_count": null,
   "id": "da25f9fb",
   "metadata": {
    "papermill": {
     "duration": 0.00341,
     "end_time": "2024-03-18T13:22:04.541518",
     "exception": false,
     "start_time": "2024-03-18T13:22:04.538108",
     "status": "completed"
    },
    "tags": []
   },
   "outputs": [],
   "source": []
  }
 ],
 "metadata": {
  "kaggle": {
   "accelerator": "none",
   "dataSources": [
    {
     "datasetId": 952827,
     "sourceId": 3173719,
     "sourceType": "datasetVersion"
    }
   ],
   "dockerImageVersionId": 30664,
   "isGpuEnabled": false,
   "isInternetEnabled": true,
   "language": "python",
   "sourceType": "notebook"
  },
  "kernelspec": {
   "display_name": "Python 3",
   "language": "python",
   "name": "python3"
  },
  "language_info": {
   "codemirror_mode": {
    "name": "ipython",
    "version": 3
   },
   "file_extension": ".py",
   "mimetype": "text/x-python",
   "name": "python",
   "nbconvert_exporter": "python",
   "pygments_lexer": "ipython3",
   "version": "3.10.13"
  },
  "papermill": {
   "default_parameters": {},
   "duration": 23.209265,
   "end_time": "2024-03-18T13:22:06.793239",
   "environment_variables": {},
   "exception": null,
   "input_path": "__notebook__.ipynb",
   "output_path": "__notebook__.ipynb",
   "parameters": {},
   "start_time": "2024-03-18T13:21:43.583974",
   "version": "2.5.0"
  }
 },
 "nbformat": 4,
 "nbformat_minor": 5
}
