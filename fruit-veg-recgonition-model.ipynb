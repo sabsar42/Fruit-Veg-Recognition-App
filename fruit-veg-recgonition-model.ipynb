{
 "cells": [
  {
   "cell_type": "markdown",
   "id": "d0ca0df5",
   "metadata": {
    "papermill": {
     "duration": 0.003344,
     "end_time": "2024-03-28T00:31:59.187189",
     "exception": false,
     "start_time": "2024-03-28T00:31:59.183845",
     "status": "completed"
    },
    "tags": []
   },
   "source": [
    "# Importing Dataset"
   ]
  },
  {
   "cell_type": "code",
   "execution_count": 1,
   "id": "f62580fd",
   "metadata": {
    "execution": {
     "iopub.execute_input": "2024-03-28T00:31:59.196594Z",
     "iopub.status.busy": "2024-03-28T00:31:59.195651Z",
     "iopub.status.idle": "2024-03-28T00:32:15.200769Z",
     "shell.execute_reply": "2024-03-28T00:32:15.199448Z"
    },
    "papermill": {
     "duration": 16.012978,
     "end_time": "2024-03-28T00:32:15.203735",
     "exception": false,
     "start_time": "2024-03-28T00:31:59.190757",
     "status": "completed"
    },
    "tags": []
   },
   "outputs": [
    {
     "name": "stderr",
     "output_type": "stream",
     "text": [
      "2024-03-28 00:32:01.498666: E external/local_xla/xla/stream_executor/cuda/cuda_dnn.cc:9261] Unable to register cuDNN factory: Attempting to register factory for plugin cuDNN when one has already been registered\n",
      "2024-03-28 00:32:01.498809: E external/local_xla/xla/stream_executor/cuda/cuda_fft.cc:607] Unable to register cuFFT factory: Attempting to register factory for plugin cuFFT when one has already been registered\n",
      "2024-03-28 00:32:01.656587: E external/local_xla/xla/stream_executor/cuda/cuda_blas.cc:1515] Unable to register cuBLAS factory: Attempting to register factory for plugin cuBLAS when one has already been registered\n"
     ]
    }
   ],
   "source": [
    "import numpy as np\n",
    "import matplotlib.pyplot as plt\n",
    "import tensorflow as tf\n",
    "from tensorflow import keras"
   ]
  },
  {
   "cell_type": "markdown",
   "id": "c2da4a5a",
   "metadata": {
    "papermill": {
     "duration": 0.002613,
     "end_time": "2024-03-28T00:32:15.209418",
     "exception": false,
     "start_time": "2024-03-28T00:32:15.206805",
     "status": "completed"
    },
    "tags": []
   },
   "source": [
    "# Data Pre-Processing"
   ]
  },
  {
   "cell_type": "markdown",
   "id": "948b2086",
   "metadata": {
    "papermill": {
     "duration": 0.002343,
     "end_time": "2024-03-28T00:32:15.214466",
     "exception": false,
     "start_time": "2024-03-28T00:32:15.212123",
     "status": "completed"
    },
    "tags": []
   },
   "source": [
    "## Training Image Pre-Processing\n"
   ]
  },
  {
   "cell_type": "code",
   "execution_count": 2,
   "id": "115abe6b",
   "metadata": {
    "execution": {
     "iopub.execute_input": "2024-03-28T00:32:15.222693Z",
     "iopub.status.busy": "2024-03-28T00:32:15.221242Z",
     "iopub.status.idle": "2024-03-28T00:32:15.557884Z",
     "shell.execute_reply": "2024-03-28T00:32:15.556622Z"
    },
    "papermill": {
     "duration": 0.344192,
     "end_time": "2024-03-28T00:32:15.561190",
     "exception": false,
     "start_time": "2024-03-28T00:32:15.216998",
     "status": "completed"
    },
    "tags": []
   },
   "outputs": [
    {
     "name": "stdout",
     "output_type": "stream",
     "text": [
      "Found 3115 files belonging to 36 classes.\n"
     ]
    }
   ],
   "source": [
    "training_set = keras.utils.image_dataset_from_directory(\n",
    "    '/kaggle/input/fruit-and-vegetable-image-recognition/train',\n",
    "    labels=\"inferred\",\n",
    "    label_mode=\"categorical\",\n",
    "    class_names=None,\n",
    "    color_mode=\"rgb\",\n",
    "    batch_size=32,\n",
    "    image_size=(64, 64),\n",
    "    shuffle=True,\n",
    "    seed=None,\n",
    "    validation_split=None,\n",
    "    subset=None,\n",
    "    interpolation=\"bilinear\",\n",
    "    follow_links=False,\n",
    "    crop_to_aspect_ratio=False,\n",
    "    data_format=None,\n",
    ")"
   ]
  },
  {
   "cell_type": "markdown",
   "id": "a01b3c97",
   "metadata": {
    "papermill": {
     "duration": 0.002698,
     "end_time": "2024-03-28T00:32:15.567041",
     "exception": false,
     "start_time": "2024-03-28T00:32:15.564343",
     "status": "completed"
    },
    "tags": []
   },
   "source": [
    "## Validtion Image Pre-Processing"
   ]
  },
  {
   "cell_type": "code",
   "execution_count": 3,
   "id": "0f56accf",
   "metadata": {
    "execution": {
     "iopub.execute_input": "2024-03-28T00:32:15.575160Z",
     "iopub.status.busy": "2024-03-28T00:32:15.574720Z",
     "iopub.status.idle": "2024-03-28T00:32:15.682560Z",
     "shell.execute_reply": "2024-03-28T00:32:15.681208Z"
    },
    "papermill": {
     "duration": 0.115406,
     "end_time": "2024-03-28T00:32:15.685733",
     "exception": false,
     "start_time": "2024-03-28T00:32:15.570327",
     "status": "completed"
    },
    "tags": []
   },
   "outputs": [
    {
     "name": "stdout",
     "output_type": "stream",
     "text": [
      "Found 351 files belonging to 36 classes.\n"
     ]
    }
   ],
   "source": [
    "validation_set = keras.utils.image_dataset_from_directory(\n",
    "    '/kaggle/input/fruit-and-vegetable-image-recognition/validation',\n",
    "    labels=\"inferred\",\n",
    "    label_mode=\"categorical\",\n",
    "    class_names=None,\n",
    "    color_mode=\"rgb\",\n",
    "    batch_size=32,\n",
    "    image_size=(64, 64),\n",
    "    shuffle=True,\n",
    "    seed=None,\n",
    "    validation_split=None,\n",
    "    subset=None,\n",
    "    interpolation=\"bilinear\",\n",
    "    follow_links=False,\n",
    "    crop_to_aspect_ratio=False,\n",
    "    data_format=None,\n",
    ")"
   ]
  },
  {
   "cell_type": "code",
   "execution_count": null,
   "id": "a4faf618",
   "metadata": {
    "papermill": {
     "duration": 0.002776,
     "end_time": "2024-03-28T00:32:15.691685",
     "exception": false,
     "start_time": "2024-03-28T00:32:15.688909",
     "status": "completed"
    },
    "tags": []
   },
   "outputs": [],
   "source": []
  }
 ],
 "metadata": {
  "kaggle": {
   "accelerator": "none",
   "dataSources": [
    {
     "datasetId": 952827,
     "sourceId": 3173719,
     "sourceType": "datasetVersion"
    }
   ],
   "dockerImageVersionId": 30664,
   "isGpuEnabled": false,
   "isInternetEnabled": true,
   "language": "python",
   "sourceType": "notebook"
  },
  "kernelspec": {
   "display_name": "Python 3",
   "language": "python",
   "name": "python3"
  },
  "language_info": {
   "codemirror_mode": {
    "name": "ipython",
    "version": 3
   },
   "file_extension": ".py",
   "mimetype": "text/x-python",
   "name": "python",
   "nbconvert_exporter": "python",
   "pygments_lexer": "ipython3",
   "version": "3.10.13"
  },
  "papermill": {
   "default_parameters": {},
   "duration": 22.26563,
   "end_time": "2024-03-28T00:32:18.249232",
   "environment_variables": {},
   "exception": null,
   "input_path": "__notebook__.ipynb",
   "output_path": "__notebook__.ipynb",
   "parameters": {},
   "start_time": "2024-03-28T00:31:55.983602",
   "version": "2.5.0"
  }
 },
 "nbformat": 4,
 "nbformat_minor": 5
}
