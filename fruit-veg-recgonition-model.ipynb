{
 "cells": [
  {
   "cell_type": "markdown",
   "id": "e0053ef2",
   "metadata": {
    "papermill": {
     "duration": 0.003847,
     "end_time": "2024-04-12T19:46:18.704942",
     "exception": false,
     "start_time": "2024-04-12T19:46:18.701095",
     "status": "completed"
    },
    "tags": []
   },
   "source": [
    "# Importing Dataset"
   ]
  },
  {
   "cell_type": "code",
   "execution_count": 1,
   "id": "99b3f087",
   "metadata": {
    "execution": {
     "iopub.execute_input": "2024-04-12T19:46:18.714702Z",
     "iopub.status.busy": "2024-04-12T19:46:18.714065Z",
     "iopub.status.idle": "2024-04-12T19:46:36.678482Z",
     "shell.execute_reply": "2024-04-12T19:46:36.677025Z"
    },
    "papermill": {
     "duration": 17.972921,
     "end_time": "2024-04-12T19:46:36.681543",
     "exception": false,
     "start_time": "2024-04-12T19:46:18.708622",
     "status": "completed"
    },
    "tags": []
   },
   "outputs": [
    {
     "name": "stderr",
     "output_type": "stream",
     "text": [
      "2024-04-12 19:46:21.457395: E external/local_xla/xla/stream_executor/cuda/cuda_dnn.cc:9261] Unable to register cuDNN factory: Attempting to register factory for plugin cuDNN when one has already been registered\n",
      "2024-04-12 19:46:21.457531: E external/local_xla/xla/stream_executor/cuda/cuda_fft.cc:607] Unable to register cuFFT factory: Attempting to register factory for plugin cuFFT when one has already been registered\n",
      "2024-04-12 19:46:21.664638: E external/local_xla/xla/stream_executor/cuda/cuda_blas.cc:1515] Unable to register cuBLAS factory: Attempting to register factory for plugin cuBLAS when one has already been registered\n"
     ]
    }
   ],
   "source": [
    "import numpy as np\n",
    "import matplotlib.pyplot as plt\n",
    "import tensorflow as tf\n",
    "from tensorflow import keras"
   ]
  },
  {
   "cell_type": "markdown",
   "id": "a1641d7d",
   "metadata": {
    "papermill": {
     "duration": 0.003336,
     "end_time": "2024-04-12T19:46:36.688665",
     "exception": false,
     "start_time": "2024-04-12T19:46:36.685329",
     "status": "completed"
    },
    "tags": []
   },
   "source": [
    "# Data Pre-Processing"
   ]
  },
  {
   "cell_type": "markdown",
   "id": "abc6a8e9",
   "metadata": {
    "papermill": {
     "duration": 0.003296,
     "end_time": "2024-04-12T19:46:36.695630",
     "exception": false,
     "start_time": "2024-04-12T19:46:36.692334",
     "status": "completed"
    },
    "tags": []
   },
   "source": [
    "## Training Image Pre-Processing\n"
   ]
  },
  {
   "cell_type": "code",
   "execution_count": 2,
   "id": "be9bd455",
   "metadata": {
    "execution": {
     "iopub.execute_input": "2024-04-12T19:46:36.705661Z",
     "iopub.status.busy": "2024-04-12T19:46:36.704911Z",
     "iopub.status.idle": "2024-04-12T19:46:37.300610Z",
     "shell.execute_reply": "2024-04-12T19:46:37.299345Z"
    },
    "papermill": {
     "duration": 0.603759,
     "end_time": "2024-04-12T19:46:37.303412",
     "exception": false,
     "start_time": "2024-04-12T19:46:36.699653",
     "status": "completed"
    },
    "tags": []
   },
   "outputs": [
    {
     "name": "stdout",
     "output_type": "stream",
     "text": [
      "Found 3115 files belonging to 36 classes.\n"
     ]
    }
   ],
   "source": [
    "training_set = keras.utils.image_dataset_from_directory(\n",
    "    '/kaggle/input/fruit-and-vegetable-image-recognition/train',\n",
    "    labels=\"inferred\",\n",
    "    label_mode=\"categorical\",\n",
    "    class_names=None,\n",
    "    color_mode=\"rgb\",\n",
    "    batch_size=32,\n",
    "    image_size=(64, 64),\n",
    "    shuffle=True,\n",
    "    seed=None,\n",
    "    validation_split=None,\n",
    "    subset=None,\n",
    "    interpolation=\"bilinear\",\n",
    "    follow_links=False,\n",
    "    crop_to_aspect_ratio=False,\n",
    "    data_format=None,\n",
    ")"
   ]
  },
  {
   "cell_type": "markdown",
   "id": "96ce0c22",
   "metadata": {
    "papermill": {
     "duration": 0.003284,
     "end_time": "2024-04-12T19:46:37.310387",
     "exception": false,
     "start_time": "2024-04-12T19:46:37.307103",
     "status": "completed"
    },
    "tags": []
   },
   "source": [
    "## Validtion Image Pre-Processing"
   ]
  },
  {
   "cell_type": "code",
   "execution_count": 3,
   "id": "3063ab4c",
   "metadata": {
    "execution": {
     "iopub.execute_input": "2024-04-12T19:46:37.319212Z",
     "iopub.status.busy": "2024-04-12T19:46:37.318836Z",
     "iopub.status.idle": "2024-04-12T19:46:37.501814Z",
     "shell.execute_reply": "2024-04-12T19:46:37.500084Z"
    },
    "papermill": {
     "duration": 0.190902,
     "end_time": "2024-04-12T19:46:37.504766",
     "exception": false,
     "start_time": "2024-04-12T19:46:37.313864",
     "status": "completed"
    },
    "tags": []
   },
   "outputs": [
    {
     "name": "stdout",
     "output_type": "stream",
     "text": [
      "Found 351 files belonging to 36 classes.\n"
     ]
    }
   ],
   "source": [
    "validation_set = keras.utils.image_dataset_from_directory(\n",
    "    '/kaggle/input/fruit-and-vegetable-image-recognition/validation',\n",
    "    labels=\"inferred\",\n",
    "    label_mode=\"categorical\",\n",
    "    class_names=None,\n",
    "    color_mode=\"rgb\",\n",
    "    batch_size=32,\n",
    "    image_size=(64, 64),\n",
    "    shuffle=True,\n",
    "    seed=None,\n",
    "    validation_split=None,\n",
    "    subset=None,\n",
    "    interpolation=\"bilinear\",\n",
    "    follow_links=False,\n",
    "    crop_to_aspect_ratio=False,\n",
    "    data_format=None,\n",
    ")"
   ]
  },
  {
   "cell_type": "code",
   "execution_count": null,
   "id": "b5bea32a",
   "metadata": {
    "papermill": {
     "duration": 0.003383,
     "end_time": "2024-04-12T19:46:37.512093",
     "exception": false,
     "start_time": "2024-04-12T19:46:37.508710",
     "status": "completed"
    },
    "tags": []
   },
   "outputs": [],
   "source": []
  }
 ],
 "metadata": {
  "kaggle": {
   "accelerator": "none",
   "dataSources": [
    {
     "datasetId": 952827,
     "sourceId": 3173719,
     "sourceType": "datasetVersion"
    }
   ],
   "dockerImageVersionId": 30664,
   "isGpuEnabled": false,
   "isInternetEnabled": true,
   "language": "python",
   "sourceType": "notebook"
  },
  "kernelspec": {
   "display_name": "Python 3",
   "language": "python",
   "name": "python3"
  },
  "language_info": {
   "codemirror_mode": {
    "name": "ipython",
    "version": 3
   },
   "file_extension": ".py",
   "mimetype": "text/x-python",
   "name": "python",
   "nbconvert_exporter": "python",
   "pygments_lexer": "ipython3",
   "version": "3.10.13"
  },
  "papermill": {
   "default_parameters": {},
   "duration": 23.79572,
   "end_time": "2024-04-12T19:46:39.041845",
   "environment_variables": {},
   "exception": null,
   "input_path": "__notebook__.ipynb",
   "output_path": "__notebook__.ipynb",
   "parameters": {},
   "start_time": "2024-04-12T19:46:15.246125",
   "version": "2.5.0"
  }
 },
 "nbformat": 4,
 "nbformat_minor": 5
}
