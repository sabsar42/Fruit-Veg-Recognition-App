{
 "cells": [
  {
   "cell_type": "markdown",
   "id": "32360301",
   "metadata": {
    "papermill": {
     "duration": 0.003952,
     "end_time": "2024-03-14T10:40:22.239399",
     "exception": false,
     "start_time": "2024-03-14T10:40:22.235447",
     "status": "completed"
    },
    "tags": []
   },
   "source": [
    "# Importing Dataset"
   ]
  },
  {
   "cell_type": "code",
   "execution_count": 1,
   "id": "88130a50",
   "metadata": {
    "execution": {
     "iopub.execute_input": "2024-03-14T10:40:22.248212Z",
     "iopub.status.busy": "2024-03-14T10:40:22.247813Z",
     "iopub.status.idle": "2024-03-14T10:40:38.448578Z",
     "shell.execute_reply": "2024-03-14T10:40:38.447626Z"
    },
    "papermill": {
     "duration": 16.20833,
     "end_time": "2024-03-14T10:40:38.451257",
     "exception": false,
     "start_time": "2024-03-14T10:40:22.242927",
     "status": "completed"
    },
    "tags": []
   },
   "outputs": [
    {
     "name": "stderr",
     "output_type": "stream",
     "text": [
      "2024-03-14 10:40:24.744324: E external/local_xla/xla/stream_executor/cuda/cuda_dnn.cc:9261] Unable to register cuDNN factory: Attempting to register factory for plugin cuDNN when one has already been registered\n",
      "2024-03-14 10:40:24.744478: E external/local_xla/xla/stream_executor/cuda/cuda_fft.cc:607] Unable to register cuFFT factory: Attempting to register factory for plugin cuFFT when one has already been registered\n",
      "2024-03-14 10:40:24.910550: E external/local_xla/xla/stream_executor/cuda/cuda_blas.cc:1515] Unable to register cuBLAS factory: Attempting to register factory for plugin cuBLAS when one has already been registered\n"
     ]
    }
   ],
   "source": [
    "import numpy as np\n",
    "import matplotlib.pyplot as plt\n",
    "import tensorflow as tf\n",
    "from tensorflow import keras"
   ]
  },
  {
   "cell_type": "markdown",
   "id": "f44b5769",
   "metadata": {
    "papermill": {
     "duration": 0.00332,
     "end_time": "2024-03-14T10:40:38.458266",
     "exception": false,
     "start_time": "2024-03-14T10:40:38.454946",
     "status": "completed"
    },
    "tags": []
   },
   "source": [
    "# Data Pre-Processing"
   ]
  },
  {
   "cell_type": "markdown",
   "id": "90a78470",
   "metadata": {
    "papermill": {
     "duration": 0.003169,
     "end_time": "2024-03-14T10:40:38.464957",
     "exception": false,
     "start_time": "2024-03-14T10:40:38.461788",
     "status": "completed"
    },
    "tags": []
   },
   "source": [
    "## Training Image Pre-Processing\n"
   ]
  },
  {
   "cell_type": "code",
   "execution_count": 2,
   "id": "804d1f18",
   "metadata": {
    "execution": {
     "iopub.execute_input": "2024-03-14T10:40:38.474661Z",
     "iopub.status.busy": "2024-03-14T10:40:38.473680Z",
     "iopub.status.idle": "2024-03-14T10:40:39.085508Z",
     "shell.execute_reply": "2024-03-14T10:40:39.084196Z"
    },
    "papermill": {
     "duration": 0.620031,
     "end_time": "2024-03-14T10:40:39.088500",
     "exception": false,
     "start_time": "2024-03-14T10:40:38.468469",
     "status": "completed"
    },
    "tags": []
   },
   "outputs": [
    {
     "name": "stdout",
     "output_type": "stream",
     "text": [
      "Found 3115 files belonging to 36 classes.\n"
     ]
    }
   ],
   "source": [
    "training_set = keras.utils.image_dataset_from_directory(\n",
    "    '/kaggle/input/fruit-and-vegetable-image-recognition/train',\n",
    "    labels=\"inferred\",\n",
    "    label_mode=\"categorical\",\n",
    "    class_names=None,\n",
    "    color_mode=\"rgb\",\n",
    "    batch_size=32,\n",
    "    image_size=(64, 64),\n",
    "    shuffle=True,\n",
    "    seed=None,\n",
    "    validation_split=None,\n",
    "    subset=None,\n",
    "    interpolation=\"bilinear\",\n",
    "    follow_links=False,\n",
    "    crop_to_aspect_ratio=False,\n",
    "    data_format=None,\n",
    ")"
   ]
  },
  {
   "cell_type": "markdown",
   "id": "f122d2dd",
   "metadata": {
    "papermill": {
     "duration": 0.003541,
     "end_time": "2024-03-14T10:40:39.096184",
     "exception": false,
     "start_time": "2024-03-14T10:40:39.092643",
     "status": "completed"
    },
    "tags": []
   },
   "source": [
    "## Validtion Image Pre-Processing"
   ]
  },
  {
   "cell_type": "code",
   "execution_count": 3,
   "id": "8b727323",
   "metadata": {
    "execution": {
     "iopub.execute_input": "2024-03-14T10:40:39.105885Z",
     "iopub.status.busy": "2024-03-14T10:40:39.105128Z",
     "iopub.status.idle": "2024-03-14T10:40:39.273465Z",
     "shell.execute_reply": "2024-03-14T10:40:39.272535Z"
    },
    "papermill": {
     "duration": 0.176169,
     "end_time": "2024-03-14T10:40:39.276235",
     "exception": false,
     "start_time": "2024-03-14T10:40:39.100066",
     "status": "completed"
    },
    "tags": []
   },
   "outputs": [
    {
     "name": "stdout",
     "output_type": "stream",
     "text": [
      "Found 351 files belonging to 36 classes.\n"
     ]
    }
   ],
   "source": [
    "validation_set = keras.utils.image_dataset_from_directory(\n",
    "    '/kaggle/input/fruit-and-vegetable-image-recognition/validation',\n",
    "    labels=\"inferred\",\n",
    "    label_mode=\"categorical\",\n",
    "    class_names=None,\n",
    "    color_mode=\"rgb\",\n",
    "    batch_size=32,\n",
    "    image_size=(64, 64),\n",
    "    shuffle=True,\n",
    "    seed=None,\n",
    "    validation_split=None,\n",
    "    subset=None,\n",
    "    interpolation=\"bilinear\",\n",
    "    follow_links=False,\n",
    "    crop_to_aspect_ratio=False,\n",
    "    data_format=None,\n",
    ")"
   ]
  },
  {
   "cell_type": "code",
   "execution_count": null,
   "id": "e7edbe8b",
   "metadata": {
    "papermill": {
     "duration": 0.003377,
     "end_time": "2024-03-14T10:40:39.283458",
     "exception": false,
     "start_time": "2024-03-14T10:40:39.280081",
     "status": "completed"
    },
    "tags": []
   },
   "outputs": [],
   "source": []
  }
 ],
 "metadata": {
  "kaggle": {
   "accelerator": "none",
   "dataSources": [
    {
     "datasetId": 952827,
     "sourceId": 3173719,
     "sourceType": "datasetVersion"
    }
   ],
   "dockerImageVersionId": 30664,
   "isGpuEnabled": false,
   "isInternetEnabled": true,
   "language": "python",
   "sourceType": "notebook"
  },
  "kernelspec": {
   "display_name": "Python 3",
   "language": "python",
   "name": "python3"
  },
  "language_info": {
   "codemirror_mode": {
    "name": "ipython",
    "version": 3
   },
   "file_extension": ".py",
   "mimetype": "text/x-python",
   "name": "python",
   "nbconvert_exporter": "python",
   "pygments_lexer": "ipython3",
   "version": "3.10.13"
  },
  "papermill": {
   "default_parameters": {},
   "duration": 21.803688,
   "end_time": "2024-03-14T10:40:40.815472",
   "environment_variables": {},
   "exception": null,
   "input_path": "__notebook__.ipynb",
   "output_path": "__notebook__.ipynb",
   "parameters": {},
   "start_time": "2024-03-14T10:40:19.011784",
   "version": "2.5.0"
  }
 },
 "nbformat": 4,
 "nbformat_minor": 5
}
