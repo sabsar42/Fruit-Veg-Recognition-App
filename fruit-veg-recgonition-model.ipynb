{
 "cells": [
  {
   "cell_type": "markdown",
   "id": "cf2a3229",
   "metadata": {
    "papermill": {
     "duration": 0.00395,
     "end_time": "2024-03-25T20:07:39.111749",
     "exception": false,
     "start_time": "2024-03-25T20:07:39.107799",
     "status": "completed"
    },
    "tags": []
   },
   "source": [
    "# Importing Dataset"
   ]
  },
  {
   "cell_type": "code",
   "execution_count": 1,
   "id": "3045bf96",
   "metadata": {
    "execution": {
     "iopub.execute_input": "2024-03-25T20:07:39.122540Z",
     "iopub.status.busy": "2024-03-25T20:07:39.120732Z",
     "iopub.status.idle": "2024-03-25T20:07:55.857082Z",
     "shell.execute_reply": "2024-03-25T20:07:55.855798Z"
    },
    "papermill": {
     "duration": 16.745198,
     "end_time": "2024-03-25T20:07:55.860582",
     "exception": false,
     "start_time": "2024-03-25T20:07:39.115384",
     "status": "completed"
    },
    "tags": []
   },
   "outputs": [
    {
     "name": "stderr",
     "output_type": "stream",
     "text": [
      "2024-03-25 20:07:41.665018: E external/local_xla/xla/stream_executor/cuda/cuda_dnn.cc:9261] Unable to register cuDNN factory: Attempting to register factory for plugin cuDNN when one has already been registered\n",
      "2024-03-25 20:07:41.665251: E external/local_xla/xla/stream_executor/cuda/cuda_fft.cc:607] Unable to register cuFFT factory: Attempting to register factory for plugin cuFFT when one has already been registered\n",
      "2024-03-25 20:07:41.855558: E external/local_xla/xla/stream_executor/cuda/cuda_blas.cc:1515] Unable to register cuBLAS factory: Attempting to register factory for plugin cuBLAS when one has already been registered\n"
     ]
    }
   ],
   "source": [
    "import numpy as np\n",
    "import matplotlib.pyplot as plt\n",
    "import tensorflow as tf\n",
    "from tensorflow import keras"
   ]
  },
  {
   "cell_type": "markdown",
   "id": "221d06fe",
   "metadata": {
    "papermill": {
     "duration": 0.003391,
     "end_time": "2024-03-25T20:07:55.867863",
     "exception": false,
     "start_time": "2024-03-25T20:07:55.864472",
     "status": "completed"
    },
    "tags": []
   },
   "source": [
    "# Data Pre-Processing"
   ]
  },
  {
   "cell_type": "markdown",
   "id": "ef5e00ff",
   "metadata": {
    "papermill": {
     "duration": 0.003468,
     "end_time": "2024-03-25T20:07:55.875300",
     "exception": false,
     "start_time": "2024-03-25T20:07:55.871832",
     "status": "completed"
    },
    "tags": []
   },
   "source": [
    "## Training Image Pre-Processing\n"
   ]
  },
  {
   "cell_type": "code",
   "execution_count": 2,
   "id": "4f531279",
   "metadata": {
    "execution": {
     "iopub.execute_input": "2024-03-25T20:07:55.885254Z",
     "iopub.status.busy": "2024-03-25T20:07:55.884486Z",
     "iopub.status.idle": "2024-03-25T20:07:56.558895Z",
     "shell.execute_reply": "2024-03-25T20:07:56.557909Z"
    },
    "papermill": {
     "duration": 0.682852,
     "end_time": "2024-03-25T20:07:56.561819",
     "exception": false,
     "start_time": "2024-03-25T20:07:55.878967",
     "status": "completed"
    },
    "tags": []
   },
   "outputs": [
    {
     "name": "stdout",
     "output_type": "stream",
     "text": [
      "Found 3115 files belonging to 36 classes.\n"
     ]
    }
   ],
   "source": [
    "training_set = keras.utils.image_dataset_from_directory(\n",
    "    '/kaggle/input/fruit-and-vegetable-image-recognition/train',\n",
    "    labels=\"inferred\",\n",
    "    label_mode=\"categorical\",\n",
    "    class_names=None,\n",
    "    color_mode=\"rgb\",\n",
    "    batch_size=32,\n",
    "    image_size=(64, 64),\n",
    "    shuffle=True,\n",
    "    seed=None,\n",
    "    validation_split=None,\n",
    "    subset=None,\n",
    "    interpolation=\"bilinear\",\n",
    "    follow_links=False,\n",
    "    crop_to_aspect_ratio=False,\n",
    "    data_format=None,\n",
    ")"
   ]
  },
  {
   "cell_type": "markdown",
   "id": "0bd878fd",
   "metadata": {
    "papermill": {
     "duration": 0.003462,
     "end_time": "2024-03-25T20:07:56.569285",
     "exception": false,
     "start_time": "2024-03-25T20:07:56.565823",
     "status": "completed"
    },
    "tags": []
   },
   "source": [
    "## Validtion Image Pre-Processing"
   ]
  },
  {
   "cell_type": "code",
   "execution_count": 3,
   "id": "4fe2a0fa",
   "metadata": {
    "execution": {
     "iopub.execute_input": "2024-03-25T20:07:56.578778Z",
     "iopub.status.busy": "2024-03-25T20:07:56.578153Z",
     "iopub.status.idle": "2024-03-25T20:07:56.805355Z",
     "shell.execute_reply": "2024-03-25T20:07:56.803870Z"
    },
    "papermill": {
     "duration": 0.235572,
     "end_time": "2024-03-25T20:07:56.808478",
     "exception": false,
     "start_time": "2024-03-25T20:07:56.572906",
     "status": "completed"
    },
    "tags": []
   },
   "outputs": [
    {
     "name": "stdout",
     "output_type": "stream",
     "text": [
      "Found 351 files belonging to 36 classes.\n"
     ]
    }
   ],
   "source": [
    "validation_set = keras.utils.image_dataset_from_directory(\n",
    "    '/kaggle/input/fruit-and-vegetable-image-recognition/validation',\n",
    "    labels=\"inferred\",\n",
    "    label_mode=\"categorical\",\n",
    "    class_names=None,\n",
    "    color_mode=\"rgb\",\n",
    "    batch_size=32,\n",
    "    image_size=(64, 64),\n",
    "    shuffle=True,\n",
    "    seed=None,\n",
    "    validation_split=None,\n",
    "    subset=None,\n",
    "    interpolation=\"bilinear\",\n",
    "    follow_links=False,\n",
    "    crop_to_aspect_ratio=False,\n",
    "    data_format=None,\n",
    ")"
   ]
  },
  {
   "cell_type": "code",
   "execution_count": null,
   "id": "95e17afc",
   "metadata": {
    "papermill": {
     "duration": 0.003602,
     "end_time": "2024-03-25T20:07:56.816603",
     "exception": false,
     "start_time": "2024-03-25T20:07:56.813001",
     "status": "completed"
    },
    "tags": []
   },
   "outputs": [],
   "source": []
  }
 ],
 "metadata": {
  "kaggle": {
   "accelerator": "none",
   "dataSources": [
    {
     "datasetId": 952827,
     "sourceId": 3173719,
     "sourceType": "datasetVersion"
    }
   ],
   "dockerImageVersionId": 30664,
   "isGpuEnabled": false,
   "isInternetEnabled": true,
   "language": "python",
   "sourceType": "notebook"
  },
  "kernelspec": {
   "display_name": "Python 3",
   "language": "python",
   "name": "python3"
  },
  "language_info": {
   "codemirror_mode": {
    "name": "ipython",
    "version": 3
   },
   "file_extension": ".py",
   "mimetype": "text/x-python",
   "name": "python",
   "nbconvert_exporter": "python",
   "pygments_lexer": "ipython3",
   "version": "3.10.13"
  },
  "papermill": {
   "default_parameters": {},
   "duration": 22.844518,
   "end_time": "2024-03-25T20:07:58.551260",
   "environment_variables": {},
   "exception": null,
   "input_path": "__notebook__.ipynb",
   "output_path": "__notebook__.ipynb",
   "parameters": {},
   "start_time": "2024-03-25T20:07:35.706742",
   "version": "2.5.0"
  }
 },
 "nbformat": 4,
 "nbformat_minor": 5
}
