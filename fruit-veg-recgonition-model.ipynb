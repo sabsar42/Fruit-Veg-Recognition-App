{
 "cells": [
  {
   "cell_type": "markdown",
   "id": "14a5b1ea",
   "metadata": {
    "papermill": {
     "duration": 0.005787,
     "end_time": "2024-04-20T18:37:19.086841",
     "exception": false,
     "start_time": "2024-04-20T18:37:19.081054",
     "status": "completed"
    },
    "tags": []
   },
   "source": [
    "# Importing Dataset"
   ]
  },
  {
   "cell_type": "code",
   "execution_count": 1,
   "id": "10f04d11",
   "metadata": {
    "execution": {
     "iopub.execute_input": "2024-04-20T18:37:19.098649Z",
     "iopub.status.busy": "2024-04-20T18:37:19.098226Z",
     "iopub.status.idle": "2024-04-20T18:37:33.897745Z",
     "shell.execute_reply": "2024-04-20T18:37:33.896597Z"
    },
    "papermill": {
     "duration": 14.80841,
     "end_time": "2024-04-20T18:37:33.900417",
     "exception": false,
     "start_time": "2024-04-20T18:37:19.092007",
     "status": "completed"
    },
    "tags": []
   },
   "outputs": [
    {
     "name": "stderr",
     "output_type": "stream",
     "text": [
      "2024-04-20 18:37:21.339987: E external/local_xla/xla/stream_executor/cuda/cuda_dnn.cc:9261] Unable to register cuDNN factory: Attempting to register factory for plugin cuDNN when one has already been registered\n",
      "2024-04-20 18:37:21.340145: E external/local_xla/xla/stream_executor/cuda/cuda_fft.cc:607] Unable to register cuFFT factory: Attempting to register factory for plugin cuFFT when one has already been registered\n",
      "2024-04-20 18:37:21.509446: E external/local_xla/xla/stream_executor/cuda/cuda_blas.cc:1515] Unable to register cuBLAS factory: Attempting to register factory for plugin cuBLAS when one has already been registered\n"
     ]
    }
   ],
   "source": [
    "import numpy as np\n",
    "import matplotlib.pyplot as plt\n",
    "import tensorflow as tf\n",
    "from tensorflow import keras"
   ]
  },
  {
   "cell_type": "markdown",
   "id": "ff452e69",
   "metadata": {
    "papermill": {
     "duration": 0.004901,
     "end_time": "2024-04-20T18:37:33.910847",
     "exception": false,
     "start_time": "2024-04-20T18:37:33.905946",
     "status": "completed"
    },
    "tags": []
   },
   "source": [
    "# Data Pre-Processing"
   ]
  },
  {
   "cell_type": "markdown",
   "id": "f9cc62da",
   "metadata": {
    "papermill": {
     "duration": 0.006411,
     "end_time": "2024-04-20T18:37:33.922323",
     "exception": false,
     "start_time": "2024-04-20T18:37:33.915912",
     "status": "completed"
    },
    "tags": []
   },
   "source": [
    "## Training Image Pre-Processing\n"
   ]
  },
  {
   "cell_type": "code",
   "execution_count": 2,
   "id": "8425f9e4",
   "metadata": {
    "execution": {
     "iopub.execute_input": "2024-04-20T18:37:33.934939Z",
     "iopub.status.busy": "2024-04-20T18:37:33.934263Z",
     "iopub.status.idle": "2024-04-20T18:37:34.246553Z",
     "shell.execute_reply": "2024-04-20T18:37:34.245454Z"
    },
    "papermill": {
     "duration": 0.321422,
     "end_time": "2024-04-20T18:37:34.249236",
     "exception": false,
     "start_time": "2024-04-20T18:37:33.927814",
     "status": "completed"
    },
    "tags": []
   },
   "outputs": [
    {
     "name": "stdout",
     "output_type": "stream",
     "text": [
      "Found 3115 files belonging to 36 classes.\n"
     ]
    }
   ],
   "source": [
    "training_set = keras.utils.image_dataset_from_directory(\n",
    "    '/kaggle/input/fruit-and-vegetable-image-recognition/train',\n",
    "    labels=\"inferred\",\n",
    "    label_mode=\"categorical\",\n",
    "    class_names=None,\n",
    "    color_mode=\"rgb\",\n",
    "    batch_size=32,\n",
    "    image_size=(64, 64),\n",
    "    shuffle=True,\n",
    "    seed=None,\n",
    "    validation_split=None,\n",
    "    subset=None,\n",
    "    interpolation=\"bilinear\",\n",
    "    follow_links=False,\n",
    "    crop_to_aspect_ratio=False,\n",
    "    data_format=None,\n",
    ")"
   ]
  },
  {
   "cell_type": "markdown",
   "id": "aa5e0301",
   "metadata": {
    "papermill": {
     "duration": 0.004992,
     "end_time": "2024-04-20T18:37:34.259697",
     "exception": false,
     "start_time": "2024-04-20T18:37:34.254705",
     "status": "completed"
    },
    "tags": []
   },
   "source": [
    "## Validtion Image Pre-Processing"
   ]
  },
  {
   "cell_type": "code",
   "execution_count": 3,
   "id": "c647573a",
   "metadata": {
    "execution": {
     "iopub.execute_input": "2024-04-20T18:37:34.271825Z",
     "iopub.status.busy": "2024-04-20T18:37:34.271429Z",
     "iopub.status.idle": "2024-04-20T18:37:34.354498Z",
     "shell.execute_reply": "2024-04-20T18:37:34.353424Z"
    },
    "papermill": {
     "duration": 0.092238,
     "end_time": "2024-04-20T18:37:34.357151",
     "exception": false,
     "start_time": "2024-04-20T18:37:34.264913",
     "status": "completed"
    },
    "tags": []
   },
   "outputs": [
    {
     "name": "stdout",
     "output_type": "stream",
     "text": [
      "Found 351 files belonging to 36 classes.\n"
     ]
    }
   ],
   "source": [
    "validation_set = keras.utils.image_dataset_from_directory(\n",
    "    '/kaggle/input/fruit-and-vegetable-image-recognition/validation',\n",
    "    labels=\"inferred\",\n",
    "    label_mode=\"categorical\",\n",
    "    class_names=None,\n",
    "    color_mode=\"rgb\",\n",
    "    batch_size=32,\n",
    "    image_size=(64, 64),\n",
    "    shuffle=True,\n",
    "    seed=None,\n",
    "    validation_split=None,\n",
    "    subset=None,\n",
    "    interpolation=\"bilinear\",\n",
    "    follow_links=False,\n",
    "    crop_to_aspect_ratio=False,\n",
    "    data_format=None,\n",
    ")"
   ]
  },
  {
   "cell_type": "markdown",
   "id": "e2d05690",
   "metadata": {
    "papermill": {
     "duration": 0.005141,
     "end_time": "2024-04-20T18:37:34.367758",
     "exception": false,
     "start_time": "2024-04-20T18:37:34.362617",
     "status": "completed"
    },
    "tags": []
   },
   "source": [
    "# Building Model"
   ]
  },
  {
   "cell_type": "code",
   "execution_count": 4,
   "id": "7ca9744b",
   "metadata": {
    "execution": {
     "iopub.execute_input": "2024-04-20T18:37:34.380011Z",
     "iopub.status.busy": "2024-04-20T18:37:34.379643Z",
     "iopub.status.idle": "2024-04-20T18:37:34.385829Z",
     "shell.execute_reply": "2024-04-20T18:37:34.384569Z"
    },
    "papermill": {
     "duration": 0.014973,
     "end_time": "2024-04-20T18:37:34.388171",
     "exception": false,
     "start_time": "2024-04-20T18:37:34.373198",
     "status": "completed"
    },
    "tags": []
   },
   "outputs": [],
   "source": [
    "cnn = tf.keras.models.Sequential()"
   ]
  },
  {
   "cell_type": "markdown",
   "id": "a3007713",
   "metadata": {
    "papermill": {
     "duration": 0.005129,
     "end_time": "2024-04-20T18:37:34.398971",
     "exception": false,
     "start_time": "2024-04-20T18:37:34.393842",
     "status": "completed"
    },
    "tags": []
   },
   "source": [
    "# Building Convulation layer"
   ]
  },
  {
   "cell_type": "code",
   "execution_count": 5,
   "id": "7ee1217d",
   "metadata": {
    "execution": {
     "iopub.execute_input": "2024-04-20T18:37:34.411835Z",
     "iopub.status.busy": "2024-04-20T18:37:34.410991Z",
     "iopub.status.idle": "2024-04-20T18:37:34.455246Z",
     "shell.execute_reply": "2024-04-20T18:37:34.454197Z"
    },
    "papermill": {
     "duration": 0.05331,
     "end_time": "2024-04-20T18:37:34.457643",
     "exception": false,
     "start_time": "2024-04-20T18:37:34.404333",
     "status": "completed"
    },
    "tags": []
   },
   "outputs": [
    {
     "name": "stderr",
     "output_type": "stream",
     "text": [
      "/opt/conda/lib/python3.10/site-packages/keras/src/layers/convolutional/base_conv.py:99: UserWarning: Do not pass an `input_shape`/`input_dim` argument to a layer. When using Sequential models, prefer using an `Input(shape)` object as the first layer in the model instead.\n",
      "  super().__init__(\n"
     ]
    }
   ],
   "source": [
    "cnn.add(tf.keras.layers.Conv2D(filters=64, kernel_size=3, activation='relu', input_shape=[64,64,3]))\n",
    "cnn.add(tf.keras.layers.MaxPool2D(pool_size=2, strides=2))\n"
   ]
  },
  {
   "cell_type": "code",
   "execution_count": 6,
   "id": "f320e5fb",
   "metadata": {
    "execution": {
     "iopub.execute_input": "2024-04-20T18:37:34.471848Z",
     "iopub.status.busy": "2024-04-20T18:37:34.471438Z",
     "iopub.status.idle": "2024-04-20T18:37:34.496341Z",
     "shell.execute_reply": "2024-04-20T18:37:34.495291Z"
    },
    "papermill": {
     "duration": 0.03449,
     "end_time": "2024-04-20T18:37:34.498905",
     "exception": false,
     "start_time": "2024-04-20T18:37:34.464415",
     "status": "completed"
    },
    "tags": []
   },
   "outputs": [],
   "source": [
    "cnn.add(tf.keras.layers.Conv2D(filters=64, kernel_size=3, activation='relu', ))\n",
    "cnn.add(tf.keras.layers.MaxPool2D(pool_size=2, strides=2))"
   ]
  },
  {
   "cell_type": "code",
   "execution_count": 7,
   "id": "ef4b3c4e",
   "metadata": {
    "execution": {
     "iopub.execute_input": "2024-04-20T18:37:34.511449Z",
     "iopub.status.busy": "2024-04-20T18:37:34.511089Z",
     "iopub.status.idle": "2024-04-20T18:37:34.526941Z",
     "shell.execute_reply": "2024-04-20T18:37:34.525795Z"
    },
    "papermill": {
     "duration": 0.024986,
     "end_time": "2024-04-20T18:37:34.529369",
     "exception": false,
     "start_time": "2024-04-20T18:37:34.504383",
     "status": "completed"
    },
    "tags": []
   },
   "outputs": [],
   "source": [
    "cnn.add(tf.keras.layers.Dropout(0.5)) #to avoid overfitting"
   ]
  },
  {
   "cell_type": "code",
   "execution_count": 8,
   "id": "08e0940d",
   "metadata": {
    "execution": {
     "iopub.execute_input": "2024-04-20T18:37:34.542256Z",
     "iopub.status.busy": "2024-04-20T18:37:34.541855Z",
     "iopub.status.idle": "2024-04-20T18:37:34.553914Z",
     "shell.execute_reply": "2024-04-20T18:37:34.552694Z"
    },
    "papermill": {
     "duration": 0.02115,
     "end_time": "2024-04-20T18:37:34.556117",
     "exception": false,
     "start_time": "2024-04-20T18:37:34.534967",
     "status": "completed"
    },
    "tags": []
   },
   "outputs": [],
   "source": [
    "cnn.add(tf.keras.layers.Flatten())"
   ]
  },
  {
   "cell_type": "code",
   "execution_count": 9,
   "id": "bad2cf4a",
   "metadata": {
    "execution": {
     "iopub.execute_input": "2024-04-20T18:37:34.568701Z",
     "iopub.status.busy": "2024-04-20T18:37:34.568287Z",
     "iopub.status.idle": "2024-04-20T18:37:34.603391Z",
     "shell.execute_reply": "2024-04-20T18:37:34.602276Z"
    },
    "papermill": {
     "duration": 0.044437,
     "end_time": "2024-04-20T18:37:34.605933",
     "exception": false,
     "start_time": "2024-04-20T18:37:34.561496",
     "status": "completed"
    },
    "tags": []
   },
   "outputs": [],
   "source": [
    "cnn.add(tf.keras.layers.Dense(units=128))"
   ]
  },
  {
   "cell_type": "code",
   "execution_count": 10,
   "id": "d1f81ba6",
   "metadata": {
    "execution": {
     "iopub.execute_input": "2024-04-20T18:37:34.618967Z",
     "iopub.status.busy": "2024-04-20T18:37:34.618538Z",
     "iopub.status.idle": "2024-04-20T18:37:34.640378Z",
     "shell.execute_reply": "2024-04-20T18:37:34.639127Z"
    },
    "papermill": {
     "duration": 0.031384,
     "end_time": "2024-04-20T18:37:34.643005",
     "exception": false,
     "start_time": "2024-04-20T18:37:34.611621",
     "status": "completed"
    },
    "tags": []
   },
   "outputs": [],
   "source": [
    "cnn.add(tf.keras.layers.Dense(units=128,activation='relu'))"
   ]
  },
  {
   "cell_type": "markdown",
   "id": "0046e4f3",
   "metadata": {
    "papermill": {
     "duration": 0.005247,
     "end_time": "2024-04-20T18:37:34.653887",
     "exception": false,
     "start_time": "2024-04-20T18:37:34.648640",
     "status": "completed"
    },
    "tags": []
   },
   "source": [
    "# Output Layer"
   ]
  },
  {
   "cell_type": "code",
   "execution_count": 11,
   "id": "0b0440bd",
   "metadata": {
    "execution": {
     "iopub.execute_input": "2024-04-20T18:37:34.667202Z",
     "iopub.status.busy": "2024-04-20T18:37:34.666805Z",
     "iopub.status.idle": "2024-04-20T18:37:34.689854Z",
     "shell.execute_reply": "2024-04-20T18:37:34.688829Z"
    },
    "papermill": {
     "duration": 0.032931,
     "end_time": "2024-04-20T18:37:34.692548",
     "exception": false,
     "start_time": "2024-04-20T18:37:34.659617",
     "status": "completed"
    },
    "tags": []
   },
   "outputs": [],
   "source": [
    "cnn.add(tf.keras.layers.Dense(units=36,activation='softmax')) "
   ]
  },
  {
   "cell_type": "markdown",
   "id": "edf144fd",
   "metadata": {
    "papermill": {
     "duration": 0.006034,
     "end_time": "2024-04-20T18:37:34.704113",
     "exception": false,
     "start_time": "2024-04-20T18:37:34.698079",
     "status": "completed"
    },
    "tags": []
   },
   "source": [
    "# Compiling and Training Phase "
   ]
  },
  {
   "cell_type": "code",
   "execution_count": 12,
   "id": "15a78b6b",
   "metadata": {
    "execution": {
     "iopub.execute_input": "2024-04-20T18:37:34.717416Z",
     "iopub.status.busy": "2024-04-20T18:37:34.717017Z",
     "iopub.status.idle": "2024-04-20T18:37:34.731830Z",
     "shell.execute_reply": "2024-04-20T18:37:34.730694Z"
    },
    "papermill": {
     "duration": 0.024589,
     "end_time": "2024-04-20T18:37:34.734353",
     "exception": false,
     "start_time": "2024-04-20T18:37:34.709764",
     "status": "completed"
    },
    "tags": []
   },
   "outputs": [],
   "source": [
    "cnn.compile(optimizer='rmsprop', loss='categorical_crossentropy', metrics=['accuracy'])"
   ]
  },
  {
   "cell_type": "code",
   "execution_count": 13,
   "id": "3dab6354",
   "metadata": {
    "execution": {
     "iopub.execute_input": "2024-04-20T18:37:34.747857Z",
     "iopub.status.busy": "2024-04-20T18:37:34.747020Z",
     "iopub.status.idle": "2024-04-20T19:09:23.038957Z",
     "shell.execute_reply": "2024-04-20T19:09:23.037747Z"
    },
    "papermill": {
     "duration": 1908.301566,
     "end_time": "2024-04-20T19:09:23.041481",
     "exception": false,
     "start_time": "2024-04-20T18:37:34.739915",
     "status": "completed"
    },
    "tags": []
   },
   "outputs": [
    {
     "name": "stdout",
     "output_type": "stream",
     "text": [
      "Epoch 1/30\n",
      "\u001b[1m98/98\u001b[0m \u001b[32m━━━━━━━━━━━━━━━━━━━━\u001b[0m\u001b[37m\u001b[0m \u001b[1m71s\u001b[0m 656ms/step - accuracy: 0.0306 - loss: 46.2383 - val_accuracy: 0.0541 - val_loss: 3.6233\n",
      "Epoch 2/30\n",
      "\u001b[1m98/98\u001b[0m \u001b[32m━━━━━━━━━━━━━━━━━━━━\u001b[0m\u001b[37m\u001b[0m \u001b[1m60s\u001b[0m 572ms/step - accuracy: 0.0437 - loss: 3.8567 - val_accuracy: 0.0883 - val_loss: 3.4552\n",
      "Epoch 3/30\n",
      "\u001b[1m98/98\u001b[0m \u001b[32m━━━━━━━━━━━━━━━━━━━━\u001b[0m\u001b[37m\u001b[0m \u001b[1m59s\u001b[0m 564ms/step - accuracy: 0.0706 - loss: 4.3785 - val_accuracy: 0.1709 - val_loss: 3.3382\n",
      "Epoch 4/30\n",
      "\u001b[1m98/98\u001b[0m \u001b[32m━━━━━━━━━━━━━━━━━━━━\u001b[0m\u001b[37m\u001b[0m \u001b[1m83s\u001b[0m 571ms/step - accuracy: 0.0863 - loss: 3.7968 - val_accuracy: 0.0769 - val_loss: 4.0151\n",
      "Epoch 5/30\n",
      "\u001b[1m98/98\u001b[0m \u001b[32m━━━━━━━━━━━━━━━━━━━━\u001b[0m\u001b[37m\u001b[0m \u001b[1m59s\u001b[0m 568ms/step - accuracy: 0.1129 - loss: 5.0125 - val_accuracy: 0.2764 - val_loss: 3.0815\n",
      "Epoch 6/30\n",
      "\u001b[1m98/98\u001b[0m \u001b[32m━━━━━━━━━━━━━━━━━━━━\u001b[0m\u001b[37m\u001b[0m \u001b[1m59s\u001b[0m 567ms/step - accuracy: 0.1514 - loss: 4.0256 - val_accuracy: 0.2650 - val_loss: 2.9281\n",
      "Epoch 7/30\n",
      "\u001b[1m98/98\u001b[0m \u001b[32m━━━━━━━━━━━━━━━━━━━━\u001b[0m\u001b[37m\u001b[0m \u001b[1m82s\u001b[0m 565ms/step - accuracy: 0.1686 - loss: 3.4008 - val_accuracy: 0.0285 - val_loss: 3.5845\n",
      "Epoch 8/30\n",
      "\u001b[1m98/98\u001b[0m \u001b[32m━━━━━━━━━━━━━━━━━━━━\u001b[0m\u001b[37m\u001b[0m \u001b[1m59s\u001b[0m 567ms/step - accuracy: 0.0375 - loss: 5.6349 - val_accuracy: 0.0285 - val_loss: 3.5845\n",
      "Epoch 9/30\n",
      "\u001b[1m98/98\u001b[0m \u001b[32m━━━━━━━━━━━━━━━━━━━━\u001b[0m\u001b[37m\u001b[0m \u001b[1m60s\u001b[0m 570ms/step - accuracy: 0.0350 - loss: 3.5818 - val_accuracy: 0.0285 - val_loss: 3.5845\n",
      "Epoch 10/30\n",
      "\u001b[1m98/98\u001b[0m \u001b[32m━━━━━━━━━━━━━━━━━━━━\u001b[0m\u001b[37m\u001b[0m \u001b[1m59s\u001b[0m 563ms/step - accuracy: 0.0338 - loss: 3.5813 - val_accuracy: 0.0285 - val_loss: 3.5846\n",
      "Epoch 11/30\n",
      "\u001b[1m98/98\u001b[0m \u001b[32m━━━━━━━━━━━━━━━━━━━━\u001b[0m\u001b[37m\u001b[0m \u001b[1m60s\u001b[0m 569ms/step - accuracy: 0.0343 - loss: 3.5806 - val_accuracy: 0.0285 - val_loss: 3.5848\n",
      "Epoch 12/30\n",
      "\u001b[1m98/98\u001b[0m \u001b[32m━━━━━━━━━━━━━━━━━━━━\u001b[0m\u001b[37m\u001b[0m \u001b[1m59s\u001b[0m 566ms/step - accuracy: 0.0327 - loss: 3.5803 - val_accuracy: 0.0285 - val_loss: 3.5850\n",
      "Epoch 13/30\n",
      "\u001b[1m98/98\u001b[0m \u001b[32m━━━━━━━━━━━━━━━━━━━━\u001b[0m\u001b[37m\u001b[0m \u001b[1m59s\u001b[0m 564ms/step - accuracy: 0.0336 - loss: 3.5797 - val_accuracy: 0.0285 - val_loss: 3.5851\n",
      "Epoch 14/30\n",
      "\u001b[1m98/98\u001b[0m \u001b[32m━━━━━━━━━━━━━━━━━━━━\u001b[0m\u001b[37m\u001b[0m \u001b[1m82s\u001b[0m 564ms/step - accuracy: 0.0334 - loss: 3.5791 - val_accuracy: 0.0285 - val_loss: 3.5854\n",
      "Epoch 15/30\n",
      "\u001b[1m98/98\u001b[0m \u001b[32m━━━━━━━━━━━━━━━━━━━━\u001b[0m\u001b[37m\u001b[0m \u001b[1m59s\u001b[0m 564ms/step - accuracy: 0.0305 - loss: 3.5798 - val_accuracy: 0.0285 - val_loss: 3.5855\n",
      "Epoch 16/30\n",
      "\u001b[1m98/98\u001b[0m \u001b[32m━━━━━━━━━━━━━━━━━━━━\u001b[0m\u001b[37m\u001b[0m \u001b[1m59s\u001b[0m 564ms/step - accuracy: 0.0332 - loss: 3.5786 - val_accuracy: 0.0285 - val_loss: 3.5858\n",
      "Epoch 17/30\n",
      "\u001b[1m98/98\u001b[0m \u001b[32m━━━━━━━━━━━━━━━━━━━━\u001b[0m\u001b[37m\u001b[0m \u001b[1m60s\u001b[0m 569ms/step - accuracy: 0.0331 - loss: 3.5784 - val_accuracy: 0.0285 - val_loss: 3.5859\n",
      "Epoch 18/30\n",
      "\u001b[1m98/98\u001b[0m \u001b[32m━━━━━━━━━━━━━━━━━━━━\u001b[0m\u001b[37m\u001b[0m \u001b[1m59s\u001b[0m 563ms/step - accuracy: 0.0261 - loss: 3.5784 - val_accuracy: 0.0285 - val_loss: 3.5861\n",
      "Epoch 19/30\n",
      "\u001b[1m98/98\u001b[0m \u001b[32m━━━━━━━━━━━━━━━━━━━━\u001b[0m\u001b[37m\u001b[0m \u001b[1m59s\u001b[0m 565ms/step - accuracy: 0.0303 - loss: 3.5788 - val_accuracy: 0.0285 - val_loss: 3.5863\n",
      "Epoch 20/30\n",
      "\u001b[1m98/98\u001b[0m \u001b[32m━━━━━━━━━━━━━━━━━━━━\u001b[0m\u001b[37m\u001b[0m \u001b[1m60s\u001b[0m 572ms/step - accuracy: 0.0292 - loss: 3.5786 - val_accuracy: 0.0285 - val_loss: 3.5865\n",
      "Epoch 21/30\n",
      "\u001b[1m98/98\u001b[0m \u001b[32m━━━━━━━━━━━━━━━━━━━━\u001b[0m\u001b[37m\u001b[0m \u001b[1m59s\u001b[0m 566ms/step - accuracy: 0.0299 - loss: 3.5780 - val_accuracy: 0.0285 - val_loss: 3.5868\n",
      "Epoch 22/30\n",
      "\u001b[1m98/98\u001b[0m \u001b[32m━━━━━━━━━━━━━━━━━━━━\u001b[0m\u001b[37m\u001b[0m \u001b[1m59s\u001b[0m 566ms/step - accuracy: 0.0299 - loss: 3.5786 - val_accuracy: 0.0285 - val_loss: 3.5869\n",
      "Epoch 23/30\n",
      "\u001b[1m98/98\u001b[0m \u001b[32m━━━━━━━━━━━━━━━━━━━━\u001b[0m\u001b[37m\u001b[0m \u001b[1m60s\u001b[0m 572ms/step - accuracy: 0.0300 - loss: 3.5775 - val_accuracy: 0.0285 - val_loss: 3.5871\n",
      "Epoch 24/30\n",
      "\u001b[1m98/98\u001b[0m \u001b[32m━━━━━━━━━━━━━━━━━━━━\u001b[0m\u001b[37m\u001b[0m \u001b[1m60s\u001b[0m 569ms/step - accuracy: 0.0279 - loss: 3.5770 - val_accuracy: 0.0285 - val_loss: 3.5872\n",
      "Epoch 25/30\n",
      "\u001b[1m98/98\u001b[0m \u001b[32m━━━━━━━━━━━━━━━━━━━━\u001b[0m\u001b[37m\u001b[0m \u001b[1m81s\u001b[0m 563ms/step - accuracy: 0.0248 - loss: 3.5775 - val_accuracy: 0.0285 - val_loss: 3.5873\n",
      "Epoch 26/30\n",
      "\u001b[1m98/98\u001b[0m \u001b[32m━━━━━━━━━━━━━━━━━━━━\u001b[0m\u001b[37m\u001b[0m \u001b[1m60s\u001b[0m 573ms/step - accuracy: 0.0312 - loss: 3.5768 - val_accuracy: 0.0285 - val_loss: 3.5874\n",
      "Epoch 27/30\n",
      "\u001b[1m98/98\u001b[0m \u001b[32m━━━━━━━━━━━━━━━━━━━━\u001b[0m\u001b[37m\u001b[0m \u001b[1m61s\u001b[0m 579ms/step - accuracy: 0.0321 - loss: 3.5772 - val_accuracy: 0.0285 - val_loss: 3.5877\n",
      "Epoch 28/30\n",
      "\u001b[1m98/98\u001b[0m \u001b[32m━━━━━━━━━━━━━━━━━━━━\u001b[0m\u001b[37m\u001b[0m \u001b[1m81s\u001b[0m 574ms/step - accuracy: 0.0343 - loss: 3.5773 - val_accuracy: 0.0285 - val_loss: 3.5878\n",
      "Epoch 29/30\n",
      "\u001b[1m98/98\u001b[0m \u001b[32m━━━━━━━━━━━━━━━━━━━━\u001b[0m\u001b[37m\u001b[0m \u001b[1m60s\u001b[0m 574ms/step - accuracy: 0.0345 - loss: 3.5773 - val_accuracy: 0.0285 - val_loss: 3.5879\n",
      "Epoch 30/30\n",
      "\u001b[1m98/98\u001b[0m \u001b[32m━━━━━━━━━━━━━━━━━━━━\u001b[0m\u001b[37m\u001b[0m \u001b[1m60s\u001b[0m 575ms/step - accuracy: 0.0325 - loss: 3.5779 - val_accuracy: 0.0285 - val_loss: 3.5880\n"
     ]
    }
   ],
   "source": [
    "training_history = cnn.fit(x=training_set, validation_data=validation_set, epochs=30)\n"
   ]
  },
  {
   "cell_type": "code",
   "execution_count": 14,
   "id": "fb3fae54",
   "metadata": {
    "execution": {
     "iopub.execute_input": "2024-04-20T19:09:23.455907Z",
     "iopub.status.busy": "2024-04-20T19:09:23.455502Z",
     "iopub.status.idle": "2024-04-20T19:09:23.516840Z",
     "shell.execute_reply": "2024-04-20T19:09:23.515625Z"
    },
    "papermill": {
     "duration": 0.27101,
     "end_time": "2024-04-20T19:09:23.519556",
     "exception": false,
     "start_time": "2024-04-20T19:09:23.248546",
     "status": "completed"
    },
    "tags": []
   },
   "outputs": [],
   "source": [
    "cnn.save('trained_model.h5')"
   ]
  },
  {
   "cell_type": "code",
   "execution_count": null,
   "id": "1d330b66",
   "metadata": {
    "papermill": {
     "duration": 0.206922,
     "end_time": "2024-04-20T19:09:23.937027",
     "exception": false,
     "start_time": "2024-04-20T19:09:23.730105",
     "status": "completed"
    },
    "tags": []
   },
   "outputs": [],
   "source": []
  }
 ],
 "metadata": {
  "kaggle": {
   "accelerator": "none",
   "dataSources": [
    {
     "datasetId": 952827,
     "sourceId": 3173719,
     "sourceType": "datasetVersion"
    }
   ],
   "dockerImageVersionId": 30664,
   "isGpuEnabled": false,
   "isInternetEnabled": true,
   "language": "python",
   "sourceType": "notebook"
  },
  "kernelspec": {
   "display_name": "Python 3",
   "language": "python",
   "name": "python3"
  },
  "language_info": {
   "codemirror_mode": {
    "name": "ipython",
    "version": 3
   },
   "file_extension": ".py",
   "mimetype": "text/x-python",
   "name": "python",
   "nbconvert_exporter": "python",
   "pygments_lexer": "ipython3",
   "version": "3.10.13"
  },
  "papermill": {
   "default_parameters": {},
   "duration": 1930.347212,
   "end_time": "2024-04-20T19:09:26.573227",
   "environment_variables": {},
   "exception": null,
   "input_path": "__notebook__.ipynb",
   "output_path": "__notebook__.ipynb",
   "parameters": {},
   "start_time": "2024-04-20T18:37:16.226015",
   "version": "2.5.0"
  }
 },
 "nbformat": 4,
 "nbformat_minor": 5
}
