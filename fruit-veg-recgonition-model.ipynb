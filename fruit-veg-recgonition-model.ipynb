{
 "cells": [
  {
   "cell_type": "markdown",
   "id": "85e34c10",
   "metadata": {
    "papermill": {
     "duration": 0.003841,
     "end_time": "2024-03-26T20:13:15.227873",
     "exception": false,
     "start_time": "2024-03-26T20:13:15.224032",
     "status": "completed"
    },
    "tags": []
   },
   "source": [
    "# Importing Dataset"
   ]
  },
  {
   "cell_type": "code",
   "execution_count": 1,
   "id": "a265b49e",
   "metadata": {
    "execution": {
     "iopub.execute_input": "2024-03-26T20:13:15.237219Z",
     "iopub.status.busy": "2024-03-26T20:13:15.236493Z",
     "iopub.status.idle": "2024-03-26T20:13:30.542178Z",
     "shell.execute_reply": "2024-03-26T20:13:30.540863Z"
    },
    "papermill": {
     "duration": 15.314452,
     "end_time": "2024-03-26T20:13:30.545767",
     "exception": false,
     "start_time": "2024-03-26T20:13:15.231315",
     "status": "completed"
    },
    "tags": []
   },
   "outputs": [
    {
     "name": "stderr",
     "output_type": "stream",
     "text": [
      "2024-03-26 20:13:17.431517: E external/local_xla/xla/stream_executor/cuda/cuda_dnn.cc:9261] Unable to register cuDNN factory: Attempting to register factory for plugin cuDNN when one has already been registered\n",
      "2024-03-26 20:13:17.431653: E external/local_xla/xla/stream_executor/cuda/cuda_fft.cc:607] Unable to register cuFFT factory: Attempting to register factory for plugin cuFFT when one has already been registered\n",
      "2024-03-26 20:13:17.595108: E external/local_xla/xla/stream_executor/cuda/cuda_blas.cc:1515] Unable to register cuBLAS factory: Attempting to register factory for plugin cuBLAS when one has already been registered\n"
     ]
    }
   ],
   "source": [
    "import numpy as np\n",
    "import matplotlib.pyplot as plt\n",
    "import tensorflow as tf\n",
    "from tensorflow import keras"
   ]
  },
  {
   "cell_type": "markdown",
   "id": "fbe67d15",
   "metadata": {
    "papermill": {
     "duration": 0.003351,
     "end_time": "2024-03-26T20:13:30.553018",
     "exception": false,
     "start_time": "2024-03-26T20:13:30.549667",
     "status": "completed"
    },
    "tags": []
   },
   "source": [
    "# Data Pre-Processing"
   ]
  },
  {
   "cell_type": "markdown",
   "id": "784cdb42",
   "metadata": {
    "papermill": {
     "duration": 0.00319,
     "end_time": "2024-03-26T20:13:30.559691",
     "exception": false,
     "start_time": "2024-03-26T20:13:30.556501",
     "status": "completed"
    },
    "tags": []
   },
   "source": [
    "## Training Image Pre-Processing\n"
   ]
  },
  {
   "cell_type": "code",
   "execution_count": 2,
   "id": "80633a40",
   "metadata": {
    "execution": {
     "iopub.execute_input": "2024-03-26T20:13:30.569992Z",
     "iopub.status.busy": "2024-03-26T20:13:30.568805Z",
     "iopub.status.idle": "2024-03-26T20:13:31.038659Z",
     "shell.execute_reply": "2024-03-26T20:13:31.037431Z"
    },
    "papermill": {
     "duration": 0.478533,
     "end_time": "2024-03-26T20:13:31.041634",
     "exception": false,
     "start_time": "2024-03-26T20:13:30.563101",
     "status": "completed"
    },
    "tags": []
   },
   "outputs": [
    {
     "name": "stdout",
     "output_type": "stream",
     "text": [
      "Found 3115 files belonging to 36 classes.\n"
     ]
    }
   ],
   "source": [
    "training_set = keras.utils.image_dataset_from_directory(\n",
    "    '/kaggle/input/fruit-and-vegetable-image-recognition/train',\n",
    "    labels=\"inferred\",\n",
    "    label_mode=\"categorical\",\n",
    "    class_names=None,\n",
    "    color_mode=\"rgb\",\n",
    "    batch_size=32,\n",
    "    image_size=(64, 64),\n",
    "    shuffle=True,\n",
    "    seed=None,\n",
    "    validation_split=None,\n",
    "    subset=None,\n",
    "    interpolation=\"bilinear\",\n",
    "    follow_links=False,\n",
    "    crop_to_aspect_ratio=False,\n",
    "    data_format=None,\n",
    ")"
   ]
  },
  {
   "cell_type": "markdown",
   "id": "8600919b",
   "metadata": {
    "papermill": {
     "duration": 0.003268,
     "end_time": "2024-03-26T20:13:31.048662",
     "exception": false,
     "start_time": "2024-03-26T20:13:31.045394",
     "status": "completed"
    },
    "tags": []
   },
   "source": [
    "## Validtion Image Pre-Processing"
   ]
  },
  {
   "cell_type": "code",
   "execution_count": 3,
   "id": "f46ee63b",
   "metadata": {
    "execution": {
     "iopub.execute_input": "2024-03-26T20:13:31.057877Z",
     "iopub.status.busy": "2024-03-26T20:13:31.057361Z",
     "iopub.status.idle": "2024-03-26T20:13:31.180507Z",
     "shell.execute_reply": "2024-03-26T20:13:31.179095Z"
    },
    "papermill": {
     "duration": 0.131915,
     "end_time": "2024-03-26T20:13:31.184064",
     "exception": false,
     "start_time": "2024-03-26T20:13:31.052149",
     "status": "completed"
    },
    "tags": []
   },
   "outputs": [
    {
     "name": "stdout",
     "output_type": "stream",
     "text": [
      "Found 351 files belonging to 36 classes.\n"
     ]
    }
   ],
   "source": [
    "validation_set = keras.utils.image_dataset_from_directory(\n",
    "    '/kaggle/input/fruit-and-vegetable-image-recognition/validation',\n",
    "    labels=\"inferred\",\n",
    "    label_mode=\"categorical\",\n",
    "    class_names=None,\n",
    "    color_mode=\"rgb\",\n",
    "    batch_size=32,\n",
    "    image_size=(64, 64),\n",
    "    shuffle=True,\n",
    "    seed=None,\n",
    "    validation_split=None,\n",
    "    subset=None,\n",
    "    interpolation=\"bilinear\",\n",
    "    follow_links=False,\n",
    "    crop_to_aspect_ratio=False,\n",
    "    data_format=None,\n",
    ")"
   ]
  },
  {
   "cell_type": "code",
   "execution_count": null,
   "id": "a0368a86",
   "metadata": {
    "papermill": {
     "duration": 0.003454,
     "end_time": "2024-03-26T20:13:31.191675",
     "exception": false,
     "start_time": "2024-03-26T20:13:31.188221",
     "status": "completed"
    },
    "tags": []
   },
   "outputs": [],
   "source": []
  }
 ],
 "metadata": {
  "kaggle": {
   "accelerator": "none",
   "dataSources": [
    {
     "datasetId": 952827,
     "sourceId": 3173719,
     "sourceType": "datasetVersion"
    }
   ],
   "dockerImageVersionId": 30664,
   "isGpuEnabled": false,
   "isInternetEnabled": true,
   "language": "python",
   "sourceType": "notebook"
  },
  "kernelspec": {
   "display_name": "Python 3",
   "language": "python",
   "name": "python3"
  },
  "language_info": {
   "codemirror_mode": {
    "name": "ipython",
    "version": 3
   },
   "file_extension": ".py",
   "mimetype": "text/x-python",
   "name": "python",
   "nbconvert_exporter": "python",
   "pygments_lexer": "ipython3",
   "version": "3.10.13"
  },
  "papermill": {
   "default_parameters": {},
   "duration": 22.125692,
   "end_time": "2024-03-26T20:13:34.300544",
   "environment_variables": {},
   "exception": null,
   "input_path": "__notebook__.ipynb",
   "output_path": "__notebook__.ipynb",
   "parameters": {},
   "start_time": "2024-03-26T20:13:12.174852",
   "version": "2.5.0"
  }
 },
 "nbformat": 4,
 "nbformat_minor": 5
}
