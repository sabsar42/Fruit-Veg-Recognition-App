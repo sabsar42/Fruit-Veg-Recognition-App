{
 "cells": [
  {
   "cell_type": "markdown",
   "id": "55d4236b",
   "metadata": {
    "papermill": {
     "duration": 0.00626,
     "end_time": "2024-05-01T06:49:29.518519",
     "exception": false,
     "start_time": "2024-05-01T06:49:29.512259",
     "status": "completed"
    },
    "tags": []
   },
   "source": [
    "# Importing Dataset"
   ]
  },
  {
   "cell_type": "code",
   "execution_count": 1,
   "id": "edc05545",
   "metadata": {
    "execution": {
     "iopub.execute_input": "2024-05-01T06:49:29.531484Z",
     "iopub.status.busy": "2024-05-01T06:49:29.530977Z",
     "iopub.status.idle": "2024-05-01T06:49:45.334200Z",
     "shell.execute_reply": "2024-05-01T06:49:45.332765Z"
    },
    "papermill": {
     "duration": 15.813435,
     "end_time": "2024-05-01T06:49:45.337690",
     "exception": false,
     "start_time": "2024-05-01T06:49:29.524255",
     "status": "completed"
    },
    "tags": []
   },
   "outputs": [
    {
     "name": "stderr",
     "output_type": "stream",
     "text": [
      "2024-05-01 06:49:31.819316: E external/local_xla/xla/stream_executor/cuda/cuda_dnn.cc:9261] Unable to register cuDNN factory: Attempting to register factory for plugin cuDNN when one has already been registered\n",
      "2024-05-01 06:49:31.819452: E external/local_xla/xla/stream_executor/cuda/cuda_fft.cc:607] Unable to register cuFFT factory: Attempting to register factory for plugin cuFFT when one has already been registered\n",
      "2024-05-01 06:49:31.984009: E external/local_xla/xla/stream_executor/cuda/cuda_blas.cc:1515] Unable to register cuBLAS factory: Attempting to register factory for plugin cuBLAS when one has already been registered\n"
     ]
    }
   ],
   "source": [
    "import numpy as np\n",
    "import matplotlib.pyplot as plt\n",
    "import tensorflow as tf\n",
    "from tensorflow import keras"
   ]
  },
  {
   "cell_type": "markdown",
   "id": "b2d3a3c8",
   "metadata": {
    "papermill": {
     "duration": 0.005485,
     "end_time": "2024-05-01T06:49:45.348866",
     "exception": false,
     "start_time": "2024-05-01T06:49:45.343381",
     "status": "completed"
    },
    "tags": []
   },
   "source": [
    "# Data Pre-Processing"
   ]
  },
  {
   "cell_type": "markdown",
   "id": "3c58fafa",
   "metadata": {
    "papermill": {
     "duration": 0.00503,
     "end_time": "2024-05-01T06:49:45.359402",
     "exception": false,
     "start_time": "2024-05-01T06:49:45.354372",
     "status": "completed"
    },
    "tags": []
   },
   "source": [
    "## Training Image Pre-Processing\n"
   ]
  },
  {
   "cell_type": "code",
   "execution_count": 2,
   "id": "827f2921",
   "metadata": {
    "execution": {
     "iopub.execute_input": "2024-05-01T06:49:45.373765Z",
     "iopub.status.busy": "2024-05-01T06:49:45.372649Z",
     "iopub.status.idle": "2024-05-01T06:49:45.786001Z",
     "shell.execute_reply": "2024-05-01T06:49:45.784824Z"
    },
    "papermill": {
     "duration": 0.423801,
     "end_time": "2024-05-01T06:49:45.788879",
     "exception": false,
     "start_time": "2024-05-01T06:49:45.365078",
     "status": "completed"
    },
    "tags": []
   },
   "outputs": [
    {
     "name": "stdout",
     "output_type": "stream",
     "text": [
      "Found 3115 files belonging to 36 classes.\n"
     ]
    }
   ],
   "source": [
    "training_set = keras.utils.image_dataset_from_directory(\n",
    "    '/kaggle/input/fruit-and-vegetable-image-recognition/train',\n",
    "    labels=\"inferred\",\n",
    "    label_mode=\"categorical\",\n",
    "    class_names=None,\n",
    "    color_mode=\"rgb\",\n",
    "    batch_size=32,\n",
    "    image_size=(64, 64),\n",
    "    shuffle=True,\n",
    "    seed=None,\n",
    "    validation_split=None,\n",
    "    subset=None,\n",
    "    interpolation=\"bilinear\",\n",
    "    follow_links=False,\n",
    "    crop_to_aspect_ratio=False,\n",
    "    data_format=None,\n",
    ")"
   ]
  },
  {
   "cell_type": "markdown",
   "id": "e7f234a5",
   "metadata": {
    "papermill": {
     "duration": 0.00513,
     "end_time": "2024-05-01T06:49:45.799632",
     "exception": false,
     "start_time": "2024-05-01T06:49:45.794502",
     "status": "completed"
    },
    "tags": []
   },
   "source": [
    "## Validtion Image Pre-Processing"
   ]
  },
  {
   "cell_type": "code",
   "execution_count": 3,
   "id": "465796eb",
   "metadata": {
    "execution": {
     "iopub.execute_input": "2024-05-01T06:49:45.813008Z",
     "iopub.status.busy": "2024-05-01T06:49:45.812565Z",
     "iopub.status.idle": "2024-05-01T06:49:45.939002Z",
     "shell.execute_reply": "2024-05-01T06:49:45.938098Z"
    },
    "papermill": {
     "duration": 0.136196,
     "end_time": "2024-05-01T06:49:45.941695",
     "exception": false,
     "start_time": "2024-05-01T06:49:45.805499",
     "status": "completed"
    },
    "tags": []
   },
   "outputs": [
    {
     "name": "stdout",
     "output_type": "stream",
     "text": [
      "Found 351 files belonging to 36 classes.\n"
     ]
    }
   ],
   "source": [
    "validation_set = keras.utils.image_dataset_from_directory(\n",
    "    '/kaggle/input/fruit-and-vegetable-image-recognition/validation',\n",
    "    labels=\"inferred\",\n",
    "    label_mode=\"categorical\",\n",
    "    class_names=None,\n",
    "    color_mode=\"rgb\",\n",
    "    batch_size=32,\n",
    "    image_size=(64, 64),\n",
    "    shuffle=True,\n",
    "    seed=None,\n",
    "    validation_split=None,\n",
    "    subset=None,\n",
    "    interpolation=\"bilinear\",\n",
    "    follow_links=False,\n",
    "    crop_to_aspect_ratio=False,\n",
    "    data_format=None,\n",
    ")"
   ]
  },
  {
   "cell_type": "markdown",
   "id": "4ba48ccd",
   "metadata": {
    "papermill": {
     "duration": 0.005276,
     "end_time": "2024-05-01T06:49:45.952564",
     "exception": false,
     "start_time": "2024-05-01T06:49:45.947288",
     "status": "completed"
    },
    "tags": []
   },
   "source": [
    "# Building Model"
   ]
  },
  {
   "cell_type": "code",
   "execution_count": 4,
   "id": "0b8c59ee",
   "metadata": {
    "execution": {
     "iopub.execute_input": "2024-05-01T06:49:45.965589Z",
     "iopub.status.busy": "2024-05-01T06:49:45.964926Z",
     "iopub.status.idle": "2024-05-01T06:49:45.970538Z",
     "shell.execute_reply": "2024-05-01T06:49:45.969423Z"
    },
    "papermill": {
     "duration": 0.015015,
     "end_time": "2024-05-01T06:49:45.973006",
     "exception": false,
     "start_time": "2024-05-01T06:49:45.957991",
     "status": "completed"
    },
    "tags": []
   },
   "outputs": [],
   "source": [
    "cnn = tf.keras.models.Sequential()"
   ]
  },
  {
   "cell_type": "markdown",
   "id": "3cbb3e7f",
   "metadata": {
    "papermill": {
     "duration": 0.005144,
     "end_time": "2024-05-01T06:49:45.983767",
     "exception": false,
     "start_time": "2024-05-01T06:49:45.978623",
     "status": "completed"
    },
    "tags": []
   },
   "source": [
    "# Building Convulation layer"
   ]
  },
  {
   "cell_type": "code",
   "execution_count": 5,
   "id": "5e02eeda",
   "metadata": {
    "execution": {
     "iopub.execute_input": "2024-05-01T06:49:45.997609Z",
     "iopub.status.busy": "2024-05-01T06:49:45.997168Z",
     "iopub.status.idle": "2024-05-01T06:49:46.040840Z",
     "shell.execute_reply": "2024-05-01T06:49:46.039556Z"
    },
    "papermill": {
     "duration": 0.055178,
     "end_time": "2024-05-01T06:49:46.044376",
     "exception": false,
     "start_time": "2024-05-01T06:49:45.989198",
     "status": "completed"
    },
    "tags": []
   },
   "outputs": [
    {
     "name": "stderr",
     "output_type": "stream",
     "text": [
      "/opt/conda/lib/python3.10/site-packages/keras/src/layers/convolutional/base_conv.py:99: UserWarning: Do not pass an `input_shape`/`input_dim` argument to a layer. When using Sequential models, prefer using an `Input(shape)` object as the first layer in the model instead.\n",
      "  super().__init__(\n"
     ]
    }
   ],
   "source": [
    "cnn.add(tf.keras.layers.Conv2D(filters=64, kernel_size=3, activation='relu', input_shape=[64,64,3]))\n",
    "cnn.add(tf.keras.layers.MaxPool2D(pool_size=2, strides=2))\n"
   ]
  },
  {
   "cell_type": "code",
   "execution_count": 6,
   "id": "6b5d3811",
   "metadata": {
    "execution": {
     "iopub.execute_input": "2024-05-01T06:49:46.057237Z",
     "iopub.status.busy": "2024-05-01T06:49:46.056764Z",
     "iopub.status.idle": "2024-05-01T06:49:46.082376Z",
     "shell.execute_reply": "2024-05-01T06:49:46.081129Z"
    },
    "papermill": {
     "duration": 0.035231,
     "end_time": "2024-05-01T06:49:46.085043",
     "exception": false,
     "start_time": "2024-05-01T06:49:46.049812",
     "status": "completed"
    },
    "tags": []
   },
   "outputs": [],
   "source": [
    "cnn.add(tf.keras.layers.Conv2D(filters=64, kernel_size=3, activation='relu', ))\n",
    "cnn.add(tf.keras.layers.MaxPool2D(pool_size=2, strides=2))"
   ]
  },
  {
   "cell_type": "code",
   "execution_count": 7,
   "id": "7c90e8bc",
   "metadata": {
    "execution": {
     "iopub.execute_input": "2024-05-01T06:49:46.098896Z",
     "iopub.status.busy": "2024-05-01T06:49:46.098487Z",
     "iopub.status.idle": "2024-05-01T06:49:46.113662Z",
     "shell.execute_reply": "2024-05-01T06:49:46.112584Z"
    },
    "papermill": {
     "duration": 0.025678,
     "end_time": "2024-05-01T06:49:46.116437",
     "exception": false,
     "start_time": "2024-05-01T06:49:46.090759",
     "status": "completed"
    },
    "tags": []
   },
   "outputs": [],
   "source": [
    "cnn.add(tf.keras.layers.Dropout(0.5)) #to avoid overfitting"
   ]
  },
  {
   "cell_type": "code",
   "execution_count": 8,
   "id": "e1bac7d7",
   "metadata": {
    "execution": {
     "iopub.execute_input": "2024-05-01T06:49:46.129665Z",
     "iopub.status.busy": "2024-05-01T06:49:46.129274Z",
     "iopub.status.idle": "2024-05-01T06:49:46.141262Z",
     "shell.execute_reply": "2024-05-01T06:49:46.140206Z"
    },
    "papermill": {
     "duration": 0.021277,
     "end_time": "2024-05-01T06:49:46.143522",
     "exception": false,
     "start_time": "2024-05-01T06:49:46.122245",
     "status": "completed"
    },
    "tags": []
   },
   "outputs": [],
   "source": [
    "cnn.add(tf.keras.layers.Flatten())"
   ]
  },
  {
   "cell_type": "code",
   "execution_count": 9,
   "id": "6a44597c",
   "metadata": {
    "execution": {
     "iopub.execute_input": "2024-05-01T06:49:46.156772Z",
     "iopub.status.busy": "2024-05-01T06:49:46.156357Z",
     "iopub.status.idle": "2024-05-01T06:49:46.192960Z",
     "shell.execute_reply": "2024-05-01T06:49:46.191690Z"
    },
    "papermill": {
     "duration": 0.046465,
     "end_time": "2024-05-01T06:49:46.195648",
     "exception": false,
     "start_time": "2024-05-01T06:49:46.149183",
     "status": "completed"
    },
    "tags": []
   },
   "outputs": [],
   "source": [
    "cnn.add(tf.keras.layers.Dense(units=128))"
   ]
  },
  {
   "cell_type": "code",
   "execution_count": 10,
   "id": "0575041d",
   "metadata": {
    "execution": {
     "iopub.execute_input": "2024-05-01T06:49:46.209084Z",
     "iopub.status.busy": "2024-05-01T06:49:46.208639Z",
     "iopub.status.idle": "2024-05-01T06:49:46.231113Z",
     "shell.execute_reply": "2024-05-01T06:49:46.229858Z"
    },
    "papermill": {
     "duration": 0.032334,
     "end_time": "2024-05-01T06:49:46.233745",
     "exception": false,
     "start_time": "2024-05-01T06:49:46.201411",
     "status": "completed"
    },
    "tags": []
   },
   "outputs": [],
   "source": [
    "cnn.add(tf.keras.layers.Dense(units=128,activation='relu'))"
   ]
  },
  {
   "cell_type": "markdown",
   "id": "1abf46ea",
   "metadata": {
    "papermill": {
     "duration": 0.005189,
     "end_time": "2024-05-01T06:49:46.244612",
     "exception": false,
     "start_time": "2024-05-01T06:49:46.239423",
     "status": "completed"
    },
    "tags": []
   },
   "source": [
    "# Output Layer"
   ]
  },
  {
   "cell_type": "code",
   "execution_count": 11,
   "id": "c4e919d0",
   "metadata": {
    "execution": {
     "iopub.execute_input": "2024-05-01T06:49:46.258020Z",
     "iopub.status.busy": "2024-05-01T06:49:46.257614Z",
     "iopub.status.idle": "2024-05-01T06:49:46.282455Z",
     "shell.execute_reply": "2024-05-01T06:49:46.281198Z"
    },
    "papermill": {
     "duration": 0.034802,
     "end_time": "2024-05-01T06:49:46.285118",
     "exception": false,
     "start_time": "2024-05-01T06:49:46.250316",
     "status": "completed"
    },
    "tags": []
   },
   "outputs": [],
   "source": [
    "cnn.add(tf.keras.layers.Dense(units=36,activation='softmax')) "
   ]
  },
  {
   "cell_type": "markdown",
   "id": "37a2dc0a",
   "metadata": {
    "papermill": {
     "duration": 0.005392,
     "end_time": "2024-05-01T06:49:46.296389",
     "exception": false,
     "start_time": "2024-05-01T06:49:46.290997",
     "status": "completed"
    },
    "tags": []
   },
   "source": [
    "# Compiling and Training Phase "
   ]
  },
  {
   "cell_type": "code",
   "execution_count": 12,
   "id": "4f5274cc",
   "metadata": {
    "execution": {
     "iopub.execute_input": "2024-05-01T06:49:46.310316Z",
     "iopub.status.busy": "2024-05-01T06:49:46.309755Z",
     "iopub.status.idle": "2024-05-01T06:49:46.324481Z",
     "shell.execute_reply": "2024-05-01T06:49:46.323134Z"
    },
    "papermill": {
     "duration": 0.024722,
     "end_time": "2024-05-01T06:49:46.327230",
     "exception": false,
     "start_time": "2024-05-01T06:49:46.302508",
     "status": "completed"
    },
    "tags": []
   },
   "outputs": [],
   "source": [
    "cnn.compile(optimizer='rmsprop', loss='categorical_crossentropy', metrics=['accuracy'])"
   ]
  },
  {
   "cell_type": "code",
   "execution_count": 13,
   "id": "98537aee",
   "metadata": {
    "execution": {
     "iopub.execute_input": "2024-05-01T06:49:46.341299Z",
     "iopub.status.busy": "2024-05-01T06:49:46.340189Z",
     "iopub.status.idle": "2024-05-01T07:22:21.458451Z",
     "shell.execute_reply": "2024-05-01T07:22:21.457355Z"
    },
    "papermill": {
     "duration": 1955.128023,
     "end_time": "2024-05-01T07:22:21.461020",
     "exception": false,
     "start_time": "2024-05-01T06:49:46.332997",
     "status": "completed"
    },
    "tags": []
   },
   "outputs": [
    {
     "name": "stdout",
     "output_type": "stream",
     "text": [
      "Epoch 1/30\n",
      "\u001b[1m98/98\u001b[0m \u001b[32m━━━━━━━━━━━━━━━━━━━━\u001b[0m\u001b[37m\u001b[0m \u001b[1m71s\u001b[0m 676ms/step - accuracy: 0.0337 - loss: 49.2914 - val_accuracy: 0.0513 - val_loss: 3.5359\n",
      "Epoch 2/30\n",
      "\u001b[1m98/98\u001b[0m \u001b[32m━━━━━━━━━━━━━━━━━━━━\u001b[0m\u001b[37m\u001b[0m \u001b[1m60s\u001b[0m 582ms/step - accuracy: 0.0496 - loss: 3.7874 - val_accuracy: 0.1026 - val_loss: 3.5151\n",
      "Epoch 3/30\n",
      "\u001b[1m98/98\u001b[0m \u001b[32m━━━━━━━━━━━━━━━━━━━━\u001b[0m\u001b[37m\u001b[0m \u001b[1m60s\u001b[0m 586ms/step - accuracy: 0.0679 - loss: 3.7912 - val_accuracy: 0.0969 - val_loss: 3.6987\n",
      "Epoch 4/30\n",
      "\u001b[1m98/98\u001b[0m \u001b[32m━━━━━━━━━━━━━━━━━━━━\u001b[0m\u001b[37m\u001b[0m \u001b[1m60s\u001b[0m 581ms/step - accuracy: 0.1081 - loss: 3.6150 - val_accuracy: 0.2165 - val_loss: 3.1584\n",
      "Epoch 5/30\n",
      "\u001b[1m98/98\u001b[0m \u001b[32m━━━━━━━━━━━━━━━━━━━━\u001b[0m\u001b[37m\u001b[0m \u001b[1m61s\u001b[0m 590ms/step - accuracy: 0.1230 - loss: 3.7975 - val_accuracy: 0.1538 - val_loss: 3.9829\n",
      "Epoch 6/30\n",
      "\u001b[1m98/98\u001b[0m \u001b[32m━━━━━━━━━━━━━━━━━━━━\u001b[0m\u001b[37m\u001b[0m \u001b[1m81s\u001b[0m 577ms/step - accuracy: 0.1815 - loss: 3.6882 - val_accuracy: 0.3048 - val_loss: 2.7601\n",
      "Epoch 7/30\n",
      "\u001b[1m98/98\u001b[0m \u001b[32m━━━━━━━━━━━━━━━━━━━━\u001b[0m\u001b[37m\u001b[0m \u001b[1m59s\u001b[0m 573ms/step - accuracy: 0.2171 - loss: 3.5717 - val_accuracy: 0.3048 - val_loss: 2.7975\n",
      "Epoch 8/30\n",
      "\u001b[1m98/98\u001b[0m \u001b[32m━━━━━━━━━━━━━━━━━━━━\u001b[0m\u001b[37m\u001b[0m \u001b[1m60s\u001b[0m 580ms/step - accuracy: 0.2585 - loss: 3.1482 - val_accuracy: 0.3533 - val_loss: 2.5240\n",
      "Epoch 9/30\n",
      "\u001b[1m98/98\u001b[0m \u001b[32m━━━━━━━━━━━━━━━━━━━━\u001b[0m\u001b[37m\u001b[0m \u001b[1m81s\u001b[0m 569ms/step - accuracy: 0.2977 - loss: 2.9704 - val_accuracy: 0.2678 - val_loss: 4.7421\n",
      "Epoch 10/30\n",
      "\u001b[1m98/98\u001b[0m \u001b[32m━━━━━━━━━━━━━━━━━━━━\u001b[0m\u001b[37m\u001b[0m \u001b[1m59s\u001b[0m 575ms/step - accuracy: 0.3336 - loss: 2.8382 - val_accuracy: 0.3362 - val_loss: 2.7949\n",
      "Epoch 11/30\n",
      "\u001b[1m98/98\u001b[0m \u001b[32m━━━━━━━━━━━━━━━━━━━━\u001b[0m\u001b[37m\u001b[0m \u001b[1m59s\u001b[0m 566ms/step - accuracy: 0.3849 - loss: 2.8941 - val_accuracy: 0.4957 - val_loss: 2.5829\n",
      "Epoch 12/30\n",
      "\u001b[1m98/98\u001b[0m \u001b[32m━━━━━━━━━━━━━━━━━━━━\u001b[0m\u001b[37m\u001b[0m \u001b[1m59s\u001b[0m 577ms/step - accuracy: 0.4119 - loss: 2.8168 - val_accuracy: 0.6182 - val_loss: 1.7395\n",
      "Epoch 13/30\n",
      "\u001b[1m98/98\u001b[0m \u001b[32m━━━━━━━━━━━━━━━━━━━━\u001b[0m\u001b[37m\u001b[0m \u001b[1m82s\u001b[0m 573ms/step - accuracy: 0.4894 - loss: 2.0997 - val_accuracy: 0.6838 - val_loss: 1.7372\n",
      "Epoch 14/30\n",
      "\u001b[1m98/98\u001b[0m \u001b[32m━━━━━━━━━━━━━━━━━━━━\u001b[0m\u001b[37m\u001b[0m \u001b[1m59s\u001b[0m 576ms/step - accuracy: 0.5157 - loss: 2.0815 - val_accuracy: 0.7009 - val_loss: 1.4746\n",
      "Epoch 15/30\n",
      "\u001b[1m98/98\u001b[0m \u001b[32m━━━━━━━━━━━━━━━━━━━━\u001b[0m\u001b[37m\u001b[0m \u001b[1m60s\u001b[0m 582ms/step - accuracy: 0.5469 - loss: 1.7893 - val_accuracy: 0.3846 - val_loss: 3.9145\n",
      "Epoch 16/30\n",
      "\u001b[1m98/98\u001b[0m \u001b[32m━━━━━━━━━━━━━━━━━━━━\u001b[0m\u001b[37m\u001b[0m \u001b[1m61s\u001b[0m 588ms/step - accuracy: 0.5687 - loss: 1.9677 - val_accuracy: 0.6610 - val_loss: 1.8385\n",
      "Epoch 17/30\n",
      "\u001b[1m98/98\u001b[0m \u001b[32m━━━━━━━━━━━━━━━━━━━━\u001b[0m\u001b[37m\u001b[0m \u001b[1m61s\u001b[0m 587ms/step - accuracy: 0.5700 - loss: 1.7280 - val_accuracy: 0.7692 - val_loss: 1.8557\n",
      "Epoch 18/30\n",
      "\u001b[1m98/98\u001b[0m \u001b[32m━━━━━━━━━━━━━━━━━━━━\u001b[0m\u001b[37m\u001b[0m \u001b[1m59s\u001b[0m 576ms/step - accuracy: 0.5972 - loss: 1.9207 - val_accuracy: 0.7635 - val_loss: 1.4494\n",
      "Epoch 19/30\n",
      "\u001b[1m98/98\u001b[0m \u001b[32m━━━━━━━━━━━━━━━━━━━━\u001b[0m\u001b[37m\u001b[0m \u001b[1m59s\u001b[0m 574ms/step - accuracy: 0.6606 - loss: 1.4759 - val_accuracy: 0.6838 - val_loss: 1.7513\n",
      "Epoch 20/30\n",
      "\u001b[1m98/98\u001b[0m \u001b[32m━━━━━━━━━━━━━━━━━━━━\u001b[0m\u001b[37m\u001b[0m \u001b[1m59s\u001b[0m 577ms/step - accuracy: 0.6556 - loss: 1.4676 - val_accuracy: 0.6040 - val_loss: 2.5480\n",
      "Epoch 21/30\n",
      "\u001b[1m98/98\u001b[0m \u001b[32m━━━━━━━━━━━━━━━━━━━━\u001b[0m\u001b[37m\u001b[0m \u001b[1m60s\u001b[0m 578ms/step - accuracy: 0.6499 - loss: 1.6877 - val_accuracy: 0.8205 - val_loss: 1.8935\n",
      "Epoch 22/30\n",
      "\u001b[1m98/98\u001b[0m \u001b[32m━━━━━━━━━━━━━━━━━━━━\u001b[0m\u001b[37m\u001b[0m \u001b[1m60s\u001b[0m 578ms/step - accuracy: 0.7025 - loss: 1.2852 - val_accuracy: 0.8718 - val_loss: 1.2758\n",
      "Epoch 23/30\n",
      "\u001b[1m98/98\u001b[0m \u001b[32m━━━━━━━━━━━━━━━━━━━━\u001b[0m\u001b[37m\u001b[0m \u001b[1m59s\u001b[0m 570ms/step - accuracy: 0.7121 - loss: 1.1843 - val_accuracy: 0.8661 - val_loss: 1.3191\n",
      "Epoch 24/30\n",
      "\u001b[1m98/98\u001b[0m \u001b[32m━━━━━━━━━━━━━━━━━━━━\u001b[0m\u001b[37m\u001b[0m \u001b[1m59s\u001b[0m 571ms/step - accuracy: 0.7110 - loss: 1.2424 - val_accuracy: 0.8262 - val_loss: 1.8361\n",
      "Epoch 25/30\n",
      "\u001b[1m98/98\u001b[0m \u001b[32m━━━━━━━━━━━━━━━━━━━━\u001b[0m\u001b[37m\u001b[0m \u001b[1m59s\u001b[0m 565ms/step - accuracy: 0.7099 - loss: 1.3008 - val_accuracy: 0.8234 - val_loss: 1.4043\n",
      "Epoch 26/30\n",
      "\u001b[1m98/98\u001b[0m \u001b[32m━━━━━━━━━━━━━━━━━━━━\u001b[0m\u001b[37m\u001b[0m \u001b[1m83s\u001b[0m 581ms/step - accuracy: 0.7118 - loss: 1.4800 - val_accuracy: 0.7607 - val_loss: 1.5818\n",
      "Epoch 27/30\n",
      "\u001b[1m98/98\u001b[0m \u001b[32m━━━━━━━━━━━━━━━━━━━━\u001b[0m\u001b[37m\u001b[0m \u001b[1m82s\u001b[0m 580ms/step - accuracy: 0.7434 - loss: 1.1039 - val_accuracy: 0.8803 - val_loss: 1.5169\n",
      "Epoch 28/30\n",
      "\u001b[1m98/98\u001b[0m \u001b[32m━━━━━━━━━━━━━━━━━━━━\u001b[0m\u001b[37m\u001b[0m \u001b[1m60s\u001b[0m 576ms/step - accuracy: 0.7411 - loss: 1.1938 - val_accuracy: 0.8746 - val_loss: 1.0672\n",
      "Epoch 29/30\n",
      "\u001b[1m98/98\u001b[0m \u001b[32m━━━━━━━━━━━━━━━━━━━━\u001b[0m\u001b[37m\u001b[0m \u001b[1m82s\u001b[0m 580ms/step - accuracy: 0.7577 - loss: 1.1327 - val_accuracy: 0.9060 - val_loss: 1.1277\n",
      "Epoch 30/30\n",
      "\u001b[1m98/98\u001b[0m \u001b[32m━━━━━━━━━━━━━━━━━━━━\u001b[0m\u001b[37m\u001b[0m \u001b[1m59s\u001b[0m 575ms/step - accuracy: 0.7745 - loss: 1.0191 - val_accuracy: 0.8746 - val_loss: 1.1484\n"
     ]
    }
   ],
   "source": [
    "training_history = cnn.fit(x=training_set, validation_data=validation_set, epochs=30)\n"
   ]
  },
  {
   "cell_type": "code",
   "execution_count": 14,
   "id": "21de93e2",
   "metadata": {
    "execution": {
     "iopub.execute_input": "2024-05-01T07:22:21.956769Z",
     "iopub.status.busy": "2024-05-01T07:22:21.955738Z",
     "iopub.status.idle": "2024-05-01T07:22:22.017468Z",
     "shell.execute_reply": "2024-05-01T07:22:22.016186Z"
    },
    "papermill": {
     "duration": 0.352754,
     "end_time": "2024-05-01T07:22:22.020042",
     "exception": false,
     "start_time": "2024-05-01T07:22:21.667288",
     "status": "completed"
    },
    "tags": []
   },
   "outputs": [],
   "source": [
    "cnn.save('trained_model.h5')"
   ]
  },
  {
   "cell_type": "code",
   "execution_count": null,
   "id": "e9003be5",
   "metadata": {
    "papermill": {
     "duration": 0.206063,
     "end_time": "2024-05-01T07:22:22.435963",
     "exception": false,
     "start_time": "2024-05-01T07:22:22.229900",
     "status": "completed"
    },
    "tags": []
   },
   "outputs": [],
   "source": []
  }
 ],
 "metadata": {
  "kaggle": {
   "accelerator": "none",
   "dataSources": [
    {
     "datasetId": 952827,
     "sourceId": 3173719,
     "sourceType": "datasetVersion"
    }
   ],
   "dockerImageVersionId": 30664,
   "isGpuEnabled": false,
   "isInternetEnabled": true,
   "language": "python",
   "sourceType": "notebook"
  },
  "kernelspec": {
   "display_name": "Python 3",
   "language": "python",
   "name": "python3"
  },
  "language_info": {
   "codemirror_mode": {
    "name": "ipython",
    "version": 3
   },
   "file_extension": ".py",
   "mimetype": "text/x-python",
   "name": "python",
   "nbconvert_exporter": "python",
   "pygments_lexer": "ipython3",
   "version": "3.10.13"
  },
  "papermill": {
   "default_parameters": {},
   "duration": 1978.548334,
   "end_time": "2024-05-01T07:22:24.954573",
   "environment_variables": {},
   "exception": null,
   "input_path": "__notebook__.ipynb",
   "output_path": "__notebook__.ipynb",
   "parameters": {},
   "start_time": "2024-05-01T06:49:26.406239",
   "version": "2.5.0"
  }
 },
 "nbformat": 4,
 "nbformat_minor": 5
}
