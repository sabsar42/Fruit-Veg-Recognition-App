{
 "cells": [
  {
   "cell_type": "markdown",
   "id": "73876d05",
   "metadata": {
    "papermill": {
     "duration": 0.008123,
     "end_time": "2024-05-03T17:15:43.073215",
     "exception": false,
     "start_time": "2024-05-03T17:15:43.065092",
     "status": "completed"
    },
    "tags": []
   },
   "source": [
    "# Importing Dataset"
   ]
  },
  {
   "cell_type": "code",
   "execution_count": 1,
   "id": "26dbe801",
   "metadata": {
    "execution": {
     "iopub.execute_input": "2024-05-03T17:15:43.091331Z",
     "iopub.status.busy": "2024-05-03T17:15:43.090877Z",
     "iopub.status.idle": "2024-05-03T17:15:57.324811Z",
     "shell.execute_reply": "2024-05-03T17:15:57.323628Z"
    },
    "papermill": {
     "duration": 14.245707,
     "end_time": "2024-05-03T17:15:57.327291",
     "exception": false,
     "start_time": "2024-05-03T17:15:43.081584",
     "status": "completed"
    },
    "tags": []
   },
   "outputs": [
    {
     "name": "stderr",
     "output_type": "stream",
     "text": [
      "2024-05-03 17:15:45.256147: E external/local_xla/xla/stream_executor/cuda/cuda_dnn.cc:9261] Unable to register cuDNN factory: Attempting to register factory for plugin cuDNN when one has already been registered\n",
      "2024-05-03 17:15:45.256271: E external/local_xla/xla/stream_executor/cuda/cuda_fft.cc:607] Unable to register cuFFT factory: Attempting to register factory for plugin cuFFT when one has already been registered\n",
      "2024-05-03 17:15:45.411192: E external/local_xla/xla/stream_executor/cuda/cuda_blas.cc:1515] Unable to register cuBLAS factory: Attempting to register factory for plugin cuBLAS when one has already been registered\n"
     ]
    }
   ],
   "source": [
    "import numpy as np\n",
    "import matplotlib.pyplot as plt\n",
    "import tensorflow as tf\n",
    "from tensorflow import keras"
   ]
  },
  {
   "cell_type": "markdown",
   "id": "d9f41439",
   "metadata": {
    "papermill": {
     "duration": 0.007688,
     "end_time": "2024-05-03T17:15:57.343105",
     "exception": false,
     "start_time": "2024-05-03T17:15:57.335417",
     "status": "completed"
    },
    "tags": []
   },
   "source": [
    "# Data Pre-Processing"
   ]
  },
  {
   "cell_type": "markdown",
   "id": "27344bac",
   "metadata": {
    "papermill": {
     "duration": 0.007561,
     "end_time": "2024-05-03T17:15:57.359109",
     "exception": false,
     "start_time": "2024-05-03T17:15:57.351548",
     "status": "completed"
    },
    "tags": []
   },
   "source": [
    "## Training Image Pre-Processing\n"
   ]
  },
  {
   "cell_type": "code",
   "execution_count": 2,
   "id": "c6986074",
   "metadata": {
    "execution": {
     "iopub.execute_input": "2024-05-03T17:15:57.380281Z",
     "iopub.status.busy": "2024-05-03T17:15:57.379234Z",
     "iopub.status.idle": "2024-05-03T17:15:57.829866Z",
     "shell.execute_reply": "2024-05-03T17:15:57.828601Z"
    },
    "papermill": {
     "duration": 0.465612,
     "end_time": "2024-05-03T17:15:57.832854",
     "exception": false,
     "start_time": "2024-05-03T17:15:57.367242",
     "status": "completed"
    },
    "tags": []
   },
   "outputs": [
    {
     "name": "stdout",
     "output_type": "stream",
     "text": [
      "Found 3115 files belonging to 36 classes.\n"
     ]
    }
   ],
   "source": [
    "training_set = keras.utils.image_dataset_from_directory(\n",
    "    '/kaggle/input/fruit-and-vegetable-image-recognition/train',\n",
    "    labels=\"inferred\",\n",
    "    label_mode=\"categorical\",\n",
    "    class_names=None,\n",
    "    color_mode=\"rgb\",\n",
    "    batch_size=32,\n",
    "    image_size=(64, 64),\n",
    "    shuffle=True,\n",
    "    seed=None,\n",
    "    validation_split=None,\n",
    "    subset=None,\n",
    "    interpolation=\"bilinear\",\n",
    "    follow_links=False,\n",
    "    crop_to_aspect_ratio=False,\n",
    "    data_format=None,\n",
    ")"
   ]
  },
  {
   "cell_type": "markdown",
   "id": "8af94731",
   "metadata": {
    "papermill": {
     "duration": 0.007743,
     "end_time": "2024-05-03T17:15:57.849130",
     "exception": false,
     "start_time": "2024-05-03T17:15:57.841387",
     "status": "completed"
    },
    "tags": []
   },
   "source": [
    "## Validtion Image Pre-Processing"
   ]
  },
  {
   "cell_type": "code",
   "execution_count": 3,
   "id": "17d5acd5",
   "metadata": {
    "execution": {
     "iopub.execute_input": "2024-05-03T17:15:57.867105Z",
     "iopub.status.busy": "2024-05-03T17:15:57.866736Z",
     "iopub.status.idle": "2024-05-03T17:15:57.999345Z",
     "shell.execute_reply": "2024-05-03T17:15:57.998162Z"
    },
    "papermill": {
     "duration": 0.144826,
     "end_time": "2024-05-03T17:15:58.002020",
     "exception": false,
     "start_time": "2024-05-03T17:15:57.857194",
     "status": "completed"
    },
    "tags": []
   },
   "outputs": [
    {
     "name": "stdout",
     "output_type": "stream",
     "text": [
      "Found 351 files belonging to 36 classes.\n"
     ]
    }
   ],
   "source": [
    "validation_set = keras.utils.image_dataset_from_directory(\n",
    "    '/kaggle/input/fruit-and-vegetable-image-recognition/validation',\n",
    "    labels=\"inferred\",\n",
    "    label_mode=\"categorical\",\n",
    "    class_names=None,\n",
    "    color_mode=\"rgb\",\n",
    "    batch_size=32,\n",
    "    image_size=(64, 64),\n",
    "    shuffle=True,\n",
    "    seed=None,\n",
    "    validation_split=None,\n",
    "    subset=None,\n",
    "    interpolation=\"bilinear\",\n",
    "    follow_links=False,\n",
    "    crop_to_aspect_ratio=False,\n",
    "    data_format=None,\n",
    ")"
   ]
  },
  {
   "cell_type": "markdown",
   "id": "ed3249bc",
   "metadata": {
    "papermill": {
     "duration": 0.007803,
     "end_time": "2024-05-03T17:15:58.018813",
     "exception": false,
     "start_time": "2024-05-03T17:15:58.011010",
     "status": "completed"
    },
    "tags": []
   },
   "source": [
    "# Building Model"
   ]
  },
  {
   "cell_type": "code",
   "execution_count": 4,
   "id": "f2b5f154",
   "metadata": {
    "execution": {
     "iopub.execute_input": "2024-05-03T17:15:58.036721Z",
     "iopub.status.busy": "2024-05-03T17:15:58.036304Z",
     "iopub.status.idle": "2024-05-03T17:15:58.042132Z",
     "shell.execute_reply": "2024-05-03T17:15:58.041304Z"
    },
    "papermill": {
     "duration": 0.01722,
     "end_time": "2024-05-03T17:15:58.044130",
     "exception": false,
     "start_time": "2024-05-03T17:15:58.026910",
     "status": "completed"
    },
    "tags": []
   },
   "outputs": [],
   "source": [
    "cnn = tf.keras.models.Sequential()"
   ]
  },
  {
   "cell_type": "markdown",
   "id": "2d147952",
   "metadata": {
    "papermill": {
     "duration": 0.007987,
     "end_time": "2024-05-03T17:15:58.060234",
     "exception": false,
     "start_time": "2024-05-03T17:15:58.052247",
     "status": "completed"
    },
    "tags": []
   },
   "source": [
    "# Building Convulation layer"
   ]
  },
  {
   "cell_type": "code",
   "execution_count": 5,
   "id": "4a70c734",
   "metadata": {
    "execution": {
     "iopub.execute_input": "2024-05-03T17:15:58.079044Z",
     "iopub.status.busy": "2024-05-03T17:15:58.078420Z",
     "iopub.status.idle": "2024-05-03T17:15:58.133751Z",
     "shell.execute_reply": "2024-05-03T17:15:58.132610Z"
    },
    "papermill": {
     "duration": 0.068032,
     "end_time": "2024-05-03T17:15:58.136907",
     "exception": false,
     "start_time": "2024-05-03T17:15:58.068875",
     "status": "completed"
    },
    "tags": []
   },
   "outputs": [
    {
     "name": "stderr",
     "output_type": "stream",
     "text": [
      "/opt/conda/lib/python3.10/site-packages/keras/src/layers/convolutional/base_conv.py:99: UserWarning: Do not pass an `input_shape`/`input_dim` argument to a layer. When using Sequential models, prefer using an `Input(shape)` object as the first layer in the model instead.\n",
      "  super().__init__(\n"
     ]
    }
   ],
   "source": [
    "cnn.add(tf.keras.layers.Conv2D(filters=32, kernel_size=3, activation='relu', input_shape=[64,64,3]))\n",
    "cnn.add(tf.keras.layers.Conv2D(filters=32, kernel_size=3, activation='relu'))\n",
    "\n",
    "cnn.add(tf.keras.layers.MaxPool2D(pool_size=2, strides=2))\n"
   ]
  },
  {
   "cell_type": "code",
   "execution_count": 6,
   "id": "64c866e7",
   "metadata": {
    "execution": {
     "iopub.execute_input": "2024-05-03T17:15:58.155396Z",
     "iopub.status.busy": "2024-05-03T17:15:58.154619Z",
     "iopub.status.idle": "2024-05-03T17:15:58.195332Z",
     "shell.execute_reply": "2024-05-03T17:15:58.194249Z"
    },
    "papermill": {
     "duration": 0.052908,
     "end_time": "2024-05-03T17:15:58.198028",
     "exception": false,
     "start_time": "2024-05-03T17:15:58.145120",
     "status": "completed"
    },
    "tags": []
   },
   "outputs": [],
   "source": [
    "cnn.add(tf.keras.layers.Conv2D(filters=64, kernel_size=3, activation='relu'))\n",
    "cnn.add(tf.keras.layers.Conv2D(filters=64, kernel_size=3, activation='relu', ))\n",
    "cnn.add(tf.keras.layers.MaxPool2D(pool_size=2, strides=2))"
   ]
  },
  {
   "cell_type": "code",
   "execution_count": 7,
   "id": "0a701acd",
   "metadata": {
    "execution": {
     "iopub.execute_input": "2024-05-03T17:15:58.216183Z",
     "iopub.status.busy": "2024-05-03T17:15:58.215769Z",
     "iopub.status.idle": "2024-05-03T17:15:58.220970Z",
     "shell.execute_reply": "2024-05-03T17:15:58.219689Z"
    },
    "papermill": {
     "duration": 0.016918,
     "end_time": "2024-05-03T17:15:58.223134",
     "exception": false,
     "start_time": "2024-05-03T17:15:58.206216",
     "status": "completed"
    },
    "tags": []
   },
   "outputs": [],
   "source": [
    "# cnn.add(tf.keras.layers.Dropout(0.5)) #to avoid overfitting"
   ]
  },
  {
   "cell_type": "code",
   "execution_count": 8,
   "id": "f3088da0",
   "metadata": {
    "execution": {
     "iopub.execute_input": "2024-05-03T17:15:58.241882Z",
     "iopub.status.busy": "2024-05-03T17:15:58.240786Z",
     "iopub.status.idle": "2024-05-03T17:15:58.252974Z",
     "shell.execute_reply": "2024-05-03T17:15:58.251913Z"
    },
    "papermill": {
     "duration": 0.02387,
     "end_time": "2024-05-03T17:15:58.255302",
     "exception": false,
     "start_time": "2024-05-03T17:15:58.231432",
     "status": "completed"
    },
    "tags": []
   },
   "outputs": [],
   "source": [
    "cnn.add(tf.keras.layers.Flatten())"
   ]
  },
  {
   "cell_type": "code",
   "execution_count": 9,
   "id": "8e4f294f",
   "metadata": {
    "execution": {
     "iopub.execute_input": "2024-05-03T17:15:58.273211Z",
     "iopub.status.busy": "2024-05-03T17:15:58.272814Z",
     "iopub.status.idle": "2024-05-03T17:15:58.306437Z",
     "shell.execute_reply": "2024-05-03T17:15:58.305437Z"
    },
    "papermill": {
     "duration": 0.045302,
     "end_time": "2024-05-03T17:15:58.308654",
     "exception": false,
     "start_time": "2024-05-03T17:15:58.263352",
     "status": "completed"
    },
    "tags": []
   },
   "outputs": [],
   "source": [
    "cnn.add(tf.keras.layers.Dense(units=128))"
   ]
  },
  {
   "cell_type": "code",
   "execution_count": 10,
   "id": "425e2dd3",
   "metadata": {
    "execution": {
     "iopub.execute_input": "2024-05-03T17:15:58.326592Z",
     "iopub.status.busy": "2024-05-03T17:15:58.326178Z",
     "iopub.status.idle": "2024-05-03T17:15:58.349103Z",
     "shell.execute_reply": "2024-05-03T17:15:58.347970Z"
    },
    "papermill": {
     "duration": 0.034967,
     "end_time": "2024-05-03T17:15:58.351720",
     "exception": false,
     "start_time": "2024-05-03T17:15:58.316753",
     "status": "completed"
    },
    "tags": []
   },
   "outputs": [],
   "source": [
    "cnn.add(tf.keras.layers.Dense(units=512,activation='relu'))"
   ]
  },
  {
   "cell_type": "code",
   "execution_count": 11,
   "id": "ca3c5bd3",
   "metadata": {
    "execution": {
     "iopub.execute_input": "2024-05-03T17:15:58.370615Z",
     "iopub.status.busy": "2024-05-03T17:15:58.369908Z",
     "iopub.status.idle": "2024-05-03T17:15:58.392643Z",
     "shell.execute_reply": "2024-05-03T17:15:58.391664Z"
    },
    "papermill": {
     "duration": 0.034968,
     "end_time": "2024-05-03T17:15:58.395210",
     "exception": false,
     "start_time": "2024-05-03T17:15:58.360242",
     "status": "completed"
    },
    "tags": []
   },
   "outputs": [],
   "source": [
    "cnn.add(tf.keras.layers.Dense(units=256,activation='relu'))"
   ]
  },
  {
   "cell_type": "code",
   "execution_count": 12,
   "id": "e2476e26",
   "metadata": {
    "execution": {
     "iopub.execute_input": "2024-05-03T17:15:58.414083Z",
     "iopub.status.busy": "2024-05-03T17:15:58.413340Z",
     "iopub.status.idle": "2024-05-03T17:15:58.432668Z",
     "shell.execute_reply": "2024-05-03T17:15:58.431456Z"
    },
    "papermill": {
     "duration": 0.031996,
     "end_time": "2024-05-03T17:15:58.435373",
     "exception": false,
     "start_time": "2024-05-03T17:15:58.403377",
     "status": "completed"
    },
    "tags": []
   },
   "outputs": [],
   "source": [
    "cnn.add(tf.keras.layers.Dropout(0.5))"
   ]
  },
  {
   "cell_type": "markdown",
   "id": "32195b6f",
   "metadata": {
    "papermill": {
     "duration": 0.007763,
     "end_time": "2024-05-03T17:15:58.451652",
     "exception": false,
     "start_time": "2024-05-03T17:15:58.443889",
     "status": "completed"
    },
    "tags": []
   },
   "source": [
    "# Output Layer"
   ]
  },
  {
   "cell_type": "code",
   "execution_count": 13,
   "id": "554a1955",
   "metadata": {
    "execution": {
     "iopub.execute_input": "2024-05-03T17:15:58.469581Z",
     "iopub.status.busy": "2024-05-03T17:15:58.469188Z",
     "iopub.status.idle": "2024-05-03T17:15:58.492074Z",
     "shell.execute_reply": "2024-05-03T17:15:58.490866Z"
    },
    "papermill": {
     "duration": 0.034879,
     "end_time": "2024-05-03T17:15:58.494699",
     "exception": false,
     "start_time": "2024-05-03T17:15:58.459820",
     "status": "completed"
    },
    "tags": []
   },
   "outputs": [],
   "source": [
    "cnn.add(tf.keras.layers.Dense(units=36,activation='softmax')) "
   ]
  },
  {
   "cell_type": "markdown",
   "id": "5c004e1e",
   "metadata": {
    "papermill": {
     "duration": 0.007992,
     "end_time": "2024-05-03T17:15:58.511235",
     "exception": false,
     "start_time": "2024-05-03T17:15:58.503243",
     "status": "completed"
    },
    "tags": []
   },
   "source": [
    "# Compiling and Training Phase "
   ]
  },
  {
   "cell_type": "code",
   "execution_count": 14,
   "id": "276016c4",
   "metadata": {
    "execution": {
     "iopub.execute_input": "2024-05-03T17:15:58.529103Z",
     "iopub.status.busy": "2024-05-03T17:15:58.528728Z",
     "iopub.status.idle": "2024-05-03T17:15:58.543917Z",
     "shell.execute_reply": "2024-05-03T17:15:58.542792Z"
    },
    "papermill": {
     "duration": 0.027197,
     "end_time": "2024-05-03T17:15:58.546484",
     "exception": false,
     "start_time": "2024-05-03T17:15:58.519287",
     "status": "completed"
    },
    "tags": []
   },
   "outputs": [],
   "source": [
    "cnn.compile(optimizer='adam', loss='categorical_crossentropy', metrics=['accuracy'])"
   ]
  },
  {
   "cell_type": "code",
   "execution_count": 15,
   "id": "27ef5e7e",
   "metadata": {
    "execution": {
     "iopub.execute_input": "2024-05-03T17:15:58.564396Z",
     "iopub.status.busy": "2024-05-03T17:15:58.564028Z",
     "iopub.status.idle": "2024-05-03T17:15:58.596196Z",
     "shell.execute_reply": "2024-05-03T17:15:58.595106Z"
    },
    "papermill": {
     "duration": 0.04355,
     "end_time": "2024-05-03T17:15:58.598274",
     "exception": false,
     "start_time": "2024-05-03T17:15:58.554724",
     "status": "completed"
    },
    "tags": []
   },
   "outputs": [
    {
     "data": {
      "text/html": [
       "<pre style=\"white-space:pre;overflow-x:auto;line-height:normal;font-family:Menlo,'DejaVu Sans Mono',consolas,'Courier New',monospace\"><span style=\"font-weight: bold\">Model: \"sequential\"</span>\n",
       "</pre>\n"
      ],
      "text/plain": [
       "\u001b[1mModel: \"sequential\"\u001b[0m\n"
      ]
     },
     "metadata": {},
     "output_type": "display_data"
    },
    {
     "data": {
      "text/html": [
       "<pre style=\"white-space:pre;overflow-x:auto;line-height:normal;font-family:Menlo,'DejaVu Sans Mono',consolas,'Courier New',monospace\">┏━━━━━━━━━━━━━━━━━━━━━━━━━━━━━━━━━┳━━━━━━━━━━━━━━━━━━━━━━━━┳━━━━━━━━━━━━━━━┓\n",
       "┃<span style=\"font-weight: bold\"> Layer (type)                    </span>┃<span style=\"font-weight: bold\"> Output Shape           </span>┃<span style=\"font-weight: bold\">       Param # </span>┃\n",
       "┡━━━━━━━━━━━━━━━━━━━━━━━━━━━━━━━━━╇━━━━━━━━━━━━━━━━━━━━━━━━╇━━━━━━━━━━━━━━━┩\n",
       "│ conv2d (<span style=\"color: #0087ff; text-decoration-color: #0087ff\">Conv2D</span>)                 │ (<span style=\"color: #00d7ff; text-decoration-color: #00d7ff\">None</span>, <span style=\"color: #00af00; text-decoration-color: #00af00\">62</span>, <span style=\"color: #00af00; text-decoration-color: #00af00\">62</span>, <span style=\"color: #00af00; text-decoration-color: #00af00\">32</span>)     │           <span style=\"color: #00af00; text-decoration-color: #00af00\">896</span> │\n",
       "├─────────────────────────────────┼────────────────────────┼───────────────┤\n",
       "│ conv2d_1 (<span style=\"color: #0087ff; text-decoration-color: #0087ff\">Conv2D</span>)               │ (<span style=\"color: #00d7ff; text-decoration-color: #00d7ff\">None</span>, <span style=\"color: #00af00; text-decoration-color: #00af00\">60</span>, <span style=\"color: #00af00; text-decoration-color: #00af00\">60</span>, <span style=\"color: #00af00; text-decoration-color: #00af00\">32</span>)     │         <span style=\"color: #00af00; text-decoration-color: #00af00\">9,248</span> │\n",
       "├─────────────────────────────────┼────────────────────────┼───────────────┤\n",
       "│ max_pooling2d (<span style=\"color: #0087ff; text-decoration-color: #0087ff\">MaxPooling2D</span>)    │ (<span style=\"color: #00d7ff; text-decoration-color: #00d7ff\">None</span>, <span style=\"color: #00af00; text-decoration-color: #00af00\">30</span>, <span style=\"color: #00af00; text-decoration-color: #00af00\">30</span>, <span style=\"color: #00af00; text-decoration-color: #00af00\">32</span>)     │             <span style=\"color: #00af00; text-decoration-color: #00af00\">0</span> │\n",
       "├─────────────────────────────────┼────────────────────────┼───────────────┤\n",
       "│ conv2d_2 (<span style=\"color: #0087ff; text-decoration-color: #0087ff\">Conv2D</span>)               │ (<span style=\"color: #00d7ff; text-decoration-color: #00d7ff\">None</span>, <span style=\"color: #00af00; text-decoration-color: #00af00\">28</span>, <span style=\"color: #00af00; text-decoration-color: #00af00\">28</span>, <span style=\"color: #00af00; text-decoration-color: #00af00\">64</span>)     │        <span style=\"color: #00af00; text-decoration-color: #00af00\">18,496</span> │\n",
       "├─────────────────────────────────┼────────────────────────┼───────────────┤\n",
       "│ conv2d_3 (<span style=\"color: #0087ff; text-decoration-color: #0087ff\">Conv2D</span>)               │ (<span style=\"color: #00d7ff; text-decoration-color: #00d7ff\">None</span>, <span style=\"color: #00af00; text-decoration-color: #00af00\">26</span>, <span style=\"color: #00af00; text-decoration-color: #00af00\">26</span>, <span style=\"color: #00af00; text-decoration-color: #00af00\">64</span>)     │        <span style=\"color: #00af00; text-decoration-color: #00af00\">36,928</span> │\n",
       "├─────────────────────────────────┼────────────────────────┼───────────────┤\n",
       "│ max_pooling2d_1 (<span style=\"color: #0087ff; text-decoration-color: #0087ff\">MaxPooling2D</span>)  │ (<span style=\"color: #00d7ff; text-decoration-color: #00d7ff\">None</span>, <span style=\"color: #00af00; text-decoration-color: #00af00\">13</span>, <span style=\"color: #00af00; text-decoration-color: #00af00\">13</span>, <span style=\"color: #00af00; text-decoration-color: #00af00\">64</span>)     │             <span style=\"color: #00af00; text-decoration-color: #00af00\">0</span> │\n",
       "├─────────────────────────────────┼────────────────────────┼───────────────┤\n",
       "│ flatten (<span style=\"color: #0087ff; text-decoration-color: #0087ff\">Flatten</span>)               │ (<span style=\"color: #00d7ff; text-decoration-color: #00d7ff\">None</span>, <span style=\"color: #00af00; text-decoration-color: #00af00\">10816</span>)          │             <span style=\"color: #00af00; text-decoration-color: #00af00\">0</span> │\n",
       "├─────────────────────────────────┼────────────────────────┼───────────────┤\n",
       "│ dense (<span style=\"color: #0087ff; text-decoration-color: #0087ff\">Dense</span>)                   │ (<span style=\"color: #00d7ff; text-decoration-color: #00d7ff\">None</span>, <span style=\"color: #00af00; text-decoration-color: #00af00\">128</span>)            │     <span style=\"color: #00af00; text-decoration-color: #00af00\">1,384,576</span> │\n",
       "├─────────────────────────────────┼────────────────────────┼───────────────┤\n",
       "│ dense_1 (<span style=\"color: #0087ff; text-decoration-color: #0087ff\">Dense</span>)                 │ (<span style=\"color: #00d7ff; text-decoration-color: #00d7ff\">None</span>, <span style=\"color: #00af00; text-decoration-color: #00af00\">512</span>)            │        <span style=\"color: #00af00; text-decoration-color: #00af00\">66,048</span> │\n",
       "├─────────────────────────────────┼────────────────────────┼───────────────┤\n",
       "│ dense_2 (<span style=\"color: #0087ff; text-decoration-color: #0087ff\">Dense</span>)                 │ (<span style=\"color: #00d7ff; text-decoration-color: #00d7ff\">None</span>, <span style=\"color: #00af00; text-decoration-color: #00af00\">256</span>)            │       <span style=\"color: #00af00; text-decoration-color: #00af00\">131,328</span> │\n",
       "├─────────────────────────────────┼────────────────────────┼───────────────┤\n",
       "│ dropout (<span style=\"color: #0087ff; text-decoration-color: #0087ff\">Dropout</span>)               │ (<span style=\"color: #00d7ff; text-decoration-color: #00d7ff\">None</span>, <span style=\"color: #00af00; text-decoration-color: #00af00\">256</span>)            │             <span style=\"color: #00af00; text-decoration-color: #00af00\">0</span> │\n",
       "├─────────────────────────────────┼────────────────────────┼───────────────┤\n",
       "│ dense_3 (<span style=\"color: #0087ff; text-decoration-color: #0087ff\">Dense</span>)                 │ (<span style=\"color: #00d7ff; text-decoration-color: #00d7ff\">None</span>, <span style=\"color: #00af00; text-decoration-color: #00af00\">36</span>)             │         <span style=\"color: #00af00; text-decoration-color: #00af00\">9,252</span> │\n",
       "└─────────────────────────────────┴────────────────────────┴───────────────┘\n",
       "</pre>\n"
      ],
      "text/plain": [
       "┏━━━━━━━━━━━━━━━━━━━━━━━━━━━━━━━━━┳━━━━━━━━━━━━━━━━━━━━━━━━┳━━━━━━━━━━━━━━━┓\n",
       "┃\u001b[1m \u001b[0m\u001b[1mLayer (type)                   \u001b[0m\u001b[1m \u001b[0m┃\u001b[1m \u001b[0m\u001b[1mOutput Shape          \u001b[0m\u001b[1m \u001b[0m┃\u001b[1m \u001b[0m\u001b[1m      Param #\u001b[0m\u001b[1m \u001b[0m┃\n",
       "┡━━━━━━━━━━━━━━━━━━━━━━━━━━━━━━━━━╇━━━━━━━━━━━━━━━━━━━━━━━━╇━━━━━━━━━━━━━━━┩\n",
       "│ conv2d (\u001b[38;5;33mConv2D\u001b[0m)                 │ (\u001b[38;5;45mNone\u001b[0m, \u001b[38;5;34m62\u001b[0m, \u001b[38;5;34m62\u001b[0m, \u001b[38;5;34m32\u001b[0m)     │           \u001b[38;5;34m896\u001b[0m │\n",
       "├─────────────────────────────────┼────────────────────────┼───────────────┤\n",
       "│ conv2d_1 (\u001b[38;5;33mConv2D\u001b[0m)               │ (\u001b[38;5;45mNone\u001b[0m, \u001b[38;5;34m60\u001b[0m, \u001b[38;5;34m60\u001b[0m, \u001b[38;5;34m32\u001b[0m)     │         \u001b[38;5;34m9,248\u001b[0m │\n",
       "├─────────────────────────────────┼────────────────────────┼───────────────┤\n",
       "│ max_pooling2d (\u001b[38;5;33mMaxPooling2D\u001b[0m)    │ (\u001b[38;5;45mNone\u001b[0m, \u001b[38;5;34m30\u001b[0m, \u001b[38;5;34m30\u001b[0m, \u001b[38;5;34m32\u001b[0m)     │             \u001b[38;5;34m0\u001b[0m │\n",
       "├─────────────────────────────────┼────────────────────────┼───────────────┤\n",
       "│ conv2d_2 (\u001b[38;5;33mConv2D\u001b[0m)               │ (\u001b[38;5;45mNone\u001b[0m, \u001b[38;5;34m28\u001b[0m, \u001b[38;5;34m28\u001b[0m, \u001b[38;5;34m64\u001b[0m)     │        \u001b[38;5;34m18,496\u001b[0m │\n",
       "├─────────────────────────────────┼────────────────────────┼───────────────┤\n",
       "│ conv2d_3 (\u001b[38;5;33mConv2D\u001b[0m)               │ (\u001b[38;5;45mNone\u001b[0m, \u001b[38;5;34m26\u001b[0m, \u001b[38;5;34m26\u001b[0m, \u001b[38;5;34m64\u001b[0m)     │        \u001b[38;5;34m36,928\u001b[0m │\n",
       "├─────────────────────────────────┼────────────────────────┼───────────────┤\n",
       "│ max_pooling2d_1 (\u001b[38;5;33mMaxPooling2D\u001b[0m)  │ (\u001b[38;5;45mNone\u001b[0m, \u001b[38;5;34m13\u001b[0m, \u001b[38;5;34m13\u001b[0m, \u001b[38;5;34m64\u001b[0m)     │             \u001b[38;5;34m0\u001b[0m │\n",
       "├─────────────────────────────────┼────────────────────────┼───────────────┤\n",
       "│ flatten (\u001b[38;5;33mFlatten\u001b[0m)               │ (\u001b[38;5;45mNone\u001b[0m, \u001b[38;5;34m10816\u001b[0m)          │             \u001b[38;5;34m0\u001b[0m │\n",
       "├─────────────────────────────────┼────────────────────────┼───────────────┤\n",
       "│ dense (\u001b[38;5;33mDense\u001b[0m)                   │ (\u001b[38;5;45mNone\u001b[0m, \u001b[38;5;34m128\u001b[0m)            │     \u001b[38;5;34m1,384,576\u001b[0m │\n",
       "├─────────────────────────────────┼────────────────────────┼───────────────┤\n",
       "│ dense_1 (\u001b[38;5;33mDense\u001b[0m)                 │ (\u001b[38;5;45mNone\u001b[0m, \u001b[38;5;34m512\u001b[0m)            │        \u001b[38;5;34m66,048\u001b[0m │\n",
       "├─────────────────────────────────┼────────────────────────┼───────────────┤\n",
       "│ dense_2 (\u001b[38;5;33mDense\u001b[0m)                 │ (\u001b[38;5;45mNone\u001b[0m, \u001b[38;5;34m256\u001b[0m)            │       \u001b[38;5;34m131,328\u001b[0m │\n",
       "├─────────────────────────────────┼────────────────────────┼───────────────┤\n",
       "│ dropout (\u001b[38;5;33mDropout\u001b[0m)               │ (\u001b[38;5;45mNone\u001b[0m, \u001b[38;5;34m256\u001b[0m)            │             \u001b[38;5;34m0\u001b[0m │\n",
       "├─────────────────────────────────┼────────────────────────┼───────────────┤\n",
       "│ dense_3 (\u001b[38;5;33mDense\u001b[0m)                 │ (\u001b[38;5;45mNone\u001b[0m, \u001b[38;5;34m36\u001b[0m)             │         \u001b[38;5;34m9,252\u001b[0m │\n",
       "└─────────────────────────────────┴────────────────────────┴───────────────┘\n"
      ]
     },
     "metadata": {},
     "output_type": "display_data"
    },
    {
     "data": {
      "text/html": [
       "<pre style=\"white-space:pre;overflow-x:auto;line-height:normal;font-family:Menlo,'DejaVu Sans Mono',consolas,'Courier New',monospace\"><span style=\"font-weight: bold\"> Total params: </span><span style=\"color: #00af00; text-decoration-color: #00af00\">1,656,772</span> (6.32 MB)\n",
       "</pre>\n"
      ],
      "text/plain": [
       "\u001b[1m Total params: \u001b[0m\u001b[38;5;34m1,656,772\u001b[0m (6.32 MB)\n"
      ]
     },
     "metadata": {},
     "output_type": "display_data"
    },
    {
     "data": {
      "text/html": [
       "<pre style=\"white-space:pre;overflow-x:auto;line-height:normal;font-family:Menlo,'DejaVu Sans Mono',consolas,'Courier New',monospace\"><span style=\"font-weight: bold\"> Trainable params: </span><span style=\"color: #00af00; text-decoration-color: #00af00\">1,656,772</span> (6.32 MB)\n",
       "</pre>\n"
      ],
      "text/plain": [
       "\u001b[1m Trainable params: \u001b[0m\u001b[38;5;34m1,656,772\u001b[0m (6.32 MB)\n"
      ]
     },
     "metadata": {},
     "output_type": "display_data"
    },
    {
     "data": {
      "text/html": [
       "<pre style=\"white-space:pre;overflow-x:auto;line-height:normal;font-family:Menlo,'DejaVu Sans Mono',consolas,'Courier New',monospace\"><span style=\"font-weight: bold\"> Non-trainable params: </span><span style=\"color: #00af00; text-decoration-color: #00af00\">0</span> (0.00 B)\n",
       "</pre>\n"
      ],
      "text/plain": [
       "\u001b[1m Non-trainable params: \u001b[0m\u001b[38;5;34m0\u001b[0m (0.00 B)\n"
      ]
     },
     "metadata": {},
     "output_type": "display_data"
    }
   ],
   "source": [
    "cnn.summary()"
   ]
  },
  {
   "cell_type": "code",
   "execution_count": 16,
   "id": "ce70d6d1",
   "metadata": {
    "execution": {
     "iopub.execute_input": "2024-05-03T17:15:58.617878Z",
     "iopub.status.busy": "2024-05-03T17:15:58.617497Z",
     "iopub.status.idle": "2024-05-03T17:55:58.512712Z",
     "shell.execute_reply": "2024-05-03T17:55:58.511713Z"
    },
    "papermill": {
     "duration": 2400.120014,
     "end_time": "2024-05-03T17:55:58.727199",
     "exception": false,
     "start_time": "2024-05-03T17:15:58.607185",
     "status": "completed"
    },
    "tags": []
   },
   "outputs": [
    {
     "name": "stdout",
     "output_type": "stream",
     "text": [
      "Epoch 1/32\n",
      "\u001b[1m98/98\u001b[0m \u001b[32m━━━━━━━━━━━━━━━━━━━━\u001b[0m\u001b[37m\u001b[0m \u001b[1m86s\u001b[0m 807ms/step - accuracy: 0.0218 - loss: 9.6334 - val_accuracy: 0.0342 - val_loss: 3.5834\n",
      "Epoch 2/32\n",
      "\u001b[1m98/98\u001b[0m \u001b[32m━━━━━━━━━━━━━━━━━━━━\u001b[0m\u001b[37m\u001b[0m \u001b[1m127s\u001b[0m 675ms/step - accuracy: 0.0344 - loss: 3.5823 - val_accuracy: 0.0484 - val_loss: 3.5753\n",
      "Epoch 3/32\n",
      "\u001b[1m98/98\u001b[0m \u001b[32m━━━━━━━━━━━━━━━━━━━━\u001b[0m\u001b[37m\u001b[0m \u001b[1m68s\u001b[0m 663ms/step - accuracy: 0.0447 - loss: 3.5568 - val_accuracy: 0.0684 - val_loss: 3.3622\n",
      "Epoch 4/32\n",
      "\u001b[1m98/98\u001b[0m \u001b[32m━━━━━━━━━━━━━━━━━━━━\u001b[0m\u001b[37m\u001b[0m \u001b[1m84s\u001b[0m 679ms/step - accuracy: 0.0473 - loss: 3.4420 - val_accuracy: 0.0741 - val_loss: 3.2428\n",
      "Epoch 5/32\n",
      "\u001b[1m98/98\u001b[0m \u001b[32m━━━━━━━━━━━━━━━━━━━━\u001b[0m\u001b[37m\u001b[0m \u001b[1m69s\u001b[0m 674ms/step - accuracy: 0.0699 - loss: 3.3068 - val_accuracy: 0.0997 - val_loss: 3.1830\n",
      "Epoch 6/32\n",
      "\u001b[1m98/98\u001b[0m \u001b[32m━━━━━━━━━━━━━━━━━━━━\u001b[0m\u001b[37m\u001b[0m \u001b[1m81s\u001b[0m 670ms/step - accuracy: 0.0741 - loss: 3.2511 - val_accuracy: 0.1225 - val_loss: 3.0188\n",
      "Epoch 7/32\n",
      "\u001b[1m98/98\u001b[0m \u001b[32m━━━━━━━━━━━━━━━━━━━━\u001b[0m\u001b[37m\u001b[0m \u001b[1m68s\u001b[0m 668ms/step - accuracy: 0.0939 - loss: 3.1695 - val_accuracy: 0.2137 - val_loss: 2.8927\n",
      "Epoch 8/32\n",
      "\u001b[1m98/98\u001b[0m \u001b[32m━━━━━━━━━━━━━━━━━━━━\u001b[0m\u001b[37m\u001b[0m \u001b[1m82s\u001b[0m 668ms/step - accuracy: 0.1125 - loss: 3.1061 - val_accuracy: 0.2308 - val_loss: 2.7349\n",
      "Epoch 9/32\n",
      "\u001b[1m98/98\u001b[0m \u001b[32m━━━━━━━━━━━━━━━━━━━━\u001b[0m\u001b[37m\u001b[0m \u001b[1m68s\u001b[0m 662ms/step - accuracy: 0.1669 - loss: 2.9494 - val_accuracy: 0.2906 - val_loss: 2.6273\n",
      "Epoch 10/32\n",
      "\u001b[1m98/98\u001b[0m \u001b[32m━━━━━━━━━━━━━━━━━━━━\u001b[0m\u001b[37m\u001b[0m \u001b[1m68s\u001b[0m 663ms/step - accuracy: 0.1870 - loss: 2.8486 - val_accuracy: 0.3105 - val_loss: 2.4767\n",
      "Epoch 11/32\n",
      "\u001b[1m98/98\u001b[0m \u001b[32m━━━━━━━━━━━━━━━━━━━━\u001b[0m\u001b[37m\u001b[0m \u001b[1m82s\u001b[0m 660ms/step - accuracy: 0.2096 - loss: 2.7480 - val_accuracy: 0.3618 - val_loss: 2.3038\n",
      "Epoch 12/32\n",
      "\u001b[1m98/98\u001b[0m \u001b[32m━━━━━━━━━━━━━━━━━━━━\u001b[0m\u001b[37m\u001b[0m \u001b[1m69s\u001b[0m 674ms/step - accuracy: 0.2388 - loss: 2.6259 - val_accuracy: 0.4330 - val_loss: 2.1073\n",
      "Epoch 13/32\n",
      "\u001b[1m98/98\u001b[0m \u001b[32m━━━━━━━━━━━━━━━━━━━━\u001b[0m\u001b[37m\u001b[0m \u001b[1m69s\u001b[0m 676ms/step - accuracy: 0.3025 - loss: 2.4543 - val_accuracy: 0.4786 - val_loss: 1.9241\n",
      "Epoch 14/32\n",
      "\u001b[1m98/98\u001b[0m \u001b[32m━━━━━━━━━━━━━━━━━━━━\u001b[0m\u001b[37m\u001b[0m \u001b[1m81s\u001b[0m 666ms/step - accuracy: 0.3509 - loss: 2.2326 - val_accuracy: 0.4729 - val_loss: 1.8887\n",
      "Epoch 15/32\n",
      "\u001b[1m98/98\u001b[0m \u001b[32m━━━━━━━━━━━━━━━━━━━━\u001b[0m\u001b[37m\u001b[0m \u001b[1m68s\u001b[0m 661ms/step - accuracy: 0.3673 - loss: 2.1878 - val_accuracy: 0.4986 - val_loss: 1.8457\n",
      "Epoch 16/32\n",
      "\u001b[1m98/98\u001b[0m \u001b[32m━━━━━━━━━━━━━━━━━━━━\u001b[0m\u001b[37m\u001b[0m \u001b[1m83s\u001b[0m 671ms/step - accuracy: 0.4206 - loss: 2.0537 - val_accuracy: 0.5242 - val_loss: 1.7171\n",
      "Epoch 17/32\n",
      "\u001b[1m98/98\u001b[0m \u001b[32m━━━━━━━━━━━━━━━━━━━━\u001b[0m\u001b[37m\u001b[0m \u001b[1m68s\u001b[0m 665ms/step - accuracy: 0.4179 - loss: 2.0519 - val_accuracy: 0.5613 - val_loss: 1.6382\n",
      "Epoch 18/32\n",
      "\u001b[1m98/98\u001b[0m \u001b[32m━━━━━━━━━━━━━━━━━━━━\u001b[0m\u001b[37m\u001b[0m \u001b[1m67s\u001b[0m 657ms/step - accuracy: 0.4814 - loss: 1.8418 - val_accuracy: 0.5783 - val_loss: 1.5142\n",
      "Epoch 19/32\n",
      "\u001b[1m98/98\u001b[0m \u001b[32m━━━━━━━━━━━━━━━━━━━━\u001b[0m\u001b[37m\u001b[0m \u001b[1m83s\u001b[0m 663ms/step - accuracy: 0.5043 - loss: 1.7039 - val_accuracy: 0.6268 - val_loss: 1.4126\n",
      "Epoch 20/32\n",
      "\u001b[1m98/98\u001b[0m \u001b[32m━━━━━━━━━━━━━━━━━━━━\u001b[0m\u001b[37m\u001b[0m \u001b[1m82s\u001b[0m 663ms/step - accuracy: 0.4751 - loss: 1.8151 - val_accuracy: 0.6211 - val_loss: 1.3660\n",
      "Epoch 21/32\n",
      "\u001b[1m98/98\u001b[0m \u001b[32m━━━━━━━━━━━━━━━━━━━━\u001b[0m\u001b[37m\u001b[0m \u001b[1m68s\u001b[0m 659ms/step - accuracy: 0.5370 - loss: 1.6178 - val_accuracy: 0.6439 - val_loss: 1.2893\n",
      "Epoch 22/32\n",
      "\u001b[1m98/98\u001b[0m \u001b[32m━━━━━━━━━━━━━━━━━━━━\u001b[0m\u001b[37m\u001b[0m \u001b[1m68s\u001b[0m 663ms/step - accuracy: 0.5584 - loss: 1.5631 - val_accuracy: 0.6040 - val_loss: 1.4923\n",
      "Epoch 23/32\n",
      "\u001b[1m98/98\u001b[0m \u001b[32m━━━━━━━━━━━━━━━━━━━━\u001b[0m\u001b[37m\u001b[0m \u001b[1m69s\u001b[0m 669ms/step - accuracy: 0.5693 - loss: 1.5248 - val_accuracy: 0.6695 - val_loss: 1.3061\n",
      "Epoch 24/32\n",
      "\u001b[1m98/98\u001b[0m \u001b[32m━━━━━━━━━━━━━━━━━━━━\u001b[0m\u001b[37m\u001b[0m \u001b[1m68s\u001b[0m 662ms/step - accuracy: 0.5838 - loss: 1.4771 - val_accuracy: 0.6667 - val_loss: 1.2093\n",
      "Epoch 25/32\n",
      "\u001b[1m98/98\u001b[0m \u001b[32m━━━━━━━━━━━━━━━━━━━━\u001b[0m\u001b[37m\u001b[0m \u001b[1m68s\u001b[0m 666ms/step - accuracy: 0.5975 - loss: 1.4188 - val_accuracy: 0.6610 - val_loss: 1.2117\n",
      "Epoch 26/32\n",
      "\u001b[1m98/98\u001b[0m \u001b[32m━━━━━━━━━━━━━━━━━━━━\u001b[0m\u001b[37m\u001b[0m \u001b[1m81s\u001b[0m 664ms/step - accuracy: 0.5948 - loss: 1.4244 - val_accuracy: 0.6923 - val_loss: 1.1144\n",
      "Epoch 27/32\n",
      "\u001b[1m98/98\u001b[0m \u001b[32m━━━━━━━━━━━━━━━━━━━━\u001b[0m\u001b[37m\u001b[0m \u001b[1m67s\u001b[0m 657ms/step - accuracy: 0.6057 - loss: 1.3824 - val_accuracy: 0.7265 - val_loss: 1.0865\n",
      "Epoch 28/32\n",
      "\u001b[1m98/98\u001b[0m \u001b[32m━━━━━━━━━━━━━━━━━━━━\u001b[0m\u001b[37m\u001b[0m \u001b[1m82s\u001b[0m 661ms/step - accuracy: 0.6535 - loss: 1.1965 - val_accuracy: 0.7094 - val_loss: 1.0627\n",
      "Epoch 29/32\n",
      "\u001b[1m98/98\u001b[0m \u001b[32m━━━━━━━━━━━━━━━━━━━━\u001b[0m\u001b[37m\u001b[0m \u001b[1m69s\u001b[0m 670ms/step - accuracy: 0.6368 - loss: 1.2244 - val_accuracy: 0.7208 - val_loss: 1.1340\n",
      "Epoch 30/32\n",
      "\u001b[1m98/98\u001b[0m \u001b[32m━━━━━━━━━━━━━━━━━━━━\u001b[0m\u001b[37m\u001b[0m \u001b[1m69s\u001b[0m 673ms/step - accuracy: 0.6645 - loss: 1.1750 - val_accuracy: 0.7208 - val_loss: 1.0118\n",
      "Epoch 31/32\n",
      "\u001b[1m98/98\u001b[0m \u001b[32m━━━━━━━━━━━━━━━━━━━━\u001b[0m\u001b[37m\u001b[0m \u001b[1m69s\u001b[0m 672ms/step - accuracy: 0.6527 - loss: 1.2145 - val_accuracy: 0.7094 - val_loss: 1.1290\n",
      "Epoch 32/32\n",
      "\u001b[1m98/98\u001b[0m \u001b[32m━━━━━━━━━━━━━━━━━━━━\u001b[0m\u001b[37m\u001b[0m \u001b[1m69s\u001b[0m 668ms/step - accuracy: 0.6317 - loss: 1.3087 - val_accuracy: 0.7436 - val_loss: 1.0715\n"
     ]
    }
   ],
   "source": [
    "training_history = cnn.fit(x=training_set, validation_data=validation_set, epochs=32)\n"
   ]
  },
  {
   "cell_type": "code",
   "execution_count": 17,
   "id": "0bbcb6ce",
   "metadata": {
    "execution": {
     "iopub.execute_input": "2024-05-03T17:55:59.167895Z",
     "iopub.status.busy": "2024-05-03T17:55:59.167135Z",
     "iopub.status.idle": "2024-05-03T17:55:59.258606Z",
     "shell.execute_reply": "2024-05-03T17:55:59.257712Z"
    },
    "papermill": {
     "duration": 0.313198,
     "end_time": "2024-05-03T17:55:59.260968",
     "exception": false,
     "start_time": "2024-05-03T17:55:58.947770",
     "status": "completed"
    },
    "tags": []
   },
   "outputs": [],
   "source": [
    "cnn.save('trained_model.h5')"
   ]
  },
  {
   "cell_type": "code",
   "execution_count": 18,
   "id": "ff253b09",
   "metadata": {
    "execution": {
     "iopub.execute_input": "2024-05-03T17:55:59.701755Z",
     "iopub.status.busy": "2024-05-03T17:55:59.701012Z",
     "iopub.status.idle": "2024-05-03T17:55:59.708524Z",
     "shell.execute_reply": "2024-05-03T17:55:59.707682Z"
    },
    "papermill": {
     "duration": 0.231628,
     "end_time": "2024-05-03T17:55:59.710612",
     "exception": false,
     "start_time": "2024-05-03T17:55:59.478984",
     "status": "completed"
    },
    "tags": []
   },
   "outputs": [
    {
     "data": {
      "text/plain": [
       "{'accuracy': [0.02792937308549881,\n",
       "  0.03338683769106865,\n",
       "  0.05008025839924812,\n",
       "  0.0516853928565979,\n",
       "  0.06420546025037766,\n",
       "  0.07383627444505692,\n",
       "  0.10369181632995605,\n",
       "  0.12199036777019501,\n",
       "  0.1672552227973938,\n",
       "  0.19197431206703186,\n",
       "  0.22568218410015106,\n",
       "  0.26163724064826965,\n",
       "  0.31107544898986816,\n",
       "  0.3479935824871063,\n",
       "  0.36436596512794495,\n",
       "  0.40449437499046326,\n",
       "  0.4199036955833435,\n",
       "  0.47929373383522034,\n",
       "  0.5030497312545776,\n",
       "  0.48571428656578064,\n",
       "  0.54221510887146,\n",
       "  0.5479936003684998,\n",
       "  0.5733547210693359,\n",
       "  0.5704655051231384,\n",
       "  0.5919743180274963,\n",
       "  0.5887640714645386,\n",
       "  0.6128410696983337,\n",
       "  0.6439807415008545,\n",
       "  0.6401284337043762,\n",
       "  0.6693419218063354,\n",
       "  0.6375601887702942,\n",
       "  0.6523274183273315],\n",
       " 'loss': [5.022613048553467,\n",
       "  3.584329605102539,\n",
       "  3.5421648025512695,\n",
       "  3.4295411109924316,\n",
       "  3.316546678543091,\n",
       "  3.2477221488952637,\n",
       "  3.1476447582244873,\n",
       "  3.0998528003692627,\n",
       "  2.94990611076355,\n",
       "  2.8539083003997803,\n",
       "  2.701192855834961,\n",
       "  2.571969985961914,\n",
       "  2.4237687587738037,\n",
       "  2.2834620475769043,\n",
       "  2.2099807262420654,\n",
       "  2.083557367324829,\n",
       "  2.029677152633667,\n",
       "  1.8307417631149292,\n",
       "  1.7378798723220825,\n",
       "  1.7614359855651855,\n",
       "  1.591085433959961,\n",
       "  1.5961151123046875,\n",
       "  1.5091925859451294,\n",
       "  1.5056276321411133,\n",
       "  1.451615333557129,\n",
       "  1.4634170532226562,\n",
       "  1.3559205532073975,\n",
       "  1.2445569038391113,\n",
       "  1.2398287057876587,\n",
       "  1.1597418785095215,\n",
       "  1.2485495805740356,\n",
       "  1.2371242046356201],\n",
       " 'val_accuracy': [0.03418803587555885,\n",
       "  0.04843304678797722,\n",
       "  0.0683760717511177,\n",
       "  0.07407407462596893,\n",
       "  0.09971509873867035,\n",
       "  0.12250712513923645,\n",
       "  0.21367521584033966,\n",
       "  0.23076923191547394,\n",
       "  0.2905983030796051,\n",
       "  0.3105413019657135,\n",
       "  0.36182335019111633,\n",
       "  0.43304842710494995,\n",
       "  0.47863247990608215,\n",
       "  0.4729344844818115,\n",
       "  0.49857550859451294,\n",
       "  0.5242165327072144,\n",
       "  0.561253547668457,\n",
       "  0.5783475637435913,\n",
       "  0.62678062915802,\n",
       "  0.621082603931427,\n",
       "  0.6438746452331543,\n",
       "  0.6039885878562927,\n",
       "  0.6695156693458557,\n",
       "  0.6666666865348816,\n",
       "  0.6609686613082886,\n",
       "  0.692307710647583,\n",
       "  0.7264957427978516,\n",
       "  0.7094017267227173,\n",
       "  0.7207977175712585,\n",
       "  0.7207977175712585,\n",
       "  0.7094017267227173,\n",
       "  0.7435897588729858],\n",
       " 'val_loss': [3.5834312438964844,\n",
       "  3.575275421142578,\n",
       "  3.362215280532837,\n",
       "  3.2427520751953125,\n",
       "  3.1829681396484375,\n",
       "  3.0187904834747314,\n",
       "  2.8926873207092285,\n",
       "  2.7349483966827393,\n",
       "  2.6273155212402344,\n",
       "  2.4766860008239746,\n",
       "  2.303837537765503,\n",
       "  2.107250690460205,\n",
       "  1.9241348505020142,\n",
       "  1.888730525970459,\n",
       "  1.8456653356552124,\n",
       "  1.717146635055542,\n",
       "  1.6382355690002441,\n",
       "  1.5142490863800049,\n",
       "  1.4125853776931763,\n",
       "  1.3659510612487793,\n",
       "  1.2893332242965698,\n",
       "  1.4923007488250732,\n",
       "  1.3060691356658936,\n",
       "  1.2093342542648315,\n",
       "  1.2117204666137695,\n",
       "  1.1144466400146484,\n",
       "  1.0864869356155396,\n",
       "  1.0627390146255493,\n",
       "  1.1339702606201172,\n",
       "  1.0117806196212769,\n",
       "  1.129035472869873,\n",
       "  1.0715032815933228]}"
      ]
     },
     "execution_count": 18,
     "metadata": {},
     "output_type": "execute_result"
    }
   ],
   "source": [
    "training_history.history"
   ]
  },
  {
   "cell_type": "code",
   "execution_count": 19,
   "id": "c3248dc7",
   "metadata": {
    "execution": {
     "iopub.execute_input": "2024-05-03T17:56:00.153978Z",
     "iopub.status.busy": "2024-05-03T17:56:00.153022Z",
     "iopub.status.idle": "2024-05-03T17:56:00.158388Z",
     "shell.execute_reply": "2024-05-03T17:56:00.157563Z"
    },
    "papermill": {
     "duration": 0.229137,
     "end_time": "2024-05-03T17:56:00.160946",
     "exception": false,
     "start_time": "2024-05-03T17:55:59.931809",
     "status": "completed"
    },
    "tags": []
   },
   "outputs": [],
   "source": [
    "#recording history\n",
    "import json\n",
    "with open('training_hist.json','w') as f:\n",
    "    json.dump(training_history.history,f)"
   ]
  },
  {
   "cell_type": "code",
   "execution_count": 20,
   "id": "226f85b1",
   "metadata": {
    "execution": {
     "iopub.execute_input": "2024-05-03T17:56:00.605313Z",
     "iopub.status.busy": "2024-05-03T17:56:00.604924Z",
     "iopub.status.idle": "2024-05-03T17:56:00.610269Z",
     "shell.execute_reply": "2024-05-03T17:56:00.608991Z"
    },
    "papermill": {
     "duration": 0.230032,
     "end_time": "2024-05-03T17:56:00.612929",
     "exception": false,
     "start_time": "2024-05-03T17:56:00.382897",
     "status": "completed"
    },
    "tags": []
   },
   "outputs": [
    {
     "name": "stdout",
     "output_type": "stream",
     "text": [
      "<built-in method keys of dict object at 0x7934f00da140>\n"
     ]
    }
   ],
   "source": [
    "print(training_history.history.keys)"
   ]
  },
  {
   "cell_type": "markdown",
   "id": "3ccae3f1",
   "metadata": {
    "papermill": {
     "duration": 0.221656,
     "end_time": "2024-05-03T17:56:01.056097",
     "exception": false,
     "start_time": "2024-05-03T17:56:00.834441",
     "status": "completed"
    },
    "tags": []
   },
   "source": [
    "# Calculating Accuracy of Model Achieved on Validation Set"
   ]
  },
  {
   "cell_type": "code",
   "execution_count": 21,
   "id": "d6d9a625",
   "metadata": {
    "execution": {
     "iopub.execute_input": "2024-05-03T17:56:01.568681Z",
     "iopub.status.busy": "2024-05-03T17:56:01.568242Z",
     "iopub.status.idle": "2024-05-03T17:56:01.574652Z",
     "shell.execute_reply": "2024-05-03T17:56:01.573269Z"
    },
    "papermill": {
     "duration": 0.23027,
     "end_time": "2024-05-03T17:56:01.577618",
     "exception": false,
     "start_time": "2024-05-03T17:56:01.347348",
     "status": "completed"
    },
    "tags": []
   },
   "outputs": [
    {
     "name": "stdout",
     "output_type": "stream",
     "text": [
      "Validation Set Accuracy: 74.35897588729858 %\n"
     ]
    }
   ],
   "source": [
    "print(\"Validation Set Accuracy: {} %\".format(training_history.history['val_accuracy'][-1]*100))"
   ]
  },
  {
   "cell_type": "markdown",
   "id": "cbc72290",
   "metadata": {
    "papermill": {
     "duration": 0.225523,
     "end_time": "2024-05-03T17:56:02.028293",
     "exception": false,
     "start_time": "2024-05-03T17:56:01.802770",
     "status": "completed"
    },
    "tags": []
   },
   "source": [
    "# Visualization Of Accuracy "
   ]
  },
  {
   "cell_type": "code",
   "execution_count": 22,
   "id": "8f6c6c5b",
   "metadata": {
    "execution": {
     "iopub.execute_input": "2024-05-03T17:56:02.470328Z",
     "iopub.status.busy": "2024-05-03T17:56:02.469350Z",
     "iopub.status.idle": "2024-05-03T17:56:02.778223Z",
     "shell.execute_reply": "2024-05-03T17:56:02.776996Z"
    },
    "papermill": {
     "duration": 0.531201,
     "end_time": "2024-05-03T17:56:02.780784",
     "exception": false,
     "start_time": "2024-05-03T17:56:02.249583",
     "status": "completed"
    },
    "tags": []
   },
   "outputs": [
    {
     "data": {
      "image/png": "[encoded data removed]",
      "text/plain": [
       "<Figure size 640x480 with 1 Axes>"
      ]
     },
     "metadata": {},
     "output_type": "display_data"
    }
   ],
   "source": [
    "# training visualization\n",
    "epochs =[i for i in range(1,33)]\n",
    "plt.plot(epochs,training_history.history['accuracy'],color='red')\n",
    "plt.xlabel('Epochs')\n",
    "plt.ylabel('Traini Accuracy')\n",
    "plt.title('Visaulization of training accuracy result')\n",
    "plt.show()"
   ]
  },
  {
   "cell_type": "code",
   "execution_count": 23,
   "id": "b2d1678d",
   "metadata": {
    "execution": {
     "iopub.execute_input": "2024-05-03T17:56:03.228170Z",
     "iopub.status.busy": "2024-05-03T17:56:03.227426Z",
     "iopub.status.idle": "2024-05-03T17:56:03.497531Z",
     "shell.execute_reply": "2024-05-03T17:56:03.496251Z"
    },
    "papermill": {
     "duration": 0.495174,
     "end_time": "2024-05-03T17:56:03.499888",
     "exception": false,
     "start_time": "2024-05-03T17:56:03.004714",
     "status": "completed"
    },
    "tags": []
   },
   "outputs": [
    {
     "data": {
      "image/png": "[encoded data removed]",
      "text/plain": [
       "<Figure size 640x480 with 1 Axes>"
      ]
     },
     "metadata": {},
     "output_type": "display_data"
    }
   ],
   "source": [
    "plt.plot(epochs,training_history.history['val_accuracy'],color='blue')\n",
    "plt.xlabel('Number of Epochs')\n",
    "plt.ylabel('Validation accuracy')\n",
    "plt.title('Visualization of accuracy result')\n",
    "plt.show()"
   ]
  },
  {
   "cell_type": "markdown",
   "id": "ac819ec6",
   "metadata": {
    "papermill": {
     "duration": 0.295804,
     "end_time": "2024-05-03T17:56:04.018092",
     "exception": false,
     "start_time": "2024-05-03T17:56:03.722288",
     "status": "completed"
    },
    "tags": []
   },
   "source": [
    "# Evaluation Model"
   ]
  },
  {
   "cell_type": "code",
   "execution_count": 24,
   "id": "7d18031f",
   "metadata": {
    "execution": {
     "iopub.execute_input": "2024-05-03T17:56:04.457919Z",
     "iopub.status.busy": "2024-05-03T17:56:04.457170Z",
     "iopub.status.idle": "2024-05-03T17:56:54.409666Z",
     "shell.execute_reply": "2024-05-03T17:56:54.408643Z"
    },
    "papermill": {
     "duration": 50.175299,
     "end_time": "2024-05-03T17:56:54.412387",
     "exception": false,
     "start_time": "2024-05-03T17:56:04.237088",
     "status": "completed"
    },
    "tags": []
   },
   "outputs": [
    {
     "name": "stdout",
     "output_type": "stream",
     "text": [
      "\u001b[1m98/98\u001b[0m \u001b[32m━━━━━━━━━━━━━━━━━━━━\u001b[0m\u001b[37m\u001b[0m \u001b[1m50s\u001b[0m 480ms/step - accuracy: 0.6818 - loss: 1.1664\n"
     ]
    }
   ],
   "source": [
    "training_loss,training_accuracy = cnn.evaluate(training_set)"
   ]
  },
  {
   "cell_type": "code",
   "execution_count": 25,
   "id": "ea4a7ffd",
   "metadata": {
    "execution": {
     "iopub.execute_input": "2024-05-03T17:56:54.875484Z",
     "iopub.status.busy": "2024-05-03T17:56:54.875020Z",
     "iopub.status.idle": "2024-05-03T17:57:05.109358Z",
     "shell.execute_reply": "2024-05-03T17:57:05.108106Z"
    },
    "papermill": {
     "duration": 10.468368,
     "end_time": "2024-05-03T17:57:05.112149",
     "exception": false,
     "start_time": "2024-05-03T17:56:54.643781",
     "status": "completed"
    },
    "tags": []
   },
   "outputs": [
    {
     "name": "stdout",
     "output_type": "stream",
     "text": [
      "\u001b[1m11/11\u001b[0m \u001b[32m━━━━━━━━━━━━━━━━━━━━\u001b[0m\u001b[37m\u001b[0m \u001b[1m8s\u001b[0m 180ms/step - accuracy: 0.7608 - loss: 0.9443\n"
     ]
    }
   ],
   "source": [
    "val_loss,val_accuracy = cnn.evaluate(validation_set)"
   ]
  },
  {
   "cell_type": "code",
   "execution_count": 26,
   "id": "e6ba4234",
   "metadata": {
    "execution": {
     "iopub.execute_input": "2024-05-03T17:57:05.574581Z",
     "iopub.status.busy": "2024-05-03T17:57:05.573785Z",
     "iopub.status.idle": "2024-05-03T17:57:05.697987Z",
     "shell.execute_reply": "2024-05-03T17:57:05.696626Z"
    },
    "papermill": {
     "duration": 0.357346,
     "end_time": "2024-05-03T17:57:05.700598",
     "exception": false,
     "start_time": "2024-05-03T17:57:05.343252",
     "status": "completed"
    },
    "tags": []
   },
   "outputs": [
    {
     "name": "stdout",
     "output_type": "stream",
     "text": [
      "Found 359 files belonging to 36 classes.\n"
     ]
    }
   ],
   "source": [
    "test_set = tf.keras.utils.image_dataset_from_directory(\n",
    "    '/kaggle/input/fruit-and-vegetable-image-recognition/test',\n",
    "    labels=\"inferred\",\n",
    "    label_mode=\"categorical\",\n",
    "    class_names=None,\n",
    "    color_mode=\"rgb\",\n",
    "    batch_size=32,\n",
    "    image_size=(64, 64),\n",
    "    shuffle=True,\n",
    "    seed=None,\n",
    "    validation_split=None,\n",
    "    subset=None,\n",
    "    interpolation=\"bilinear\",\n",
    "    follow_links=False,\n",
    "    crop_to_aspect_ratio=False,\n",
    "    data_format=None,\n",
    ")"
   ]
  },
  {
   "cell_type": "code",
   "execution_count": 27,
   "id": "8fb140d1",
   "metadata": {
    "execution": {
     "iopub.execute_input": "2024-05-03T17:57:06.165017Z",
     "iopub.status.busy": "2024-05-03T17:57:06.164619Z",
     "iopub.status.idle": "2024-05-03T17:57:14.575850Z",
     "shell.execute_reply": "2024-05-03T17:57:14.574875Z"
    },
    "papermill": {
     "duration": 8.64609,
     "end_time": "2024-05-03T17:57:14.578247",
     "exception": false,
     "start_time": "2024-05-03T17:57:05.932157",
     "status": "completed"
    },
    "tags": []
   },
   "outputs": [
    {
     "name": "stdout",
     "output_type": "stream",
     "text": [
      "\u001b[1m12/12\u001b[0m \u001b[32m━━━━━━━━━━━━━━━━━━━━\u001b[0m\u001b[37m\u001b[0m \u001b[1m8s\u001b[0m 270ms/step - accuracy: 0.7592 - loss: 0.9868\n"
     ]
    }
   ],
   "source": [
    "test_loss,test_accuracy = cnn.evaluate(test_set)"
   ]
  }
 ],
 "metadata": {
  "kaggle": {
   "accelerator": "none",
   "dataSources": [
    {
     "datasetId": 952827,
     "sourceId": 3173719,
     "sourceType": "datasetVersion"
    }
   ],
   "dockerImageVersionId": 30664,
   "isGpuEnabled": false,
   "isInternetEnabled": true,
   "language": "python",
   "sourceType": "notebook"
  },
  "kernelspec": {
   "display_name": "Python 3",
   "language": "python",
   "name": "python3"
  },
  "language_info": {
   "codemirror_mode": {
    "name": "ipython",
    "version": 3
   },
   "file_extension": ".py",
   "mimetype": "text/x-python",
   "name": "python",
   "nbconvert_exporter": "python",
   "pygments_lexer": "ipython3",
   "version": "3.10.13"
  },
  "papermill": {
   "default_parameters": {},
   "duration": 2496.369765,
   "end_time": "2024-05-03T17:57:16.543003",
   "environment_variables": {},
   "exception": null,
   "input_path": "__notebook__.ipynb",
   "output_path": "__notebook__.ipynb",
   "parameters": {},
   "start_time": "2024-05-03T17:15:40.173238",
   "version": "2.5.0"
  }
 },
 "nbformat": 4,
 "nbformat_minor": 5
}
