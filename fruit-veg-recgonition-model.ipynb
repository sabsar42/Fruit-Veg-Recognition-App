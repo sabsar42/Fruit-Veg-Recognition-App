{
 "cells": [
  {
   "cell_type": "markdown",
   "id": "cf986f07",
   "metadata": {
    "papermill": {
     "duration": 0.003122,
     "end_time": "2024-04-15T18:55:02.954269",
     "exception": false,
     "start_time": "2024-04-15T18:55:02.951147",
     "status": "completed"
    },
    "tags": []
   },
   "source": [
    "# Importing Dataset"
   ]
  },
  {
   "cell_type": "code",
   "execution_count": 1,
   "id": "9d002ca6",
   "metadata": {
    "execution": {
     "iopub.execute_input": "2024-04-15T18:55:02.961688Z",
     "iopub.status.busy": "2024-04-15T18:55:02.961040Z",
     "iopub.status.idle": "2024-04-15T18:55:16.638960Z",
     "shell.execute_reply": "2024-04-15T18:55:16.637809Z"
    },
    "papermill": {
     "duration": 13.68473,
     "end_time": "2024-04-15T18:55:16.641709",
     "exception": false,
     "start_time": "2024-04-15T18:55:02.956979",
     "status": "completed"
    },
    "tags": []
   },
   "outputs": [
    {
     "name": "stderr",
     "output_type": "stream",
     "text": [
      "2024-04-15 18:55:04.945694: E external/local_xla/xla/stream_executor/cuda/cuda_dnn.cc:9261] Unable to register cuDNN factory: Attempting to register factory for plugin cuDNN when one has already been registered\n",
      "2024-04-15 18:55:04.945819: E external/local_xla/xla/stream_executor/cuda/cuda_fft.cc:607] Unable to register cuFFT factory: Attempting to register factory for plugin cuFFT when one has already been registered\n",
      "2024-04-15 18:55:05.092036: E external/local_xla/xla/stream_executor/cuda/cuda_blas.cc:1515] Unable to register cuBLAS factory: Attempting to register factory for plugin cuBLAS when one has already been registered\n"
     ]
    }
   ],
   "source": [
    "import numpy as np\n",
    "import matplotlib.pyplot as plt\n",
    "import tensorflow as tf\n",
    "from tensorflow import keras"
   ]
  },
  {
   "cell_type": "markdown",
   "id": "1a3a663d",
   "metadata": {
    "papermill": {
     "duration": 0.002356,
     "end_time": "2024-04-15T18:55:16.646883",
     "exception": false,
     "start_time": "2024-04-15T18:55:16.644527",
     "status": "completed"
    },
    "tags": []
   },
   "source": [
    "# Data Pre-Processing"
   ]
  },
  {
   "cell_type": "markdown",
   "id": "fae72dd6",
   "metadata": {
    "papermill": {
     "duration": 0.002182,
     "end_time": "2024-04-15T18:55:16.651535",
     "exception": false,
     "start_time": "2024-04-15T18:55:16.649353",
     "status": "completed"
    },
    "tags": []
   },
   "source": [
    "## Training Image Pre-Processing\n"
   ]
  },
  {
   "cell_type": "code",
   "execution_count": 2,
   "id": "bf4343f0",
   "metadata": {
    "execution": {
     "iopub.execute_input": "2024-04-15T18:55:16.658510Z",
     "iopub.status.busy": "2024-04-15T18:55:16.657845Z",
     "iopub.status.idle": "2024-04-15T18:55:17.213981Z",
     "shell.execute_reply": "2024-04-15T18:55:17.212985Z"
    },
    "papermill": {
     "duration": 0.562576,
     "end_time": "2024-04-15T18:55:17.216505",
     "exception": false,
     "start_time": "2024-04-15T18:55:16.653929",
     "status": "completed"
    },
    "tags": []
   },
   "outputs": [
    {
     "name": "stdout",
     "output_type": "stream",
     "text": [
      "Found 3115 files belonging to 36 classes.\n"
     ]
    }
   ],
   "source": [
    "training_set = keras.utils.image_dataset_from_directory(\n",
    "    '/kaggle/input/fruit-and-vegetable-image-recognition/train',\n",
    "    labels=\"inferred\",\n",
    "    label_mode=\"categorical\",\n",
    "    class_names=None,\n",
    "    color_mode=\"rgb\",\n",
    "    batch_size=32,\n",
    "    image_size=(64, 64),\n",
    "    shuffle=True,\n",
    "    seed=None,\n",
    "    validation_split=None,\n",
    "    subset=None,\n",
    "    interpolation=\"bilinear\",\n",
    "    follow_links=False,\n",
    "    crop_to_aspect_ratio=False,\n",
    "    data_format=None,\n",
    ")"
   ]
  },
  {
   "cell_type": "markdown",
   "id": "48faa70a",
   "metadata": {
    "papermill": {
     "duration": 0.002438,
     "end_time": "2024-04-15T18:55:17.221855",
     "exception": false,
     "start_time": "2024-04-15T18:55:17.219417",
     "status": "completed"
    },
    "tags": []
   },
   "source": [
    "## Validtion Image Pre-Processing"
   ]
  },
  {
   "cell_type": "code",
   "execution_count": 3,
   "id": "eaefcd64",
   "metadata": {
    "execution": {
     "iopub.execute_input": "2024-04-15T18:55:17.228609Z",
     "iopub.status.busy": "2024-04-15T18:55:17.228237Z",
     "iopub.status.idle": "2024-04-15T18:55:17.363494Z",
     "shell.execute_reply": "2024-04-15T18:55:17.362400Z"
    },
    "papermill": {
     "duration": 0.141717,
     "end_time": "2024-04-15T18:55:17.366158",
     "exception": false,
     "start_time": "2024-04-15T18:55:17.224441",
     "status": "completed"
    },
    "tags": []
   },
   "outputs": [
    {
     "name": "stdout",
     "output_type": "stream",
     "text": [
      "Found 351 files belonging to 36 classes.\n"
     ]
    }
   ],
   "source": [
    "validation_set = keras.utils.image_dataset_from_directory(\n",
    "    '/kaggle/input/fruit-and-vegetable-image-recognition/validation',\n",
    "    labels=\"inferred\",\n",
    "    label_mode=\"categorical\",\n",
    "    class_names=None,\n",
    "    color_mode=\"rgb\",\n",
    "    batch_size=32,\n",
    "    image_size=(64, 64),\n",
    "    shuffle=True,\n",
    "    seed=None,\n",
    "    validation_split=None,\n",
    "    subset=None,\n",
    "    interpolation=\"bilinear\",\n",
    "    follow_links=False,\n",
    "    crop_to_aspect_ratio=False,\n",
    "    data_format=None,\n",
    ")"
   ]
  },
  {
   "cell_type": "code",
   "execution_count": null,
   "id": "37075cbb",
   "metadata": {
    "papermill": {
     "duration": 0.002472,
     "end_time": "2024-04-15T18:55:17.371528",
     "exception": false,
     "start_time": "2024-04-15T18:55:17.369056",
     "status": "completed"
    },
    "tags": []
   },
   "outputs": [],
   "source": []
  }
 ],
 "metadata": {
  "kaggle": {
   "accelerator": "none",
   "dataSources": [
    {
     "datasetId": 952827,
     "sourceId": 3173719,
     "sourceType": "datasetVersion"
    }
   ],
   "dockerImageVersionId": 30664,
   "isGpuEnabled": false,
   "isInternetEnabled": true,
   "language": "python",
   "sourceType": "notebook"
  },
  "kernelspec": {
   "display_name": "Python 3",
   "language": "python",
   "name": "python3"
  },
  "language_info": {
   "codemirror_mode": {
    "name": "ipython",
    "version": 3
   },
   "file_extension": ".py",
   "mimetype": "text/x-python",
   "name": "python",
   "nbconvert_exporter": "python",
   "pygments_lexer": "ipython3",
   "version": "3.10.13"
  },
  "papermill": {
   "default_parameters": {},
   "duration": 18.479605,
   "end_time": "2024-04-15T18:55:18.696613",
   "environment_variables": {},
   "exception": null,
   "input_path": "__notebook__.ipynb",
   "output_path": "__notebook__.ipynb",
   "parameters": {},
   "start_time": "2024-04-15T18:55:00.217008",
   "version": "2.5.0"
  }
 },
 "nbformat": 4,
 "nbformat_minor": 5
}
