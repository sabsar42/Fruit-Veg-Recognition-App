{
 "cells": [
  {
   "cell_type": "markdown",
   "id": "7db773ec",
   "metadata": {
    "papermill": {
     "duration": 0.004296,
     "end_time": "2024-03-24T19:56:20.210848",
     "exception": false,
     "start_time": "2024-03-24T19:56:20.206552",
     "status": "completed"
    },
    "tags": []
   },
   "source": [
    "# Importing Dataset"
   ]
  },
  {
   "cell_type": "code",
   "execution_count": 1,
   "id": "5572dc1f",
   "metadata": {
    "execution": {
     "iopub.execute_input": "2024-03-24T19:56:20.220648Z",
     "iopub.status.busy": "2024-03-24T19:56:20.220068Z",
     "iopub.status.idle": "2024-03-24T19:56:35.725809Z",
     "shell.execute_reply": "2024-03-24T19:56:35.724595Z"
    },
    "papermill": {
     "duration": 15.514732,
     "end_time": "2024-03-24T19:56:35.729346",
     "exception": false,
     "start_time": "2024-03-24T19:56:20.214614",
     "status": "completed"
    },
    "tags": []
   },
   "outputs": [
    {
     "name": "stderr",
     "output_type": "stream",
     "text": [
      "2024-03-24 19:56:22.507418: E external/local_xla/xla/stream_executor/cuda/cuda_dnn.cc:9261] Unable to register cuDNN factory: Attempting to register factory for plugin cuDNN when one has already been registered\n",
      "2024-03-24 19:56:22.507552: E external/local_xla/xla/stream_executor/cuda/cuda_fft.cc:607] Unable to register cuFFT factory: Attempting to register factory for plugin cuFFT when one has already been registered\n",
      "2024-03-24 19:56:22.679084: E external/local_xla/xla/stream_executor/cuda/cuda_blas.cc:1515] Unable to register cuBLAS factory: Attempting to register factory for plugin cuBLAS when one has already been registered\n"
     ]
    }
   ],
   "source": [
    "import numpy as np\n",
    "import matplotlib.pyplot as plt\n",
    "import tensorflow as tf\n",
    "from tensorflow import keras"
   ]
  },
  {
   "cell_type": "markdown",
   "id": "d50fc4ca",
   "metadata": {
    "papermill": {
     "duration": 0.003358,
     "end_time": "2024-03-24T19:56:35.736651",
     "exception": false,
     "start_time": "2024-03-24T19:56:35.733293",
     "status": "completed"
    },
    "tags": []
   },
   "source": [
    "# Data Pre-Processing"
   ]
  },
  {
   "cell_type": "markdown",
   "id": "2a5df941",
   "metadata": {
    "papermill": {
     "duration": 0.00309,
     "end_time": "2024-03-24T19:56:35.743206",
     "exception": false,
     "start_time": "2024-03-24T19:56:35.740116",
     "status": "completed"
    },
    "tags": []
   },
   "source": [
    "## Training Image Pre-Processing\n"
   ]
  },
  {
   "cell_type": "code",
   "execution_count": 2,
   "id": "329190dd",
   "metadata": {
    "execution": {
     "iopub.execute_input": "2024-03-24T19:56:35.752416Z",
     "iopub.status.busy": "2024-03-24T19:56:35.751625Z",
     "iopub.status.idle": "2024-03-24T19:56:36.424624Z",
     "shell.execute_reply": "2024-03-24T19:56:36.423277Z"
    },
    "papermill": {
     "duration": 0.681223,
     "end_time": "2024-03-24T19:56:36.427870",
     "exception": false,
     "start_time": "2024-03-24T19:56:35.746647",
     "status": "completed"
    },
    "tags": []
   },
   "outputs": [
    {
     "name": "stdout",
     "output_type": "stream",
     "text": [
      "Found 3115 files belonging to 36 classes.\n"
     ]
    }
   ],
   "source": [
    "training_set = keras.utils.image_dataset_from_directory(\n",
    "    '/kaggle/input/fruit-and-vegetable-image-recognition/train',\n",
    "    labels=\"inferred\",\n",
    "    label_mode=\"categorical\",\n",
    "    class_names=None,\n",
    "    color_mode=\"rgb\",\n",
    "    batch_size=32,\n",
    "    image_size=(64, 64),\n",
    "    shuffle=True,\n",
    "    seed=None,\n",
    "    validation_split=None,\n",
    "    subset=None,\n",
    "    interpolation=\"bilinear\",\n",
    "    follow_links=False,\n",
    "    crop_to_aspect_ratio=False,\n",
    "    data_format=None,\n",
    ")"
   ]
  },
  {
   "cell_type": "markdown",
   "id": "105bb3a9",
   "metadata": {
    "papermill": {
     "duration": 0.003572,
     "end_time": "2024-03-24T19:56:36.435436",
     "exception": false,
     "start_time": "2024-03-24T19:56:36.431864",
     "status": "completed"
    },
    "tags": []
   },
   "source": [
    "## Validtion Image Pre-Processing"
   ]
  },
  {
   "cell_type": "code",
   "execution_count": 3,
   "id": "b18ef7a9",
   "metadata": {
    "execution": {
     "iopub.execute_input": "2024-03-24T19:56:36.445199Z",
     "iopub.status.busy": "2024-03-24T19:56:36.444746Z",
     "iopub.status.idle": "2024-03-24T19:56:36.611817Z",
     "shell.execute_reply": "2024-03-24T19:56:36.610836Z"
    },
    "papermill": {
     "duration": 0.175395,
     "end_time": "2024-03-24T19:56:36.614535",
     "exception": false,
     "start_time": "2024-03-24T19:56:36.439140",
     "status": "completed"
    },
    "tags": []
   },
   "outputs": [
    {
     "name": "stdout",
     "output_type": "stream",
     "text": [
      "Found 351 files belonging to 36 classes.\n"
     ]
    }
   ],
   "source": [
    "validation_set = keras.utils.image_dataset_from_directory(\n",
    "    '/kaggle/input/fruit-and-vegetable-image-recognition/validation',\n",
    "    labels=\"inferred\",\n",
    "    label_mode=\"categorical\",\n",
    "    class_names=None,\n",
    "    color_mode=\"rgb\",\n",
    "    batch_size=32,\n",
    "    image_size=(64, 64),\n",
    "    shuffle=True,\n",
    "    seed=None,\n",
    "    validation_split=None,\n",
    "    subset=None,\n",
    "    interpolation=\"bilinear\",\n",
    "    follow_links=False,\n",
    "    crop_to_aspect_ratio=False,\n",
    "    data_format=None,\n",
    ")"
   ]
  },
  {
   "cell_type": "code",
   "execution_count": null,
   "id": "63351118",
   "metadata": {
    "papermill": {
     "duration": 0.003337,
     "end_time": "2024-03-24T19:56:36.621766",
     "exception": false,
     "start_time": "2024-03-24T19:56:36.618429",
     "status": "completed"
    },
    "tags": []
   },
   "outputs": [],
   "source": []
  }
 ],
 "metadata": {
  "kaggle": {
   "accelerator": "none",
   "dataSources": [
    {
     "datasetId": 952827,
     "sourceId": 3173719,
     "sourceType": "datasetVersion"
    }
   ],
   "dockerImageVersionId": 30664,
   "isGpuEnabled": false,
   "isInternetEnabled": true,
   "language": "python",
   "sourceType": "notebook"
  },
  "kernelspec": {
   "display_name": "Python 3",
   "language": "python",
   "name": "python3"
  },
  "language_info": {
   "codemirror_mode": {
    "name": "ipython",
    "version": 3
   },
   "file_extension": ".py",
   "mimetype": "text/x-python",
   "name": "python",
   "nbconvert_exporter": "python",
   "pygments_lexer": "ipython3",
   "version": "3.10.13"
  },
  "papermill": {
   "default_parameters": {},
   "duration": 21.152338,
   "end_time": "2024-03-24T19:56:38.252884",
   "environment_variables": {},
   "exception": null,
   "input_path": "__notebook__.ipynb",
   "output_path": "__notebook__.ipynb",
   "parameters": {},
   "start_time": "2024-03-24T19:56:17.100546",
   "version": "2.5.0"
  }
 },
 "nbformat": 4,
 "nbformat_minor": 5
}
