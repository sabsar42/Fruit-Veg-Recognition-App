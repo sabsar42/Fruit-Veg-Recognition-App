{
 "cells": [
  {
   "cell_type": "markdown",
   "id": "5e656b23",
   "metadata": {
    "papermill": {
     "duration": 0.003044,
     "end_time": "2024-04-13T17:33:50.202603",
     "exception": false,
     "start_time": "2024-04-13T17:33:50.199559",
     "status": "completed"
    },
    "tags": []
   },
   "source": [
    "# Importing Dataset"
   ]
  },
  {
   "cell_type": "code",
   "execution_count": 1,
   "id": "f0637a28",
   "metadata": {
    "execution": {
     "iopub.execute_input": "2024-04-13T17:33:50.210240Z",
     "iopub.status.busy": "2024-04-13T17:33:50.209498Z",
     "iopub.status.idle": "2024-04-13T17:34:04.904947Z",
     "shell.execute_reply": "2024-04-13T17:34:04.903671Z"
    },
    "papermill": {
     "duration": 14.702503,
     "end_time": "2024-04-13T17:34:04.907807",
     "exception": false,
     "start_time": "2024-04-13T17:33:50.205304",
     "status": "completed"
    },
    "tags": []
   },
   "outputs": [
    {
     "name": "stderr",
     "output_type": "stream",
     "text": [
      "2024-04-13 17:33:52.553332: E external/local_xla/xla/stream_executor/cuda/cuda_dnn.cc:9261] Unable to register cuDNN factory: Attempting to register factory for plugin cuDNN when one has already been registered\n",
      "2024-04-13 17:33:52.553510: E external/local_xla/xla/stream_executor/cuda/cuda_fft.cc:607] Unable to register cuFFT factory: Attempting to register factory for plugin cuFFT when one has already been registered\n",
      "2024-04-13 17:33:52.726586: E external/local_xla/xla/stream_executor/cuda/cuda_blas.cc:1515] Unable to register cuBLAS factory: Attempting to register factory for plugin cuBLAS when one has already been registered\n"
     ]
    }
   ],
   "source": [
    "import numpy as np\n",
    "import matplotlib.pyplot as plt\n",
    "import tensorflow as tf\n",
    "from tensorflow import keras"
   ]
  },
  {
   "cell_type": "markdown",
   "id": "7b428bd0",
   "metadata": {
    "papermill": {
     "duration": 0.002967,
     "end_time": "2024-04-13T17:34:04.930338",
     "exception": false,
     "start_time": "2024-04-13T17:34:04.927371",
     "status": "completed"
    },
    "tags": []
   },
   "source": [
    "# Data Pre-Processing"
   ]
  },
  {
   "cell_type": "markdown",
   "id": "9d9be235",
   "metadata": {
    "papermill": {
     "duration": 0.002763,
     "end_time": "2024-04-13T17:34:04.935885",
     "exception": false,
     "start_time": "2024-04-13T17:34:04.933122",
     "status": "completed"
    },
    "tags": []
   },
   "source": [
    "## Training Image Pre-Processing\n"
   ]
  },
  {
   "cell_type": "code",
   "execution_count": 2,
   "id": "ea85b276",
   "metadata": {
    "execution": {
     "iopub.execute_input": "2024-04-13T17:34:04.944217Z",
     "iopub.status.busy": "2024-04-13T17:34:04.943339Z",
     "iopub.status.idle": "2024-04-13T17:34:05.459931Z",
     "shell.execute_reply": "2024-04-13T17:34:05.458633Z"
    },
    "papermill": {
     "duration": 0.523662,
     "end_time": "2024-04-13T17:34:05.462595",
     "exception": false,
     "start_time": "2024-04-13T17:34:04.938933",
     "status": "completed"
    },
    "tags": []
   },
   "outputs": [
    {
     "name": "stdout",
     "output_type": "stream",
     "text": [
      "Found 3115 files belonging to 36 classes.\n"
     ]
    }
   ],
   "source": [
    "training_set = keras.utils.image_dataset_from_directory(\n",
    "    '/kaggle/input/fruit-and-vegetable-image-recognition/train',\n",
    "    labels=\"inferred\",\n",
    "    label_mode=\"categorical\",\n",
    "    class_names=None,\n",
    "    color_mode=\"rgb\",\n",
    "    batch_size=32,\n",
    "    image_size=(64, 64),\n",
    "    shuffle=True,\n",
    "    seed=None,\n",
    "    validation_split=None,\n",
    "    subset=None,\n",
    "    interpolation=\"bilinear\",\n",
    "    follow_links=False,\n",
    "    crop_to_aspect_ratio=False,\n",
    "    data_format=None,\n",
    ")"
   ]
  },
  {
   "cell_type": "markdown",
   "id": "b76597c9",
   "metadata": {
    "papermill": {
     "duration": 0.002451,
     "end_time": "2024-04-13T17:34:05.467887",
     "exception": false,
     "start_time": "2024-04-13T17:34:05.465436",
     "status": "completed"
    },
    "tags": []
   },
   "source": [
    "## Validtion Image Pre-Processing"
   ]
  },
  {
   "cell_type": "code",
   "execution_count": 3,
   "id": "37eb096d",
   "metadata": {
    "execution": {
     "iopub.execute_input": "2024-04-13T17:34:05.475112Z",
     "iopub.status.busy": "2024-04-13T17:34:05.474728Z",
     "iopub.status.idle": "2024-04-13T17:34:05.628574Z",
     "shell.execute_reply": "2024-04-13T17:34:05.627367Z"
    },
    "papermill": {
     "duration": 0.160688,
     "end_time": "2024-04-13T17:34:05.631424",
     "exception": false,
     "start_time": "2024-04-13T17:34:05.470736",
     "status": "completed"
    },
    "tags": []
   },
   "outputs": [
    {
     "name": "stdout",
     "output_type": "stream",
     "text": [
      "Found 351 files belonging to 36 classes.\n"
     ]
    }
   ],
   "source": [
    "validation_set = keras.utils.image_dataset_from_directory(\n",
    "    '/kaggle/input/fruit-and-vegetable-image-recognition/validation',\n",
    "    labels=\"inferred\",\n",
    "    label_mode=\"categorical\",\n",
    "    class_names=None,\n",
    "    color_mode=\"rgb\",\n",
    "    batch_size=32,\n",
    "    image_size=(64, 64),\n",
    "    shuffle=True,\n",
    "    seed=None,\n",
    "    validation_split=None,\n",
    "    subset=None,\n",
    "    interpolation=\"bilinear\",\n",
    "    follow_links=False,\n",
    "    crop_to_aspect_ratio=False,\n",
    "    data_format=None,\n",
    ")"
   ]
  },
  {
   "cell_type": "code",
   "execution_count": null,
   "id": "5dc21eb1",
   "metadata": {
    "papermill": {
     "duration": 0.002514,
     "end_time": "2024-04-13T17:34:05.637897",
     "exception": false,
     "start_time": "2024-04-13T17:34:05.635383",
     "status": "completed"
    },
    "tags": []
   },
   "outputs": [],
   "source": []
  }
 ],
 "metadata": {
  "kaggle": {
   "accelerator": "none",
   "dataSources": [
    {
     "datasetId": 952827,
     "sourceId": 3173719,
     "sourceType": "datasetVersion"
    }
   ],
   "dockerImageVersionId": 30664,
   "isGpuEnabled": false,
   "isInternetEnabled": true,
   "language": "python",
   "sourceType": "notebook"
  },
  "kernelspec": {
   "display_name": "Python 3",
   "language": "python",
   "name": "python3"
  },
  "language_info": {
   "codemirror_mode": {
    "name": "ipython",
    "version": 3
   },
   "file_extension": ".py",
   "mimetype": "text/x-python",
   "name": "python",
   "nbconvert_exporter": "python",
   "pygments_lexer": "ipython3",
   "version": "3.10.13"
  },
  "papermill": {
   "default_parameters": {},
   "duration": 19.64593,
   "end_time": "2024-04-13T17:34:06.964827",
   "environment_variables": {},
   "exception": null,
   "input_path": "__notebook__.ipynb",
   "output_path": "__notebook__.ipynb",
   "parameters": {},
   "start_time": "2024-04-13T17:33:47.318897",
   "version": "2.5.0"
  }
 },
 "nbformat": 4,
 "nbformat_minor": 5
}
