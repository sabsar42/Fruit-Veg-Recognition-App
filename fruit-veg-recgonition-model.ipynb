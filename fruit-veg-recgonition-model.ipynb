{
 "cells": [
  {
   "cell_type": "markdown",
   "id": "2ee6fd61",
   "metadata": {
    "papermill": {
     "duration": 0.003799,
     "end_time": "2024-03-21T19:22:29.771609",
     "exception": false,
     "start_time": "2024-03-21T19:22:29.767810",
     "status": "completed"
    },
    "tags": []
   },
   "source": [
    "# Importing Dataset"
   ]
  },
  {
   "cell_type": "code",
   "execution_count": 1,
   "id": "4690741f",
   "metadata": {
    "execution": {
     "iopub.execute_input": "2024-03-21T19:22:29.780757Z",
     "iopub.status.busy": "2024-03-21T19:22:29.780352Z",
     "iopub.status.idle": "2024-03-21T19:22:44.236562Z",
     "shell.execute_reply": "2024-03-21T19:22:44.235550Z"
    },
    "papermill": {
     "duration": 14.464285,
     "end_time": "2024-03-21T19:22:44.239434",
     "exception": false,
     "start_time": "2024-03-21T19:22:29.775149",
     "status": "completed"
    },
    "tags": []
   },
   "outputs": [
    {
     "name": "stderr",
     "output_type": "stream",
     "text": [
      "2024-03-21 19:22:31.811275: E external/local_xla/xla/stream_executor/cuda/cuda_dnn.cc:9261] Unable to register cuDNN factory: Attempting to register factory for plugin cuDNN when one has already been registered\n",
      "2024-03-21 19:22:31.811403: E external/local_xla/xla/stream_executor/cuda/cuda_fft.cc:607] Unable to register cuFFT factory: Attempting to register factory for plugin cuFFT when one has already been registered\n",
      "2024-03-21 19:22:31.961928: E external/local_xla/xla/stream_executor/cuda/cuda_blas.cc:1515] Unable to register cuBLAS factory: Attempting to register factory for plugin cuBLAS when one has already been registered\n"
     ]
    }
   ],
   "source": [
    "import numpy as np\n",
    "import matplotlib.pyplot as plt\n",
    "import tensorflow as tf\n",
    "from tensorflow import keras"
   ]
  },
  {
   "cell_type": "markdown",
   "id": "39359e6c",
   "metadata": {
    "papermill": {
     "duration": 0.003505,
     "end_time": "2024-03-21T19:22:44.260660",
     "exception": false,
     "start_time": "2024-03-21T19:22:44.257155",
     "status": "completed"
    },
    "tags": []
   },
   "source": [
    "# Data Pre-Processing"
   ]
  },
  {
   "cell_type": "markdown",
   "id": "3191df8f",
   "metadata": {
    "papermill": {
     "duration": 0.003529,
     "end_time": "2024-03-21T19:22:44.267811",
     "exception": false,
     "start_time": "2024-03-21T19:22:44.264282",
     "status": "completed"
    },
    "tags": []
   },
   "source": [
    "## Training Image Pre-Processing\n"
   ]
  },
  {
   "cell_type": "code",
   "execution_count": 2,
   "id": "9f7f1ca3",
   "metadata": {
    "execution": {
     "iopub.execute_input": "2024-03-21T19:22:44.277618Z",
     "iopub.status.busy": "2024-03-21T19:22:44.276928Z",
     "iopub.status.idle": "2024-03-21T19:22:44.746637Z",
     "shell.execute_reply": "2024-03-21T19:22:44.745370Z"
    },
    "papermill": {
     "duration": 0.477804,
     "end_time": "2024-03-21T19:22:44.749503",
     "exception": false,
     "start_time": "2024-03-21T19:22:44.271699",
     "status": "completed"
    },
    "tags": []
   },
   "outputs": [
    {
     "name": "stdout",
     "output_type": "stream",
     "text": [
      "Found 3115 files belonging to 36 classes.\n"
     ]
    }
   ],
   "source": [
    "training_set = keras.utils.image_dataset_from_directory(\n",
    "    '/kaggle/input/fruit-and-vegetable-image-recognition/train',\n",
    "    labels=\"inferred\",\n",
    "    label_mode=\"categorical\",\n",
    "    class_names=None,\n",
    "    color_mode=\"rgb\",\n",
    "    batch_size=32,\n",
    "    image_size=(64, 64),\n",
    "    shuffle=True,\n",
    "    seed=None,\n",
    "    validation_split=None,\n",
    "    subset=None,\n",
    "    interpolation=\"bilinear\",\n",
    "    follow_links=False,\n",
    "    crop_to_aspect_ratio=False,\n",
    "    data_format=None,\n",
    ")"
   ]
  },
  {
   "cell_type": "markdown",
   "id": "25dd49b1",
   "metadata": {
    "papermill": {
     "duration": 0.003314,
     "end_time": "2024-03-21T19:22:44.756555",
     "exception": false,
     "start_time": "2024-03-21T19:22:44.753241",
     "status": "completed"
    },
    "tags": []
   },
   "source": [
    "## Validtion Image Pre-Processing"
   ]
  },
  {
   "cell_type": "code",
   "execution_count": 3,
   "id": "34cf2d9d",
   "metadata": {
    "execution": {
     "iopub.execute_input": "2024-03-21T19:22:44.765265Z",
     "iopub.status.busy": "2024-03-21T19:22:44.764788Z",
     "iopub.status.idle": "2024-03-21T19:22:44.881905Z",
     "shell.execute_reply": "2024-03-21T19:22:44.880844Z"
    },
    "papermill": {
     "duration": 0.124714,
     "end_time": "2024-03-21T19:22:44.884740",
     "exception": false,
     "start_time": "2024-03-21T19:22:44.760026",
     "status": "completed"
    },
    "tags": []
   },
   "outputs": [
    {
     "name": "stdout",
     "output_type": "stream",
     "text": [
      "Found 351 files belonging to 36 classes.\n"
     ]
    }
   ],
   "source": [
    "validation_set = keras.utils.image_dataset_from_directory(\n",
    "    '/kaggle/input/fruit-and-vegetable-image-recognition/validation',\n",
    "    labels=\"inferred\",\n",
    "    label_mode=\"categorical\",\n",
    "    class_names=None,\n",
    "    color_mode=\"rgb\",\n",
    "    batch_size=32,\n",
    "    image_size=(64, 64),\n",
    "    shuffle=True,\n",
    "    seed=None,\n",
    "    validation_split=None,\n",
    "    subset=None,\n",
    "    interpolation=\"bilinear\",\n",
    "    follow_links=False,\n",
    "    crop_to_aspect_ratio=False,\n",
    "    data_format=None,\n",
    ")"
   ]
  },
  {
   "cell_type": "code",
   "execution_count": null,
   "id": "13f1f5b7",
   "metadata": {
    "papermill": {
     "duration": 0.003463,
     "end_time": "2024-03-21T19:22:44.892012",
     "exception": false,
     "start_time": "2024-03-21T19:22:44.888549",
     "status": "completed"
    },
    "tags": []
   },
   "outputs": [],
   "source": []
  }
 ],
 "metadata": {
  "kaggle": {
   "accelerator": "none",
   "dataSources": [
    {
     "datasetId": 952827,
     "sourceId": 3173719,
     "sourceType": "datasetVersion"
    }
   ],
   "dockerImageVersionId": 30664,
   "isGpuEnabled": false,
   "isInternetEnabled": true,
   "language": "python",
   "sourceType": "notebook"
  },
  "kernelspec": {
   "display_name": "Python 3",
   "language": "python",
   "name": "python3"
  },
  "language_info": {
   "codemirror_mode": {
    "name": "ipython",
    "version": 3
   },
   "file_extension": ".py",
   "mimetype": "text/x-python",
   "name": "python",
   "nbconvert_exporter": "python",
   "pygments_lexer": "ipython3",
   "version": "3.10.13"
  },
  "papermill": {
   "default_parameters": {},
   "duration": 19.747392,
   "end_time": "2024-03-21T19:22:46.421355",
   "environment_variables": {},
   "exception": null,
   "input_path": "__notebook__.ipynb",
   "output_path": "__notebook__.ipynb",
   "parameters": {},
   "start_time": "2024-03-21T19:22:26.673963",
   "version": "2.5.0"
  }
 },
 "nbformat": 4,
 "nbformat_minor": 5
}
